{
  "nbformat": 4,
  "nbformat_minor": 0,
  "metadata": {
    "colab": {
      "name": "Taller_modelos_lineales_Vinazco.ipynb",
      "provenance": [],
      "collapsed_sections": []
    },
    "kernelspec": {
      "display_name": "Python 3",
      "language": "python",
      "name": "python3"
    },
    "language_info": {
      "codemirror_mode": {
        "name": "ipython",
        "version": 3
      },
      "file_extension": ".py",
      "mimetype": "text/x-python",
      "name": "python",
      "nbconvert_exporter": "python",
      "pygments_lexer": "ipython3",
      "version": "3.6.7"
    }
  },
  "cells": [
    {
      "cell_type": "markdown",
      "metadata": {
        "id": "7MfWJaSUrQmo"
      },
      "source": [
        "# Taller modelos lineales\n",
        "## Nancy Alejandra Vinazco Morales\n",
        "\n",
        "# Parte 1 - Regresión lineal\n",
        "\n",
        "Estimar una regresión con los datos de ingresos\n",
        "\n",
        "\n",
        "## Previsión de ingresos\n",
        "\n",
        "Vamos a trabajar con un conjunto de datos del censo de EE.UU. indome ([diccionario de datos](https://archive.ics.uci.edu/ml/datasets/Adult))\n",
        "\n",
        "A muchas empresas les gustaría personalizar su oferta en función de los ingresos del cliente. Los clientes con ingresos elevados podrían, por ejemplo, estar expuestos a productos premium. Como los ingresos de un cliente no siempre se conocen explícitamente, el modelo predictivo podría estimar los ingresos de una persona basándose en otra información.\n",
        "\n",
        "Nuestro objetivo es crear un modelo predictivo que sea capaz de dar una estimación de los ingresos de una persona.\n"
      ]
    },
    {
      "cell_type": "code",
      "metadata": {
        "colab": {
          "background_save": true,
          "base_uri": "https://localhost:8080/",
          "height": 306
        },
        "id": "eK62OxWerQmx",
        "outputId": "c6c7c1bd-dc43-465b-f2e8-46858eec1a8e"
      },
      "source": [
        "import pandas as pd\n",
        "import numpy as np\n",
        "from scipy import stats\n",
        "from sklearn.linear_model import LinearRegression\n",
        "from sklearn.linear_model import SGDRegressor\n",
        "from sklearn.linear_model import LinearRegression\n",
        "\n",
        "%matplotlib inline\n",
        "import matplotlib.pyplot as plt\n",
        "\n",
        "# read the data and set the datetime as the index\n",
        "income = pd.read_csv('https://github.com/albahnsen/PracticalMachineLearningClass/raw/master/datasets/income.csv.zip', index_col=0)\n",
        "\n",
        "income.head()"
      ],
      "execution_count": null,
      "outputs": [
        {
          "data": {
            "text/html": [
              "<div>\n",
              "<style scoped>\n",
              "    .dataframe tbody tr th:only-of-type {\n",
              "        vertical-align: middle;\n",
              "    }\n",
              "\n",
              "    .dataframe tbody tr th {\n",
              "        vertical-align: top;\n",
              "    }\n",
              "\n",
              "    .dataframe thead th {\n",
              "        text-align: right;\n",
              "    }\n",
              "</style>\n",
              "<table border=\"1\" class=\"dataframe\">\n",
              "  <thead>\n",
              "    <tr style=\"text-align: right;\">\n",
              "      <th></th>\n",
              "      <th>Age</th>\n",
              "      <th>Workclass</th>\n",
              "      <th>fnlwgt</th>\n",
              "      <th>Education</th>\n",
              "      <th>Education-Num</th>\n",
              "      <th>Martial Status</th>\n",
              "      <th>Occupation</th>\n",
              "      <th>Relationship</th>\n",
              "      <th>Race</th>\n",
              "      <th>Sex</th>\n",
              "      <th>Capital Gain</th>\n",
              "      <th>Capital Loss</th>\n",
              "      <th>Hours per week</th>\n",
              "      <th>Country</th>\n",
              "      <th>Income</th>\n",
              "    </tr>\n",
              "  </thead>\n",
              "  <tbody>\n",
              "    <tr>\n",
              "      <th>0</th>\n",
              "      <td>39</td>\n",
              "      <td>State-gov</td>\n",
              "      <td>77516</td>\n",
              "      <td>Bachelors</td>\n",
              "      <td>13</td>\n",
              "      <td>Never-married</td>\n",
              "      <td>Adm-clerical</td>\n",
              "      <td>Not-in-family</td>\n",
              "      <td>White</td>\n",
              "      <td>Male</td>\n",
              "      <td>2174</td>\n",
              "      <td>0</td>\n",
              "      <td>40</td>\n",
              "      <td>United-States</td>\n",
              "      <td>51806.0</td>\n",
              "    </tr>\n",
              "    <tr>\n",
              "      <th>1</th>\n",
              "      <td>50</td>\n",
              "      <td>Self-emp-not-inc</td>\n",
              "      <td>83311</td>\n",
              "      <td>Bachelors</td>\n",
              "      <td>13</td>\n",
              "      <td>Married-civ-spouse</td>\n",
              "      <td>Exec-managerial</td>\n",
              "      <td>Husband</td>\n",
              "      <td>White</td>\n",
              "      <td>Male</td>\n",
              "      <td>0</td>\n",
              "      <td>0</td>\n",
              "      <td>13</td>\n",
              "      <td>United-States</td>\n",
              "      <td>68719.0</td>\n",
              "    </tr>\n",
              "    <tr>\n",
              "      <th>2</th>\n",
              "      <td>38</td>\n",
              "      <td>Private</td>\n",
              "      <td>215646</td>\n",
              "      <td>HS-grad</td>\n",
              "      <td>9</td>\n",
              "      <td>Divorced</td>\n",
              "      <td>Handlers-cleaners</td>\n",
              "      <td>Not-in-family</td>\n",
              "      <td>White</td>\n",
              "      <td>Male</td>\n",
              "      <td>0</td>\n",
              "      <td>0</td>\n",
              "      <td>40</td>\n",
              "      <td>United-States</td>\n",
              "      <td>51255.0</td>\n",
              "    </tr>\n",
              "    <tr>\n",
              "      <th>3</th>\n",
              "      <td>53</td>\n",
              "      <td>Private</td>\n",
              "      <td>234721</td>\n",
              "      <td>11th</td>\n",
              "      <td>7</td>\n",
              "      <td>Married-civ-spouse</td>\n",
              "      <td>Handlers-cleaners</td>\n",
              "      <td>Husband</td>\n",
              "      <td>Black</td>\n",
              "      <td>Male</td>\n",
              "      <td>0</td>\n",
              "      <td>0</td>\n",
              "      <td>40</td>\n",
              "      <td>United-States</td>\n",
              "      <td>47398.0</td>\n",
              "    </tr>\n",
              "    <tr>\n",
              "      <th>4</th>\n",
              "      <td>28</td>\n",
              "      <td>Private</td>\n",
              "      <td>338409</td>\n",
              "      <td>Bachelors</td>\n",
              "      <td>13</td>\n",
              "      <td>Married-civ-spouse</td>\n",
              "      <td>Prof-specialty</td>\n",
              "      <td>Wife</td>\n",
              "      <td>Black</td>\n",
              "      <td>Female</td>\n",
              "      <td>0</td>\n",
              "      <td>0</td>\n",
              "      <td>40</td>\n",
              "      <td>Cuba</td>\n",
              "      <td>30493.0</td>\n",
              "    </tr>\n",
              "  </tbody>\n",
              "</table>\n",
              "</div>"
            ],
            "text/plain": [
              "   Age         Workclass  fnlwgt  ... Hours per week        Country   Income\n",
              "0   39         State-gov   77516  ...             40  United-States  51806.0\n",
              "1   50  Self-emp-not-inc   83311  ...             13  United-States  68719.0\n",
              "2   38           Private  215646  ...             40  United-States  51255.0\n",
              "3   53           Private  234721  ...             40  United-States  47398.0\n",
              "4   28           Private  338409  ...             40           Cuba  30493.0\n",
              "\n",
              "[5 rows x 15 columns]"
            ]
          },
          "execution_count": null,
          "metadata": {},
          "output_type": "execute_result"
        }
      ]
    },
    {
      "cell_type": "code",
      "metadata": {
        "colab": {
          "background_save": true,
          "base_uri": "https://localhost:8080/"
        },
        "id": "ZvEW_YjhrQm2",
        "outputId": "cccbc399-eaa7-4108-f0dc-1284a21715b6"
      },
      "source": [
        "income.shape"
      ],
      "execution_count": null,
      "outputs": [
        {
          "data": {
            "text/plain": [
              "(32561, 15)"
            ]
          },
          "execution_count": null,
          "metadata": {},
          "output_type": "execute_result"
        }
      ]
    },
    {
      "cell_type": "markdown",
      "metadata": {
        "id": "oHu8-0bSrQm4"
      },
      "source": [
        "# Ejercicio 4.1 \n",
        "\n",
        "¿Cuál es la relación entre la edad y la renta?\n",
        "\n"
      ]
    },
    {
      "cell_type": "code",
      "metadata": {
        "colab": {
          "base_uri": "https://localhost:8080/",
          "height": 298
        },
        "id": "1jJabJiPrQm4",
        "outputId": "8131df50-8091-4b0c-d3a7-cdb205102cbc"
      },
      "source": [
        "income.plot(x='Age', y='Income', kind='scatter')"
      ],
      "execution_count": null,
      "outputs": [
        {
          "data": {
            "text/plain": [
              "<matplotlib.axes._subplots.AxesSubplot at 0x7ff077618fd0>"
            ]
          },
          "execution_count": 7,
          "metadata": {},
          "output_type": "execute_result"
        },
        {
          "data": {
            "image/png": "[encoded data removed]",
            "text/plain": [
              "<Figure size 432x288 with 1 Axes>"
            ]
          },
          "metadata": {},
          "output_type": "display_data"
        }
      ]
    },
    {
      "cell_type": "markdown",
      "metadata": {
        "id": "pklcUzPZq_Pp"
      },
      "source": [
        "A partir del grafico de dispersión anterior, en donde miramos la relación de la edad frente al Ingreso, se puede decir que no se aprecia alguna correlación directa o indirecta entre las variables. "
      ]
    },
    {
      "cell_type": "markdown",
      "metadata": {
        "id": "RvRZM8ABzzid"
      },
      "source": [
        "**Normalización**"
      ]
    },
    {
      "cell_type": "markdown",
      "metadata": {
        "id": "dHBpky16lKCt"
      },
      "source": [
        "# Ejercicio 4.2\n",
        "Para un aumento del uno por ciento en la edad, ¿cuánto aumenta la renta?\n",
        "Utilizando sklearn estime una regresión lineal y prediga los ingresos cuando la Edad es de 30 y 40 años."
      ]
    },
    {
      "cell_type": "markdown",
      "metadata": {
        "id": "XDJYW4Rgz79t"
      },
      "source": [
        "**Regresión Lineal**"
      ]
    },
    {
      "cell_type": "code",
      "metadata": {
        "id": "P9Lip4Mgyar8"
      },
      "source": [
        "y = income[\"Income\"].values\n",
        "X = income[\"Age\"].values\n",
        "\n",
        "y_mean, y_std = y.mean(), y.std()\n",
        "X_mean, X_std = X.mean(), X.std()\n",
        "\n",
        "y = (y - y_mean)/y_std\n",
        "X = (X - X_mean)/X_std\n"
      ],
      "execution_count": null,
      "outputs": []
    },
    {
      "cell_type": "code",
      "metadata": {
        "colab": {
          "base_uri": "https://localhost:8080/"
        },
        "id": "7BcKNBL_15ef",
        "outputId": "f967d88b-dc10-4da0-a95d-6e5ceecd988f"
      },
      "source": [
        "# create X and y\n",
        "n_samples = X.shape[0]\n",
        "X_ = np.c_[np.ones(n_samples), X]\n",
        "print(X_)"
      ],
      "execution_count": null,
      "outputs": [
        {
          "name": "stdout",
          "output_type": "stream",
          "text": [
            "[[ 1.          0.03067056]\n",
            " [ 1.          0.83710898]\n",
            " [ 1.         -0.04264203]\n",
            " ...\n",
            " [ 1.          1.42360965]\n",
            " [ 1.         -1.21564337]\n",
            " [ 1.          0.98373415]]\n"
          ]
        }
      ]
    },
    {
      "cell_type": "code",
      "metadata": {
        "colab": {
          "base_uri": "https://localhost:8080/"
        },
        "id": "caH1qBRznWC0",
        "outputId": "83454964-c48f-4c47-cf19-1df286e53df2"
      },
      "source": [
        "# Initialize\n",
        "linreg = LinearRegression(fit_intercept=False)\n",
        "# Fit\n",
        "linreg.fit(X_, y)\n",
        "linreg.coef_"
      ],
      "execution_count": null,
      "outputs": [
        {
          "data": {
            "text/plain": [
              "array([8.39066006e-17, 2.90408298e-01])"
            ]
          },
          "execution_count": 13,
          "metadata": {},
          "output_type": "execute_result"
        }
      ]
    },
    {
      "cell_type": "markdown",
      "metadata": {
        "id": "EyMIp6B67Kz1"
      },
      "source": [
        "## $$ h_\\beta(x) = \\beta_0 + \\beta_1x_1 $$\n",
        "\n",
        "Para las variables estandarizadas:\n",
        "\n",
        "- $h_\\beta(x)$ - $Income$\n",
        "- $\\beta_0$ = 0\n",
        "- $\\beta_1$ = 0.2904083 para $Age$ (la primera variable)\n",
        "\n",
        "Un aumento del 1 por ciento en la edad, el Ingreso aumenta en un **29,04** por ciento \n"
      ]
    },
    {
      "cell_type": "code",
      "metadata": {
        "colab": {
          "base_uri": "https://localhost:8080/"
        },
        "id": "SBJJWQieblFD",
        "outputId": "48b48452-d7df-441d-93d5-7198c97fcfe1"
      },
      "source": [
        "yy = income[\"Income\"].values\n",
        "XX = income[\"Age\"].values\n",
        "nn_samples = XX.shape[0]\n",
        "XX_ = np.c_[np.ones(nn_samples), XX]\n",
        "\n",
        "linreg.fit(XX_, yy)\n",
        "linreg.coef_\n"
      ],
      "execution_count": null,
      "outputs": [
        {
          "data": {
            "text/plain": [
              "array([32538.08813087,   542.16765707])"
            ]
          },
          "execution_count": 15,
          "metadata": {},
          "output_type": "execute_result"
        }
      ]
    },
    {
      "cell_type": "markdown",
      "metadata": {
        "id": "nZ-aOoFvba7q"
      },
      "source": [
        "Para las variables sin estandarizar: \n",
        "\n",
        "- $h_\\beta(x)$ - $Income$\n",
        "- $\\beta_0$ = 0 (en este caso no se interpreta) \n",
        "- $\\beta_1$ = $542.167$ para $Age$ (la primera variable)\n",
        "\n",
        "En un aumento de una unidad en la edad, el Ingreso aumenta **542.167** dolares"
      ]
    },
    {
      "cell_type": "code",
      "metadata": {
        "id": "60j67aGmk0v1"
      },
      "source": [
        "clf1 = LinearRegression()\n",
        "clf2 = LinearRegression()\n",
        "clf3 = LinearRegression()\n",
        "clf4 = LinearRegression()"
      ],
      "execution_count": null,
      "outputs": []
    },
    {
      "cell_type": "markdown",
      "metadata": {
        "id": "v_ZabB-beWTn"
      },
      "source": [
        "# Predicciones\n",
        "\n",
        "**Predección del INGRESO cuando la EDAD es de 30**\n",
        "\n"
      ]
    },
    {
      "cell_type": "code",
      "metadata": {
        "id": "vZSCaWBBeWTo"
      },
      "source": [
        "x = np.array([30])"
      ],
      "execution_count": null,
      "outputs": []
    },
    {
      "cell_type": "code",
      "metadata": {
        "colab": {
          "base_uri": "https://localhost:8080/"
        },
        "id": "q96HYqHReWTr",
        "outputId": "5e0f0393-616a-40f6-efba-e02dc6caffa2"
      },
      "source": [
        "clf1.fit(income[['Age']], income['Income'])\n",
        "clf1.predict(x.reshape(1, -1))"
      ],
      "execution_count": null,
      "outputs": [
        {
          "data": {
            "text/plain": [
              "array([48803.11784304])"
            ]
          },
          "execution_count": 21,
          "metadata": {},
          "output_type": "execute_result"
        }
      ]
    },
    {
      "cell_type": "markdown",
      "metadata": {
        "id": "vJC5--3qeWTq"
      },
      "source": [
        "De acuerdo al modelo, cuando tenemos $Age$ = $30$  el ingreso sería de  $48803.12$ dolares"
      ]
    },
    {
      "cell_type": "markdown",
      "metadata": {
        "id": "IxVV0D1ulYKA"
      },
      "source": [
        "**Predección del INGRESO cuando la EDAD es de 40**"
      ]
    },
    {
      "cell_type": "code",
      "metadata": {
        "id": "o7Tzf3AblYg6"
      },
      "source": [
        "x = np.array([40])"
      ],
      "execution_count": null,
      "outputs": []
    },
    {
      "cell_type": "code",
      "metadata": {
        "colab": {
          "base_uri": "https://localhost:8080/"
        },
        "id": "_J4MoRB6lYg8",
        "outputId": "0bea9d60-b28e-4443-c93d-dc30d926749e"
      },
      "source": [
        "clf2.fit(income[['Age']], income['Income'])\n",
        "clf2.predict(x.reshape(1, -1))"
      ],
      "execution_count": null,
      "outputs": [
        {
          "data": {
            "text/plain": [
              "array([54224.79441376])"
            ]
          },
          "execution_count": 23,
          "metadata": {},
          "output_type": "execute_result"
        }
      ]
    },
    {
      "cell_type": "markdown",
      "metadata": {
        "id": "ugL-CEjxlYg9"
      },
      "source": [
        "De acuerdo al modelo, cuando tenemos $Age$ = $40$  el ingreso sería de  $54224.8$ dolares"
      ]
    },
    {
      "cell_type": "markdown",
      "metadata": {
        "id": "1lDYrtbArQm7"
      },
      "source": [
        "\n",
        "# Ejercicio 4.3\n",
        "\n",
        "Ejecute un modelo de regresión utilizando como características la Edad y la Edad$^2$ utilizando las ecuaciones OLS. Prediga de nuevo los ingresos cuando la Edad es de 30 y 40 años, y compare con el modelo anterior."
      ]
    },
    {
      "cell_type": "code",
      "metadata": {
        "colab": {
          "base_uri": "https://localhost:8080/",
          "height": 306
        },
        "collapsed": true,
        "id": "9oiQN-TArQm9",
        "outputId": "103f702d-2e67-46c7-9b7d-bd02dcbf1f5d"
      },
      "source": [
        "income['Age2'] = income['Age'] ** 2\n",
        "income.head()"
      ],
      "execution_count": null,
      "outputs": [
        {
          "data": {
            "text/html": [
              "<div>\n",
              "<style scoped>\n",
              "    .dataframe tbody tr th:only-of-type {\n",
              "        vertical-align: middle;\n",
              "    }\n",
              "\n",
              "    .dataframe tbody tr th {\n",
              "        vertical-align: top;\n",
              "    }\n",
              "\n",
              "    .dataframe thead th {\n",
              "        text-align: right;\n",
              "    }\n",
              "</style>\n",
              "<table border=\"1\" class=\"dataframe\">\n",
              "  <thead>\n",
              "    <tr style=\"text-align: right;\">\n",
              "      <th></th>\n",
              "      <th>Age</th>\n",
              "      <th>Workclass</th>\n",
              "      <th>fnlwgt</th>\n",
              "      <th>Education</th>\n",
              "      <th>Education-Num</th>\n",
              "      <th>Martial Status</th>\n",
              "      <th>Occupation</th>\n",
              "      <th>Relationship</th>\n",
              "      <th>Race</th>\n",
              "      <th>Sex</th>\n",
              "      <th>Capital Gain</th>\n",
              "      <th>Capital Loss</th>\n",
              "      <th>Hours per week</th>\n",
              "      <th>Country</th>\n",
              "      <th>Income</th>\n",
              "      <th>Age2</th>\n",
              "    </tr>\n",
              "  </thead>\n",
              "  <tbody>\n",
              "    <tr>\n",
              "      <th>0</th>\n",
              "      <td>39</td>\n",
              "      <td>State-gov</td>\n",
              "      <td>77516</td>\n",
              "      <td>Bachelors</td>\n",
              "      <td>13</td>\n",
              "      <td>Never-married</td>\n",
              "      <td>Adm-clerical</td>\n",
              "      <td>Not-in-family</td>\n",
              "      <td>White</td>\n",
              "      <td>Male</td>\n",
              "      <td>2174</td>\n",
              "      <td>0</td>\n",
              "      <td>40</td>\n",
              "      <td>United-States</td>\n",
              "      <td>51806.0</td>\n",
              "      <td>1521</td>\n",
              "    </tr>\n",
              "    <tr>\n",
              "      <th>1</th>\n",
              "      <td>50</td>\n",
              "      <td>Self-emp-not-inc</td>\n",
              "      <td>83311</td>\n",
              "      <td>Bachelors</td>\n",
              "      <td>13</td>\n",
              "      <td>Married-civ-spouse</td>\n",
              "      <td>Exec-managerial</td>\n",
              "      <td>Husband</td>\n",
              "      <td>White</td>\n",
              "      <td>Male</td>\n",
              "      <td>0</td>\n",
              "      <td>0</td>\n",
              "      <td>13</td>\n",
              "      <td>United-States</td>\n",
              "      <td>68719.0</td>\n",
              "      <td>2500</td>\n",
              "    </tr>\n",
              "    <tr>\n",
              "      <th>2</th>\n",
              "      <td>38</td>\n",
              "      <td>Private</td>\n",
              "      <td>215646</td>\n",
              "      <td>HS-grad</td>\n",
              "      <td>9</td>\n",
              "      <td>Divorced</td>\n",
              "      <td>Handlers-cleaners</td>\n",
              "      <td>Not-in-family</td>\n",
              "      <td>White</td>\n",
              "      <td>Male</td>\n",
              "      <td>0</td>\n",
              "      <td>0</td>\n",
              "      <td>40</td>\n",
              "      <td>United-States</td>\n",
              "      <td>51255.0</td>\n",
              "      <td>1444</td>\n",
              "    </tr>\n",
              "    <tr>\n",
              "      <th>3</th>\n",
              "      <td>53</td>\n",
              "      <td>Private</td>\n",
              "      <td>234721</td>\n",
              "      <td>11th</td>\n",
              "      <td>7</td>\n",
              "      <td>Married-civ-spouse</td>\n",
              "      <td>Handlers-cleaners</td>\n",
              "      <td>Husband</td>\n",
              "      <td>Black</td>\n",
              "      <td>Male</td>\n",
              "      <td>0</td>\n",
              "      <td>0</td>\n",
              "      <td>40</td>\n",
              "      <td>United-States</td>\n",
              "      <td>47398.0</td>\n",
              "      <td>2809</td>\n",
              "    </tr>\n",
              "    <tr>\n",
              "      <th>4</th>\n",
              "      <td>28</td>\n",
              "      <td>Private</td>\n",
              "      <td>338409</td>\n",
              "      <td>Bachelors</td>\n",
              "      <td>13</td>\n",
              "      <td>Married-civ-spouse</td>\n",
              "      <td>Prof-specialty</td>\n",
              "      <td>Wife</td>\n",
              "      <td>Black</td>\n",
              "      <td>Female</td>\n",
              "      <td>0</td>\n",
              "      <td>0</td>\n",
              "      <td>40</td>\n",
              "      <td>Cuba</td>\n",
              "      <td>30493.0</td>\n",
              "      <td>784</td>\n",
              "    </tr>\n",
              "  </tbody>\n",
              "</table>\n",
              "</div>"
            ],
            "text/plain": [
              "   Age         Workclass  fnlwgt  ...        Country   Income  Age2\n",
              "0   39         State-gov   77516  ...  United-States  51806.0  1521\n",
              "1   50  Self-emp-not-inc   83311  ...  United-States  68719.0  2500\n",
              "2   38           Private  215646  ...  United-States  51255.0  1444\n",
              "3   53           Private  234721  ...  United-States  47398.0  2809\n",
              "4   28           Private  338409  ...           Cuba  30493.0   784\n",
              "\n",
              "[5 rows x 16 columns]"
            ]
          },
          "execution_count": 24,
          "metadata": {},
          "output_type": "execute_result"
        }
      ]
    },
    {
      "cell_type": "markdown",
      "metadata": {
        "id": "xx1eCmneC4Zo"
      },
      "source": [
        "### Hipótesis:\n",
        "\n",
        "* Previamente:\n",
        "\n",
        "### $$ h_\\beta(x) = \\beta_0 + \\beta_1 x_1 $$\n",
        "\n",
        "donde $x_1$ = Age\n",
        "\n",
        "* Ahora:\n",
        "\n",
        "### $$ h_\\beta(x) = \\beta_0 + \\beta_1 x_1 + \\beta_2 x_2$$\n",
        "donde $x_2$ = $Age^2$"
      ]
    },
    {
      "cell_type": "code",
      "metadata": {
        "id": "YR4Sw6phnWC6"
      },
      "source": [
        "X = income[['Age', 'Age2']].values"
      ],
      "execution_count": null,
      "outputs": []
    },
    {
      "cell_type": "code",
      "metadata": {
        "colab": {
          "base_uri": "https://localhost:8080/"
        },
        "id": "r4RTPMtXnWC6",
        "outputId": "64be57d4-d9b9-4934-c84e-be7e726741ec"
      },
      "source": [
        "from sklearn.preprocessing import StandardScaler\n",
        "ss = StandardScaler(with_mean=True, with_std=True)\n",
        "ss.fit(X.astype(np.float))\n",
        "X = ss.transform(X.astype(np.float))\n",
        "ss.mean_, ss.scale_"
      ],
      "execution_count": null,
      "outputs": [
        {
          "data": {
            "text/plain": [
              "(array([  38.58164676, 1674.59915236]), array([  13.64022309, 1179.02941609]))"
            ]
          },
          "execution_count": 38,
          "metadata": {},
          "output_type": "execute_result"
        }
      ]
    },
    {
      "cell_type": "code",
      "metadata": {
        "id": "IEay5GKPnWC7"
      },
      "source": [
        "X_ = np.c_[np.ones(n_samples), X]"
      ],
      "execution_count": null,
      "outputs": []
    },
    {
      "cell_type": "markdown",
      "metadata": {
        "id": "pg75CbyhEwHR"
      },
      "source": [
        "Ecuaciones OLS "
      ]
    },
    {
      "cell_type": "code",
      "metadata": {
        "colab": {
          "base_uri": "https://localhost:8080/"
        },
        "id": "9bM_tylenpdK",
        "outputId": "7dbb978f-2a47-4826-ca8a-354d0048180b"
      },
      "source": [
        "betas_ols = np.dot(np.linalg.inv(np.dot(X_.T, X_)),np.dot(X_.T, y))\n",
        "betas_ols"
      ],
      "execution_count": null,
      "outputs": [
        {
          "data": {
            "text/plain": [
              "array([ 4.00789036e-17,  1.67751068e+00, -1.41415206e+00])"
            ]
          },
          "execution_count": 40,
          "metadata": {},
          "output_type": "execute_result"
        }
      ]
    },
    {
      "cell_type": "markdown",
      "metadata": {
        "id": "6TkpK-OjnWC_"
      },
      "source": [
        "# Predicciones\n",
        "\n",
        "**Predección del INGRESO cuando la EDAD es de 30**\n",
        "\n"
      ]
    },
    {
      "cell_type": "code",
      "metadata": {
        "colab": {
          "base_uri": "https://localhost:8080/"
        },
        "id": "RVi6NwLlnWC_",
        "outputId": "be2de295-d4c5-40ff-c7b3-ed2197a7589c"
      },
      "source": [
        "x = np.array([30., 30.**2])\n",
        "\n",
        "# scale\n",
        "x_scaled = ss.transform(x.reshape(1, -1))\n",
        "x_ = np.c_[1, x_scaled]\n",
        "x_"
      ],
      "execution_count": null,
      "outputs": [
        {
          "data": {
            "text/plain": [
              "array([[ 1.        , -0.6291427 , -0.65698034]])"
            ]
          },
          "execution_count": 41,
          "metadata": {},
          "output_type": "execute_result"
        }
      ]
    },
    {
      "cell_type": "code",
      "metadata": {
        "colab": {
          "base_uri": "https://localhost:8080/"
        },
        "id": "z-WsChMwnWC_",
        "outputId": "a4f89824-8aaa-46a6-e6dc-1d4c049ccdce"
      },
      "source": [
        "def lr_h(beta,x):\n",
        "    return np.dot(beta.T, x.T)\n",
        "\n",
        "y_pred = lr_h(betas_ols, x_)\n",
        "y_pred"
      ],
      "execution_count": null,
      "outputs": [
        {
          "data": {
            "text/plain": [
              "array([-0.12632349])"
            ]
          },
          "execution_count": 42,
          "metadata": {},
          "output_type": "execute_result"
        }
      ]
    },
    {
      "cell_type": "code",
      "metadata": {
        "colab": {
          "base_uri": "https://localhost:8080/"
        },
        "id": "qqooOHMPnWC_",
        "outputId": "bec0b7d7-0b5f-413a-d63f-5008cf31844e"
      },
      "source": [
        "y_pred = y_pred * y_std + y_mean\n",
        "y_pred"
      ],
      "execution_count": null,
      "outputs": [
        {
          "data": {
            "text/plain": [
              "array([50238.96390027])"
            ]
          },
          "execution_count": 43,
          "metadata": {},
          "output_type": "execute_result"
        }
      ]
    },
    {
      "cell_type": "markdown",
      "metadata": {
        "id": "mDw6LslpcTBw"
      },
      "source": [
        "De acuerdo al modelo, cuando tenemos $Age$ = $30$ y $Age2$ = $30^2$ el ingreso sería de $50238.96$ dolares"
      ]
    },
    {
      "cell_type": "markdown",
      "metadata": {
        "id": "qK-5a9X8bQMR"
      },
      "source": [
        "Usando Sklearn"
      ]
    },
    {
      "cell_type": "code",
      "metadata": {
        "colab": {
          "base_uri": "https://localhost:8080/"
        },
        "id": "UiuvUxw3nWDA",
        "outputId": "6d1edc6d-cafb-471e-a725-f3cd4a7b5db5"
      },
      "source": [
        "clf1.fit(income[['Age', 'Age2']], income['Income'])\n",
        "clf1.predict(x.reshape(1, -1))"
      ],
      "execution_count": null,
      "outputs": [
        {
          "data": {
            "text/plain": [
              "array([50238.96390027])"
            ]
          },
          "execution_count": 44,
          "metadata": {},
          "output_type": "execute_result"
        }
      ]
    },
    {
      "cell_type": "markdown",
      "metadata": {
        "id": "3kAQMS8da1UY"
      },
      "source": [
        "**Predección del INGRESO cuando la EDAD es de 40**"
      ]
    },
    {
      "cell_type": "code",
      "metadata": {
        "colab": {
          "base_uri": "https://localhost:8080/"
        },
        "id": "R9974tTMa1-9",
        "outputId": "075cd3dc-0e37-47e1-b469-3e59b3fbca9f"
      },
      "source": [
        "x = np.array([40., 40.**2])\n",
        "\n",
        "# scale\n",
        "x_scaled = ss.transform(x.reshape(1, -1))\n",
        "x_ = np.c_[1, x_scaled]\n",
        "x_"
      ],
      "execution_count": null,
      "outputs": [
        {
          "data": {
            "text/plain": [
              "array([[ 1.        ,  0.10398314, -0.06327166]])"
            ]
          },
          "execution_count": 45,
          "metadata": {},
          "output_type": "execute_result"
        }
      ]
    },
    {
      "cell_type": "code",
      "metadata": {
        "colab": {
          "base_uri": "https://localhost:8080/"
        },
        "id": "ZMBRvWx5a1-_",
        "outputId": "79cfcc99-03f7-480f-d458-cc92b217a1b3"
      },
      "source": [
        "y_pred = lr_h(betas_ols, x_)\n",
        "y_pred"
      ],
      "execution_count": null,
      "outputs": [
        {
          "data": {
            "text/plain": [
              "array([0.26390858])"
            ]
          },
          "execution_count": 46,
          "metadata": {},
          "output_type": "execute_result"
        }
      ]
    },
    {
      "cell_type": "code",
      "metadata": {
        "colab": {
          "base_uri": "https://localhost:8080/"
        },
        "id": "cZnTJ3ppa1_A",
        "outputId": "9849ab50-06df-41b1-8545-9e23e2ebbfa0"
      },
      "source": [
        "y_pred = y_pred * y_std + y_mean\n",
        "y_pred"
      ],
      "execution_count": null,
      "outputs": [
        {
          "data": {
            "text/plain": [
              "array([60176.27802692])"
            ]
          },
          "execution_count": 47,
          "metadata": {},
          "output_type": "execute_result"
        }
      ]
    },
    {
      "cell_type": "markdown",
      "metadata": {
        "id": "X_bFz9i-dBdz"
      },
      "source": [
        "De acuerdo al modelo, cuando tenemos $Age$ = $40$ y $Age2$ = $40^2$  el ingreso sería de \\$  $60176.29$"
      ]
    },
    {
      "cell_type": "markdown",
      "metadata": {
        "id": "3xsI4zhBbjl7"
      },
      "source": [
        "Usando Sklearn"
      ]
    },
    {
      "cell_type": "code",
      "metadata": {
        "colab": {
          "base_uri": "https://localhost:8080/"
        },
        "id": "38-xmjo8cCe3",
        "outputId": "d560fbb7-d83b-49c0-adc0-2d6f1833552d"
      },
      "source": [
        "clf2.fit(income[['Age', 'Age2']], income['Income'])\n",
        "clf2.predict(x.reshape(1, -1))"
      ],
      "execution_count": null,
      "outputs": [
        {
          "data": {
            "text/plain": [
              "array([60176.27802692])"
            ]
          },
          "execution_count": 48,
          "metadata": {},
          "output_type": "execute_result"
        }
      ]
    },
    {
      "cell_type": "markdown",
      "metadata": {
        "id": "tqH5f5bbrQm-"
      },
      "source": [
        "# Ejercicio 4.4\n",
        "Estime una regresión utilizando más características, diga cuáles y por qué las usó. Prediga de nuevo los ingresos cuando la Edad es de 30 y 40 años, y compare con el modelo anterior.\n"
      ]
    },
    {
      "cell_type": "markdown",
      "metadata": {
        "id": "jRdfdhWW43c0"
      },
      "source": [
        "Para predecir la variable **Income** tendre en cuenta las variables **Hours per week** y **Capital Gain**, pues más adelante se vera que tanto se afecta la variable **Income** incrementando en una unidad o un 1% estas dos variables dejando los años 30 y 40.  "
      ]
    },
    {
      "cell_type": "code",
      "metadata": {
        "collapsed": true,
        "id": "lHhA4XnprQm_"
      },
      "source": [
        "X = income[['Age', 'Hours per week', 'Capital Gain']].values"
      ],
      "execution_count": null,
      "outputs": []
    },
    {
      "cell_type": "code",
      "metadata": {
        "colab": {
          "base_uri": "https://localhost:8080/"
        },
        "id": "ymODjqXbvVe2",
        "outputId": "97ef7d8c-f506-44cd-d1fd-bfe672613228"
      },
      "source": [
        "from sklearn.preprocessing import StandardScaler\n",
        "ss = StandardScaler(with_mean=True, with_std=True)\n",
        "ss.fit(X.astype(np.float))\n",
        "X = ss.transform(X.astype(np.float))\n",
        "ss.mean_, ss.scale_"
      ],
      "execution_count": null,
      "outputs": [
        {
          "data": {
            "text/plain": [
              "(array([  38.58164676,   40.43745585, 1077.64884371]),\n",
              " array([  13.64022309,   12.34723908, 7385.17867695]))"
            ]
          },
          "execution_count": 50,
          "metadata": {},
          "output_type": "execute_result"
        }
      ]
    },
    {
      "cell_type": "code",
      "metadata": {
        "colab": {
          "base_uri": "https://localhost:8080/"
        },
        "id": "DDBkf0vxvVe5",
        "outputId": "59ace8d5-293e-4019-fcd8-acb536b7f1e3"
      },
      "source": [
        "X_ = np.c_[np.ones(n_samples), X]\n",
        "X_[0:5]"
      ],
      "execution_count": null,
      "outputs": [
        {
          "data": {
            "text/plain": [
              "array([[ 1.        ,  0.03067056, -0.03542945,  0.1484529 ],\n",
              "       [ 1.        ,  0.83710898, -2.22215312, -0.14592048],\n",
              "       [ 1.        , -0.04264203, -0.03542945, -0.14592048],\n",
              "       [ 1.        ,  1.05704673, -0.03542945, -0.14592048],\n",
              "       [ 1.        , -0.77576787, -0.03542945, -0.14592048]])"
            ]
          },
          "execution_count": 51,
          "metadata": {},
          "output_type": "execute_result"
        }
      ]
    },
    {
      "cell_type": "code",
      "metadata": {
        "colab": {
          "base_uri": "https://localhost:8080/"
        },
        "id": "_GM9AZrEnWC9",
        "outputId": "d12d05ad-a3a4-4b66-e1b9-dd7c75ead520"
      },
      "source": [
        "betas_ols = np.dot(np.linalg.inv(np.dot(X_.T, X_)),np.dot(X_.T, y))\n",
        "betas_ols"
      ],
      "execution_count": null,
      "outputs": [
        {
          "data": {
            "text/plain": [
              "array([1.45524772e-16, 2.59484826e-01, 2.52411413e-01, 1.74687282e-01])"
            ]
          },
          "execution_count": 52,
          "metadata": {},
          "output_type": "execute_result"
        }
      ]
    },
    {
      "cell_type": "markdown",
      "metadata": {
        "id": "vLZPOA7dvkaI"
      },
      "source": [
        "El modelo es el siguiente:\n",
        "## $$h_\\beta(x) = \\beta_0 + \\beta_1x_1 + \\beta_2x_2 + \\beta_3x_3$$\n",
        "\n",
        "- $h_\\beta(x)$ - **Income**\n",
        "- $\\beta_0$ $\\thickapprox$ 0 \n",
        "- $\\beta_1$ = $0.2594$ para $x_1$ ($Age$ estandarizada)\n",
        "- $\\beta_2$ = $0.2524$ para $x_2$ ($Hours \\hspace{3mm} per \\hspace{3mm}week$  estandarizada)\n",
        "- $\\beta_3$ = $0.17468$ para $x_3$ ($Capital \\hspace{3mm} Gain$  estandarizada)\n",
        "\n",
        "Podemos ver que las tres variables aportan al incremento positivo de la variable respuesta $ Income$, si se incrementan en una unidad $Income$ también aumenta.  "
      ]
    },
    {
      "cell_type": "markdown",
      "metadata": {
        "id": "bsc7o6ySvjwL"
      },
      "source": [
        "**Prediccion del ingreso cuando *Age* es $30$, *Hours per week* son $40$ y *Capital Gain* es $2000$**\n"
      ]
    },
    {
      "cell_type": "code",
      "metadata": {
        "colab": {
          "base_uri": "https://localhost:8080/"
        },
        "id": "GohgNNC2viy4",
        "outputId": "2bb37592-33ef-4fa0-9ad5-bd1dbe9a251b"
      },
      "source": [
        "x = np.array([30., 40.,2000.])\n",
        "\n",
        "# scale\n",
        "x_scaled = ss.transform(x.reshape(1, -1))\n",
        "x_ = np.c_[1, x_scaled]\n",
        "x_\n"
      ],
      "execution_count": null,
      "outputs": [
        {
          "data": {
            "text/plain": [
              "array([[ 1.        , -0.6291427 , -0.03542945,  0.12489219]])"
            ]
          },
          "execution_count": 59,
          "metadata": {},
          "output_type": "execute_result"
        }
      ]
    },
    {
      "cell_type": "code",
      "metadata": {
        "colab": {
          "base_uri": "https://localhost:8080/"
        },
        "id": "-OdXbCn01yge",
        "outputId": "ab0a3513-a8c2-4c98-80e9-beb0502f27bb"
      },
      "source": [
        "y_pred = lr_h(betas_ols, x_)\n",
        "y_pred\n"
      ],
      "execution_count": null,
      "outputs": [
        {
          "data": {
            "text/plain": [
              "array([-0.1503787])"
            ]
          },
          "execution_count": 60,
          "metadata": {},
          "output_type": "execute_result"
        }
      ]
    },
    {
      "cell_type": "code",
      "metadata": {
        "colab": {
          "base_uri": "https://localhost:8080/"
        },
        "id": "04zYjqBI10jy",
        "outputId": "57258a49-e699-421e-8e05-7d478686d19b"
      },
      "source": [
        "y_pred = y_pred * y_std + y_mean\n",
        "y_pred"
      ],
      "execution_count": null,
      "outputs": [
        {
          "data": {
            "text/plain": [
              "array([49626.39453341])"
            ]
          },
          "execution_count": 61,
          "metadata": {},
          "output_type": "execute_result"
        }
      ]
    },
    {
      "cell_type": "markdown",
      "metadata": {
        "id": "DGBZs6cj3G9C"
      },
      "source": [
        "**Prediccion del ingreso cuando *Age* es $40$, *Hours \n",
        "per week* son $40$ y *Capital Gain* es $2000$**\n"
      ]
    },
    {
      "cell_type": "code",
      "metadata": {
        "colab": {
          "base_uri": "https://localhost:8080/"
        },
        "id": "vZaNgSAU3G9D",
        "outputId": "8cfed57b-9669-4a86-de65-7cf5ba330e5c"
      },
      "source": [
        "x = np.array([40., 40.,2000.])\n",
        "\n",
        "# scale\n",
        "x_scaled = ss.transform(x.reshape(1, -1))\n",
        "x_ = np.c_[1, x_scaled]\n",
        "x_\n"
      ],
      "execution_count": null,
      "outputs": [
        {
          "data": {
            "text/plain": [
              "array([[ 1.        ,  0.10398314, -0.03542945,  0.12489219]])"
            ]
          },
          "execution_count": 62,
          "metadata": {},
          "output_type": "execute_result"
        }
      ]
    },
    {
      "cell_type": "code",
      "metadata": {
        "colab": {
          "base_uri": "https://localhost:8080/"
        },
        "id": "Qbn_JbUU3G9F",
        "outputId": "f2d1c692-12a0-4b2f-ea0a-34439f0188da"
      },
      "source": [
        "y_pred = lr_h(betas_ols, x_)\n",
        "y_pred\n"
      ],
      "execution_count": null,
      "outputs": [
        {
          "data": {
            "text/plain": [
              "array([0.03985633])"
            ]
          },
          "execution_count": 63,
          "metadata": {},
          "output_type": "execute_result"
        }
      ]
    },
    {
      "cell_type": "code",
      "metadata": {
        "colab": {
          "base_uri": "https://localhost:8080/"
        },
        "id": "4--twNAz3G9G",
        "outputId": "eb607e1a-215c-4d4d-92b2-e06e1930ebde"
      },
      "source": [
        "y_pred = y_pred * y_std + y_mean\n",
        "y_pred"
      ],
      "execution_count": null,
      "outputs": [
        {
          "data": {
            "text/plain": [
              "array([54470.75611018])"
            ]
          },
          "execution_count": 64,
          "metadata": {},
          "output_type": "execute_result"
        }
      ]
    },
    {
      "cell_type": "markdown",
      "metadata": {
        "id": "xR--5ROg8c9e"
      },
      "source": [
        "## Comparación de las predicciones segun las variables independientes tenidas en cuenta  \n",
        "\n",
        "| Modelo (variable/s)           | Age = 30 | Age = 40|\n",
        "|--------------------------------|----------|---------|\n",
        "| Age                       | 48803.13 | 54224.8 |\n",
        "| Age y Age2 |50238.9 |60176.3|\n",
        "| Age, Hours = 40 & Capital = 2000|49626.4|54470.7|"
      ]
    },
    {
      "cell_type": "markdown",
      "metadata": {
        "id": "bcbNIG-P9w9J"
      },
      "source": [
        "- Se puede apreciar que teniendo en cuenta las variables **Age**, **Hours per week** y **Capital Gain** se predice un valor mayor de **Income** a que si solo se tuviera en cuenta la variable **Age**\n",
        "- A mayor horas trabajadas, mayor capital ganado y mayor edad, mayor seran los ingresos."
      ]
    },
    {
      "cell_type": "code",
      "metadata": {
        "id": "P1UvA1aVh4fE"
      },
      "source": [
        ""
      ],
      "execution_count": null,
      "outputs": []
    },
    {
      "cell_type": "markdown",
      "metadata": {
        "id": "6ZotgUpZrQm_"
      },
      "source": [
        "#Parte 2: Regresión Logística\n",
        "\n",
        "### Customer Churn: \n",
        "La pérdida/abandono de los clientes de la empresa. Especialmente, las industrias que la adquisición de usuarios es costosa, es de crucial importancia para una empresa para reducir e idealmente hacer que la rotación de clientes a 0 para mantener sus ingresos recurrentes. Si se considera que la retención de clientes es siempre más barata que la adquisición de clientes y generalmente depende de los datos del usuario (uso del servicio o producto), plantea un gran/excitante/difícil problema para el aprendizaje automático.\n",
        "\n",
        "### Datos\n",
        "El conjunto de datos procede de un proveedor de servicios de telecomunicaciones en el que se recoge el uso del servicio (plan internacional, plan de buzón de voz, uso diurno, uso nocturno, etc.) y la información demográfica básica (estado y código de área) del usuario. En el caso de las etiquetas, tengo un único punto de datos que indica si el cliente ha sido dado de baja o no.\n"
      ]
    },
    {
      "cell_type": "code",
      "metadata": {
        "id": "TgPh9vh-rQnA"
      },
      "source": [
        "# Download the dataset\n",
        "data = pd.read_csv('https://github.com/ghuiber/churn/raw/master/data/churn.csv')"
      ],
      "execution_count": 233,
      "outputs": []
    },
    {
      "cell_type": "code",
      "metadata": {
        "colab": {
          "base_uri": "https://localhost:8080/",
          "height": 327
        },
        "id": "_upTQFR_rQnA",
        "outputId": "586ebb94-369d-4da9-b5f2-ba3539a5754b"
      },
      "source": [
        "data.head()"
      ],
      "execution_count": 234,
      "outputs": [
        {
          "output_type": "execute_result",
          "data": {
            "text/html": [
              "<div>\n",
              "<style scoped>\n",
              "    .dataframe tbody tr th:only-of-type {\n",
              "        vertical-align: middle;\n",
              "    }\n",
              "\n",
              "    .dataframe tbody tr th {\n",
              "        vertical-align: top;\n",
              "    }\n",
              "\n",
              "    .dataframe thead th {\n",
              "        text-align: right;\n",
              "    }\n",
              "</style>\n",
              "<table border=\"1\" class=\"dataframe\">\n",
              "  <thead>\n",
              "    <tr style=\"text-align: right;\">\n",
              "      <th></th>\n",
              "      <th>State</th>\n",
              "      <th>Account Length</th>\n",
              "      <th>Area Code</th>\n",
              "      <th>Phone</th>\n",
              "      <th>Int'l Plan</th>\n",
              "      <th>VMail Plan</th>\n",
              "      <th>VMail Message</th>\n",
              "      <th>Day Mins</th>\n",
              "      <th>Day Calls</th>\n",
              "      <th>Day Charge</th>\n",
              "      <th>Eve Mins</th>\n",
              "      <th>Eve Calls</th>\n",
              "      <th>Eve Charge</th>\n",
              "      <th>Night Mins</th>\n",
              "      <th>Night Calls</th>\n",
              "      <th>Night Charge</th>\n",
              "      <th>Intl Mins</th>\n",
              "      <th>Intl Calls</th>\n",
              "      <th>Intl Charge</th>\n",
              "      <th>CustServ Calls</th>\n",
              "      <th>Churn?</th>\n",
              "    </tr>\n",
              "  </thead>\n",
              "  <tbody>\n",
              "    <tr>\n",
              "      <th>0</th>\n",
              "      <td>KS</td>\n",
              "      <td>128</td>\n",
              "      <td>415</td>\n",
              "      <td>382-4657</td>\n",
              "      <td>no</td>\n",
              "      <td>yes</td>\n",
              "      <td>25</td>\n",
              "      <td>265.1</td>\n",
              "      <td>110</td>\n",
              "      <td>45.07</td>\n",
              "      <td>197.4</td>\n",
              "      <td>99</td>\n",
              "      <td>16.78</td>\n",
              "      <td>244.7</td>\n",
              "      <td>91</td>\n",
              "      <td>11.01</td>\n",
              "      <td>10.0</td>\n",
              "      <td>3</td>\n",
              "      <td>2.70</td>\n",
              "      <td>1</td>\n",
              "      <td>False.</td>\n",
              "    </tr>\n",
              "    <tr>\n",
              "      <th>1</th>\n",
              "      <td>OH</td>\n",
              "      <td>107</td>\n",
              "      <td>415</td>\n",
              "      <td>371-7191</td>\n",
              "      <td>no</td>\n",
              "      <td>yes</td>\n",
              "      <td>26</td>\n",
              "      <td>161.6</td>\n",
              "      <td>123</td>\n",
              "      <td>27.47</td>\n",
              "      <td>195.5</td>\n",
              "      <td>103</td>\n",
              "      <td>16.62</td>\n",
              "      <td>254.4</td>\n",
              "      <td>103</td>\n",
              "      <td>11.45</td>\n",
              "      <td>13.7</td>\n",
              "      <td>3</td>\n",
              "      <td>3.70</td>\n",
              "      <td>1</td>\n",
              "      <td>False.</td>\n",
              "    </tr>\n",
              "    <tr>\n",
              "      <th>2</th>\n",
              "      <td>NJ</td>\n",
              "      <td>137</td>\n",
              "      <td>415</td>\n",
              "      <td>358-1921</td>\n",
              "      <td>no</td>\n",
              "      <td>no</td>\n",
              "      <td>0</td>\n",
              "      <td>243.4</td>\n",
              "      <td>114</td>\n",
              "      <td>41.38</td>\n",
              "      <td>121.2</td>\n",
              "      <td>110</td>\n",
              "      <td>10.30</td>\n",
              "      <td>162.6</td>\n",
              "      <td>104</td>\n",
              "      <td>7.32</td>\n",
              "      <td>12.2</td>\n",
              "      <td>5</td>\n",
              "      <td>3.29</td>\n",
              "      <td>0</td>\n",
              "      <td>False.</td>\n",
              "    </tr>\n",
              "    <tr>\n",
              "      <th>3</th>\n",
              "      <td>OH</td>\n",
              "      <td>84</td>\n",
              "      <td>408</td>\n",
              "      <td>375-9999</td>\n",
              "      <td>yes</td>\n",
              "      <td>no</td>\n",
              "      <td>0</td>\n",
              "      <td>299.4</td>\n",
              "      <td>71</td>\n",
              "      <td>50.90</td>\n",
              "      <td>61.9</td>\n",
              "      <td>88</td>\n",
              "      <td>5.26</td>\n",
              "      <td>196.9</td>\n",
              "      <td>89</td>\n",
              "      <td>8.86</td>\n",
              "      <td>6.6</td>\n",
              "      <td>7</td>\n",
              "      <td>1.78</td>\n",
              "      <td>2</td>\n",
              "      <td>False.</td>\n",
              "    </tr>\n",
              "    <tr>\n",
              "      <th>4</th>\n",
              "      <td>OK</td>\n",
              "      <td>75</td>\n",
              "      <td>415</td>\n",
              "      <td>330-6626</td>\n",
              "      <td>yes</td>\n",
              "      <td>no</td>\n",
              "      <td>0</td>\n",
              "      <td>166.7</td>\n",
              "      <td>113</td>\n",
              "      <td>28.34</td>\n",
              "      <td>148.3</td>\n",
              "      <td>122</td>\n",
              "      <td>12.61</td>\n",
              "      <td>186.9</td>\n",
              "      <td>121</td>\n",
              "      <td>8.41</td>\n",
              "      <td>10.1</td>\n",
              "      <td>3</td>\n",
              "      <td>2.73</td>\n",
              "      <td>3</td>\n",
              "      <td>False.</td>\n",
              "    </tr>\n",
              "  </tbody>\n",
              "</table>\n",
              "</div>"
            ],
            "text/plain": [
              "  State  Account Length  Area Code  ... Intl Charge CustServ Calls  Churn?\n",
              "0    KS             128        415  ...        2.70              1  False.\n",
              "1    OH             107        415  ...        3.70              1  False.\n",
              "2    NJ             137        415  ...        3.29              0  False.\n",
              "3    OH              84        408  ...        1.78              2  False.\n",
              "4    OK              75        415  ...        2.73              3  False.\n",
              "\n",
              "[5 rows x 21 columns]"
            ]
          },
          "metadata": {},
          "execution_count": 234
        }
      ]
    },
    {
      "cell_type": "markdown",
      "metadata": {
        "id": "ka0sMeFdrQnB"
      },
      "source": [
        "# Ejercicio 4.5\n",
        "\n",
        "¿Cuál es la distribución de los churners? Haga la transformación correspondiente para predecir Churn.\n",
        "\n"
      ]
    },
    {
      "cell_type": "code",
      "metadata": {
        "colab": {
          "base_uri": "https://localhost:8080/",
          "height": 327
        },
        "id": "lQ5q2JiBrQnC",
        "outputId": "54b036d5-2b3c-4a67-97fe-c1a619193e96"
      },
      "source": [
        "data['Churn'] = data['Churn?'].map({\"False.\":0, \"True.\":1}) \n",
        "data.head()"
      ],
      "execution_count": 235,
      "outputs": [
        {
          "output_type": "execute_result",
          "data": {
            "text/html": [
              "<div>\n",
              "<style scoped>\n",
              "    .dataframe tbody tr th:only-of-type {\n",
              "        vertical-align: middle;\n",
              "    }\n",
              "\n",
              "    .dataframe tbody tr th {\n",
              "        vertical-align: top;\n",
              "    }\n",
              "\n",
              "    .dataframe thead th {\n",
              "        text-align: right;\n",
              "    }\n",
              "</style>\n",
              "<table border=\"1\" class=\"dataframe\">\n",
              "  <thead>\n",
              "    <tr style=\"text-align: right;\">\n",
              "      <th></th>\n",
              "      <th>State</th>\n",
              "      <th>Account Length</th>\n",
              "      <th>Area Code</th>\n",
              "      <th>Phone</th>\n",
              "      <th>Int'l Plan</th>\n",
              "      <th>VMail Plan</th>\n",
              "      <th>VMail Message</th>\n",
              "      <th>Day Mins</th>\n",
              "      <th>Day Calls</th>\n",
              "      <th>Day Charge</th>\n",
              "      <th>Eve Mins</th>\n",
              "      <th>Eve Calls</th>\n",
              "      <th>Eve Charge</th>\n",
              "      <th>Night Mins</th>\n",
              "      <th>Night Calls</th>\n",
              "      <th>Night Charge</th>\n",
              "      <th>Intl Mins</th>\n",
              "      <th>Intl Calls</th>\n",
              "      <th>Intl Charge</th>\n",
              "      <th>CustServ Calls</th>\n",
              "      <th>Churn?</th>\n",
              "      <th>Churn</th>\n",
              "    </tr>\n",
              "  </thead>\n",
              "  <tbody>\n",
              "    <tr>\n",
              "      <th>0</th>\n",
              "      <td>KS</td>\n",
              "      <td>128</td>\n",
              "      <td>415</td>\n",
              "      <td>382-4657</td>\n",
              "      <td>no</td>\n",
              "      <td>yes</td>\n",
              "      <td>25</td>\n",
              "      <td>265.1</td>\n",
              "      <td>110</td>\n",
              "      <td>45.07</td>\n",
              "      <td>197.4</td>\n",
              "      <td>99</td>\n",
              "      <td>16.78</td>\n",
              "      <td>244.7</td>\n",
              "      <td>91</td>\n",
              "      <td>11.01</td>\n",
              "      <td>10.0</td>\n",
              "      <td>3</td>\n",
              "      <td>2.70</td>\n",
              "      <td>1</td>\n",
              "      <td>False.</td>\n",
              "      <td>0</td>\n",
              "    </tr>\n",
              "    <tr>\n",
              "      <th>1</th>\n",
              "      <td>OH</td>\n",
              "      <td>107</td>\n",
              "      <td>415</td>\n",
              "      <td>371-7191</td>\n",
              "      <td>no</td>\n",
              "      <td>yes</td>\n",
              "      <td>26</td>\n",
              "      <td>161.6</td>\n",
              "      <td>123</td>\n",
              "      <td>27.47</td>\n",
              "      <td>195.5</td>\n",
              "      <td>103</td>\n",
              "      <td>16.62</td>\n",
              "      <td>254.4</td>\n",
              "      <td>103</td>\n",
              "      <td>11.45</td>\n",
              "      <td>13.7</td>\n",
              "      <td>3</td>\n",
              "      <td>3.70</td>\n",
              "      <td>1</td>\n",
              "      <td>False.</td>\n",
              "      <td>0</td>\n",
              "    </tr>\n",
              "    <tr>\n",
              "      <th>2</th>\n",
              "      <td>NJ</td>\n",
              "      <td>137</td>\n",
              "      <td>415</td>\n",
              "      <td>358-1921</td>\n",
              "      <td>no</td>\n",
              "      <td>no</td>\n",
              "      <td>0</td>\n",
              "      <td>243.4</td>\n",
              "      <td>114</td>\n",
              "      <td>41.38</td>\n",
              "      <td>121.2</td>\n",
              "      <td>110</td>\n",
              "      <td>10.30</td>\n",
              "      <td>162.6</td>\n",
              "      <td>104</td>\n",
              "      <td>7.32</td>\n",
              "      <td>12.2</td>\n",
              "      <td>5</td>\n",
              "      <td>3.29</td>\n",
              "      <td>0</td>\n",
              "      <td>False.</td>\n",
              "      <td>0</td>\n",
              "    </tr>\n",
              "    <tr>\n",
              "      <th>3</th>\n",
              "      <td>OH</td>\n",
              "      <td>84</td>\n",
              "      <td>408</td>\n",
              "      <td>375-9999</td>\n",
              "      <td>yes</td>\n",
              "      <td>no</td>\n",
              "      <td>0</td>\n",
              "      <td>299.4</td>\n",
              "      <td>71</td>\n",
              "      <td>50.90</td>\n",
              "      <td>61.9</td>\n",
              "      <td>88</td>\n",
              "      <td>5.26</td>\n",
              "      <td>196.9</td>\n",
              "      <td>89</td>\n",
              "      <td>8.86</td>\n",
              "      <td>6.6</td>\n",
              "      <td>7</td>\n",
              "      <td>1.78</td>\n",
              "      <td>2</td>\n",
              "      <td>False.</td>\n",
              "      <td>0</td>\n",
              "    </tr>\n",
              "    <tr>\n",
              "      <th>4</th>\n",
              "      <td>OK</td>\n",
              "      <td>75</td>\n",
              "      <td>415</td>\n",
              "      <td>330-6626</td>\n",
              "      <td>yes</td>\n",
              "      <td>no</td>\n",
              "      <td>0</td>\n",
              "      <td>166.7</td>\n",
              "      <td>113</td>\n",
              "      <td>28.34</td>\n",
              "      <td>148.3</td>\n",
              "      <td>122</td>\n",
              "      <td>12.61</td>\n",
              "      <td>186.9</td>\n",
              "      <td>121</td>\n",
              "      <td>8.41</td>\n",
              "      <td>10.1</td>\n",
              "      <td>3</td>\n",
              "      <td>2.73</td>\n",
              "      <td>3</td>\n",
              "      <td>False.</td>\n",
              "      <td>0</td>\n",
              "    </tr>\n",
              "  </tbody>\n",
              "</table>\n",
              "</div>"
            ],
            "text/plain": [
              "  State  Account Length  Area Code  ... CustServ Calls  Churn? Churn\n",
              "0    KS             128        415  ...              1  False.     0\n",
              "1    OH             107        415  ...              1  False.     0\n",
              "2    NJ             137        415  ...              0  False.     0\n",
              "3    OH              84        408  ...              2  False.     0\n",
              "4    OK              75        415  ...              3  False.     0\n",
              "\n",
              "[5 rows x 22 columns]"
            ]
          },
          "metadata": {},
          "execution_count": 235
        }
      ]
    },
    {
      "cell_type": "code",
      "metadata": {
        "colab": {
          "base_uri": "https://localhost:8080/"
        },
        "id": "w7a5TR5l2Z1R",
        "outputId": "e43b0298-a3d5-4cfc-aab5-cd232e636bf3"
      },
      "source": [
        "f , t , v = data.Churn.value_counts()[0],data.Churn.value_counts()[1] , len(data)\n",
        "p = f/v *100\n",
        "q = t/v *100\n",
        "print('El porcentaje de Churn = False (0) es de ', round(p,2) , '% ''\\nEl porcentaje de Churn = True (1) es de ', round(q,2) , '% '  )"
      ],
      "execution_count": 236,
      "outputs": [
        {
          "output_type": "stream",
          "name": "stdout",
          "text": [
            "El porcentaje de Churn = False (0) es de  85.51 % \n",
            "El porcentaje de Churn = True (1) es de  14.49 % \n"
          ]
        }
      ]
    },
    {
      "cell_type": "markdown",
      "metadata": {
        "id": "hfZjFXXb7lv-"
      },
      "source": [
        "- Inicialmete vemos que la mayor parte de la variable Churn, al rededor del 85 % es False (0), es decir no abandono.\n",
        "- Al rededor del 14 % clientes si abandonaron.  "
      ]
    },
    {
      "cell_type": "markdown",
      "metadata": {
        "id": "gnKKbfKZrQnD"
      },
      "source": [
        "# Ejercicio 4.6\n",
        "Entrene una Regresión Logística creando Y y X con la información en IntlCharge.\n"
      ]
    },
    {
      "cell_type": "code",
      "metadata": {
        "colab": {
          "base_uri": "https://localhost:8080/",
          "height": 296
        },
        "id": "A82nFRUSrQnE",
        "outputId": "d8941862-3c1d-425a-f866-4d4462d09333"
      },
      "source": [
        "plt.scatter(data['Intl Charge'], data['Churn'])\n",
        "plt.xlabel('Intl Charge')\n",
        "plt.ylabel('Churn')"
      ],
      "execution_count": 237,
      "outputs": [
        {
          "output_type": "execute_result",
          "data": {
            "text/plain": [
              "Text(0, 0.5, 'Churn')"
            ]
          },
          "metadata": {},
          "execution_count": 237
        },
        {
          "output_type": "display_data",
          "data": {
            "image/png": "[encoded data removed]",
            "text/plain": [
              "<Figure size 432x288 with 1 Axes>"
            ]
          },
          "metadata": {
            "needs_background": "light"
          }
        }
      ]
    },
    {
      "cell_type": "code",
      "metadata": {
        "colab": {
          "base_uri": "https://localhost:8080/",
          "height": 296
        },
        "id": "NuxFG4_M4U34",
        "outputId": "3d64fe29-dc68-4194-d0aa-6a22344dd097"
      },
      "source": [
        "from sklearn.linear_model import LogisticRegression\n",
        "logreg = LogisticRegression(solver='liblinear',C=1e9)\n",
        "feature_cols = ['Intl Charge']\n",
        "X = data[feature_cols]\n",
        "y = data.Churn\n",
        "logreg.fit(X, y)\n",
        "data['Churn_pred_class'] = logreg.predict(X)\n",
        "# trazar las predicciones de la clase\n",
        "plt.scatter(data['Intl Charge'], data['Churn'])\n",
        "plt.plot(data['Intl Charge'], data.Churn_pred_class, color='red')\n",
        "plt.xlabel('Intl Charge')\n",
        "plt.ylabel('Churn')"
      ],
      "execution_count": 238,
      "outputs": [
        {
          "output_type": "execute_result",
          "data": {
            "text/plain": [
              "Text(0, 0.5, 'Churn')"
            ]
          },
          "metadata": {},
          "execution_count": 238
        },
        {
          "output_type": "display_data",
          "data": {
            "image/png": "[encoded data removed]",
            "text/plain": [
              "<Figure size 432x288 with 1 Axes>"
            ]
          },
          "metadata": {
            "needs_background": "light"
          }
        }
      ]
    },
    {
      "cell_type": "code",
      "metadata": {
        "id": "lIwavs0ie21X"
      },
      "source": [
        "# almacenar las probabilidades previstas de la clase 1\n",
        "data['Churn_pred_prob'] = logreg.predict_proba(X)[:, 1]"
      ],
      "execution_count": 239,
      "outputs": []
    },
    {
      "cell_type": "code",
      "metadata": {
        "colab": {
          "base_uri": "https://localhost:8080/",
          "height": 296
        },
        "id": "xyPUWl_7e21Y",
        "outputId": "40dc5536-5405-46c1-ae98-8450c08636eb"
      },
      "source": [
        "# trazar las probabilidades predichas\n",
        "plt.scatter(data['Intl Charge'], data['Churn'])\n",
        "plt.plot(data['Intl Charge'], data['Churn_pred_prob'], color='red')\n",
        "plt.xlabel('Intl Charge')\n",
        "plt.ylabel('Churn')"
      ],
      "execution_count": 240,
      "outputs": [
        {
          "output_type": "execute_result",
          "data": {
            "text/plain": [
              "Text(0, 0.5, 'Churn')"
            ]
          },
          "metadata": {},
          "execution_count": 240
        },
        {
          "output_type": "display_data",
          "data": {
            "image/png": "[encoded data removed]",
            "text/plain": [
              "<Figure size 432x288 with 1 Axes>"
            ]
          },
          "metadata": {
            "needs_background": "light"
          }
        }
      ]
    },
    {
      "cell_type": "markdown",
      "metadata": {
        "id": "VE2fB9lk6vcN"
      },
      "source": [
        "- A partir del gráfico anterior se podría decir que las probabilidades recaen o pesan más para que la variable respuesta tome valores de 0 (False)."
      ]
    },
    {
      "cell_type": "code",
      "metadata": {
        "colab": {
          "base_uri": "https://localhost:8080/"
        },
        "id": "CIc7slFbB8x5",
        "outputId": "54c2365b-5c3d-4bbb-b240-241964714b14"
      },
      "source": [
        "# examinar algunas predicciones de ejemplo\n",
        "print(logreg.predict_proba([[1]]))\n",
        "print(logreg.predict_proba([[2]]))\n",
        "print(logreg.predict_proba([[3]]))"
      ],
      "execution_count": 241,
      "outputs": [
        {
          "output_type": "stream",
          "name": "stdout",
          "text": [
            "[[0.90480943 0.09519057]]\n",
            "[[0.8796801 0.1203199]]\n",
            "[[0.84902381 0.15097619]]\n"
          ]
        }
      ]
    },
    {
      "cell_type": "markdown",
      "metadata": {
        "id": "LwmV-m13B_0E"
      },
      "source": [
        "- Efectivamente, las probabilidades para que caiga en cero son muy altas, esto puede deberse a que como inicialmente se dijo, el modelo fue entrenado con un 85% de valores False = 0 en la variable respuesta Churn."
      ]
    },
    {
      "cell_type": "markdown",
      "metadata": {
        "id": "ErUjHQE5rQnE"
      },
      "source": [
        "# Ejercicio 4.7\n",
        "\n",
        "¿Cuáles son los coeficientes de la regresión logística? Interpretelos para un valor de IntlCharge = 1.\n",
        "\n",
        "\n"
      ]
    },
    {
      "cell_type": "code",
      "metadata": {
        "colab": {
          "base_uri": "https://localhost:8080/"
        },
        "id": "eTkR96c-e21m",
        "outputId": "18b5eb95-b853-4cab-c823-06081ce8535b"
      },
      "source": [
        "# calcula las probabilidades logarítmicas predichas para Intl Charge = 1 utilizando la ecuación\n",
        "logodds = logreg.intercept_ + logreg.coef_[0] * 1\n",
        "logodds"
      ],
      "execution_count": 242,
      "outputs": [
        {
          "output_type": "execute_result",
          "data": {
            "text/plain": [
              "array([-2.25184351])"
            ]
          },
          "metadata": {},
          "execution_count": 242
        }
      ]
    },
    {
      "cell_type": "code",
      "metadata": {
        "colab": {
          "base_uri": "https://localhost:8080/"
        },
        "id": "dhjJyojie21n",
        "outputId": "69632252-6649-4ce4-a063-9942a9093182"
      },
      "source": [
        "# convierte las odds logarítmicas en odds\n",
        "odds = np.exp(logodds)\n",
        "odds"
      ],
      "execution_count": 243,
      "outputs": [
        {
          "output_type": "execute_result",
          "data": {
            "text/plain": [
              "array([0.1052051])"
            ]
          },
          "metadata": {},
          "execution_count": 243
        }
      ]
    },
    {
      "cell_type": "code",
      "metadata": {
        "colab": {
          "base_uri": "https://localhost:8080/"
        },
        "id": "_5SaGgDZe21q",
        "outputId": "3c603131-ac16-4784-8340-5d19229eabae"
      },
      "source": [
        "# Convertir los odds en probabilidad\n",
        "prob = odds/(1 + odds)\n",
        "prob\n",
        "#la probabilidad de caer en esa categoria es de 0.1203"
      ],
      "execution_count": 244,
      "outputs": [
        {
          "output_type": "execute_result",
          "data": {
            "text/plain": [
              "array([0.09519057])"
            ]
          },
          "metadata": {},
          "execution_count": 244
        }
      ]
    },
    {
      "cell_type": "code",
      "metadata": {
        "colab": {
          "base_uri": "https://localhost:8080/"
        },
        "id": "qvhHUHx0e21s",
        "outputId": "63296aff-ba6c-491b-f0c5-6b43c52c9608"
      },
      "source": [
        "# calcular la probabilidad predicha para Int Charge = 1 utilizando el método predict_proba\n",
        "logreg.predict_proba([[2]])[:, 1]"
      ],
      "execution_count": 245,
      "outputs": [
        {
          "output_type": "execute_result",
          "data": {
            "text/plain": [
              "array([0.1203199])"
            ]
          },
          "metadata": {},
          "execution_count": 245
        }
      ]
    },
    {
      "cell_type": "code",
      "metadata": {
        "colab": {
          "base_uri": "https://localhost:8080/"
        },
        "id": "rVyfJbgKe21u",
        "outputId": "5af8ea17-44e7-4b79-f87e-5d7baacb14a7"
      },
      "source": [
        "# examinar el coeficiente de al\n",
        "feature_cols, logreg.coef_[0]"
      ],
      "execution_count": 246,
      "outputs": [
        {
          "output_type": "execute_result",
          "data": {
            "text/plain": [
              "(['Intl Charge'], array([0.2624392]))"
            ]
          },
          "metadata": {},
          "execution_count": 246
        }
      ]
    },
    {
      "cell_type": "markdown",
      "metadata": {
        "id": "unqRSMlLDz-R"
      },
      "source": [
        "Un aumento de 1 unidad en \"Intl Charge\" se asocia con un aumento de 0.2624 unidades en las probabilidades logarítmicas de \"Churn\" de caer en 1 es decir de abandonar."
      ]
    },
    {
      "cell_type": "code",
      "metadata": {
        "colab": {
          "base_uri": "https://localhost:8080/"
        },
        "id": "jzdUmi4oEEn2",
        "outputId": "38b4eef7-62db-4032-baf3-ec25936e6de0"
      },
      "source": [
        "# examinar el intercepto\n",
        "logreg.intercept_"
      ],
      "execution_count": 247,
      "outputs": [
        {
          "output_type": "execute_result",
          "data": {
            "text/plain": [
              "array([-2.51428271])"
            ]
          },
          "metadata": {},
          "execution_count": 247
        }
      ]
    },
    {
      "cell_type": "markdown",
      "metadata": {
        "id": "3nxUP7xTEI_N"
      },
      "source": [
        "Para un valor de \"Intl Charge\" de 0, el logaritmo de las posibilidades de \"Churn\" de abandono es de -2.5142."
      ]
    },
    {
      "cell_type": "markdown",
      "metadata": {
        "id": "Lfvf_pqSkbzI"
      },
      "source": [
        "# Ejercicio 4.8\n",
        "\n",
        "Seleccione 3 variables independientes para entrenar una regresión logística. Interprete cada uno de los valores de los coeficientes en función de la variable churn.\n"
      ]
    },
    {
      "cell_type": "markdown",
      "metadata": {
        "id": "cxfofBqOJ1Cs"
      },
      "source": [
        "**Variables**\n",
        "\n",
        "- Day Mins \n",
        "- Int'l Plan\n",
        "- Account Length\n",
        "\n"
      ]
    },
    {
      "cell_type": "code",
      "metadata": {
        "id": "SAHFfuTcNpJz",
        "colab": {
          "base_uri": "https://localhost:8080/",
          "height": 327
        },
        "outputId": "c4724c57-b8b7-42e5-8625-80501472d3f4"
      },
      "source": [
        "data['Intl Plan'] = data[\"Int'l Plan\"].map({\"no\":0, \"yes\":1}) \n",
        "data.head()"
      ],
      "execution_count": 248,
      "outputs": [
        {
          "output_type": "execute_result",
          "data": {
            "text/html": [
              "<div>\n",
              "<style scoped>\n",
              "    .dataframe tbody tr th:only-of-type {\n",
              "        vertical-align: middle;\n",
              "    }\n",
              "\n",
              "    .dataframe tbody tr th {\n",
              "        vertical-align: top;\n",
              "    }\n",
              "\n",
              "    .dataframe thead th {\n",
              "        text-align: right;\n",
              "    }\n",
              "</style>\n",
              "<table border=\"1\" class=\"dataframe\">\n",
              "  <thead>\n",
              "    <tr style=\"text-align: right;\">\n",
              "      <th></th>\n",
              "      <th>State</th>\n",
              "      <th>Account Length</th>\n",
              "      <th>Area Code</th>\n",
              "      <th>Phone</th>\n",
              "      <th>Int'l Plan</th>\n",
              "      <th>VMail Plan</th>\n",
              "      <th>VMail Message</th>\n",
              "      <th>Day Mins</th>\n",
              "      <th>Day Calls</th>\n",
              "      <th>Day Charge</th>\n",
              "      <th>Eve Mins</th>\n",
              "      <th>Eve Calls</th>\n",
              "      <th>Eve Charge</th>\n",
              "      <th>Night Mins</th>\n",
              "      <th>Night Calls</th>\n",
              "      <th>Night Charge</th>\n",
              "      <th>Intl Mins</th>\n",
              "      <th>Intl Calls</th>\n",
              "      <th>Intl Charge</th>\n",
              "      <th>CustServ Calls</th>\n",
              "      <th>Churn?</th>\n",
              "      <th>Churn</th>\n",
              "      <th>Churn_pred_class</th>\n",
              "      <th>Churn_pred_prob</th>\n",
              "      <th>Intl Plan</th>\n",
              "    </tr>\n",
              "  </thead>\n",
              "  <tbody>\n",
              "    <tr>\n",
              "      <th>0</th>\n",
              "      <td>KS</td>\n",
              "      <td>128</td>\n",
              "      <td>415</td>\n",
              "      <td>382-4657</td>\n",
              "      <td>no</td>\n",
              "      <td>yes</td>\n",
              "      <td>25</td>\n",
              "      <td>265.1</td>\n",
              "      <td>110</td>\n",
              "      <td>45.07</td>\n",
              "      <td>197.4</td>\n",
              "      <td>99</td>\n",
              "      <td>16.78</td>\n",
              "      <td>244.7</td>\n",
              "      <td>91</td>\n",
              "      <td>11.01</td>\n",
              "      <td>10.0</td>\n",
              "      <td>3</td>\n",
              "      <td>2.70</td>\n",
              "      <td>1</td>\n",
              "      <td>False.</td>\n",
              "      <td>0</td>\n",
              "      <td>0</td>\n",
              "      <td>0.141159</td>\n",
              "      <td>0</td>\n",
              "    </tr>\n",
              "    <tr>\n",
              "      <th>1</th>\n",
              "      <td>OH</td>\n",
              "      <td>107</td>\n",
              "      <td>415</td>\n",
              "      <td>371-7191</td>\n",
              "      <td>no</td>\n",
              "      <td>yes</td>\n",
              "      <td>26</td>\n",
              "      <td>161.6</td>\n",
              "      <td>123</td>\n",
              "      <td>27.47</td>\n",
              "      <td>195.5</td>\n",
              "      <td>103</td>\n",
              "      <td>16.62</td>\n",
              "      <td>254.4</td>\n",
              "      <td>103</td>\n",
              "      <td>11.45</td>\n",
              "      <td>13.7</td>\n",
              "      <td>3</td>\n",
              "      <td>3.70</td>\n",
              "      <td>1</td>\n",
              "      <td>False.</td>\n",
              "      <td>0</td>\n",
              "      <td>0</td>\n",
              "      <td>0.176062</td>\n",
              "      <td>0</td>\n",
              "    </tr>\n",
              "    <tr>\n",
              "      <th>2</th>\n",
              "      <td>NJ</td>\n",
              "      <td>137</td>\n",
              "      <td>415</td>\n",
              "      <td>358-1921</td>\n",
              "      <td>no</td>\n",
              "      <td>no</td>\n",
              "      <td>0</td>\n",
              "      <td>243.4</td>\n",
              "      <td>114</td>\n",
              "      <td>41.38</td>\n",
              "      <td>121.2</td>\n",
              "      <td>110</td>\n",
              "      <td>10.30</td>\n",
              "      <td>162.6</td>\n",
              "      <td>104</td>\n",
              "      <td>7.32</td>\n",
              "      <td>12.2</td>\n",
              "      <td>5</td>\n",
              "      <td>3.29</td>\n",
              "      <td>0</td>\n",
              "      <td>False.</td>\n",
              "      <td>0</td>\n",
              "      <td>0</td>\n",
              "      <td>0.160993</td>\n",
              "      <td>0</td>\n",
              "    </tr>\n",
              "    <tr>\n",
              "      <th>3</th>\n",
              "      <td>OH</td>\n",
              "      <td>84</td>\n",
              "      <td>408</td>\n",
              "      <td>375-9999</td>\n",
              "      <td>yes</td>\n",
              "      <td>no</td>\n",
              "      <td>0</td>\n",
              "      <td>299.4</td>\n",
              "      <td>71</td>\n",
              "      <td>50.90</td>\n",
              "      <td>61.9</td>\n",
              "      <td>88</td>\n",
              "      <td>5.26</td>\n",
              "      <td>196.9</td>\n",
              "      <td>89</td>\n",
              "      <td>8.86</td>\n",
              "      <td>6.6</td>\n",
              "      <td>7</td>\n",
              "      <td>1.78</td>\n",
              "      <td>2</td>\n",
              "      <td>False.</td>\n",
              "      <td>0</td>\n",
              "      <td>0</td>\n",
              "      <td>0.114342</td>\n",
              "      <td>1</td>\n",
              "    </tr>\n",
              "    <tr>\n",
              "      <th>4</th>\n",
              "      <td>OK</td>\n",
              "      <td>75</td>\n",
              "      <td>415</td>\n",
              "      <td>330-6626</td>\n",
              "      <td>yes</td>\n",
              "      <td>no</td>\n",
              "      <td>0</td>\n",
              "      <td>166.7</td>\n",
              "      <td>113</td>\n",
              "      <td>28.34</td>\n",
              "      <td>148.3</td>\n",
              "      <td>122</td>\n",
              "      <td>12.61</td>\n",
              "      <td>186.9</td>\n",
              "      <td>121</td>\n",
              "      <td>8.41</td>\n",
              "      <td>10.1</td>\n",
              "      <td>3</td>\n",
              "      <td>2.73</td>\n",
              "      <td>3</td>\n",
              "      <td>False.</td>\n",
              "      <td>0</td>\n",
              "      <td>0</td>\n",
              "      <td>0.142116</td>\n",
              "      <td>1</td>\n",
              "    </tr>\n",
              "  </tbody>\n",
              "</table>\n",
              "</div>"
            ],
            "text/plain": [
              "  State  Account Length  ...  Churn_pred_prob Intl Plan\n",
              "0    KS             128  ...         0.141159         0\n",
              "1    OH             107  ...         0.176062         0\n",
              "2    NJ             137  ...         0.160993         0\n",
              "3    OH              84  ...         0.114342         1\n",
              "4    OK              75  ...         0.142116         1\n",
              "\n",
              "[5 rows x 25 columns]"
            ]
          },
          "metadata": {},
          "execution_count": 248
        }
      ]
    },
    {
      "cell_type": "markdown",
      "metadata": {
        "id": "oLiMDfRdOCAd"
      },
      "source": [
        "Para la variable \"Int'l Plan\", \n",
        "- 0 no cuenta con plan internacional\n",
        "- 1 Si cuenta con plan Internacional"
      ]
    },
    {
      "cell_type": "markdown",
      "metadata": {
        "id": "cr5qeNOSOokN"
      },
      "source": [
        "**Ajuste del modelo**"
      ]
    },
    {
      "cell_type": "code",
      "metadata": {
        "id": "QUslBeW1lABj"
      },
      "source": [
        "logreg1 = LogisticRegression(solver='liblinear',C=1e9)\n",
        "feature_cols = ['Day Mins',\"Intl Plan\", 'Account Length']\n",
        "X = data[feature_cols]\n",
        "y = data.Churn\n",
        "logreg1.fit(X, y)\n",
        "data['Churn1_pred_class'] = logreg1.predict(X)"
      ],
      "execution_count": 249,
      "outputs": []
    },
    {
      "cell_type": "code",
      "metadata": {
        "colab": {
          "base_uri": "https://localhost:8080/",
          "height": 327
        },
        "id": "jNDJNQc4NQWl",
        "outputId": "320f33f9-fe81-47d8-f3c7-eb51725fad25"
      },
      "source": [
        "data.head()"
      ],
      "execution_count": 250,
      "outputs": [
        {
          "output_type": "execute_result",
          "data": {
            "text/html": [
              "<div>\n",
              "<style scoped>\n",
              "    .dataframe tbody tr th:only-of-type {\n",
              "        vertical-align: middle;\n",
              "    }\n",
              "\n",
              "    .dataframe tbody tr th {\n",
              "        vertical-align: top;\n",
              "    }\n",
              "\n",
              "    .dataframe thead th {\n",
              "        text-align: right;\n",
              "    }\n",
              "</style>\n",
              "<table border=\"1\" class=\"dataframe\">\n",
              "  <thead>\n",
              "    <tr style=\"text-align: right;\">\n",
              "      <th></th>\n",
              "      <th>State</th>\n",
              "      <th>Account Length</th>\n",
              "      <th>Area Code</th>\n",
              "      <th>Phone</th>\n",
              "      <th>Int'l Plan</th>\n",
              "      <th>VMail Plan</th>\n",
              "      <th>VMail Message</th>\n",
              "      <th>Day Mins</th>\n",
              "      <th>Day Calls</th>\n",
              "      <th>Day Charge</th>\n",
              "      <th>Eve Mins</th>\n",
              "      <th>Eve Calls</th>\n",
              "      <th>Eve Charge</th>\n",
              "      <th>Night Mins</th>\n",
              "      <th>Night Calls</th>\n",
              "      <th>Night Charge</th>\n",
              "      <th>Intl Mins</th>\n",
              "      <th>Intl Calls</th>\n",
              "      <th>Intl Charge</th>\n",
              "      <th>CustServ Calls</th>\n",
              "      <th>Churn?</th>\n",
              "      <th>Churn</th>\n",
              "      <th>Churn_pred_class</th>\n",
              "      <th>Churn_pred_prob</th>\n",
              "      <th>Intl Plan</th>\n",
              "      <th>Churn1_pred_class</th>\n",
              "    </tr>\n",
              "  </thead>\n",
              "  <tbody>\n",
              "    <tr>\n",
              "      <th>0</th>\n",
              "      <td>KS</td>\n",
              "      <td>128</td>\n",
              "      <td>415</td>\n",
              "      <td>382-4657</td>\n",
              "      <td>no</td>\n",
              "      <td>yes</td>\n",
              "      <td>25</td>\n",
              "      <td>265.1</td>\n",
              "      <td>110</td>\n",
              "      <td>45.07</td>\n",
              "      <td>197.4</td>\n",
              "      <td>99</td>\n",
              "      <td>16.78</td>\n",
              "      <td>244.7</td>\n",
              "      <td>91</td>\n",
              "      <td>11.01</td>\n",
              "      <td>10.0</td>\n",
              "      <td>3</td>\n",
              "      <td>2.70</td>\n",
              "      <td>1</td>\n",
              "      <td>False.</td>\n",
              "      <td>0</td>\n",
              "      <td>0</td>\n",
              "      <td>0.141159</td>\n",
              "      <td>0</td>\n",
              "      <td>0</td>\n",
              "    </tr>\n",
              "    <tr>\n",
              "      <th>1</th>\n",
              "      <td>OH</td>\n",
              "      <td>107</td>\n",
              "      <td>415</td>\n",
              "      <td>371-7191</td>\n",
              "      <td>no</td>\n",
              "      <td>yes</td>\n",
              "      <td>26</td>\n",
              "      <td>161.6</td>\n",
              "      <td>123</td>\n",
              "      <td>27.47</td>\n",
              "      <td>195.5</td>\n",
              "      <td>103</td>\n",
              "      <td>16.62</td>\n",
              "      <td>254.4</td>\n",
              "      <td>103</td>\n",
              "      <td>11.45</td>\n",
              "      <td>13.7</td>\n",
              "      <td>3</td>\n",
              "      <td>3.70</td>\n",
              "      <td>1</td>\n",
              "      <td>False.</td>\n",
              "      <td>0</td>\n",
              "      <td>0</td>\n",
              "      <td>0.176062</td>\n",
              "      <td>0</td>\n",
              "      <td>0</td>\n",
              "    </tr>\n",
              "    <tr>\n",
              "      <th>2</th>\n",
              "      <td>NJ</td>\n",
              "      <td>137</td>\n",
              "      <td>415</td>\n",
              "      <td>358-1921</td>\n",
              "      <td>no</td>\n",
              "      <td>no</td>\n",
              "      <td>0</td>\n",
              "      <td>243.4</td>\n",
              "      <td>114</td>\n",
              "      <td>41.38</td>\n",
              "      <td>121.2</td>\n",
              "      <td>110</td>\n",
              "      <td>10.30</td>\n",
              "      <td>162.6</td>\n",
              "      <td>104</td>\n",
              "      <td>7.32</td>\n",
              "      <td>12.2</td>\n",
              "      <td>5</td>\n",
              "      <td>3.29</td>\n",
              "      <td>0</td>\n",
              "      <td>False.</td>\n",
              "      <td>0</td>\n",
              "      <td>0</td>\n",
              "      <td>0.160993</td>\n",
              "      <td>0</td>\n",
              "      <td>0</td>\n",
              "    </tr>\n",
              "    <tr>\n",
              "      <th>3</th>\n",
              "      <td>OH</td>\n",
              "      <td>84</td>\n",
              "      <td>408</td>\n",
              "      <td>375-9999</td>\n",
              "      <td>yes</td>\n",
              "      <td>no</td>\n",
              "      <td>0</td>\n",
              "      <td>299.4</td>\n",
              "      <td>71</td>\n",
              "      <td>50.90</td>\n",
              "      <td>61.9</td>\n",
              "      <td>88</td>\n",
              "      <td>5.26</td>\n",
              "      <td>196.9</td>\n",
              "      <td>89</td>\n",
              "      <td>8.86</td>\n",
              "      <td>6.6</td>\n",
              "      <td>7</td>\n",
              "      <td>1.78</td>\n",
              "      <td>2</td>\n",
              "      <td>False.</td>\n",
              "      <td>0</td>\n",
              "      <td>0</td>\n",
              "      <td>0.114342</td>\n",
              "      <td>1</td>\n",
              "      <td>1</td>\n",
              "    </tr>\n",
              "    <tr>\n",
              "      <th>4</th>\n",
              "      <td>OK</td>\n",
              "      <td>75</td>\n",
              "      <td>415</td>\n",
              "      <td>330-6626</td>\n",
              "      <td>yes</td>\n",
              "      <td>no</td>\n",
              "      <td>0</td>\n",
              "      <td>166.7</td>\n",
              "      <td>113</td>\n",
              "      <td>28.34</td>\n",
              "      <td>148.3</td>\n",
              "      <td>122</td>\n",
              "      <td>12.61</td>\n",
              "      <td>186.9</td>\n",
              "      <td>121</td>\n",
              "      <td>8.41</td>\n",
              "      <td>10.1</td>\n",
              "      <td>3</td>\n",
              "      <td>2.73</td>\n",
              "      <td>3</td>\n",
              "      <td>False.</td>\n",
              "      <td>0</td>\n",
              "      <td>0</td>\n",
              "      <td>0.142116</td>\n",
              "      <td>1</td>\n",
              "      <td>0</td>\n",
              "    </tr>\n",
              "  </tbody>\n",
              "</table>\n",
              "</div>"
            ],
            "text/plain": [
              "  State  Account Length  ...  Intl Plan Churn1_pred_class\n",
              "0    KS             128  ...          0                 0\n",
              "1    OH             107  ...          0                 0\n",
              "2    NJ             137  ...          0                 0\n",
              "3    OH              84  ...          1                 1\n",
              "4    OK              75  ...          1                 0\n",
              "\n",
              "[5 rows x 26 columns]"
            ]
          },
          "metadata": {},
          "execution_count": 250
        }
      ]
    },
    {
      "cell_type": "code",
      "metadata": {
        "id": "OGgMHs5lO500"
      },
      "source": [
        "# almacenar las probabilidades previstas de la clase 1\n",
        "data['Churn1_pred_prob'] = logreg1.predict_proba(X)[:, 1]"
      ],
      "execution_count": 251,
      "outputs": []
    },
    {
      "cell_type": "code",
      "metadata": {
        "colab": {
          "base_uri": "https://localhost:8080/"
        },
        "id": "4705ygYVdHLC",
        "outputId": "5fe8985a-efea-45ff-c68f-fb4408740f32"
      },
      "source": [
        "# examinar los coeficientes \n",
        "feature_cols, logreg1.coef_[0]"
      ],
      "execution_count": 252,
      "outputs": [
        {
          "output_type": "execute_result",
          "data": {
            "text/plain": [
              "(['Day Mins', 'Intl Plan', 'Account Length'],\n",
              " array([1.11732954e-02, 1.73454741e+00, 6.26074281e-04]))"
            ]
          },
          "metadata": {},
          "execution_count": 252
        }
      ]
    },
    {
      "cell_type": "markdown",
      "metadata": {
        "id": "0IG9OU9ddV2N"
      },
      "source": [
        "**Interpretación:**\n",
        "\n",
        "- Para un aumento en una unidad de la variable *Day Mins* se asocia con un aumento de $0.0111733$ unidades en las probabilidades logarítmicas de la variable *Churn*\n",
        "- Para un aumento en una unidad de la variable *Intl Plan* se asocia con un aumento de  $1.734547$ unidades en las probabilidades logarítmicas de la variable *Churn*\n",
        "- Para un aumento en una unidad de la variable *Account Length* se asocia con un aumento de $0.0006260743$ unidades en las probabilidades logarítmicas de la variable *Churn*\n",
        "- Todas son positivas, por lo tanto un aumento en ellas aumenta la posibilidad del abandono de la empresa por parte del cliente. "
      ]
    },
    {
      "cell_type": "code",
      "metadata": {
        "id": "zRPj0LwFSzD0",
        "colab": {
          "base_uri": "https://localhost:8080/"
        },
        "outputId": "e9cd20eb-24d5-456b-baab-048866dc8c71"
      },
      "source": [
        "logreg1.intercept_"
      ],
      "execution_count": 253,
      "outputs": [
        {
          "output_type": "execute_result",
          "data": {
            "text/plain": [
              "array([-4.23745997])"
            ]
          },
          "metadata": {},
          "execution_count": 253
        }
      ]
    },
    {
      "cell_type": "markdown",
      "metadata": {
        "id": "AXk84fsEe7l1"
      },
      "source": [
        "**Interpretación:**\n",
        "\n",
        "- Para un valor de 0 en las tres variables independientes, el algorítmo de las posibilidades de **Churn** es de -4.2374\n"
      ]
    }
  ]
}