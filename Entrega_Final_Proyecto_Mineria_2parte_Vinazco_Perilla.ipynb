{
  "nbformat": 4,
  "nbformat_minor": 0,
  "metadata": {
    "interpreter": {
      "hash": "23300995598eec4bcf6bd89cf02d1c3675e8b2616661418dbbf5580aa901878d"
    },
    "kernelspec": {
      "display_name": "Python 3.9.7 64-bit",
      "language": "python",
      "name": "python3"
    },
    "language_info": {
      "codemirror_mode": {
        "name": "ipython",
        "version": 3
      },
      "file_extension": ".py",
      "mimetype": "text/x-python",
      "name": "python",
      "nbconvert_exporter": "python",
      "pygments_lexer": "ipython3",
      "version": "3.9.7"
    },
    "orig_nbformat": 4,
    "colab": {
      "name": "Entrega_Final_Proyecto_Mineria_2parte_Vinazco_Perilla.ipynb",
      "provenance": []
    }
  },
  "cells": [
    {
      "cell_type": "markdown",
      "metadata": {
        "id": "43e0d709-f2e6-4c59-9038-be229ba21f82",
        "tags": []
      },
      "source": [
        "\n",
        "\n",
        "## <center>**ENTREGA FINAL PROYECTO MINERIA DE DATOS**\n",
        "\n",
        "### <center>**Nancy Alejandra Vinazco Morales  &  Maria Camila Perilla Gutierrez**\n",
        " \n",
        "\n"
      ]
    },
    {
      "cell_type": "markdown",
      "metadata": {
        "id": "RAKZ0gXzaF_8"
      },
      "source": [
        "# **Parte 2**"
      ]
    },
    {
      "cell_type": "markdown",
      "metadata": {
        "id": "uKLAFZEwXZzY"
      },
      "source": [
        "Ya que el proyecto se enfoca en el aprendizaje supervisado referente a la clasificación, se realizarán diferentes propuestas basadas en dos algoritmos de clasificación, un algoritmo referente a la regresión logística regularizada y una maquina de vector soporte de clasificación."
      ]
    },
    {
      "cell_type": "markdown",
      "metadata": {
        "id": "zOsTI_ojXZza"
      },
      "source": [
        "A continuación se puede observar el Dataset mediante el cual se relizarán los algoritmos:"
      ]
    },
    {
      "cell_type": "code",
      "metadata": {
        "id": "6fngbnj8XZzb"
      },
      "source": [
        "import pandas as pd\n",
        "import numpy as np"
      ],
      "execution_count": 163,
      "outputs": []
    },
    {
      "cell_type": "code",
      "metadata": {
        "id": "FtEB2q-WXZze"
      },
      "source": [
        "obesity = pd.read_csv(\"obesity_Final2.csv\",\n",
        "                    sep=\",\"\n",
        "                 )"
      ],
      "execution_count": 164,
      "outputs": []
    },
    {
      "cell_type": "code",
      "metadata": {
        "id": "sYu8tz9oXZzi"
      },
      "source": [
        "obesity = obesity.drop(['Unnamed: 0'], axis=1)"
      ],
      "execution_count": 165,
      "outputs": []
    },
    {
      "cell_type": "code",
      "metadata": {
        "colab": {
          "base_uri": "https://localhost:8080/",
          "height": 112
        },
        "id": "lDhdqdGeXZzl",
        "outputId": "5ad402fb-4abd-439d-ab66-cbaff37ef6cd"
      },
      "source": [
        "obesity.head(2)"
      ],
      "execution_count": 166,
      "outputs": [
        {
          "output_type": "execute_result",
          "data": {
            "text/html": [
              "<div>\n",
              "<style scoped>\n",
              "    .dataframe tbody tr th:only-of-type {\n",
              "        vertical-align: middle;\n",
              "    }\n",
              "\n",
              "    .dataframe tbody tr th {\n",
              "        vertical-align: top;\n",
              "    }\n",
              "\n",
              "    .dataframe thead th {\n",
              "        text-align: right;\n",
              "    }\n",
              "</style>\n",
              "<table border=\"1\" class=\"dataframe\">\n",
              "  <thead>\n",
              "    <tr style=\"text-align: right;\">\n",
              "      <th></th>\n",
              "      <th>NObeyesdad</th>\n",
              "      <th>Edad</th>\n",
              "      <th>Altura</th>\n",
              "      <th>Antec_familiares</th>\n",
              "      <th>FAVC</th>\n",
              "      <th>NCP</th>\n",
              "      <th>CAEC</th>\n",
              "      <th>FAF</th>\n",
              "      <th>TUE</th>\n",
              "      <th>IMC</th>\n",
              "    </tr>\n",
              "  </thead>\n",
              "  <tbody>\n",
              "    <tr>\n",
              "      <th>0</th>\n",
              "      <td>1.0</td>\n",
              "      <td>26.0</td>\n",
              "      <td>1.900000</td>\n",
              "      <td>1.0</td>\n",
              "      <td>1.0</td>\n",
              "      <td>3.0</td>\n",
              "      <td>2.0</td>\n",
              "      <td>1.0</td>\n",
              "      <td>0.0</td>\n",
              "      <td>22.160665</td>\n",
              "    </tr>\n",
              "    <tr>\n",
              "      <th>1</th>\n",
              "      <td>1.0</td>\n",
              "      <td>22.0</td>\n",
              "      <td>1.711467</td>\n",
              "      <td>1.0</td>\n",
              "      <td>1.0</td>\n",
              "      <td>3.0</td>\n",
              "      <td>2.0</td>\n",
              "      <td>2.0</td>\n",
              "      <td>1.0</td>\n",
              "      <td>17.741005</td>\n",
              "    </tr>\n",
              "  </tbody>\n",
              "</table>\n",
              "</div>"
            ],
            "text/plain": [
              "   NObeyesdad  Edad    Altura  Antec_familiares  ...  CAEC  FAF  TUE        IMC\n",
              "0         1.0  26.0  1.900000               1.0  ...   2.0  1.0  0.0  22.160665\n",
              "1         1.0  22.0  1.711467               1.0  ...   2.0  2.0  1.0  17.741005\n",
              "\n",
              "[2 rows x 10 columns]"
            ]
          },
          "metadata": {},
          "execution_count": 166
        }
      ]
    },
    {
      "cell_type": "markdown",
      "metadata": {
        "id": "DA4u8WubXZzr"
      },
      "source": [
        "Se puede observar información refente al Dataset, el cual cuenta con 2868 registros y 10 variables"
      ]
    },
    {
      "cell_type": "code",
      "metadata": {
        "colab": {
          "base_uri": "https://localhost:8080/"
        },
        "id": "uWIcyObqXZzt",
        "outputId": "5ae2b0ac-b932-4137-dae5-5beb4624df49"
      },
      "source": [
        "obesity.info()"
      ],
      "execution_count": 167,
      "outputs": [
        {
          "output_type": "stream",
          "name": "stdout",
          "text": [
            "<class 'pandas.core.frame.DataFrame'>\n",
            "RangeIndex: 2868 entries, 0 to 2867\n",
            "Data columns (total 10 columns):\n",
            " #   Column            Non-Null Count  Dtype  \n",
            "---  ------            --------------  -----  \n",
            " 0   NObeyesdad        2868 non-null   float64\n",
            " 1   Edad              2868 non-null   float64\n",
            " 2   Altura            2868 non-null   float64\n",
            " 3   Antec_familiares  2868 non-null   float64\n",
            " 4   FAVC              2868 non-null   float64\n",
            " 5   NCP               2868 non-null   float64\n",
            " 6   CAEC              2868 non-null   float64\n",
            " 7   FAF               2868 non-null   float64\n",
            " 8   TUE               2868 non-null   float64\n",
            " 9   IMC               2868 non-null   float64\n",
            "dtypes: float64(10)\n",
            "memory usage: 224.2 KB\n"
          ]
        }
      ]
    },
    {
      "cell_type": "markdown",
      "metadata": {
        "id": "vF51p1Z2XZzu"
      },
      "source": [
        "### **A tomar en cuenta** "
      ]
    },
    {
      "cell_type": "markdown",
      "metadata": {
        "id": "M9eK0z29XZzv"
      },
      "source": [
        "Para la aplicación de los algoritmos, se tomarán en cuenta las siguientes especificaciones y variables:"
      ]
    },
    {
      "cell_type": "markdown",
      "metadata": {
        "id": "fhLeKujpXZzw"
      },
      "source": [
        "* **Uso de validación cruzada simple (75% entrenamiento, 15% prueba)** <br><br>\n",
        "* **Métricas a emplear: LOG-LOSS,  AUC-ROC*** <br><br>\n",
        "* **Combinación de mínimo 4 hiperparámetros para cada algoritmo** <br><br>"
      ]
    },
    {
      "cell_type": "markdown",
      "metadata": {
        "id": "rY4hq51pXZzx"
      },
      "source": [
        "|VARIABLE DEPENDIENTE | DESCRIPCIÓN |\n",
        "|------------------------| ------ |\n",
        "| *NObeyesdad* | Niveles de obesidad |"
      ]
    },
    {
      "cell_type": "markdown",
      "metadata": {
        "id": "b3hGnPRKXZzy"
      },
      "source": [
        "|VARIABLES INDEPENDIENTES | DESCRIPCIÓN |\n",
        "|------------------------| ------ |\n",
        "| *IMC* | Índice de masa corporal |\n",
        "| *Altura* | Altura de la persona |\n",
        "| *Edad* | Edad de la persona |\n",
        "|*Antec_familiares* | Antecedentes familiares de la persona |\n",
        "| *CAEC* | Nonsumo de alimentos dentre comidas | \n",
        "| *NCP* | Número de comidas principales al dia|\n",
        "| *FAVC* | Consumo de alimentos ricos en calorias con frecuencia  |\n",
        "| *FAF* | Frecuencia de actividad física |\n",
        "| *TUE* | Tiempo usado en dispositivos tecnológicos |"
      ]
    },
    {
      "cell_type": "markdown",
      "metadata": {
        "id": "eBveBzNPXZzz"
      },
      "source": [
        "### **Validación cruzada** "
      ]
    },
    {
      "cell_type": "code",
      "metadata": {
        "id": "t2g1FgwvXZz0"
      },
      "source": [
        "X = obesity.drop([\"NObeyesdad\"], axis=1).values\n",
        "y = obesity[\"NObeyesdad\"].values"
      ],
      "execution_count": 168,
      "outputs": []
    },
    {
      "cell_type": "code",
      "metadata": {
        "id": "O0o5Dd1zXZz1"
      },
      "source": [
        "from sklearn.model_selection import train_test_split\n",
        "\n",
        "X_train, X_test, y_train, y_test = train_test_split(X, y, test_size=0.15, random_state=68)"
      ],
      "execution_count": 169,
      "outputs": []
    },
    {
      "cell_type": "code",
      "metadata": {
        "colab": {
          "base_uri": "https://localhost:8080/"
        },
        "id": "ehVpicNVXZz3",
        "outputId": "3dd59c52-cc15-4b29-ab13-7ab068b1c0fd"
      },
      "source": [
        "print(X_train.shape, X_test.shape, y_train.shape, y_test.shape)"
      ],
      "execution_count": 170,
      "outputs": [
        {
          "output_type": "stream",
          "name": "stdout",
          "text": [
            "(2437, 9) (431, 9) (2437,) (431,)\n"
          ]
        }
      ]
    },
    {
      "cell_type": "markdown",
      "metadata": {
        "id": "OeosPVM2XZz4"
      },
      "source": [
        "## **Regresión logística regularizada** "
      ]
    },
    {
      "cell_type": "markdown",
      "metadata": {
        "id": "xV0_dKt_XZz5"
      },
      "source": [
        "### ***Ajuste del modelo***"
      ]
    },
    {
      "cell_type": "markdown",
      "metadata": {
        "id": "Xs2w1vz4XZz5"
      },
      "source": [
        "Para el ajuste del algoritmo de regresión logística se toma en cuenta la variación de los siguientes hiperparámetros:"
      ]
    },
    {
      "cell_type": "markdown",
      "metadata": {
        "id": "Bt7PUnNQXZz6"
      },
      "source": [
        "|HIPERPARÁMETRO | DESCRIPCIÓN |\n",
        "|------------------------| ------ |\n",
        "| *Penalty* | Regularización o sanción |\n",
        "| *C* | Fuerza inversa de regularización |\n",
        "| *Tol* | Toleracia del criterio de parada |\n",
        "|*Max_iter* | Iteraciones para lograr convergencia |\n",
        "| *Solver* | Algoritmo de solución | "
      ]
    },
    {
      "cell_type": "code",
      "metadata": {
        "id": "hXA7sfBKXZz7"
      },
      "source": [
        "from sklearn.linear_model import LogisticRegression\n",
        "from sklearn import metrics"
      ],
      "execution_count": 171,
      "outputs": []
    },
    {
      "cell_type": "code",
      "metadata": {
        "id": "jRdRM_yBXZz8"
      },
      "source": [
        "penal = [\"l1\", \"l2\"]\n",
        "C = [0.001, 0.01, 0.1, 1, 10, 100, 1000]\n",
        "tolera = [0.000001, 0.00001, 0.0001, 0.001, 0.01]\n",
        "maxiter = [1000, 10000, 100000]\n",
        "sol = [\"liblinear\"]\n",
        "\n",
        "LOGLOSS = []\n",
        "ROCAUC = []"
      ],
      "execution_count": 172,
      "outputs": []
    },
    {
      "cell_type": "code",
      "metadata": {
        "id": "QPu2KxQ95Pp_"
      },
      "source": [
        "for a in penal:\n",
        "  for b in C:\n",
        "    for c in tolera:\n",
        "      for d in maxiter:\n",
        "        for e in sol:\n",
        "          Model = LogisticRegression(penalty = a, C =b, tol=c, max_iter=d, solver=e, random_state=70)\n",
        "          Model.fit(X_train, y_train)\n",
        "          y_pre = Model.predict(X_test)\n",
        "\n",
        "          MLL = metrics.log_loss(y_test, y_pre)\n",
        "          MRU = metrics.roc_auc_score(y_test, y_pre, average=None)\n",
        "\n",
        "          LOGLOSS.append(MLL)\n",
        "          ROCAUC.append(MRU)"
      ],
      "execution_count": 173,
      "outputs": []
    },
    {
      "cell_type": "markdown",
      "metadata": {
        "id": "NPM8DR31XZz-"
      },
      "source": [
        "### ***Medidas de selección del algoritmo***"
      ]
    },
    {
      "cell_type": "markdown",
      "metadata": {
        "id": "4L68W52gXZz-"
      },
      "source": [
        "Se toman en cuenta las siguientes métricas:"
      ]
    },
    {
      "cell_type": "markdown",
      "metadata": {
        "id": "YNLZMfKYXZz_"
      },
      "source": [
        "|MÉTRICA | DESCRIPCIÓN |\n",
        "|------------------------| ------ |\n",
        "| *LOG-LOSS* | Pérdida Logarítmica |\n",
        "| *ROC-AUC* | Curva característica del receptor / Puntuación del área bajo la curva  |"
      ]
    },
    {
      "cell_type": "markdown",
      "metadata": {
        "id": "dNAEKzrOXZz_"
      },
      "source": [
        "A continuación observamos algunos valores para cada una de las métricas de selección"
      ]
    },
    {
      "cell_type": "code",
      "metadata": {
        "colab": {
          "base_uri": "https://localhost:8080/",
          "height": 363
        },
        "id": "sr3BQAjdXZ0A",
        "outputId": "297652d9-b1f8-4bd1-a6f3-b5fee39dd648"
      },
      "source": [
        "pd.DataFrame(LOGLOSS, columns=[\"Pérdida Logarítmica\"]).sample(n=10, random_state=40)"
      ],
      "execution_count": 174,
      "outputs": [
        {
          "output_type": "execute_result",
          "data": {
            "text/html": [
              "<div>\n",
              "<style scoped>\n",
              "    .dataframe tbody tr th:only-of-type {\n",
              "        vertical-align: middle;\n",
              "    }\n",
              "\n",
              "    .dataframe tbody tr th {\n",
              "        vertical-align: top;\n",
              "    }\n",
              "\n",
              "    .dataframe thead th {\n",
              "        text-align: right;\n",
              "    }\n",
              "</style>\n",
              "<table border=\"1\" class=\"dataframe\">\n",
              "  <thead>\n",
              "    <tr style=\"text-align: right;\">\n",
              "      <th></th>\n",
              "      <th>Pérdida Logarítmica</th>\n",
              "    </tr>\n",
              "  </thead>\n",
              "  <tbody>\n",
              "    <tr>\n",
              "      <th>138</th>\n",
              "      <td>1.843159</td>\n",
              "    </tr>\n",
              "    <tr>\n",
              "      <th>143</th>\n",
              "      <td>1.843159</td>\n",
              "    </tr>\n",
              "    <tr>\n",
              "      <th>35</th>\n",
              "      <td>1.121924</td>\n",
              "    </tr>\n",
              "    <tr>\n",
              "      <th>166</th>\n",
              "      <td>0.560962</td>\n",
              "    </tr>\n",
              "    <tr>\n",
              "      <th>149</th>\n",
              "      <td>1.843159</td>\n",
              "    </tr>\n",
              "    <tr>\n",
              "      <th>147</th>\n",
              "      <td>1.843159</td>\n",
              "    </tr>\n",
              "    <tr>\n",
              "      <th>103</th>\n",
              "      <td>0.641098</td>\n",
              "    </tr>\n",
              "    <tr>\n",
              "      <th>5</th>\n",
              "      <td>14.584870</td>\n",
              "    </tr>\n",
              "    <tr>\n",
              "      <th>190</th>\n",
              "      <td>0.480824</td>\n",
              "    </tr>\n",
              "    <tr>\n",
              "      <th>125</th>\n",
              "      <td>2.644528</td>\n",
              "    </tr>\n",
              "  </tbody>\n",
              "</table>\n",
              "</div>"
            ],
            "text/plain": [
              "     Pérdida Logarítmica\n",
              "138             1.843159\n",
              "143             1.843159\n",
              "35              1.121924\n",
              "166             0.560962\n",
              "149             1.843159\n",
              "147             1.843159\n",
              "103             0.641098\n",
              "5              14.584870\n",
              "190             0.480824\n",
              "125             2.644528"
            ]
          },
          "metadata": {},
          "execution_count": 174
        }
      ]
    },
    {
      "cell_type": "code",
      "metadata": {
        "colab": {
          "base_uri": "https://localhost:8080/",
          "height": 363
        },
        "id": "642kzqU8XZ0B",
        "outputId": "b98e31ab-85c7-4b02-c39b-de1b5fe3fec9"
      },
      "source": [
        "pd.DataFrame(ROCAUC, columns=[\"LOG LOSS\"]).sample(n=10, random_state=40)"
      ],
      "execution_count": 175,
      "outputs": [
        {
          "output_type": "execute_result",
          "data": {
            "text/html": [
              "<div>\n",
              "<style scoped>\n",
              "    .dataframe tbody tr th:only-of-type {\n",
              "        vertical-align: middle;\n",
              "    }\n",
              "\n",
              "    .dataframe tbody tr th {\n",
              "        vertical-align: top;\n",
              "    }\n",
              "\n",
              "    .dataframe thead th {\n",
              "        text-align: right;\n",
              "    }\n",
              "</style>\n",
              "<table border=\"1\" class=\"dataframe\">\n",
              "  <thead>\n",
              "    <tr style=\"text-align: right;\">\n",
              "      <th></th>\n",
              "      <th>LOG LOSS</th>\n",
              "    </tr>\n",
              "  </thead>\n",
              "  <tbody>\n",
              "    <tr>\n",
              "      <th>138</th>\n",
              "      <td>0.946250</td>\n",
              "    </tr>\n",
              "    <tr>\n",
              "      <th>143</th>\n",
              "      <td>0.946250</td>\n",
              "    </tr>\n",
              "    <tr>\n",
              "      <th>35</th>\n",
              "      <td>0.967639</td>\n",
              "    </tr>\n",
              "    <tr>\n",
              "      <th>166</th>\n",
              "      <td>0.983819</td>\n",
              "    </tr>\n",
              "    <tr>\n",
              "      <th>149</th>\n",
              "      <td>0.946250</td>\n",
              "    </tr>\n",
              "    <tr>\n",
              "      <th>147</th>\n",
              "      <td>0.946250</td>\n",
              "    </tr>\n",
              "    <tr>\n",
              "      <th>103</th>\n",
              "      <td>0.981215</td>\n",
              "    </tr>\n",
              "    <tr>\n",
              "      <th>5</th>\n",
              "      <td>0.539869</td>\n",
              "    </tr>\n",
              "    <tr>\n",
              "      <th>190</th>\n",
              "      <td>0.985911</td>\n",
              "    </tr>\n",
              "    <tr>\n",
              "      <th>125</th>\n",
              "      <td>0.921744</td>\n",
              "    </tr>\n",
              "  </tbody>\n",
              "</table>\n",
              "</div>"
            ],
            "text/plain": [
              "     LOG LOSS\n",
              "138  0.946250\n",
              "143  0.946250\n",
              "35   0.967639\n",
              "166  0.983819\n",
              "149  0.946250\n",
              "147  0.946250\n",
              "103  0.981215\n",
              "5    0.539869\n",
              "190  0.985911\n",
              "125  0.921744"
            ]
          },
          "metadata": {},
          "execution_count": 175
        }
      ]
    },
    {
      "cell_type": "markdown",
      "metadata": {
        "id": "CMoPBtnIXZ0B"
      },
      "source": [
        "A continuación se evidencian las mejores métricas de las posibles combinaciones realizadas"
      ]
    },
    {
      "cell_type": "code",
      "metadata": {
        "colab": {
          "base_uri": "https://localhost:8080/"
        },
        "id": "3or7tmUmXZ0C",
        "outputId": "41bc5802-e66d-4611-c893-2d76505f0244"
      },
      "source": [
        "pd.DataFrame(ROCAUC).max()"
      ],
      "execution_count": 176,
      "outputs": [
        {
          "output_type": "execute_result",
          "data": {
            "text/plain": [
              "0    0.993212\n",
              "dtype: float64"
            ]
          },
          "metadata": {},
          "execution_count": 176
        }
      ]
    },
    {
      "cell_type": "code",
      "metadata": {
        "colab": {
          "base_uri": "https://localhost:8080/"
        },
        "id": "hcu0eYJsXZ0C",
        "outputId": "706b6b0c-03d0-4fbd-899c-ff562322c538"
      },
      "source": [
        "pd.DataFrame(LOGLOSS).min()"
      ],
      "execution_count": 177,
      "outputs": [
        {
          "output_type": "execute_result",
          "data": {
            "text/plain": [
              "0    0.240413\n",
              "dtype: float64"
            ]
          },
          "metadata": {},
          "execution_count": 177
        }
      ]
    },
    {
      "cell_type": "markdown",
      "metadata": {
        "id": "omQVTkI2XZ0D"
      },
      "source": [
        "### ***Mejor combinación de hiperparámetros***"
      ]
    },
    {
      "cell_type": "code",
      "metadata": {
        "id": "iDYMXl0EXZ0E"
      },
      "source": [
        "from sklearn.model_selection import GridSearchCV"
      ],
      "execution_count": 178,
      "outputs": []
    },
    {
      "cell_type": "code",
      "metadata": {
        "colab": {
          "base_uri": "https://localhost:8080/"
        },
        "id": "Kz2tLWktXZ0F",
        "outputId": "1b5fbd4d-44b7-4d58-8583-21348dfda4b3"
      },
      "source": [
        "combina = GridSearchCV(estimator = Model, param_grid = dict(penalty = penal, C = C, tol= tolera, max_iter=maxiter, solver=sol, random_state=[70]), scoring=\"neg_log_loss\")\n",
        "combina.fit(X_train, y_train)"
      ],
      "execution_count": null,
      "outputs": [
        {
          "output_type": "stream",
          "name": "stderr",
          "text": [
            "/usr/local/lib/python3.7/dist-packages/sklearn/svm/_base.py:1208: ConvergenceWarning: Liblinear failed to converge, increase the number of iterations.\n",
            "  ConvergenceWarning,\n"
          ]
        }
      ]
    },
    {
      "cell_type": "markdown",
      "metadata": {
        "id": "E5x_w2esXZ0G"
      },
      "source": [
        "Se puede evidenciar la mejor combinación de los hiperparámetros, tomando en cuenta la métrica de la pérdida logarítmica, ya que está métrica es apropiada para clasificadores binarios"
      ]
    },
    {
      "cell_type": "code",
      "metadata": {
        "id": "s36QwQPqXZ0H"
      },
      "source": [
        "combina.best_params_"
      ],
      "execution_count": null,
      "outputs": []
    },
    {
      "cell_type": "markdown",
      "metadata": {
        "id": "jcT8IENQXZ0I"
      },
      "source": [
        "La mejor combinación de parámetros es: <br> <br>\n",
        "\n",
        "* ***Penalty = L2 (Ridge)***\n",
        "* ***C = 1000*** \n",
        "* ***Tol = 0.00001*** \n",
        "* ***Max_iter = 1000*** \n",
        "* ***Solver = Liblinear*** "
      ]
    },
    {
      "cell_type": "markdown",
      "metadata": {
        "id": "oW2hH4msXZ0I"
      },
      "source": [
        "La métrica empleada para seleccionar el mejor algoritmo es el LOG-LOSS, con un valor de 0.2404."
      ]
    },
    {
      "cell_type": "markdown",
      "metadata": {
        "id": "_96yIdUBXZ0J"
      },
      "source": [
        "## **Máquina de vector soporte** "
      ]
    },
    {
      "cell_type": "markdown",
      "metadata": {
        "id": "zJmIT3btXZ0J"
      },
      "source": [
        "### ***Ajuste del modelo***"
      ]
    },
    {
      "cell_type": "markdown",
      "metadata": {
        "id": "OtgM5OZwXZ0K"
      },
      "source": [
        "Para el ajuste del algoritmo de regresión logística se toma en cuenta la variación de los siguientes hiperparámetros:"
      ]
    },
    {
      "cell_type": "markdown",
      "metadata": {
        "id": "Jz2-CN4PXZ0L"
      },
      "source": [
        "|HIPERPARÁMETRO | DESCRIPCIÓN |\n",
        "|------------------------| ------ |\n",
        "| *Kernel* | Función de nuevo espacio dimensional |\n",
        "| *C* | Fuerza inversa de regularización |\n",
        "| *Tol* | Toleracia del criterio de parada |\n",
        "|*Max_iter* | Iteraciones para lograr convergencia |\n",
        "| *Gamma* | Curvatura en un límite de decisión | "
      ]
    },
    {
      "cell_type": "code",
      "metadata": {
        "id": "M_092d8nXZ0L"
      },
      "source": [
        "from sklearn import svm\n",
        "from sklearn import metrics"
      ],
      "execution_count": null,
      "outputs": []
    },
    {
      "cell_type": "code",
      "metadata": {
        "id": "MEJlj6N6XZ0M"
      },
      "source": [
        "X_train2, X_test2, y_train2, y_test2 = train_test_split(X, y, test_size=0.15, random_state=68)"
      ],
      "execution_count": null,
      "outputs": []
    },
    {
      "cell_type": "code",
      "metadata": {
        "id": "kbDTWr8RXZ0M"
      },
      "source": [
        "kernel2 = [\"linear\", \"poly\", \"rbf\"]\n",
        "C2 = [0.01, 0.1, 1, 10, 100, 1000]\n",
        "tolera2 = [0.000001, 0.00001, 0.0001]\n",
        "maxiter2 = [1000, 10000, 100000]\n",
        "Gama2 = [0.01, 0.001, 0.0001]\n",
        "\n",
        "LOGLOSS2 = []\n",
        "ROCAUC2 = []"
      ],
      "execution_count": null,
      "outputs": []
    },
    {
      "cell_type": "code",
      "metadata": {
        "id": "OhY7I0eDXZ0N"
      },
      "source": [
        "for a in kernel2:\n",
        "  for b in C2:\n",
        "    for c in tolera2:\n",
        "      for d in maxiter2:\n",
        "        for e in Gama2:\n",
        "          Model2 = svm.SVC(kernel=a, C= b, tol=c, max_iter=d, gamma=e, random_state=70)\n",
        "          Model2.fit(X_train2, y_train2)\n",
        "          y_pre2 = Model2.predict(X_test2)\n",
        "\n",
        "          MLL2 = metrics.log_loss(y_test2, y_pre2)\n",
        "          MRU2 = metrics.roc_auc_score(y_test2, y_pre2, average=None)\n",
        "\n",
        "          LOGLOSS2.append(MLL2)\n",
        "          ROCAUC2.append(MRU2)"
      ],
      "execution_count": null,
      "outputs": []
    },
    {
      "cell_type": "markdown",
      "metadata": {
        "id": "JwBrxMqwXZ0O"
      },
      "source": [
        "### ***Medidas de selección del algoritmo***"
      ]
    },
    {
      "cell_type": "markdown",
      "metadata": {
        "id": "x7uQjj-XXZ0O"
      },
      "source": [
        "Se toman en cuenta las siguientes métricas:"
      ]
    },
    {
      "cell_type": "markdown",
      "metadata": {
        "id": "PwrsTz-1XZ0P"
      },
      "source": [
        "|MÉTRICA | DESCRIPCIÓN |\n",
        "|------------------------| ------ |\n",
        "| *LOG-LOSS* | Pérdida Logarítmica |\n",
        "| *ROC-AUC* | Curva característica del receptor / Puntuación del área bajo la curva  |"
      ]
    },
    {
      "cell_type": "markdown",
      "metadata": {
        "id": "d2Qh1hbOXZ0P"
      },
      "source": [
        "A continuación observamos algunos valores para cada una de las métricas de selección"
      ]
    },
    {
      "cell_type": "code",
      "metadata": {
        "id": "QAH2ILIyXZ0Q"
      },
      "source": [
        "pd.DataFrame(LOGLOSS2, columns=[\"Pérdida Logarítmica\"]).sample(n=10, random_state=40)"
      ],
      "execution_count": null,
      "outputs": []
    },
    {
      "cell_type": "code",
      "metadata": {
        "id": "iNsl19EjXZ0Q"
      },
      "source": [
        "pd.DataFrame(ROCAUC2, columns=[\"ROC-AUC\"]).sample(n=10, random_state=40)"
      ],
      "execution_count": null,
      "outputs": []
    },
    {
      "cell_type": "markdown",
      "metadata": {
        "id": "fymqROV0XZ0R"
      },
      "source": [
        "A continuación se evidencian las mejores métricas de las posibles combinaciones realizadas"
      ]
    },
    {
      "cell_type": "code",
      "metadata": {
        "id": "5sIJkW2iXZ0S"
      },
      "source": [
        "pd.DataFrame(ROCAUC2).max()"
      ],
      "execution_count": null,
      "outputs": []
    },
    {
      "cell_type": "code",
      "metadata": {
        "id": "5b0E0yhnXZ0S"
      },
      "source": [
        "pd.DataFrame(LOGLOSS2).min()"
      ],
      "execution_count": null,
      "outputs": []
    },
    {
      "cell_type": "markdown",
      "metadata": {
        "id": "JD4i4NlaXZ0V"
      },
      "source": [
        "La métrica empleada para seleccionar el mejor algoritmo es el LOG-LOSS, con un valor de 0.080136."
      ]
    },
    {
      "cell_type": "markdown",
      "metadata": {
        "id": "HtEYuXdxXZ0T"
      },
      "source": [
        "### ***Mejor combinación de hiperparámetros***"
      ]
    },
    {
      "cell_type": "code",
      "metadata": {
        "id": "2edVO9DnXZ0T"
      },
      "source": [
        "combina2 = GridSearchCV(estimator = Model2, param_grid = dict(kernel = kernel2, C = C2, tol= tolera2, max_iter=maxiter2, gamma=Gama2, random_state=[70]))\n",
        "combina2.fit(X_train2, y_train2)"
      ],
      "execution_count": null,
      "outputs": []
    },
    {
      "cell_type": "markdown",
      "metadata": {
        "id": "fWaqeZ8iXZ0U"
      },
      "source": [
        "Se puede evidenciar la mejor combinación de los hiperparámetros, tomando en cuenta la métrica de la pérdida logarítmica, ya que está métrica es apropiada para clasificadores binarios"
      ]
    },
    {
      "cell_type": "code",
      "metadata": {
        "id": "cAN4BojIXZ0U"
      },
      "source": [
        "combina2.best_params_"
      ],
      "execution_count": null,
      "outputs": []
    },
    {
      "cell_type": "markdown",
      "metadata": {
        "id": "BUxuW8dYXZ0V"
      },
      "source": [
        "La mejor combinación de parámetros es: \n",
        "\n",
        "* ***Kernel = Linear***\n",
        "* ***C = 0.1*** \n",
        "* ***Tol = 0.000001*** \n",
        "* ***Max_iter = 1000*** \n",
        "* ***Gamma = 0.01*** "
      ]
    },
    {
      "cell_type": "markdown",
      "metadata": {
        "id": "8RybVdGYXZ0W"
      },
      "source": [
        "## ***Conclusión***"
      ]
    },
    {
      "cell_type": "markdown",
      "metadata": {
        "id": "tv-X0s02XZ0W"
      },
      "source": [
        "Se hace uso de los algoritmos de regresión logística y una máquina de vector soporte, ya que el proceso está enfocado en el campo de clasificación, en este caso se cuenta con una variable dependiente con dos categorias (Binaria), la métrica empleada para seleccionar el mejor algoritmo es el LOG-LOSS, ya que este es una de las medidas de selección más adecuadas para tratar casos binarios, es importante tomar en cuenta que la métrica es susceptible para conjuntos de datos desequilibrados, pero ya que se aplicó anteriormente el método SMOTE, es una buena métrica de evaluación. \n",
        "\n",
        "Algunos aspectos a mejorar en los algoritmo estan basados en la variación de otro tipo de hiperparámetros, aplicar otro tipo de métodos para manejar datos desequilibrados, asi como el uso de otra técnica más eficiente de validación cruzada, también se puede considerar un cambio en la recategorización de la variable dependiente e incluso tomar en cuenta otro tipo experimentos y métricas para la selección."
      ]
    },
    {
      "cell_type": "markdown",
      "metadata": {
        "id": "Ev0ivX_CXZ0X"
      },
      "source": [
        "## ***Algoritmos seleccionados***"
      ]
    },
    {
      "cell_type": "markdown",
      "metadata": {
        "id": "G_3_bWu0XZ0X"
      },
      "source": [
        "En este apartado se muestran los algoritmos seleccionados con su combinación de hiperparámetros más adecuados y sus respectivos valores"
      ]
    },
    {
      "cell_type": "markdown",
      "metadata": {
        "id": "JG-RSYm3XZ0Y"
      },
      "source": [
        "|Regresión Logística | SVM |\n",
        "|------------------------| ------ |\n",
        "| *Penalty = L2* | *Kernel = Linear* |\n",
        "| *C = 1000* | *C = 0.1* |\n",
        "| *Tol = 0.00001* | *Tol = 0.000001* |\n",
        "|*Max_iter = 1000* | *Max_iter = 1000* |\n",
        "| *Solver = Liblinear* | *Gamma = 0.01* | "
      ]
    },
    {
      "cell_type": "markdown",
      "metadata": {
        "id": "K_r_PK8UXZ0Y"
      },
      "source": [
        "## ***Ensamblaje***"
      ]
    },
    {
      "cell_type": "markdown",
      "metadata": {
        "id": "zaFNoW9QXZ0Z"
      },
      "source": [
        "### ***Ensamblaje Manual***"
      ]
    },
    {
      "cell_type": "markdown",
      "metadata": {
        "id": "yMc7y9SAXZ0Z"
      },
      "source": [
        "En relación con el método de ensamblaje la opción a emplear es la técnica de Bagging enfocado a un ensamblaje manual, esto con la selección de los mejores algoritmos mencionados anteriormente, los cuales son una regresión logística y una máquina de vector soporte, la validación cruzada aplicada es la misma que se utilizó para la selección de los algoritmos, así mismo se evaluan las métricas de la pérdida logarítmica y el ROC-AUC, dando un poco más de importancia a la métrica de la pérdida logarítmica."
      ]
    },
    {
      "cell_type": "code",
      "metadata": {
        "id": "pkaXeW8HXZ0a"
      },
      "source": [
        "models = {\"RL\":  LogisticRegression(penalty = \"l2\", C =1000, tol=0.00001, max_iter=1000, solver=\"liblinear\", random_state=70),\n",
        "         \"SVM\": svm.SVC(kernel=\"linear\", C= 0.1, tol=0.000001, max_iter=1000, gamma=0.01, random_state=70)}"
      ],
      "execution_count": null,
      "outputs": []
    },
    {
      "cell_type": "code",
      "metadata": {
        "id": "09xiq456XZ0a"
      },
      "source": [
        "# Train all the models\n",
        "X_train3, X_test3, y_train3, y_test3 = train_test_split(X, y, test_size=0.15, random_state=68)\n",
        "\n",
        "for model in models.keys():\n",
        "    models[model].fit(X_train3, y_train3)"
      ],
      "execution_count": null,
      "outputs": []
    },
    {
      "cell_type": "code",
      "metadata": {
        "id": "A5U5FZmcXZ0b"
      },
      "source": [
        "obe = pd.concat([pd.DataFrame(X_test3), pd.DataFrame(y_test3)], axis=1)"
      ],
      "execution_count": null,
      "outputs": []
    },
    {
      "cell_type": "code",
      "metadata": {
        "id": "gtLv2MbaXZ0b"
      },
      "source": [
        "# predict test for each model\n",
        "y_pred3 = pd.DataFrame(index=obe.index, columns=models.keys())\n",
        "for model in models.keys():\n",
        "    y_pred3[model] = models[model].predict(X_test3)\n",
        "    "
      ],
      "execution_count": null,
      "outputs": []
    },
    {
      "cell_type": "code",
      "metadata": {
        "id": "6Jc9IcDOXZ0d"
      },
      "source": [
        "LOGLOSS3 = []\n",
        "ROCAUC3 = []\n",
        "model3 = []\n",
        "\n",
        "for model in models.keys():\n",
        "    m1 = metrics.log_loss(y_test3, y_pred3[model])\n",
        "    m2 = metrics.roc_auc_score(y_test3, y_pred3[model], average=None)  \n",
        "\n",
        "    LOGLOSS3.append(m1)  \n",
        "    ROCAUC3.append(m2)  \n",
        "    model3.append(model)"
      ],
      "execution_count": null,
      "outputs": []
    },
    {
      "cell_type": "markdown",
      "metadata": {
        "id": "bHEEUDv8XZ0d"
      },
      "source": [
        "Se pueden observar los modelos seleccionados y los valores de sus métricas respectivamente"
      ]
    },
    {
      "cell_type": "code",
      "metadata": {
        "id": "7D9b36DHXZ0e"
      },
      "source": [
        "print(model3,\"Pérdida Logarítmica: \", LOGLOSS3)\n",
        "print(model3,\"ROC-AUC: \", ROCAUC3)"
      ],
      "execution_count": null,
      "outputs": []
    },
    {
      "cell_type": "markdown",
      "metadata": {
        "id": "gRarGLJkXZ0f"
      },
      "source": [
        "Se calcula la media de cada métrica con el fin de realizar comparaciones posteriores:"
      ]
    },
    {
      "cell_type": "code",
      "metadata": {
        "id": "IXiWae2EXZ0f"
      },
      "source": [
        "print(\"Pérdida Logarítmica\", metrics.log_loss(y_test3, y_pred3.mean(axis=1)))\n",
        "print(\"ROC-AUC\", metrics.roc_auc_score(y_test3, y_pred3.mean(axis=1), average=None))"
      ],
      "execution_count": null,
      "outputs": []
    },
    {
      "cell_type": "markdown",
      "metadata": {
        "id": "haON9SrHXZ0h"
      },
      "source": [
        "## ***Conclusiones finales***"
      ]
    },
    {
      "cell_type": "markdown",
      "metadata": {
        "id": "OLQ4Rz0nXZ0h"
      },
      "source": [
        "|ALGORITMO | LOG-LOGG | ROC-AUC |\n",
        "|------------------------| ------ | --- |\n",
        "| *Regresión Logística* | 0.240413 | 0.993212 |\n",
        "| *Máquina de vector soporte* | 0.160276 | 0.995815 |\n",
        "| *Ensamblaje Manual* | 0.161885 | 0.995794 |"
      ]
    },
    {
      "cell_type": "markdown",
      "metadata": {
        "id": "gUxn6Pn0XZ0i"
      },
      "source": [
        "Se decidio emplear la técnica de ensamblaje manual puesto que con esta se pueden tomar en cuenta algoritmos anteiormente selecionados y hacer una selección más eficaz aprovechando las combinaciones de parámetros realizados, así como observar el comportamiento y rendimiento de cada algoritmo, también se consideró que es una técnica flexible ya que considera el preprocesamiento del Dataset y l selección rigurosa de predictores, procesos que se efectuaron con anterioridad.\n",
        "\n",
        "Al hacer uso de la técnica de ensamblaje manual se puede observar que tomando en cuenta la métrica de la pérdida cuadratica, está logra una medida mejor que el algoritmo de regresión logística regularizada y muy cercana pero no mejor que al algoritmo de máquina de vector soporte. Si se toma en cuenta la métrica del AUC-ROC, se evidencia que la técnica también logra una mejor medida que la regresión logística y muy cercana pero no mejor que la máquina de vector soporte, siendo muy estrictos, el mejor algoritmo a seleccionar es una máquina vector soporte, ya que es la que presenta mejor rendimiento y valor eficaz en las métricas.\n",
        "\n",
        "Algunos aspectos a mejorar del algoritmo final estan basados en el uso de otro tipo de técnicas de ensamblaje, recategorización de la variable objetivo, consideración de otro tipo de valores que se tomen en cuenta en los hiperparámetros, etc."
      ]
    },
    {
      "cell_type": "markdown",
      "metadata": {
        "id": "qkh3yt2wXZ0i"
      },
      "source": [
        "# ***Bonus***"
      ]
    },
    {
      "cell_type": "markdown",
      "metadata": {
        "id": "wpXbIvDvXZ0j"
      },
      "source": [
        "### ***Valor singular de descomposición***"
      ]
    },
    {
      "cell_type": "code",
      "metadata": {
        "id": "9pMdqLM5XZ0j"
      },
      "source": [
        "from sklearn.pipeline import Pipeline\n",
        "from sklearn.decomposition import TruncatedSVD"
      ],
      "execution_count": null,
      "outputs": []
    },
    {
      "cell_type": "markdown",
      "metadata": {
        "id": "AKZgyLClXZ0k"
      },
      "source": [
        "La técnica a aplicar es el valor singular de descomposición singular, tomando en cuenta la reducción de 10 variables a 2 componentes"
      ]
    },
    {
      "cell_type": "markdown",
      "metadata": {
        "id": "aRy2AaxTXZ0k"
      },
      "source": [
        "Se puede observar que el primer componente posee un 65,84% de la variación y el segundo componente un 31.11% de la variación, el 96,94% de la variación se explica en estas dos componentes"
      ]
    },
    {
      "cell_type": "code",
      "metadata": {
        "id": "ONIyCFtgXZ0k"
      },
      "source": [
        "svd=TruncatedSVD(n_components=2)\n",
        "svd.fit(X_train)\n",
        "X_svd=svd.transform(X_train) \n",
        "\n",
        "print(\"shape of X_svd\", X_svd.shape)\n",
        "expl = svd.explained_variance_ratio_\n",
        "print(expl)\n",
        "print('suma:',sum(expl[0:5]))"
      ],
      "execution_count": null,
      "outputs": []
    },
    {
      "cell_type": "markdown",
      "metadata": {
        "id": "kef50anEXZ0l"
      },
      "source": [
        "Si hacemos uso de 4 componentes se puede observar que el primer componente tiene un 66,84% de la variación, el segundo un 31,11%, el tercero una variación del 1,52% y finalmente el cuarto componente una variación del 0,57% y en donde se puede decir que en 4 componentes se está campturando el 99,04% de la varianza"
      ]
    },
    {
      "cell_type": "code",
      "metadata": {
        "id": "Yd5msTOpXZ0l"
      },
      "source": [
        "svd=TruncatedSVD(n_components=4)\n",
        "svd.fit(X_train)\n",
        "X_svd=svd.transform(X_train) \n",
        " \n",
        "print(\"shape of X_svd\", X_svd.shape)\n",
        "expl = svd.explained_variance_ratio_\n",
        "print(expl)\n",
        "print('suma:',sum(expl[0:5]))"
      ],
      "execution_count": null,
      "outputs": []
    },
    {
      "cell_type": "markdown",
      "metadata": {
        "id": "SxNpKfVtXZ0m"
      },
      "source": [
        "### ***Análisis de componentes***"
      ]
    },
    {
      "cell_type": "markdown",
      "metadata": {
        "id": "j93aIUmuXZ0q"
      },
      "source": [
        "Se realiza la gráfica con el fin de seleccionar el número más adecuados de componentes a usar"
      ]
    },
    {
      "cell_type": "code",
      "metadata": {
        "id": "DCAUZSyRXZ0r"
      },
      "source": [
        "import pandas as pd\n",
        "import numpy as np\n",
        "import matplotlib.pyplot as plt\n",
        "%matplotlib inline\n",
        "\n",
        "svd=TruncatedSVD(n_components=8)\n",
        "svd.fit(X_train)\n",
        "X_svd=svd.transform(X_train) \n",
        " \n",
        "print(\"shape of X_svd\", X_svd.shape)\n",
        "expl = svd.explained_variance_ratio_\n",
        "print(expl)\n",
        "print('suma:',sum(expl[0:5]))\n",
        " \n",
        "\n",
        "plt.rcParams['figure.figsize'] = (10, 5)\n",
        "plt.style.use('ggplot')\n",
        "#graficamos el acumulado de varianza explicada en las nuevas dimensiones\n",
        "plt.plot(np.cumsum(svd.explained_variance_ratio_))\n",
        "plt.xlabel('number of components')\n",
        "plt.ylabel('cumulative explained variance')\n",
        "plt.show()"
      ],
      "execution_count": null,
      "outputs": []
    },
    {
      "cell_type": "markdown",
      "metadata": {
        "id": "-3HX_lkvXZ0s"
      },
      "source": [
        "Según la gráfica y porcentajes de varianza observados anteriormente, la mejor opción a utilizar son 2 componentes"
      ]
    },
    {
      "cell_type": "markdown",
      "metadata": {
        "id": "IHfoAo_SXZ0s"
      },
      "source": [
        "### ***Aplicación para el algoritmo seleccionado***"
      ]
    },
    {
      "cell_type": "markdown",
      "metadata": {
        "id": "gRHTUGU_XZ0t"
      },
      "source": [
        "A continuación se realiza el ajuste del algoritmo anteriormente seleccionado, el cual corresponde a una máquina de vector soporte, esto con el fin de decidir si aplicando reducción de dimensionalidad se observa una mejora en el algoritmo SVM o si por el contrario es más adecuado el algoritmo sin plicar reducción de la dimensionalidad"
      ]
    },
    {
      "cell_type": "code",
      "metadata": {
        "id": "YYvhBqsBXZ0t"
      },
      "source": [
        "from sklearn.decomposition import TruncatedSVD\n",
        "\n",
        "# define the pipeline\n",
        "steps = [('svd', TruncatedSVD(n_components=2)), ('m', svm.SVC(kernel=\"linear\", C= 0.1, tol=0.000001, max_iter=1000, gamma=0.01, random_state=70))]\n",
        "model = Pipeline(steps=steps)\n",
        "model.fit(X_train, y_train)\n",
        "pre = model.predict(X_test)"
      ],
      "execution_count": null,
      "outputs": []
    },
    {
      "cell_type": "markdown",
      "metadata": {
        "id": "ftuSDLpFXZ0u"
      },
      "source": [
        "Finalmente se calculan los valores de las métricas de pérdida logarítmica y ROC-AUC"
      ]
    },
    {
      "cell_type": "code",
      "metadata": {
        "id": "t7mtKk7iXZ0u"
      },
      "source": [
        "print(\"Pérdida Logarítmica\", metrics.log_loss(y_test, pre))"
      ],
      "execution_count": null,
      "outputs": []
    },
    {
      "cell_type": "code",
      "metadata": {
        "id": "TV7zEpTiXZ0w"
      },
      "source": [
        "print(\"ROC-AUC\", metrics.roc_auc_score(y_test, pre, average=None))"
      ],
      "execution_count": null,
      "outputs": []
    },
    {
      "cell_type": "markdown",
      "metadata": {
        "id": "7TDzX3jzXZ0y"
      },
      "source": [
        "## ***Conclusiones finales***"
      ]
    },
    {
      "cell_type": "markdown",
      "metadata": {
        "id": "UQEyW_IGXZ0z"
      },
      "source": [
        "|ALGORITMO/TÉCNICA | LOG-LOGG | ROC-AUC |\n",
        "|------------------------| ------ | --- |\n",
        "| *Máquina de vector soporte* | 0.160276 | 0.995815 |\n",
        "| *Valor singular de descomposición* | 0.240415 | 0.993724 |"
      ]
    },
    {
      "cell_type": "markdown",
      "metadata": {
        "id": "C93Y-7exXZ00"
      },
      "source": [
        "Se ha decidido aplicar reducción de la dimensionalidad, enfocado a la técnica del valor singular de descomposición ya que el Dataset contiene algunas variables binarias con valor de 0, motivo por el cual este método suele ser más adecuado cuando se tenga este tipo de variables, también conocidos como datos escasos.\n",
        "\n",
        "Se puede observar que aplicando una técnica de reducción de dimensionalidad no se mejora la calidad del algoritmo, ya que según las métricas de la pérdida logarítmica y el ROC-AUC, la máquina de vector soporte sin el uso de reducción de dimensionalidad es el algortimo más apropiado para este caso.\n",
        "\n"
      ]
    },
    {
      "cell_type": "code",
      "metadata": {
        "id": "XCBxwpiJXEg0"
      },
      "source": [
        ""
      ],
      "execution_count": null,
      "outputs": []
    }
  ]
}