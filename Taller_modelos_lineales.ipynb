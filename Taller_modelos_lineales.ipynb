{
  "nbformat": 4,
  "nbformat_minor": 0,
  "metadata": {
    "kernelspec": {
      "display_name": "Python 3",
      "language": "python",
      "name": "python3"
    },
    "language_info": {
      "codemirror_mode": {
        "name": "ipython",
        "version": 3
      },
      "file_extension": ".py",
      "mimetype": "text/x-python",
      "name": "python",
      "nbconvert_exporter": "python",
      "pygments_lexer": "ipython3",
      "version": "3.6.7"
    },
    "colab": {
      "name": "Taller_modelos_lineales.ipynb",
      "provenance": []
    }
  },
  "cells": [
    {
      "cell_type": "markdown",
      "metadata": {
        "id": "7MfWJaSUrQmo"
      },
      "source": [
        "# Taller modelos lineales\n",
        "## Nancy Alejandra Vinazco Morales\n",
        "\n",
        "# Parte 1 - Regresión lineal\n",
        "\n",
        "Estimar una regresión con los datos de ingresos\n",
        "\n",
        "\n",
        "## Previsión de ingresos\n",
        "\n",
        "Vamos a trabajar con un conjunto de datos del censo de EE.UU. indome ([diccionario de datos](https://archive.ics.uci.edu/ml/datasets/Adult))\n",
        "\n",
        "A muchas empresas les gustaría personalizar su oferta en función de los ingresos del cliente. Los clientes con ingresos elevados podrían, por ejemplo, estar expuestos a productos premium. Como los ingresos de un cliente no siempre se conocen explícitamente, el modelo predictivo podría estimar los ingresos de una persona basándose en otra información.\n",
        "\n",
        "Nuestro objetivo es crear un modelo predictivo que sea capaz de dar una estimación de los ingresos de una persona.\n"
      ]
    },
    {
      "cell_type": "code",
      "metadata": {
        "colab": {
          "base_uri": "https://localhost:8080/",
          "height": 378
        },
        "id": "eK62OxWerQmx",
        "outputId": "0ae976a6-5038-421a-9db9-875dd08b2236"
      },
      "source": [
        "import pandas as pd\n",
        "import numpy as np\n",
        "from scipy import stats\n",
        "\n",
        "%matplotlib inline\n",
        "import matplotlib.pyplot as plt\n",
        "\n",
        "# read the data and set the datetime as the index\n",
        "income = pd.read_csv('https://github.com/albahnsen/PracticalMachineLearningClass/raw/master/datasets/income.csv.zip', index_col=0)\n",
        "\n",
        "income.head()"
      ],
      "execution_count": null,
      "outputs": [
        {
          "output_type": "execute_result",
          "data": {
            "text/html": [
              "<div>\n",
              "<style scoped>\n",
              "    .dataframe tbody tr th:only-of-type {\n",
              "        vertical-align: middle;\n",
              "    }\n",
              "\n",
              "    .dataframe tbody tr th {\n",
              "        vertical-align: top;\n",
              "    }\n",
              "\n",
              "    .dataframe thead th {\n",
              "        text-align: right;\n",
              "    }\n",
              "</style>\n",
              "<table border=\"1\" class=\"dataframe\">\n",
              "  <thead>\n",
              "    <tr style=\"text-align: right;\">\n",
              "      <th></th>\n",
              "      <th>Age</th>\n",
              "      <th>Workclass</th>\n",
              "      <th>fnlwgt</th>\n",
              "      <th>Education</th>\n",
              "      <th>Education-Num</th>\n",
              "      <th>Martial Status</th>\n",
              "      <th>Occupation</th>\n",
              "      <th>Relationship</th>\n",
              "      <th>Race</th>\n",
              "      <th>Sex</th>\n",
              "      <th>Capital Gain</th>\n",
              "      <th>Capital Loss</th>\n",
              "      <th>Hours per week</th>\n",
              "      <th>Country</th>\n",
              "      <th>Income</th>\n",
              "    </tr>\n",
              "  </thead>\n",
              "  <tbody>\n",
              "    <tr>\n",
              "      <th>0</th>\n",
              "      <td>39</td>\n",
              "      <td>State-gov</td>\n",
              "      <td>77516</td>\n",
              "      <td>Bachelors</td>\n",
              "      <td>13</td>\n",
              "      <td>Never-married</td>\n",
              "      <td>Adm-clerical</td>\n",
              "      <td>Not-in-family</td>\n",
              "      <td>White</td>\n",
              "      <td>Male</td>\n",
              "      <td>2174</td>\n",
              "      <td>0</td>\n",
              "      <td>40</td>\n",
              "      <td>United-States</td>\n",
              "      <td>51806.0</td>\n",
              "    </tr>\n",
              "    <tr>\n",
              "      <th>1</th>\n",
              "      <td>50</td>\n",
              "      <td>Self-emp-not-inc</td>\n",
              "      <td>83311</td>\n",
              "      <td>Bachelors</td>\n",
              "      <td>13</td>\n",
              "      <td>Married-civ-spouse</td>\n",
              "      <td>Exec-managerial</td>\n",
              "      <td>Husband</td>\n",
              "      <td>White</td>\n",
              "      <td>Male</td>\n",
              "      <td>0</td>\n",
              "      <td>0</td>\n",
              "      <td>13</td>\n",
              "      <td>United-States</td>\n",
              "      <td>68719.0</td>\n",
              "    </tr>\n",
              "    <tr>\n",
              "      <th>2</th>\n",
              "      <td>38</td>\n",
              "      <td>Private</td>\n",
              "      <td>215646</td>\n",
              "      <td>HS-grad</td>\n",
              "      <td>9</td>\n",
              "      <td>Divorced</td>\n",
              "      <td>Handlers-cleaners</td>\n",
              "      <td>Not-in-family</td>\n",
              "      <td>White</td>\n",
              "      <td>Male</td>\n",
              "      <td>0</td>\n",
              "      <td>0</td>\n",
              "      <td>40</td>\n",
              "      <td>United-States</td>\n",
              "      <td>51255.0</td>\n",
              "    </tr>\n",
              "    <tr>\n",
              "      <th>3</th>\n",
              "      <td>53</td>\n",
              "      <td>Private</td>\n",
              "      <td>234721</td>\n",
              "      <td>11th</td>\n",
              "      <td>7</td>\n",
              "      <td>Married-civ-spouse</td>\n",
              "      <td>Handlers-cleaners</td>\n",
              "      <td>Husband</td>\n",
              "      <td>Black</td>\n",
              "      <td>Male</td>\n",
              "      <td>0</td>\n",
              "      <td>0</td>\n",
              "      <td>40</td>\n",
              "      <td>United-States</td>\n",
              "      <td>47398.0</td>\n",
              "    </tr>\n",
              "    <tr>\n",
              "      <th>4</th>\n",
              "      <td>28</td>\n",
              "      <td>Private</td>\n",
              "      <td>338409</td>\n",
              "      <td>Bachelors</td>\n",
              "      <td>13</td>\n",
              "      <td>Married-civ-spouse</td>\n",
              "      <td>Prof-specialty</td>\n",
              "      <td>Wife</td>\n",
              "      <td>Black</td>\n",
              "      <td>Female</td>\n",
              "      <td>0</td>\n",
              "      <td>0</td>\n",
              "      <td>40</td>\n",
              "      <td>Cuba</td>\n",
              "      <td>30493.0</td>\n",
              "    </tr>\n",
              "  </tbody>\n",
              "</table>\n",
              "</div>"
            ],
            "text/plain": [
              "   Age         Workclass  fnlwgt  ... Hours per week        Country   Income\n",
              "0   39         State-gov   77516  ...             40  United-States  51806.0\n",
              "1   50  Self-emp-not-inc   83311  ...             13  United-States  68719.0\n",
              "2   38           Private  215646  ...             40  United-States  51255.0\n",
              "3   53           Private  234721  ...             40  United-States  47398.0\n",
              "4   28           Private  338409  ...             40           Cuba  30493.0\n",
              "\n",
              "[5 rows x 15 columns]"
            ]
          },
          "metadata": {},
          "execution_count": 9
        }
      ]
    },
    {
      "cell_type": "code",
      "metadata": {
        "colab": {
          "base_uri": "https://localhost:8080/"
        },
        "id": "ZvEW_YjhrQm2",
        "outputId": "64a5986f-7590-438d-e8e9-77028eed19f8"
      },
      "source": [
        "income.shape"
      ],
      "execution_count": null,
      "outputs": [
        {
          "output_type": "execute_result",
          "data": {
            "text/plain": [
              "(32561, 15)"
            ]
          },
          "metadata": {},
          "execution_count": 2
        }
      ]
    },
    {
      "cell_type": "markdown",
      "metadata": {
        "id": "oHu8-0bSrQm4"
      },
      "source": [
        "# Ejercicio 4.1 \n",
        "\n",
        "¿Cuál es la relación entre la edad y la renta?\n",
        "\n"
      ]
    },
    {
      "cell_type": "code",
      "metadata": {
        "id": "1jJabJiPrQm4",
        "colab": {
          "base_uri": "https://localhost:8080/",
          "height": 298
        },
        "outputId": "8131df50-8091-4b0c-d3a7-cdb205102cbc"
      },
      "source": [
        "income.plot(x='Age', y='Income', kind='scatter')"
      ],
      "execution_count": null,
      "outputs": [
        {
          "output_type": "execute_result",
          "data": {
            "text/plain": [
              "<matplotlib.axes._subplots.AxesSubplot at 0x7ff077618fd0>"
            ]
          },
          "metadata": {},
          "execution_count": 7
        },
        {
          "output_type": "display_data",
          "data": {
            "image/png": "[encoded data removed]",
            "text/plain": [
              "<Figure size 432x288 with 1 Axes>"
            ]
          },
          "metadata": {
            "needs_background": "light"
          }
        }
      ]
    },
    {
      "cell_type": "markdown",
      "metadata": {
        "id": "pklcUzPZq_Pp"
      },
      "source": [
        "A partir del grafico de dispersión anterior, en donde miramos la relación de la edad frente al Ingreso, se puede decir que no se aprecia alguna correlación entre las variables. "
      ]
    },
    {
      "cell_type": "markdown",
      "metadata": {
        "id": "RvRZM8ABzzid"
      },
      "source": [
        "**Normalización**"
      ]
    },
    {
      "cell_type": "code",
      "metadata": {
        "colab": {
          "base_uri": "https://localhost:8080/",
          "height": 296
        },
        "id": "P9Lip4Mgyar8",
        "outputId": "ccedcc84-f9d1-4642-9574-18755674d080"
      },
      "source": [
        "y = income[\"Income\"].values\n",
        "X = income[\"Age\"].values\n",
        "\n",
        "y_mean, y_std = y.mean(), y.std()\n",
        "X_mean, X_std = X.mean(), X.std()\n",
        "\n",
        "y = (y - y_mean)/y_std\n",
        "X = (X - X_mean)/X_std\n",
        "\n",
        "plt.scatter(X,y)\n",
        "plt.xlabel(\"Age\")\n",
        "plt.ylabel(\"Income\")"
      ],
      "execution_count": 165,
      "outputs": [
        {
          "output_type": "execute_result",
          "data": {
            "text/plain": [
              "Text(0, 0.5, 'Income')"
            ]
          },
          "metadata": {},
          "execution_count": 165
        },
        {
          "output_type": "display_data",
          "data": {
            "image/png": "[encoded data removed]",
            "text/plain": [
              "<Figure size 432x288 with 1 Axes>"
            ]
          },
          "metadata": {
            "needs_background": "light"
          }
        }
      ]
    },
    {
      "cell_type": "markdown",
      "metadata": {
        "id": "dHBpky16lKCt"
      },
      "source": [
        "# Ejercicio 4.2\n",
        "Para un aumento del uno por ciento en la edad, ¿cuánto aumenta la renta?\n",
        "Utilizando sklearn estime una regresión lineal y prediga los ingresos cuando la Edad es de 30 y 40 años."
      ]
    },
    {
      "cell_type": "markdown",
      "metadata": {
        "id": "XDJYW4Rgz79t"
      },
      "source": [
        "**Regresión Lineal**"
      ]
    },
    {
      "cell_type": "code",
      "metadata": {
        "colab": {
          "base_uri": "https://localhost:8080/"
        },
        "id": "7BcKNBL_15ef",
        "outputId": "db49786a-3d58-4c3a-f143-4dd258509cb4"
      },
      "source": [
        "# create X and y\n",
        "n_samples = X.shape[0]\n",
        "X_ = np.c_[np.ones(n_samples), X]\n",
        "print(X_)"
      ],
      "execution_count": 130,
      "outputs": [
        {
          "output_type": "stream",
          "name": "stdout",
          "text": [
            "[[ 1.          0.03067056]\n",
            " [ 1.          0.83710898]\n",
            " [ 1.         -0.04264203]\n",
            " ...\n",
            " [ 1.          1.42360965]\n",
            " [ 1.         -1.21564337]\n",
            " [ 1.          0.98373415]]\n"
          ]
        }
      ]
    },
    {
      "cell_type": "code",
      "metadata": {
        "id": "hXyy_ZdynWC0"
      },
      "source": [
        "# import\n",
        "from sklearn.linear_model import LinearRegression"
      ],
      "execution_count": 131,
      "outputs": []
    },
    {
      "cell_type": "code",
      "metadata": {
        "id": "caH1qBRznWC0"
      },
      "source": [
        "# Initialize\n",
        "linreg = LinearRegression(fit_intercept=False)"
      ],
      "execution_count": 132,
      "outputs": []
    },
    {
      "cell_type": "code",
      "metadata": {
        "colab": {
          "base_uri": "https://localhost:8080/"
        },
        "id": "8RIopRWLnWC0",
        "outputId": "fe77360e-a7d8-4f5b-f4fc-3a9ce0b58805"
      },
      "source": [
        "# Fit\n",
        "linreg.fit(X_, y)\n",
        "linreg.coef_"
      ],
      "execution_count": 133,
      "outputs": [
        {
          "output_type": "execute_result",
          "data": {
            "text/plain": [
              "array([8.39066006e-17, 2.90408298e-01])"
            ]
          },
          "metadata": {},
          "execution_count": 133
        }
      ]
    },
    {
      "cell_type": "markdown",
      "metadata": {
        "id": "EyMIp6B67Kz1"
      },
      "source": [
        "## $$ h_\\beta(x) = \\beta_0 + \\beta_1x_1 $$\n",
        "\n",
        "- $h_\\beta(x)$ - $Income$\n",
        "- $\\beta_0$ = 0\n",
        "- $\\beta_1$ = 0.2904083 para $Age$ (la primera variable)\n",
        "\n",
        "Para las variables estandarizadas, un aumento del 1 por ciento en la edad, el Ingreso aumenta en un **29,04** por ciento \n"
      ]
    },
    {
      "cell_type": "code",
      "metadata": {
        "id": "60j67aGmk0v1"
      },
      "source": [
        "from sklearn.linear_model import SGDRegressor\n",
        "from sklearn.linear_model import LinearRegression\n",
        "\n",
        "clf1 = LinearRegression()\n",
        "clf2 = LinearRegression()\n",
        "clf3 = LinearRegression()\n",
        "clf4 = LinearRegression()"
      ],
      "execution_count": 134,
      "outputs": []
    },
    {
      "cell_type": "markdown",
      "metadata": {
        "id": "v_ZabB-beWTn"
      },
      "source": [
        "# Predicciones\n",
        "\n",
        "Predección del INGRESO cuando la EDAD es de 30\n",
        "\n"
      ]
    },
    {
      "cell_type": "code",
      "metadata": {
        "id": "vZSCaWBBeWTo"
      },
      "source": [
        "x = np.array([30])\n"
      ],
      "execution_count": 135,
      "outputs": []
    },
    {
      "cell_type": "code",
      "metadata": {
        "colab": {
          "base_uri": "https://localhost:8080/"
        },
        "id": "q96HYqHReWTr",
        "outputId": "69fe98a7-d9d9-4351-e7c8-ab7af486890b"
      },
      "source": [
        "clf1.fit(income[['Age']], income['Income'])\n",
        "clf1.predict(x.reshape(1, -1))"
      ],
      "execution_count": 136,
      "outputs": [
        {
          "output_type": "execute_result",
          "data": {
            "text/plain": [
              "array([48803.11784304])"
            ]
          },
          "metadata": {},
          "execution_count": 136
        }
      ]
    },
    {
      "cell_type": "markdown",
      "metadata": {
        "id": "vJC5--3qeWTq"
      },
      "source": [
        "De acuerdo al modelo, cuando tenemos $Age$ = $30$  el ingreso va a ser de \\$ $48803.12$"
      ]
    },
    {
      "cell_type": "markdown",
      "metadata": {
        "id": "IxVV0D1ulYKA"
      },
      "source": [
        "Predección del INGRESO cuando la EDAD es de 40"
      ]
    },
    {
      "cell_type": "code",
      "metadata": {
        "id": "o7Tzf3AblYg6"
      },
      "source": [
        "x = np.array([40])\n"
      ],
      "execution_count": 163,
      "outputs": []
    },
    {
      "cell_type": "code",
      "metadata": {
        "colab": {
          "base_uri": "https://localhost:8080/"
        },
        "id": "_J4MoRB6lYg8",
        "outputId": "c3af143f-b3d0-4fc8-831d-005bd00370e5"
      },
      "source": [
        "clf2.fit(income[['Age']], income['Income'])\n",
        "clf2.predict(x.reshape(1, -1))"
      ],
      "execution_count": 164,
      "outputs": [
        {
          "output_type": "execute_result",
          "data": {
            "text/plain": [
              "array([54224.79441376])"
            ]
          },
          "metadata": {},
          "execution_count": 164
        }
      ]
    },
    {
      "cell_type": "markdown",
      "metadata": {
        "id": "ugL-CEjxlYg9"
      },
      "source": [
        "De acuerdo al modelo, cuando tenemos $Age$ = $40$  el ingreso va a ser de \\$ $54224.8$"
      ]
    },
    {
      "cell_type": "markdown",
      "metadata": {
        "id": "1lDYrtbArQm7"
      },
      "source": [
        "\n",
        "# Ejercicio 4.3\n",
        "\n",
        "Ejecute un modelo de regresión utilizando como características la Edad y la Edad$^2$ utilizando las ecuaciones OLS. Prediga de nuevo los ingresos cuando la Edad es de 30 y 40 años, y compare con el modelo anterior."
      ]
    },
    {
      "cell_type": "code",
      "metadata": {
        "collapsed": true,
        "id": "9oiQN-TArQm9",
        "colab": {
          "base_uri": "https://localhost:8080/",
          "height": 204
        },
        "outputId": "285d0a9e-e4d0-4a83-85ac-f9660272f383"
      },
      "source": [
        "income['Age2'] = income['Age'] ** 2\n",
        "income.head()"
      ],
      "execution_count": 139,
      "outputs": [
        {
          "output_type": "execute_result",
          "data": {
            "text/html": [
              "<div>\n",
              "<style scoped>\n",
              "    .dataframe tbody tr th:only-of-type {\n",
              "        vertical-align: middle;\n",
              "    }\n",
              "\n",
              "    .dataframe tbody tr th {\n",
              "        vertical-align: top;\n",
              "    }\n",
              "\n",
              "    .dataframe thead th {\n",
              "        text-align: right;\n",
              "    }\n",
              "</style>\n",
              "<table border=\"1\" class=\"dataframe\">\n",
              "  <thead>\n",
              "    <tr style=\"text-align: right;\">\n",
              "      <th></th>\n",
              "      <th>Age</th>\n",
              "      <th>Workclass</th>\n",
              "      <th>fnlwgt</th>\n",
              "      <th>Education</th>\n",
              "      <th>Education-Num</th>\n",
              "      <th>Martial Status</th>\n",
              "      <th>Occupation</th>\n",
              "      <th>Relationship</th>\n",
              "      <th>Race</th>\n",
              "      <th>Sex</th>\n",
              "      <th>Capital Gain</th>\n",
              "      <th>Capital Loss</th>\n",
              "      <th>Hours per week</th>\n",
              "      <th>Country</th>\n",
              "      <th>Income</th>\n",
              "      <th>Age2</th>\n",
              "    </tr>\n",
              "  </thead>\n",
              "  <tbody>\n",
              "    <tr>\n",
              "      <th>0</th>\n",
              "      <td>39</td>\n",
              "      <td>State-gov</td>\n",
              "      <td>77516</td>\n",
              "      <td>Bachelors</td>\n",
              "      <td>13</td>\n",
              "      <td>Never-married</td>\n",
              "      <td>Adm-clerical</td>\n",
              "      <td>Not-in-family</td>\n",
              "      <td>White</td>\n",
              "      <td>Male</td>\n",
              "      <td>2174</td>\n",
              "      <td>0</td>\n",
              "      <td>40</td>\n",
              "      <td>United-States</td>\n",
              "      <td>51806.0</td>\n",
              "      <td>1521</td>\n",
              "    </tr>\n",
              "    <tr>\n",
              "      <th>1</th>\n",
              "      <td>50</td>\n",
              "      <td>Self-emp-not-inc</td>\n",
              "      <td>83311</td>\n",
              "      <td>Bachelors</td>\n",
              "      <td>13</td>\n",
              "      <td>Married-civ-spouse</td>\n",
              "      <td>Exec-managerial</td>\n",
              "      <td>Husband</td>\n",
              "      <td>White</td>\n",
              "      <td>Male</td>\n",
              "      <td>0</td>\n",
              "      <td>0</td>\n",
              "      <td>13</td>\n",
              "      <td>United-States</td>\n",
              "      <td>68719.0</td>\n",
              "      <td>2500</td>\n",
              "    </tr>\n",
              "    <tr>\n",
              "      <th>2</th>\n",
              "      <td>38</td>\n",
              "      <td>Private</td>\n",
              "      <td>215646</td>\n",
              "      <td>HS-grad</td>\n",
              "      <td>9</td>\n",
              "      <td>Divorced</td>\n",
              "      <td>Handlers-cleaners</td>\n",
              "      <td>Not-in-family</td>\n",
              "      <td>White</td>\n",
              "      <td>Male</td>\n",
              "      <td>0</td>\n",
              "      <td>0</td>\n",
              "      <td>40</td>\n",
              "      <td>United-States</td>\n",
              "      <td>51255.0</td>\n",
              "      <td>1444</td>\n",
              "    </tr>\n",
              "    <tr>\n",
              "      <th>3</th>\n",
              "      <td>53</td>\n",
              "      <td>Private</td>\n",
              "      <td>234721</td>\n",
              "      <td>11th</td>\n",
              "      <td>7</td>\n",
              "      <td>Married-civ-spouse</td>\n",
              "      <td>Handlers-cleaners</td>\n",
              "      <td>Husband</td>\n",
              "      <td>Black</td>\n",
              "      <td>Male</td>\n",
              "      <td>0</td>\n",
              "      <td>0</td>\n",
              "      <td>40</td>\n",
              "      <td>United-States</td>\n",
              "      <td>47398.0</td>\n",
              "      <td>2809</td>\n",
              "    </tr>\n",
              "    <tr>\n",
              "      <th>4</th>\n",
              "      <td>28</td>\n",
              "      <td>Private</td>\n",
              "      <td>338409</td>\n",
              "      <td>Bachelors</td>\n",
              "      <td>13</td>\n",
              "      <td>Married-civ-spouse</td>\n",
              "      <td>Prof-specialty</td>\n",
              "      <td>Wife</td>\n",
              "      <td>Black</td>\n",
              "      <td>Female</td>\n",
              "      <td>0</td>\n",
              "      <td>0</td>\n",
              "      <td>40</td>\n",
              "      <td>Cuba</td>\n",
              "      <td>30493.0</td>\n",
              "      <td>784</td>\n",
              "    </tr>\n",
              "  </tbody>\n",
              "</table>\n",
              "</div>"
            ],
            "text/plain": [
              "   Age         Workclass  fnlwgt  ...        Country   Income  Age2\n",
              "0   39         State-gov   77516  ...  United-States  51806.0  1521\n",
              "1   50  Self-emp-not-inc   83311  ...  United-States  68719.0  2500\n",
              "2   38           Private  215646  ...  United-States  51255.0  1444\n",
              "3   53           Private  234721  ...  United-States  47398.0  2809\n",
              "4   28           Private  338409  ...           Cuba  30493.0   784\n",
              "\n",
              "[5 rows x 16 columns]"
            ]
          },
          "metadata": {},
          "execution_count": 139
        }
      ]
    },
    {
      "cell_type": "markdown",
      "metadata": {
        "id": "xx1eCmneC4Zo"
      },
      "source": [
        "### Hipótesis:\n",
        "\n",
        "* Previamente:\n",
        "\n",
        "### $$ h_\\beta(x) = \\beta_0 + \\beta_1 x_1 $$\n",
        "\n",
        "donde $x_1$ = Age\n",
        "\n",
        "* Ahora:\n",
        "\n",
        "### $$ h_\\beta(x) = \\beta_0 + \\beta_1 x_1 + \\beta_2 x_2$$\n",
        "donde $x_2$ = $Age^2$"
      ]
    },
    {
      "cell_type": "code",
      "metadata": {
        "colab": {
          "base_uri": "https://localhost:8080/"
        },
        "id": "YR4Sw6phnWC6",
        "outputId": "7f668f49-83f3-47a2-b071-1b7262939cfa"
      },
      "source": [
        "X = income[['Age', 'Age2']].values\n",
        "X[0:5]"
      ],
      "execution_count": 156,
      "outputs": [
        {
          "output_type": "execute_result",
          "data": {
            "text/plain": [
              "array([[  39, 1521],\n",
              "       [  50, 2500],\n",
              "       [  38, 1444],\n",
              "       [  53, 2809],\n",
              "       [  28,  784]])"
            ]
          },
          "metadata": {},
          "execution_count": 156
        }
      ]
    },
    {
      "cell_type": "code",
      "metadata": {
        "colab": {
          "base_uri": "https://localhost:8080/"
        },
        "id": "r4RTPMtXnWC6",
        "outputId": "cfcc9309-f8a8-4cc7-9881-8f136756d283"
      },
      "source": [
        "from sklearn.preprocessing import StandardScaler\n",
        "ss = StandardScaler(with_mean=True, with_std=True)\n",
        "ss.fit(X.astype(np.float))\n",
        "X = ss.transform(X.astype(np.float))\n",
        "ss.mean_, ss.scale_"
      ],
      "execution_count": 160,
      "outputs": [
        {
          "output_type": "execute_result",
          "data": {
            "text/plain": [
              "(array([  38.58164676, 1674.59915236]), array([  13.64022309, 1179.02941609]))"
            ]
          },
          "metadata": {},
          "execution_count": 160
        }
      ]
    },
    {
      "cell_type": "code",
      "metadata": {
        "colab": {
          "base_uri": "https://localhost:8080/"
        },
        "id": "1s5H8_WjnWC6",
        "outputId": "252c31a4-78f5-4642-c9e7-42dcb993ceaf"
      },
      "source": [
        "X[0:5]"
      ],
      "execution_count": 161,
      "outputs": [
        {
          "output_type": "execute_result",
          "data": {
            "text/plain": [
              "array([[ 0.03067056, -0.13027593],\n",
              "       [ 0.83710898,  0.70006807],\n",
              "       [-0.04264203, -0.19558388],\n",
              "       [ 1.05704673,  0.96214804],\n",
              "       [-0.77576787, -0.75536635]])"
            ]
          },
          "metadata": {},
          "execution_count": 161
        }
      ]
    },
    {
      "cell_type": "code",
      "metadata": {
        "colab": {
          "base_uri": "https://localhost:8080/"
        },
        "id": "IEay5GKPnWC7",
        "outputId": "377426e4-a37b-4177-f0e1-fba3f84c45a8"
      },
      "source": [
        "X_ = np.c_[np.ones(n_samples), X]\n",
        "X_[0:5]"
      ],
      "execution_count": 162,
      "outputs": [
        {
          "output_type": "execute_result",
          "data": {
            "text/plain": [
              "array([[ 1.        ,  0.03067056, -0.13027593],\n",
              "       [ 1.        ,  0.83710898,  0.70006807],\n",
              "       [ 1.        , -0.04264203, -0.19558388],\n",
              "       [ 1.        ,  1.05704673,  0.96214804],\n",
              "       [ 1.        , -0.77576787, -0.75536635]])"
            ]
          },
          "metadata": {},
          "execution_count": 162
        }
      ]
    },
    {
      "cell_type": "markdown",
      "metadata": {
        "id": "pg75CbyhEwHR"
      },
      "source": [
        "Ecuaciones OLS "
      ]
    },
    {
      "cell_type": "code",
      "metadata": {
        "colab": {
          "base_uri": "https://localhost:8080/"
        },
        "id": "9bM_tylenpdK",
        "outputId": "200d956f-53ea-4479-b112-42f8293ced19"
      },
      "source": [
        "betas_ols = np.dot(np.linalg.inv(np.dot(X_.T, X_)),np.dot(X_.T, y))\n",
        "betas_ols"
      ],
      "execution_count": 166,
      "outputs": [
        {
          "output_type": "execute_result",
          "data": {
            "text/plain": [
              "array([ 4.00789036e-17,  1.67751068e+00, -1.41415206e+00])"
            ]
          },
          "metadata": {},
          "execution_count": 166
        }
      ]
    },
    {
      "cell_type": "markdown",
      "metadata": {
        "id": "6TkpK-OjnWC_"
      },
      "source": [
        "# Predicciones\n",
        "\n",
        "Predección del INGRESO cuando la EDAD es de 30\n",
        "\n"
      ]
    },
    {
      "cell_type": "code",
      "metadata": {
        "colab": {
          "base_uri": "https://localhost:8080/"
        },
        "id": "RVi6NwLlnWC_",
        "outputId": "abfe50ca-d776-4363-de41-645ae8f2d69f"
      },
      "source": [
        "x = np.array([30., 30.**2])\n",
        "\n",
        "# scale\n",
        "x_scaled = ss.transform(x.reshape(1, -1))\n",
        "x_ = np.c_[1, x_scaled]\n",
        "x_"
      ],
      "execution_count": 167,
      "outputs": [
        {
          "output_type": "execute_result",
          "data": {
            "text/plain": [
              "array([[ 1.        , -0.6291427 , -0.65698034]])"
            ]
          },
          "metadata": {},
          "execution_count": 167
        }
      ]
    },
    {
      "cell_type": "code",
      "metadata": {
        "colab": {
          "base_uri": "https://localhost:8080/"
        },
        "id": "z-WsChMwnWC_",
        "outputId": "cc788f67-ad4a-4c73-a80f-ba7d84f0c3f2"
      },
      "source": [
        "y_pred = lr_h(betas_ols, x_)\n",
        "y_pred"
      ],
      "execution_count": 168,
      "outputs": [
        {
          "output_type": "execute_result",
          "data": {
            "text/plain": [
              "array([-0.12632349])"
            ]
          },
          "metadata": {},
          "execution_count": 168
        }
      ]
    },
    {
      "cell_type": "code",
      "metadata": {
        "colab": {
          "base_uri": "https://localhost:8080/"
        },
        "id": "qqooOHMPnWC_",
        "outputId": "8770a83f-f83f-4346-e810-686d03e637d1"
      },
      "source": [
        "y_pred = y_pred * y_std + y_mean\n",
        "y_pred"
      ],
      "execution_count": 169,
      "outputs": [
        {
          "output_type": "execute_result",
          "data": {
            "text/plain": [
              "array([50238.96390027])"
            ]
          },
          "metadata": {},
          "execution_count": 169
        }
      ]
    },
    {
      "cell_type": "markdown",
      "metadata": {
        "id": "mDw6LslpcTBw"
      },
      "source": [
        "De acuerdo al modelo, cuando tenemos $Age$ = $30$ y $Age2$ = $30^2$ el ingreso va a ser de \\$ $50238.96390027$"
      ]
    },
    {
      "cell_type": "markdown",
      "metadata": {
        "id": "qK-5a9X8bQMR"
      },
      "source": [
        "Usando Sklearn"
      ]
    },
    {
      "cell_type": "code",
      "metadata": {
        "colab": {
          "base_uri": "https://localhost:8080/"
        },
        "id": "UiuvUxw3nWDA",
        "outputId": "da2540ab-3640-4c16-d6f0-1deb4c258586"
      },
      "source": [
        "clf1.fit(income[['Age', 'Age2']], income['Income'])\n",
        "clf1.predict(x.reshape(1, -1))"
      ],
      "execution_count": 170,
      "outputs": [
        {
          "output_type": "execute_result",
          "data": {
            "text/plain": [
              "array([50238.96390027])"
            ]
          },
          "metadata": {},
          "execution_count": 170
        }
      ]
    },
    {
      "cell_type": "markdown",
      "metadata": {
        "id": "3kAQMS8da1UY"
      },
      "source": [
        "Predección del INGRESO cuando la EDAD es de 40"
      ]
    },
    {
      "cell_type": "code",
      "metadata": {
        "colab": {
          "base_uri": "https://localhost:8080/"
        },
        "id": "R9974tTMa1-9",
        "outputId": "ec1deb13-00e6-404a-8586-256e8423dc72"
      },
      "source": [
        "x = np.array([40., 40.**2])\n",
        "\n",
        "# scale\n",
        "x_scaled = ss.transform(x.reshape(1, -1))\n",
        "x_ = np.c_[1, x_scaled]\n",
        "x_"
      ],
      "execution_count": 171,
      "outputs": [
        {
          "output_type": "execute_result",
          "data": {
            "text/plain": [
              "array([[ 1.        ,  0.10398314, -0.06327166]])"
            ]
          },
          "metadata": {},
          "execution_count": 171
        }
      ]
    },
    {
      "cell_type": "code",
      "metadata": {
        "colab": {
          "base_uri": "https://localhost:8080/"
        },
        "id": "ZMBRvWx5a1-_",
        "outputId": "78fe565a-bcc9-40f4-f049-4d4301bc163c"
      },
      "source": [
        "y_pred = lr_h(betas_ols, x_)\n",
        "y_pred"
      ],
      "execution_count": 172,
      "outputs": [
        {
          "output_type": "execute_result",
          "data": {
            "text/plain": [
              "array([0.26390858])"
            ]
          },
          "metadata": {},
          "execution_count": 172
        }
      ]
    },
    {
      "cell_type": "code",
      "metadata": {
        "colab": {
          "base_uri": "https://localhost:8080/"
        },
        "id": "cZnTJ3ppa1_A",
        "outputId": "ec8dd67a-582f-41de-c1b8-dfb117ec62bc"
      },
      "source": [
        "y_pred = y_pred * y_std + y_mean\n",
        "y_pred"
      ],
      "execution_count": 173,
      "outputs": [
        {
          "output_type": "execute_result",
          "data": {
            "text/plain": [
              "array([60176.27802692])"
            ]
          },
          "metadata": {},
          "execution_count": 173
        }
      ]
    },
    {
      "cell_type": "markdown",
      "metadata": {
        "id": "X_bFz9i-dBdz"
      },
      "source": [
        "De acuerdo al modelo, cuando tenemos $Age$ = $40$ y $Age2$ = $40^2$  el ingreso va a ser de \\$  $60176.27802692$"
      ]
    },
    {
      "cell_type": "markdown",
      "metadata": {
        "id": "3xsI4zhBbjl7"
      },
      "source": [
        "Usando Sklearn"
      ]
    },
    {
      "cell_type": "code",
      "metadata": {
        "colab": {
          "base_uri": "https://localhost:8080/"
        },
        "id": "38-xmjo8cCe3",
        "outputId": "55e18aa1-30c1-4bc4-c625-edf1a4594284"
      },
      "source": [
        "clf2.fit(income[['Age', 'Age2']], income['Income'])\n",
        "clf2.predict(x.reshape(1, -1))"
      ],
      "execution_count": 174,
      "outputs": [
        {
          "output_type": "execute_result",
          "data": {
            "text/plain": [
              "array([60176.27802692])"
            ]
          },
          "metadata": {},
          "execution_count": 174
        }
      ]
    },
    {
      "cell_type": "markdown",
      "metadata": {
        "id": "tqH5f5bbrQm-"
      },
      "source": [
        "# Ejercicio 4.4\n",
        "Estime una regresión utilizando más características, diga cuáles y por qué las usó. Prediga de nuevo los ingresos cuando la Edad es de 30 y 40 años, y compare con el modelo anterior.\n"
      ]
    },
    {
      "cell_type": "markdown",
      "metadata": {
        "id": "jRdfdhWW43c0"
      },
      "source": [
        "Para predecir la variable **Income** tendre en cuenta las variables **Hours per week** y **Capital Gain**, pues más adelante se vera que tanto se afecta la variable **Income**  si se incrementa en una unidad o un 1% estas dos variables dejando los años 30 y 40.  "
      ]
    },
    {
      "cell_type": "code",
      "metadata": {
        "collapsed": true,
        "id": "lHhA4XnprQm_",
        "colab": {
          "base_uri": "https://localhost:8080/"
        },
        "outputId": "9db87b67-fb87-4bf2-bc09-059c9439ac7f"
      },
      "source": [
        "X = income[['Age', 'Hours per week', 'Capital Gain']].values\n",
        "X[0:5]"
      ],
      "execution_count": 176,
      "outputs": [
        {
          "output_type": "execute_result",
          "data": {
            "text/plain": [
              "array([[  39,   40, 2174],\n",
              "       [  50,   13,    0],\n",
              "       [  38,   40,    0],\n",
              "       [  53,   40,    0],\n",
              "       [  28,   40,    0]])"
            ]
          },
          "metadata": {},
          "execution_count": 176
        }
      ]
    },
    {
      "cell_type": "code",
      "metadata": {
        "colab": {
          "base_uri": "https://localhost:8080/"
        },
        "id": "ymODjqXbvVe2",
        "outputId": "5769db14-6fb9-40eb-d15b-c037f29825dc"
      },
      "source": [
        "from sklearn.preprocessing import StandardScaler\n",
        "ss = StandardScaler(with_mean=True, with_std=True)\n",
        "ss.fit(X.astype(np.float))\n",
        "X = ss.transform(X.astype(np.float))\n",
        "ss.mean_, ss.scale_"
      ],
      "execution_count": 177,
      "outputs": [
        {
          "output_type": "execute_result",
          "data": {
            "text/plain": [
              "(array([  38.58164676,   40.43745585, 1077.64884371]),\n",
              " array([  13.64022309,   12.34723908, 7385.17867695]))"
            ]
          },
          "metadata": {},
          "execution_count": 177
        }
      ]
    },
    {
      "cell_type": "code",
      "metadata": {
        "colab": {
          "base_uri": "https://localhost:8080/"
        },
        "id": "RWgGWI3IvVe4",
        "outputId": "d2fc291c-ddc2-4239-a405-1ee0daaf5df4"
      },
      "source": [
        "X[0:5]"
      ],
      "execution_count": 178,
      "outputs": [
        {
          "output_type": "execute_result",
          "data": {
            "text/plain": [
              "array([[ 0.03067056, -0.03542945,  0.1484529 ],\n",
              "       [ 0.83710898, -2.22215312, -0.14592048],\n",
              "       [-0.04264203, -0.03542945, -0.14592048],\n",
              "       [ 1.05704673, -0.03542945, -0.14592048],\n",
              "       [-0.77576787, -0.03542945, -0.14592048]])"
            ]
          },
          "metadata": {},
          "execution_count": 178
        }
      ]
    },
    {
      "cell_type": "code",
      "metadata": {
        "colab": {
          "base_uri": "https://localhost:8080/"
        },
        "id": "DDBkf0vxvVe5",
        "outputId": "ff6f8b81-4384-4f83-c565-73115c289710"
      },
      "source": [
        "X_ = np.c_[np.ones(n_samples), X]\n",
        "X_[0:5]"
      ],
      "execution_count": 179,
      "outputs": [
        {
          "output_type": "execute_result",
          "data": {
            "text/plain": [
              "array([[ 1.        ,  0.03067056, -0.03542945,  0.1484529 ],\n",
              "       [ 1.        ,  0.83710898, -2.22215312, -0.14592048],\n",
              "       [ 1.        , -0.04264203, -0.03542945, -0.14592048],\n",
              "       [ 1.        ,  1.05704673, -0.03542945, -0.14592048],\n",
              "       [ 1.        , -0.77576787, -0.03542945, -0.14592048]])"
            ]
          },
          "metadata": {},
          "execution_count": 179
        }
      ]
    },
    {
      "cell_type": "code",
      "metadata": {
        "colab": {
          "base_uri": "https://localhost:8080/"
        },
        "id": "_GM9AZrEnWC9",
        "outputId": "f04ca828-796b-415f-e03c-74e13babc3c0"
      },
      "source": [
        "betas_ols = np.dot(np.linalg.inv(np.dot(X_.T, X_)),np.dot(X_.T, y))\n",
        "betas_ols"
      ],
      "execution_count": 180,
      "outputs": [
        {
          "output_type": "execute_result",
          "data": {
            "text/plain": [
              "array([1.45524772e-16, 2.59484826e-01, 2.52411413e-01, 1.74687282e-01])"
            ]
          },
          "metadata": {},
          "execution_count": 180
        }
      ]
    },
    {
      "cell_type": "markdown",
      "metadata": {
        "id": "vLZPOA7dvkaI"
      },
      "source": [
        "El modelo es el siguiente:\n",
        "## $$h_\\beta(x) = \\beta_0 + \\beta_1x_1 + \\beta_2x_2 + \\beta_3x_3$$\n",
        "\n",
        "- $h_\\beta(x)$ - **Income**\n",
        "- $\\beta_0$ $\\thickapprox$ 0 \n",
        "- $\\beta_1$ = $0.2594$ para $x_1$ ($Age$ estandarizada)\n",
        "- $\\beta_2$ = $0.2524$ para $x_2$ ($Hours \\hspace{3mm} per \\hspace{3mm}week$  estandarizada)\n",
        "- $\\beta_3$ = $0.17468$ para $x_3$ ($Capital \\hspace{3mm} Gain$  estandarizada)\n",
        "\n",
        "Podemos ver que las tres variables aportan al incremento positivo de la variable respuesta $ Income$, si se incrementan en una unidad $Income$ también aumenta.  "
      ]
    },
    {
      "cell_type": "markdown",
      "metadata": {
        "id": "bsc7o6ySvjwL"
      },
      "source": [
        "Prediccion del ingreso cuando **Age** es $30$, **Hours per week** son $40$ y **Capital Gain** es $2000$\n"
      ]
    },
    {
      "cell_type": "code",
      "metadata": {
        "colab": {
          "base_uri": "https://localhost:8080/"
        },
        "id": "GohgNNC2viy4",
        "outputId": "3f98e311-978b-4eff-ecda-f31403e2eb1c"
      },
      "source": [
        "x = np.array([30., 40.,2000.])\n",
        "\n",
        "# scale\n",
        "x_scaled = ss.transform(x.reshape(1, -1))\n",
        "x_ = np.c_[1, x_scaled]\n",
        "x_\n"
      ],
      "execution_count": 185,
      "outputs": [
        {
          "output_type": "execute_result",
          "data": {
            "text/plain": [
              "array([[ 1.        , -0.6291427 , -0.03542945,  0.12489219]])"
            ]
          },
          "metadata": {},
          "execution_count": 185
        }
      ]
    },
    {
      "cell_type": "code",
      "metadata": {
        "colab": {
          "base_uri": "https://localhost:8080/"
        },
        "id": "-OdXbCn01yge",
        "outputId": "f3083fab-dcb3-4b0e-9ccb-d5f904732071"
      },
      "source": [
        "y_pred = lr_h(betas_ols, x_)\n",
        "y_pred\n"
      ],
      "execution_count": 186,
      "outputs": [
        {
          "output_type": "execute_result",
          "data": {
            "text/plain": [
              "array([-0.1503787])"
            ]
          },
          "metadata": {},
          "execution_count": 186
        }
      ]
    },
    {
      "cell_type": "code",
      "metadata": {
        "colab": {
          "base_uri": "https://localhost:8080/"
        },
        "id": "04zYjqBI10jy",
        "outputId": "0b154dc6-8da2-4638-fa4b-0e79072ca507"
      },
      "source": [
        "y_pred = y_pred * y_std + y_mean\n",
        "y_pred"
      ],
      "execution_count": 187,
      "outputs": [
        {
          "output_type": "execute_result",
          "data": {
            "text/plain": [
              "array([49626.39453341])"
            ]
          },
          "metadata": {},
          "execution_count": 187
        }
      ]
    },
    {
      "cell_type": "markdown",
      "metadata": {
        "id": "DGBZs6cj3G9C"
      },
      "source": [
        "Prediccion del ingreso cuando **Age** es $40$, **Hours \n",
        "per week** son $40$ y **Capital Gain** es $2000$\n"
      ]
    },
    {
      "cell_type": "code",
      "metadata": {
        "colab": {
          "base_uri": "https://localhost:8080/"
        },
        "id": "vZaNgSAU3G9D",
        "outputId": "7d3cc287-59b6-4ab1-8560-bd8dd6776c03"
      },
      "source": [
        "x = np.array([40., 40.,2000.])\n",
        "\n",
        "# scale\n",
        "x_scaled = ss.transform(x.reshape(1, -1))\n",
        "x_ = np.c_[1, x_scaled]\n",
        "x_\n"
      ],
      "execution_count": 188,
      "outputs": [
        {
          "output_type": "execute_result",
          "data": {
            "text/plain": [
              "array([[ 1.        ,  0.10398314, -0.03542945,  0.12489219]])"
            ]
          },
          "metadata": {},
          "execution_count": 188
        }
      ]
    },
    {
      "cell_type": "code",
      "metadata": {
        "colab": {
          "base_uri": "https://localhost:8080/"
        },
        "id": "Qbn_JbUU3G9F",
        "outputId": "6d46329b-002c-4c9b-a837-a90cb8847e84"
      },
      "source": [
        "y_pred = lr_h(betas_ols, x_)\n",
        "y_pred\n"
      ],
      "execution_count": 189,
      "outputs": [
        {
          "output_type": "execute_result",
          "data": {
            "text/plain": [
              "array([0.03985633])"
            ]
          },
          "metadata": {},
          "execution_count": 189
        }
      ]
    },
    {
      "cell_type": "code",
      "metadata": {
        "colab": {
          "base_uri": "https://localhost:8080/"
        },
        "id": "4--twNAz3G9G",
        "outputId": "b2445b43-eade-4b30-f03d-9aaad1c7fb0a"
      },
      "source": [
        "y_pred = y_pred * y_std + y_mean\n",
        "y_pred"
      ],
      "execution_count": 190,
      "outputs": [
        {
          "output_type": "execute_result",
          "data": {
            "text/plain": [
              "array([54470.75611018])"
            ]
          },
          "metadata": {},
          "execution_count": 190
        }
      ]
    },
    {
      "cell_type": "markdown",
      "metadata": {
        "id": "xR--5ROg8c9e"
      },
      "source": [
        "## Comparación de las predicciones segun las variables independientes tenidas en cuenta  \n",
        "\n",
        "| Modelo (variable/s)           | Age = 30 | Age = 40|\n",
        "|--------------------------------|----------|---------|\n",
        "| Age                       | 48803.13 | 54224.8 |\n",
        "| Age y Age2 |50238.9 |60176.3|\n",
        "| Age, Hours = 40 & Capital = 2000|49626.4|54470.7|"
      ]
    },
    {
      "cell_type": "markdown",
      "metadata": {
        "id": "bcbNIG-P9w9J"
      },
      "source": [
        "- Se puede apreciar que teniendo en cuenta las variables **Age**, **Hours per week** y **Capital Gain** se predice un valor mayor de **Income** a que si solo se tuviera en cuenta la variable **Age**"
      ]
    },
    {
      "cell_type": "markdown",
      "metadata": {
        "id": "6ZotgUpZrQm_"
      },
      "source": [
        "#Parte 2: Regresión Logística\n",
        "\n",
        "### Customer Churn: \n",
        "La pérdida/abandono de los clientes de la empresa. Especialmente, las industrias que la adquisición de usuarios es costosa, es de crucial importancia para una empresa para reducir e idealmente hacer que la rotación de clientes a 0 para mantener sus ingresos recurrentes. Si se considera que la retención de clientes es siempre más barata que la adquisición de clientes y generalmente depende de los datos del usuario (uso del servicio o producto), plantea un gran/excitante/difícil problema para el aprendizaje automático.\n",
        "\n",
        "### Datos\n",
        "El conjunto de datos procede de un proveedor de servicios de telecomunicaciones en el que se recoge el uso del servicio (plan internacional, plan de buzón de voz, uso diurno, uso nocturno, etc.) y la información demográfica básica (estado y código de área) del usuario. En el caso de las etiquetas, tengo un único punto de datos que indica si el cliente ha sido dado de baja o no.\n"
      ]
    },
    {
      "cell_type": "code",
      "metadata": {
        "id": "TgPh9vh-rQnA"
      },
      "source": [
        "# Download the dataset\n",
        "data = pd.read_csv('https://github.com/ghuiber/churn/raw/master/data/churn.csv')"
      ],
      "execution_count": null,
      "outputs": []
    },
    {
      "cell_type": "code",
      "metadata": {
        "id": "_upTQFR_rQnA",
        "colab": {
          "base_uri": "https://localhost:8080/",
          "height": 243
        },
        "outputId": "4d1c4581-9be0-4462-a87b-62157aa0f0eb"
      },
      "source": [
        "data.head()"
      ],
      "execution_count": null,
      "outputs": [
        {
          "output_type": "execute_result",
          "data": {
            "text/html": [
              "<div>\n",
              "<style scoped>\n",
              "    .dataframe tbody tr th:only-of-type {\n",
              "        vertical-align: middle;\n",
              "    }\n",
              "\n",
              "    .dataframe tbody tr th {\n",
              "        vertical-align: top;\n",
              "    }\n",
              "\n",
              "    .dataframe thead th {\n",
              "        text-align: right;\n",
              "    }\n",
              "</style>\n",
              "<table border=\"1\" class=\"dataframe\">\n",
              "  <thead>\n",
              "    <tr style=\"text-align: right;\">\n",
              "      <th></th>\n",
              "      <th>State</th>\n",
              "      <th>Account Length</th>\n",
              "      <th>Area Code</th>\n",
              "      <th>Phone</th>\n",
              "      <th>Int'l Plan</th>\n",
              "      <th>VMail Plan</th>\n",
              "      <th>VMail Message</th>\n",
              "      <th>Day Mins</th>\n",
              "      <th>Day Calls</th>\n",
              "      <th>Day Charge</th>\n",
              "      <th>Eve Mins</th>\n",
              "      <th>Eve Calls</th>\n",
              "      <th>Eve Charge</th>\n",
              "      <th>Night Mins</th>\n",
              "      <th>Night Calls</th>\n",
              "      <th>Night Charge</th>\n",
              "      <th>Intl Mins</th>\n",
              "      <th>Intl Calls</th>\n",
              "      <th>Intl Charge</th>\n",
              "      <th>CustServ Calls</th>\n",
              "      <th>Churn?</th>\n",
              "    </tr>\n",
              "  </thead>\n",
              "  <tbody>\n",
              "    <tr>\n",
              "      <th>0</th>\n",
              "      <td>KS</td>\n",
              "      <td>128</td>\n",
              "      <td>415</td>\n",
              "      <td>382-4657</td>\n",
              "      <td>no</td>\n",
              "      <td>yes</td>\n",
              "      <td>25</td>\n",
              "      <td>265.1</td>\n",
              "      <td>110</td>\n",
              "      <td>45.07</td>\n",
              "      <td>197.4</td>\n",
              "      <td>99</td>\n",
              "      <td>16.78</td>\n",
              "      <td>244.7</td>\n",
              "      <td>91</td>\n",
              "      <td>11.01</td>\n",
              "      <td>10.0</td>\n",
              "      <td>3</td>\n",
              "      <td>2.70</td>\n",
              "      <td>1</td>\n",
              "      <td>False.</td>\n",
              "    </tr>\n",
              "    <tr>\n",
              "      <th>1</th>\n",
              "      <td>OH</td>\n",
              "      <td>107</td>\n",
              "      <td>415</td>\n",
              "      <td>371-7191</td>\n",
              "      <td>no</td>\n",
              "      <td>yes</td>\n",
              "      <td>26</td>\n",
              "      <td>161.6</td>\n",
              "      <td>123</td>\n",
              "      <td>27.47</td>\n",
              "      <td>195.5</td>\n",
              "      <td>103</td>\n",
              "      <td>16.62</td>\n",
              "      <td>254.4</td>\n",
              "      <td>103</td>\n",
              "      <td>11.45</td>\n",
              "      <td>13.7</td>\n",
              "      <td>3</td>\n",
              "      <td>3.70</td>\n",
              "      <td>1</td>\n",
              "      <td>False.</td>\n",
              "    </tr>\n",
              "    <tr>\n",
              "      <th>2</th>\n",
              "      <td>NJ</td>\n",
              "      <td>137</td>\n",
              "      <td>415</td>\n",
              "      <td>358-1921</td>\n",
              "      <td>no</td>\n",
              "      <td>no</td>\n",
              "      <td>0</td>\n",
              "      <td>243.4</td>\n",
              "      <td>114</td>\n",
              "      <td>41.38</td>\n",
              "      <td>121.2</td>\n",
              "      <td>110</td>\n",
              "      <td>10.30</td>\n",
              "      <td>162.6</td>\n",
              "      <td>104</td>\n",
              "      <td>7.32</td>\n",
              "      <td>12.2</td>\n",
              "      <td>5</td>\n",
              "      <td>3.29</td>\n",
              "      <td>0</td>\n",
              "      <td>False.</td>\n",
              "    </tr>\n",
              "    <tr>\n",
              "      <th>3</th>\n",
              "      <td>OH</td>\n",
              "      <td>84</td>\n",
              "      <td>408</td>\n",
              "      <td>375-9999</td>\n",
              "      <td>yes</td>\n",
              "      <td>no</td>\n",
              "      <td>0</td>\n",
              "      <td>299.4</td>\n",
              "      <td>71</td>\n",
              "      <td>50.90</td>\n",
              "      <td>61.9</td>\n",
              "      <td>88</td>\n",
              "      <td>5.26</td>\n",
              "      <td>196.9</td>\n",
              "      <td>89</td>\n",
              "      <td>8.86</td>\n",
              "      <td>6.6</td>\n",
              "      <td>7</td>\n",
              "      <td>1.78</td>\n",
              "      <td>2</td>\n",
              "      <td>False.</td>\n",
              "    </tr>\n",
              "    <tr>\n",
              "      <th>4</th>\n",
              "      <td>OK</td>\n",
              "      <td>75</td>\n",
              "      <td>415</td>\n",
              "      <td>330-6626</td>\n",
              "      <td>yes</td>\n",
              "      <td>no</td>\n",
              "      <td>0</td>\n",
              "      <td>166.7</td>\n",
              "      <td>113</td>\n",
              "      <td>28.34</td>\n",
              "      <td>148.3</td>\n",
              "      <td>122</td>\n",
              "      <td>12.61</td>\n",
              "      <td>186.9</td>\n",
              "      <td>121</td>\n",
              "      <td>8.41</td>\n",
              "      <td>10.1</td>\n",
              "      <td>3</td>\n",
              "      <td>2.73</td>\n",
              "      <td>3</td>\n",
              "      <td>False.</td>\n",
              "    </tr>\n",
              "  </tbody>\n",
              "</table>\n",
              "</div>"
            ],
            "text/plain": [
              "  State  Account Length  Area Code  ... Intl Charge CustServ Calls  Churn?\n",
              "0    KS             128        415  ...        2.70              1  False.\n",
              "1    OH             107        415  ...        3.70              1  False.\n",
              "2    NJ             137        415  ...        3.29              0  False.\n",
              "3    OH              84        408  ...        1.78              2  False.\n",
              "4    OK              75        415  ...        2.73              3  False.\n",
              "\n",
              "[5 rows x 21 columns]"
            ]
          },
          "metadata": {},
          "execution_count": 7
        }
      ]
    },
    {
      "cell_type": "markdown",
      "metadata": {
        "id": "ka0sMeFdrQnB"
      },
      "source": [
        "# Ejercicio 4.5\n",
        "\n",
        "¿Cuál es la distribución de los churners? Haga la transformación correspondiente para predecir Churn.\n",
        "\n"
      ]
    },
    {
      "cell_type": "code",
      "metadata": {
        "id": "lQ5q2JiBrQnC"
      },
      "source": [
        ""
      ],
      "execution_count": null,
      "outputs": []
    },
    {
      "cell_type": "markdown",
      "metadata": {
        "id": "gnKKbfKZrQnD"
      },
      "source": [
        "# Ejercicio 4.6\n",
        "Entrene una Regresión Logística creando Y y X con la información en IntlCharge.\n"
      ]
    },
    {
      "cell_type": "code",
      "metadata": {
        "id": "A82nFRUSrQnE"
      },
      "source": [
        ""
      ],
      "execution_count": null,
      "outputs": []
    },
    {
      "cell_type": "markdown",
      "metadata": {
        "id": "ErUjHQE5rQnE"
      },
      "source": [
        "# Ejercicio 4.7\n",
        "\n",
        "¿Cuáles son los coeficientes de la regresión logística? Interpretelos para un valor de IntlCharge = 1.\n",
        "\n",
        "\n"
      ]
    },
    {
      "cell_type": "code",
      "metadata": {
        "id": "wEJX2nF4rQnE"
      },
      "source": [
        ""
      ],
      "execution_count": null,
      "outputs": []
    },
    {
      "cell_type": "markdown",
      "metadata": {
        "id": "Lfvf_pqSkbzI"
      },
      "source": [
        "# Ejercicio 4.8\n",
        "\n",
        "Seleccione 3 variables independientes para entrenar una regresión logística. Interprete cada uno de los valores de los coeficientes en función de la variable churn.\n"
      ]
    },
    {
      "cell_type": "code",
      "metadata": {
        "id": "QUslBeW1lABj"
      },
      "source": [
        ""
      ],
      "execution_count": null,
      "outputs": []
    }
  ]
}