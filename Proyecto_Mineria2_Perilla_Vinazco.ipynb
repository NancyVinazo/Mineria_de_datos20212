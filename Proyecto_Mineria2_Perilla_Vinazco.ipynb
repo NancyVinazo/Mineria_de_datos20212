{
  "nbformat": 4,
  "nbformat_minor": 0,
  "metadata": {
    "colab": {
      "name": "Copia_de_Proyecto_Mineria2 (2).ipynb",
      "provenance": [],
      "collapsed_sections": [
        "RRD6vM335MKz",
        "lVd0Xq0RJ25y",
        "0eejtrSIRGZb",
        "I8kkjKtE_RRz",
        "wGSDUzvPMw-i",
        "7wCFaEo5T1s8",
        "qZBaZQtcCd_W",
        "CtSLkm8BEtLf",
        "9Jwm3kSkFV_3",
        "EqlCp5mCG0s9",
        "DY8whh14H96A",
        "i0vmvLkXKQGi",
        "xlKPBPj0MOmZ",
        "zXtSbI73OeIq",
        "Lkh066D3PcTS",
        "RE3UHlTuQkyL",
        "S31zoZznRUBj",
        "yvmjcf0nS8fL",
        "zfrlJgWuVNv8",
        "LBZT2NOGXHlg"
      ]
    },
    "kernelspec": {
      "name": "python3",
      "display_name": "Python 3"
    },
    "language_info": {
      "name": "python"
    }
  },
  "cells": [
    {
      "cell_type": "markdown",
      "metadata": {
        "tags": [],
        "id": "43e0d709-f2e6-4c59-9038-be229ba21f82"
      },
      "source": [
        "## **Proyecto Mineria de Datos** \n",
        "\n",
        "### **Segunda Entrega** \n",
        "\n",
        "##### Nancy Alejandra Vinazco Morales - Maria Camila Perilla Gutierrez"
      ]
    },
    {
      "cell_type": "markdown",
      "metadata": {
        "id": "RRD6vM335MKz"
      },
      "source": [
        "## **Explicación Data set**"
      ]
    },
    {
      "cell_type": "markdown",
      "metadata": {
        "id": "i_dswtrt5UAP"
      },
      "source": [
        "Este conjunto de datos incluye datos para la estimación de los niveles de obesidad en individuos de los países de México, Perú y Colombia, con base en sus hábitos alimenticios y condición física.\n",
        "https://www.sciencedirect.com/science/article/pii/S2352340919306985?via%3Dihub "
      ]
    },
    {
      "cell_type": "code",
      "metadata": {
        "id": "jZwebvJ-0jDd"
      },
      "source": [
        "import pandas as pd\n",
        "import numpy as np\n",
        "import seaborn as sns\n",
        "import matplotlib as plt\n",
        "import matplotlib.pyplot as plt\n",
        "import altair as alt\n",
        "import statsmodels.api as sm\n",
        "from statistics import mean\n",
        "from vega_datasets import data\n",
        "from scipy import stats\n",
        "import matplotlib.pyplot as plt"
      ],
      "execution_count": null,
      "outputs": []
    },
    {
      "cell_type": "code",
      "metadata": {
        "colab": {
          "base_uri": "https://localhost:8080/"
        },
        "id": "13diHz1j0psH",
        "outputId": "ebcc8b81-df16-4ef5-a316-c439b1a5ba1b"
      },
      "source": [
        "obesity = pd.read_csv('ObesityDataSet_raw_and_data_sinthetic.csv', \n",
        "                 sep = ',',\n",
        "                 error_bad_lines=False,\n",
        "                 )\n",
        "obesity.head()"
      ],
      "execution_count": null,
      "outputs": [
        {
          "output_type": "execute_result",
          "data": {
            "text/html": [
              "<div>\n",
              "<style scoped>\n",
              "    .dataframe tbody tr th:only-of-type {\n",
              "        vertical-align: middle;\n",
              "    }\n",
              "\n",
              "    .dataframe tbody tr th {\n",
              "        vertical-align: top;\n",
              "    }\n",
              "\n",
              "    .dataframe thead th {\n",
              "        text-align: right;\n",
              "    }\n",
              "</style>\n",
              "<table border=\"1\" class=\"dataframe\">\n",
              "  <thead>\n",
              "    <tr style=\"text-align: right;\">\n",
              "      <th></th>\n",
              "      <th>Gender</th>\n",
              "      <th>Age</th>\n",
              "      <th>Height</th>\n",
              "      <th>Weight</th>\n",
              "      <th>family_history_with_overweight</th>\n",
              "      <th>FAVC</th>\n",
              "      <th>FCVC</th>\n",
              "      <th>NCP</th>\n",
              "      <th>CAEC</th>\n",
              "      <th>SMOKE</th>\n",
              "      <th>CH2O</th>\n",
              "      <th>SCC</th>\n",
              "      <th>FAF</th>\n",
              "      <th>TUE</th>\n",
              "      <th>CALC</th>\n",
              "      <th>MTRANS</th>\n",
              "      <th>NObeyesdad</th>\n",
              "    </tr>\n",
              "  </thead>\n",
              "  <tbody>\n",
              "    <tr>\n",
              "      <th>0</th>\n",
              "      <td>Female</td>\n",
              "      <td>21.0</td>\n",
              "      <td>1.62</td>\n",
              "      <td>64.0</td>\n",
              "      <td>yes</td>\n",
              "      <td>no</td>\n",
              "      <td>2.0</td>\n",
              "      <td>3.0</td>\n",
              "      <td>Sometimes</td>\n",
              "      <td>no</td>\n",
              "      <td>2.0</td>\n",
              "      <td>no</td>\n",
              "      <td>0.0</td>\n",
              "      <td>1.0</td>\n",
              "      <td>no</td>\n",
              "      <td>Public_Transportation</td>\n",
              "      <td>Normal_Weight</td>\n",
              "    </tr>\n",
              "    <tr>\n",
              "      <th>1</th>\n",
              "      <td>Female</td>\n",
              "      <td>21.0</td>\n",
              "      <td>1.52</td>\n",
              "      <td>56.0</td>\n",
              "      <td>yes</td>\n",
              "      <td>no</td>\n",
              "      <td>3.0</td>\n",
              "      <td>3.0</td>\n",
              "      <td>Sometimes</td>\n",
              "      <td>yes</td>\n",
              "      <td>3.0</td>\n",
              "      <td>yes</td>\n",
              "      <td>3.0</td>\n",
              "      <td>0.0</td>\n",
              "      <td>Sometimes</td>\n",
              "      <td>Public_Transportation</td>\n",
              "      <td>Normal_Weight</td>\n",
              "    </tr>\n",
              "    <tr>\n",
              "      <th>2</th>\n",
              "      <td>Male</td>\n",
              "      <td>23.0</td>\n",
              "      <td>1.80</td>\n",
              "      <td>77.0</td>\n",
              "      <td>yes</td>\n",
              "      <td>no</td>\n",
              "      <td>2.0</td>\n",
              "      <td>3.0</td>\n",
              "      <td>Sometimes</td>\n",
              "      <td>no</td>\n",
              "      <td>2.0</td>\n",
              "      <td>no</td>\n",
              "      <td>2.0</td>\n",
              "      <td>1.0</td>\n",
              "      <td>Frequently</td>\n",
              "      <td>Public_Transportation</td>\n",
              "      <td>Normal_Weight</td>\n",
              "    </tr>\n",
              "    <tr>\n",
              "      <th>3</th>\n",
              "      <td>Male</td>\n",
              "      <td>27.0</td>\n",
              "      <td>1.80</td>\n",
              "      <td>87.0</td>\n",
              "      <td>no</td>\n",
              "      <td>no</td>\n",
              "      <td>3.0</td>\n",
              "      <td>3.0</td>\n",
              "      <td>Sometimes</td>\n",
              "      <td>no</td>\n",
              "      <td>2.0</td>\n",
              "      <td>no</td>\n",
              "      <td>2.0</td>\n",
              "      <td>0.0</td>\n",
              "      <td>Frequently</td>\n",
              "      <td>Walking</td>\n",
              "      <td>Overweight_Level_I</td>\n",
              "    </tr>\n",
              "    <tr>\n",
              "      <th>4</th>\n",
              "      <td>Male</td>\n",
              "      <td>22.0</td>\n",
              "      <td>1.78</td>\n",
              "      <td>89.8</td>\n",
              "      <td>no</td>\n",
              "      <td>no</td>\n",
              "      <td>2.0</td>\n",
              "      <td>1.0</td>\n",
              "      <td>Sometimes</td>\n",
              "      <td>no</td>\n",
              "      <td>2.0</td>\n",
              "      <td>no</td>\n",
              "      <td>0.0</td>\n",
              "      <td>0.0</td>\n",
              "      <td>Sometimes</td>\n",
              "      <td>Public_Transportation</td>\n",
              "      <td>Overweight_Level_II</td>\n",
              "    </tr>\n",
              "  </tbody>\n",
              "</table>\n",
              "</div>"
            ],
            "text/plain": [
              "   Gender   Age  Height  ...        CALC                 MTRANS           NObeyesdad\n",
              "0  Female  21.0    1.62  ...          no  Public_Transportation        Normal_Weight\n",
              "1  Female  21.0    1.52  ...   Sometimes  Public_Transportation        Normal_Weight\n",
              "2    Male  23.0    1.80  ...  Frequently  Public_Transportation        Normal_Weight\n",
              "3    Male  27.0    1.80  ...  Frequently                Walking   Overweight_Level_I\n",
              "4    Male  22.0    1.78  ...   Sometimes  Public_Transportation  Overweight_Level_II\n",
              "\n",
              "[5 rows x 17 columns]"
            ]
          },
          "metadata": {},
          "execution_count": 11
        }
      ]
    },
    {
      "cell_type": "markdown",
      "metadata": {
        "id": "lVd0Xq0RJ25y"
      },
      "source": [
        "## **¿Qué contiene la base de datos?**"
      ]
    },
    {
      "cell_type": "code",
      "metadata": {
        "colab": {
          "base_uri": "https://localhost:8080/"
        },
        "id": "UuDnB97JKBhh",
        "outputId": "2896e495-9c19-4d53-96a6-a9940fb8604a"
      },
      "source": [
        "print('Número de registros: ', obesity.shape[0])\n",
        "print('Número de variables: ', obesity.shape[1])"
      ],
      "execution_count": null,
      "outputs": [
        {
          "output_type": "stream",
          "name": "stdout",
          "text": [
            "Número de registros:  2111\n",
            "Número de variables:  17\n"
          ]
        }
      ]
    },
    {
      "cell_type": "markdown",
      "metadata": {
        "id": "K-Y-on2NMQsi"
      },
      "source": [
        "+ Renombramiento a algunas de las columnas del dataset para mejor entendimiento."
      ]
    },
    {
      "cell_type": "code",
      "metadata": {
        "colab": {
          "base_uri": "https://localhost:8080/"
        },
        "id": "487O7ut8BHim",
        "outputId": "498dc758-9abc-4831-a055-012b2dea1dba"
      },
      "source": [
        "obesity.columns = ['Genero', 'Edad', 'Altura', 'Peso', 'Antec_familiares',\n",
        "       'FAVC', 'FCVC', 'NCP', 'CAEC', 'Fuma', 'CH2O', 'SCC', 'FAF', 'TUE',\n",
        "       'CALC', 'MTRANS', 'NObeyesdad']\n",
        "obesity.head()"
      ],
      "execution_count": null,
      "outputs": [
        {
          "output_type": "execute_result",
          "data": {
            "text/html": [
              "<div>\n",
              "<style scoped>\n",
              "    .dataframe tbody tr th:only-of-type {\n",
              "        vertical-align: middle;\n",
              "    }\n",
              "\n",
              "    .dataframe tbody tr th {\n",
              "        vertical-align: top;\n",
              "    }\n",
              "\n",
              "    .dataframe thead th {\n",
              "        text-align: right;\n",
              "    }\n",
              "</style>\n",
              "<table border=\"1\" class=\"dataframe\">\n",
              "  <thead>\n",
              "    <tr style=\"text-align: right;\">\n",
              "      <th></th>\n",
              "      <th>Genero</th>\n",
              "      <th>Edad</th>\n",
              "      <th>Altura</th>\n",
              "      <th>Peso</th>\n",
              "      <th>Antec_familiares</th>\n",
              "      <th>FAVC</th>\n",
              "      <th>FCVC</th>\n",
              "      <th>NCP</th>\n",
              "      <th>CAEC</th>\n",
              "      <th>Fuma</th>\n",
              "      <th>CH2O</th>\n",
              "      <th>SCC</th>\n",
              "      <th>FAF</th>\n",
              "      <th>TUE</th>\n",
              "      <th>CALC</th>\n",
              "      <th>MTRANS</th>\n",
              "      <th>NObeyesdad</th>\n",
              "    </tr>\n",
              "  </thead>\n",
              "  <tbody>\n",
              "    <tr>\n",
              "      <th>0</th>\n",
              "      <td>Female</td>\n",
              "      <td>21.0</td>\n",
              "      <td>1.62</td>\n",
              "      <td>64.0</td>\n",
              "      <td>yes</td>\n",
              "      <td>no</td>\n",
              "      <td>2.0</td>\n",
              "      <td>3.0</td>\n",
              "      <td>Sometimes</td>\n",
              "      <td>no</td>\n",
              "      <td>2.0</td>\n",
              "      <td>no</td>\n",
              "      <td>0.0</td>\n",
              "      <td>1.0</td>\n",
              "      <td>no</td>\n",
              "      <td>Public_Transportation</td>\n",
              "      <td>Normal_Weight</td>\n",
              "    </tr>\n",
              "    <tr>\n",
              "      <th>1</th>\n",
              "      <td>Female</td>\n",
              "      <td>21.0</td>\n",
              "      <td>1.52</td>\n",
              "      <td>56.0</td>\n",
              "      <td>yes</td>\n",
              "      <td>no</td>\n",
              "      <td>3.0</td>\n",
              "      <td>3.0</td>\n",
              "      <td>Sometimes</td>\n",
              "      <td>yes</td>\n",
              "      <td>3.0</td>\n",
              "      <td>yes</td>\n",
              "      <td>3.0</td>\n",
              "      <td>0.0</td>\n",
              "      <td>Sometimes</td>\n",
              "      <td>Public_Transportation</td>\n",
              "      <td>Normal_Weight</td>\n",
              "    </tr>\n",
              "    <tr>\n",
              "      <th>2</th>\n",
              "      <td>Male</td>\n",
              "      <td>23.0</td>\n",
              "      <td>1.80</td>\n",
              "      <td>77.0</td>\n",
              "      <td>yes</td>\n",
              "      <td>no</td>\n",
              "      <td>2.0</td>\n",
              "      <td>3.0</td>\n",
              "      <td>Sometimes</td>\n",
              "      <td>no</td>\n",
              "      <td>2.0</td>\n",
              "      <td>no</td>\n",
              "      <td>2.0</td>\n",
              "      <td>1.0</td>\n",
              "      <td>Frequently</td>\n",
              "      <td>Public_Transportation</td>\n",
              "      <td>Normal_Weight</td>\n",
              "    </tr>\n",
              "    <tr>\n",
              "      <th>3</th>\n",
              "      <td>Male</td>\n",
              "      <td>27.0</td>\n",
              "      <td>1.80</td>\n",
              "      <td>87.0</td>\n",
              "      <td>no</td>\n",
              "      <td>no</td>\n",
              "      <td>3.0</td>\n",
              "      <td>3.0</td>\n",
              "      <td>Sometimes</td>\n",
              "      <td>no</td>\n",
              "      <td>2.0</td>\n",
              "      <td>no</td>\n",
              "      <td>2.0</td>\n",
              "      <td>0.0</td>\n",
              "      <td>Frequently</td>\n",
              "      <td>Walking</td>\n",
              "      <td>Overweight_Level_I</td>\n",
              "    </tr>\n",
              "    <tr>\n",
              "      <th>4</th>\n",
              "      <td>Male</td>\n",
              "      <td>22.0</td>\n",
              "      <td>1.78</td>\n",
              "      <td>89.8</td>\n",
              "      <td>no</td>\n",
              "      <td>no</td>\n",
              "      <td>2.0</td>\n",
              "      <td>1.0</td>\n",
              "      <td>Sometimes</td>\n",
              "      <td>no</td>\n",
              "      <td>2.0</td>\n",
              "      <td>no</td>\n",
              "      <td>0.0</td>\n",
              "      <td>0.0</td>\n",
              "      <td>Sometimes</td>\n",
              "      <td>Public_Transportation</td>\n",
              "      <td>Overweight_Level_II</td>\n",
              "    </tr>\n",
              "  </tbody>\n",
              "</table>\n",
              "</div>"
            ],
            "text/plain": [
              "   Genero  Edad  Altura  ...        CALC                 MTRANS           NObeyesdad\n",
              "0  Female  21.0    1.62  ...          no  Public_Transportation        Normal_Weight\n",
              "1  Female  21.0    1.52  ...   Sometimes  Public_Transportation        Normal_Weight\n",
              "2    Male  23.0    1.80  ...  Frequently  Public_Transportation        Normal_Weight\n",
              "3    Male  27.0    1.80  ...  Frequently                Walking   Overweight_Level_I\n",
              "4    Male  22.0    1.78  ...   Sometimes  Public_Transportation  Overweight_Level_II\n",
              "\n",
              "[5 rows x 17 columns]"
            ]
          },
          "metadata": {},
          "execution_count": 13
        }
      ]
    },
    {
      "cell_type": "markdown",
      "metadata": {
        "id": "fVIlDSdjQtyf"
      },
      "source": [
        "**Tipos de atributo**"
      ]
    },
    {
      "cell_type": "code",
      "metadata": {
        "colab": {
          "base_uri": "https://localhost:8080/"
        },
        "id": "ojUYQ7g7QOCD",
        "outputId": "f8e6f3a4-b61f-4bb6-8ef1-7144da91979f"
      },
      "source": [
        "obesity.dtypes"
      ],
      "execution_count": null,
      "outputs": [
        {
          "output_type": "execute_result",
          "data": {
            "text/plain": [
              "Genero               object\n",
              "Edad                float64\n",
              "Altura              float64\n",
              "Peso                float64\n",
              "Antec_familiares     object\n",
              "FAVC                 object\n",
              "FCVC                float64\n",
              "NCP                 float64\n",
              "CAEC                 object\n",
              "Fuma                 object\n",
              "CH2O                float64\n",
              "SCC                  object\n",
              "FAF                 float64\n",
              "TUE                 float64\n",
              "CALC                 object\n",
              "MTRANS               object\n",
              "NObeyesdad           object\n",
              "dtype: object"
            ]
          },
          "metadata": {},
          "execution_count": 14
        }
      ]
    },
    {
      "cell_type": "markdown",
      "metadata": {
        "id": "0eejtrSIRGZb"
      },
      "source": [
        "## **¿Presencia de datos faltantes?** "
      ]
    },
    {
      "cell_type": "markdown",
      "metadata": {
        "id": "aloXGig0RYA0"
      },
      "source": [
        "En el dataset no se encuentran datos faltantes, la base esta completa."
      ]
    },
    {
      "cell_type": "code",
      "metadata": {
        "colab": {
          "base_uri": "https://localhost:8080/"
        },
        "id": "RioiyDU6RGGb",
        "outputId": "bb5fd406-aa3c-4f91-b578-a83295af0d40"
      },
      "source": [
        "obesity.isnull().sum()"
      ],
      "execution_count": null,
      "outputs": [
        {
          "output_type": "execute_result",
          "data": {
            "text/plain": [
              "Genero              0\n",
              "Edad                0\n",
              "Altura              0\n",
              "Peso                0\n",
              "Antec_familiares    0\n",
              "FAVC                0\n",
              "FCVC                0\n",
              "NCP                 0\n",
              "CAEC                0\n",
              "Fuma                0\n",
              "CH2O                0\n",
              "SCC                 0\n",
              "FAF                 0\n",
              "TUE                 0\n",
              "CALC                0\n",
              "MTRANS              0\n",
              "NObeyesdad          0\n",
              "dtype: int64"
            ]
          },
          "metadata": {},
          "execution_count": 15
        }
      ]
    },
    {
      "cell_type": "markdown",
      "metadata": {
        "id": "I8kkjKtE_RRz"
      },
      "source": [
        "## **¿Presencia de datos duplicados?**"
      ]
    },
    {
      "cell_type": "markdown",
      "metadata": {
        "id": "-ZlHuhNvZ9Ym"
      },
      "source": [
        "**Dataset**"
      ]
    },
    {
      "cell_type": "code",
      "metadata": {
        "id": "BFyud1mfaFeH"
      },
      "source": [
        "obesity_D = obesity.copy()"
      ],
      "execution_count": null,
      "outputs": []
    },
    {
      "cell_type": "code",
      "metadata": {
        "colab": {
          "base_uri": "https://localhost:8080/"
        },
        "id": "9n4J5sDeaLgm",
        "outputId": "e1041f51-1ec8-4d89-a117-d0dcdb38c1b4"
      },
      "source": [
        "obesity_D.head()"
      ],
      "execution_count": null,
      "outputs": [
        {
          "output_type": "execute_result",
          "data": {
            "text/html": [
              "<div>\n",
              "<style scoped>\n",
              "    .dataframe tbody tr th:only-of-type {\n",
              "        vertical-align: middle;\n",
              "    }\n",
              "\n",
              "    .dataframe tbody tr th {\n",
              "        vertical-align: top;\n",
              "    }\n",
              "\n",
              "    .dataframe thead th {\n",
              "        text-align: right;\n",
              "    }\n",
              "</style>\n",
              "<table border=\"1\" class=\"dataframe\">\n",
              "  <thead>\n",
              "    <tr style=\"text-align: right;\">\n",
              "      <th></th>\n",
              "      <th>Genero</th>\n",
              "      <th>Edad</th>\n",
              "      <th>Altura</th>\n",
              "      <th>Peso</th>\n",
              "      <th>Antec_familiares</th>\n",
              "      <th>FAVC</th>\n",
              "      <th>FCVC</th>\n",
              "      <th>NCP</th>\n",
              "      <th>CAEC</th>\n",
              "      <th>Fuma</th>\n",
              "      <th>CH2O</th>\n",
              "      <th>SCC</th>\n",
              "      <th>FAF</th>\n",
              "      <th>TUE</th>\n",
              "      <th>CALC</th>\n",
              "      <th>MTRANS</th>\n",
              "      <th>NObeyesdad</th>\n",
              "    </tr>\n",
              "  </thead>\n",
              "  <tbody>\n",
              "    <tr>\n",
              "      <th>0</th>\n",
              "      <td>Female</td>\n",
              "      <td>21.0</td>\n",
              "      <td>1.62</td>\n",
              "      <td>64.0</td>\n",
              "      <td>yes</td>\n",
              "      <td>no</td>\n",
              "      <td>2.0</td>\n",
              "      <td>3.0</td>\n",
              "      <td>Sometimes</td>\n",
              "      <td>no</td>\n",
              "      <td>2.0</td>\n",
              "      <td>no</td>\n",
              "      <td>0.0</td>\n",
              "      <td>1.0</td>\n",
              "      <td>no</td>\n",
              "      <td>Public_Transportation</td>\n",
              "      <td>Normal_Weight</td>\n",
              "    </tr>\n",
              "    <tr>\n",
              "      <th>1</th>\n",
              "      <td>Female</td>\n",
              "      <td>21.0</td>\n",
              "      <td>1.52</td>\n",
              "      <td>56.0</td>\n",
              "      <td>yes</td>\n",
              "      <td>no</td>\n",
              "      <td>3.0</td>\n",
              "      <td>3.0</td>\n",
              "      <td>Sometimes</td>\n",
              "      <td>yes</td>\n",
              "      <td>3.0</td>\n",
              "      <td>yes</td>\n",
              "      <td>3.0</td>\n",
              "      <td>0.0</td>\n",
              "      <td>Sometimes</td>\n",
              "      <td>Public_Transportation</td>\n",
              "      <td>Normal_Weight</td>\n",
              "    </tr>\n",
              "    <tr>\n",
              "      <th>2</th>\n",
              "      <td>Male</td>\n",
              "      <td>23.0</td>\n",
              "      <td>1.80</td>\n",
              "      <td>77.0</td>\n",
              "      <td>yes</td>\n",
              "      <td>no</td>\n",
              "      <td>2.0</td>\n",
              "      <td>3.0</td>\n",
              "      <td>Sometimes</td>\n",
              "      <td>no</td>\n",
              "      <td>2.0</td>\n",
              "      <td>no</td>\n",
              "      <td>2.0</td>\n",
              "      <td>1.0</td>\n",
              "      <td>Frequently</td>\n",
              "      <td>Public_Transportation</td>\n",
              "      <td>Normal_Weight</td>\n",
              "    </tr>\n",
              "    <tr>\n",
              "      <th>3</th>\n",
              "      <td>Male</td>\n",
              "      <td>27.0</td>\n",
              "      <td>1.80</td>\n",
              "      <td>87.0</td>\n",
              "      <td>no</td>\n",
              "      <td>no</td>\n",
              "      <td>3.0</td>\n",
              "      <td>3.0</td>\n",
              "      <td>Sometimes</td>\n",
              "      <td>no</td>\n",
              "      <td>2.0</td>\n",
              "      <td>no</td>\n",
              "      <td>2.0</td>\n",
              "      <td>0.0</td>\n",
              "      <td>Frequently</td>\n",
              "      <td>Walking</td>\n",
              "      <td>Overweight_Level_I</td>\n",
              "    </tr>\n",
              "    <tr>\n",
              "      <th>4</th>\n",
              "      <td>Male</td>\n",
              "      <td>22.0</td>\n",
              "      <td>1.78</td>\n",
              "      <td>89.8</td>\n",
              "      <td>no</td>\n",
              "      <td>no</td>\n",
              "      <td>2.0</td>\n",
              "      <td>1.0</td>\n",
              "      <td>Sometimes</td>\n",
              "      <td>no</td>\n",
              "      <td>2.0</td>\n",
              "      <td>no</td>\n",
              "      <td>0.0</td>\n",
              "      <td>0.0</td>\n",
              "      <td>Sometimes</td>\n",
              "      <td>Public_Transportation</td>\n",
              "      <td>Overweight_Level_II</td>\n",
              "    </tr>\n",
              "  </tbody>\n",
              "</table>\n",
              "</div>"
            ],
            "text/plain": [
              "   Genero  Edad  Altura  ...        CALC                 MTRANS           NObeyesdad\n",
              "0  Female  21.0    1.62  ...          no  Public_Transportation        Normal_Weight\n",
              "1  Female  21.0    1.52  ...   Sometimes  Public_Transportation        Normal_Weight\n",
              "2    Male  23.0    1.80  ...  Frequently  Public_Transportation        Normal_Weight\n",
              "3    Male  27.0    1.80  ...  Frequently                Walking   Overweight_Level_I\n",
              "4    Male  22.0    1.78  ...   Sometimes  Public_Transportation  Overweight_Level_II\n",
              "\n",
              "[5 rows x 17 columns]"
            ]
          },
          "metadata": {},
          "execution_count": 17
        }
      ]
    },
    {
      "cell_type": "code",
      "metadata": {
        "colab": {
          "base_uri": "https://localhost:8080/"
        },
        "id": "y0KhnYnn_RR0",
        "outputId": "b207b922-bb7c-46d2-97f1-94d669e3ca4f"
      },
      "source": [
        "obesity_D_C = obesity_D\n",
        "obesity_D_C[obesity_D_C.duplicated()]"
      ],
      "execution_count": null,
      "outputs": [
        {
          "output_type": "execute_result",
          "data": {
            "text/html": [
              "<div>\n",
              "<style scoped>\n",
              "    .dataframe tbody tr th:only-of-type {\n",
              "        vertical-align: middle;\n",
              "    }\n",
              "\n",
              "    .dataframe tbody tr th {\n",
              "        vertical-align: top;\n",
              "    }\n",
              "\n",
              "    .dataframe thead th {\n",
              "        text-align: right;\n",
              "    }\n",
              "</style>\n",
              "<table border=\"1\" class=\"dataframe\">\n",
              "  <thead>\n",
              "    <tr style=\"text-align: right;\">\n",
              "      <th></th>\n",
              "      <th>Genero</th>\n",
              "      <th>Edad</th>\n",
              "      <th>Altura</th>\n",
              "      <th>Peso</th>\n",
              "      <th>Antec_familiares</th>\n",
              "      <th>FAVC</th>\n",
              "      <th>FCVC</th>\n",
              "      <th>NCP</th>\n",
              "      <th>CAEC</th>\n",
              "      <th>Fuma</th>\n",
              "      <th>CH2O</th>\n",
              "      <th>SCC</th>\n",
              "      <th>FAF</th>\n",
              "      <th>TUE</th>\n",
              "      <th>CALC</th>\n",
              "      <th>MTRANS</th>\n",
              "      <th>NObeyesdad</th>\n",
              "    </tr>\n",
              "  </thead>\n",
              "  <tbody>\n",
              "    <tr>\n",
              "      <th>98</th>\n",
              "      <td>Female</td>\n",
              "      <td>21.0</td>\n",
              "      <td>1.52</td>\n",
              "      <td>42.0</td>\n",
              "      <td>no</td>\n",
              "      <td>no</td>\n",
              "      <td>3.0</td>\n",
              "      <td>1.0</td>\n",
              "      <td>Frequently</td>\n",
              "      <td>no</td>\n",
              "      <td>1.0</td>\n",
              "      <td>no</td>\n",
              "      <td>0.0</td>\n",
              "      <td>0.0</td>\n",
              "      <td>Sometimes</td>\n",
              "      <td>Public_Transportation</td>\n",
              "      <td>Insufficient_Weight</td>\n",
              "    </tr>\n",
              "    <tr>\n",
              "      <th>106</th>\n",
              "      <td>Female</td>\n",
              "      <td>25.0</td>\n",
              "      <td>1.57</td>\n",
              "      <td>55.0</td>\n",
              "      <td>no</td>\n",
              "      <td>yes</td>\n",
              "      <td>2.0</td>\n",
              "      <td>1.0</td>\n",
              "      <td>Sometimes</td>\n",
              "      <td>no</td>\n",
              "      <td>2.0</td>\n",
              "      <td>no</td>\n",
              "      <td>2.0</td>\n",
              "      <td>0.0</td>\n",
              "      <td>Sometimes</td>\n",
              "      <td>Public_Transportation</td>\n",
              "      <td>Normal_Weight</td>\n",
              "    </tr>\n",
              "    <tr>\n",
              "      <th>174</th>\n",
              "      <td>Male</td>\n",
              "      <td>21.0</td>\n",
              "      <td>1.62</td>\n",
              "      <td>70.0</td>\n",
              "      <td>no</td>\n",
              "      <td>yes</td>\n",
              "      <td>2.0</td>\n",
              "      <td>1.0</td>\n",
              "      <td>no</td>\n",
              "      <td>no</td>\n",
              "      <td>3.0</td>\n",
              "      <td>no</td>\n",
              "      <td>1.0</td>\n",
              "      <td>0.0</td>\n",
              "      <td>Sometimes</td>\n",
              "      <td>Public_Transportation</td>\n",
              "      <td>Overweight_Level_I</td>\n",
              "    </tr>\n",
              "    <tr>\n",
              "      <th>179</th>\n",
              "      <td>Male</td>\n",
              "      <td>21.0</td>\n",
              "      <td>1.62</td>\n",
              "      <td>70.0</td>\n",
              "      <td>no</td>\n",
              "      <td>yes</td>\n",
              "      <td>2.0</td>\n",
              "      <td>1.0</td>\n",
              "      <td>no</td>\n",
              "      <td>no</td>\n",
              "      <td>3.0</td>\n",
              "      <td>no</td>\n",
              "      <td>1.0</td>\n",
              "      <td>0.0</td>\n",
              "      <td>Sometimes</td>\n",
              "      <td>Public_Transportation</td>\n",
              "      <td>Overweight_Level_I</td>\n",
              "    </tr>\n",
              "    <tr>\n",
              "      <th>184</th>\n",
              "      <td>Male</td>\n",
              "      <td>21.0</td>\n",
              "      <td>1.62</td>\n",
              "      <td>70.0</td>\n",
              "      <td>no</td>\n",
              "      <td>yes</td>\n",
              "      <td>2.0</td>\n",
              "      <td>1.0</td>\n",
              "      <td>no</td>\n",
              "      <td>no</td>\n",
              "      <td>3.0</td>\n",
              "      <td>no</td>\n",
              "      <td>1.0</td>\n",
              "      <td>0.0</td>\n",
              "      <td>Sometimes</td>\n",
              "      <td>Public_Transportation</td>\n",
              "      <td>Overweight_Level_I</td>\n",
              "    </tr>\n",
              "    <tr>\n",
              "      <th>209</th>\n",
              "      <td>Female</td>\n",
              "      <td>22.0</td>\n",
              "      <td>1.69</td>\n",
              "      <td>65.0</td>\n",
              "      <td>yes</td>\n",
              "      <td>yes</td>\n",
              "      <td>2.0</td>\n",
              "      <td>3.0</td>\n",
              "      <td>Sometimes</td>\n",
              "      <td>no</td>\n",
              "      <td>2.0</td>\n",
              "      <td>no</td>\n",
              "      <td>1.0</td>\n",
              "      <td>1.0</td>\n",
              "      <td>Sometimes</td>\n",
              "      <td>Public_Transportation</td>\n",
              "      <td>Normal_Weight</td>\n",
              "    </tr>\n",
              "    <tr>\n",
              "      <th>309</th>\n",
              "      <td>Female</td>\n",
              "      <td>16.0</td>\n",
              "      <td>1.66</td>\n",
              "      <td>58.0</td>\n",
              "      <td>no</td>\n",
              "      <td>no</td>\n",
              "      <td>2.0</td>\n",
              "      <td>1.0</td>\n",
              "      <td>Sometimes</td>\n",
              "      <td>no</td>\n",
              "      <td>1.0</td>\n",
              "      <td>no</td>\n",
              "      <td>0.0</td>\n",
              "      <td>1.0</td>\n",
              "      <td>no</td>\n",
              "      <td>Walking</td>\n",
              "      <td>Normal_Weight</td>\n",
              "    </tr>\n",
              "    <tr>\n",
              "      <th>460</th>\n",
              "      <td>Female</td>\n",
              "      <td>18.0</td>\n",
              "      <td>1.62</td>\n",
              "      <td>55.0</td>\n",
              "      <td>yes</td>\n",
              "      <td>yes</td>\n",
              "      <td>2.0</td>\n",
              "      <td>3.0</td>\n",
              "      <td>Frequently</td>\n",
              "      <td>no</td>\n",
              "      <td>1.0</td>\n",
              "      <td>no</td>\n",
              "      <td>1.0</td>\n",
              "      <td>1.0</td>\n",
              "      <td>no</td>\n",
              "      <td>Public_Transportation</td>\n",
              "      <td>Normal_Weight</td>\n",
              "    </tr>\n",
              "    <tr>\n",
              "      <th>467</th>\n",
              "      <td>Male</td>\n",
              "      <td>22.0</td>\n",
              "      <td>1.74</td>\n",
              "      <td>75.0</td>\n",
              "      <td>yes</td>\n",
              "      <td>yes</td>\n",
              "      <td>3.0</td>\n",
              "      <td>3.0</td>\n",
              "      <td>Frequently</td>\n",
              "      <td>no</td>\n",
              "      <td>1.0</td>\n",
              "      <td>no</td>\n",
              "      <td>1.0</td>\n",
              "      <td>0.0</td>\n",
              "      <td>no</td>\n",
              "      <td>Automobile</td>\n",
              "      <td>Normal_Weight</td>\n",
              "    </tr>\n",
              "    <tr>\n",
              "      <th>496</th>\n",
              "      <td>Male</td>\n",
              "      <td>18.0</td>\n",
              "      <td>1.72</td>\n",
              "      <td>53.0</td>\n",
              "      <td>yes</td>\n",
              "      <td>yes</td>\n",
              "      <td>2.0</td>\n",
              "      <td>3.0</td>\n",
              "      <td>Sometimes</td>\n",
              "      <td>no</td>\n",
              "      <td>2.0</td>\n",
              "      <td>no</td>\n",
              "      <td>0.0</td>\n",
              "      <td>2.0</td>\n",
              "      <td>Sometimes</td>\n",
              "      <td>Public_Transportation</td>\n",
              "      <td>Insufficient_Weight</td>\n",
              "    </tr>\n",
              "    <tr>\n",
              "      <th>527</th>\n",
              "      <td>Female</td>\n",
              "      <td>21.0</td>\n",
              "      <td>1.52</td>\n",
              "      <td>42.0</td>\n",
              "      <td>no</td>\n",
              "      <td>yes</td>\n",
              "      <td>3.0</td>\n",
              "      <td>1.0</td>\n",
              "      <td>Frequently</td>\n",
              "      <td>no</td>\n",
              "      <td>1.0</td>\n",
              "      <td>no</td>\n",
              "      <td>0.0</td>\n",
              "      <td>0.0</td>\n",
              "      <td>Sometimes</td>\n",
              "      <td>Public_Transportation</td>\n",
              "      <td>Insufficient_Weight</td>\n",
              "    </tr>\n",
              "    <tr>\n",
              "      <th>659</th>\n",
              "      <td>Female</td>\n",
              "      <td>21.0</td>\n",
              "      <td>1.52</td>\n",
              "      <td>42.0</td>\n",
              "      <td>no</td>\n",
              "      <td>yes</td>\n",
              "      <td>3.0</td>\n",
              "      <td>1.0</td>\n",
              "      <td>Frequently</td>\n",
              "      <td>no</td>\n",
              "      <td>1.0</td>\n",
              "      <td>no</td>\n",
              "      <td>0.0</td>\n",
              "      <td>0.0</td>\n",
              "      <td>Sometimes</td>\n",
              "      <td>Public_Transportation</td>\n",
              "      <td>Insufficient_Weight</td>\n",
              "    </tr>\n",
              "    <tr>\n",
              "      <th>663</th>\n",
              "      <td>Female</td>\n",
              "      <td>21.0</td>\n",
              "      <td>1.52</td>\n",
              "      <td>42.0</td>\n",
              "      <td>no</td>\n",
              "      <td>yes</td>\n",
              "      <td>3.0</td>\n",
              "      <td>1.0</td>\n",
              "      <td>Frequently</td>\n",
              "      <td>no</td>\n",
              "      <td>1.0</td>\n",
              "      <td>no</td>\n",
              "      <td>0.0</td>\n",
              "      <td>0.0</td>\n",
              "      <td>Sometimes</td>\n",
              "      <td>Public_Transportation</td>\n",
              "      <td>Insufficient_Weight</td>\n",
              "    </tr>\n",
              "    <tr>\n",
              "      <th>763</th>\n",
              "      <td>Male</td>\n",
              "      <td>21.0</td>\n",
              "      <td>1.62</td>\n",
              "      <td>70.0</td>\n",
              "      <td>no</td>\n",
              "      <td>yes</td>\n",
              "      <td>2.0</td>\n",
              "      <td>1.0</td>\n",
              "      <td>no</td>\n",
              "      <td>no</td>\n",
              "      <td>3.0</td>\n",
              "      <td>no</td>\n",
              "      <td>1.0</td>\n",
              "      <td>0.0</td>\n",
              "      <td>Sometimes</td>\n",
              "      <td>Public_Transportation</td>\n",
              "      <td>Overweight_Level_I</td>\n",
              "    </tr>\n",
              "    <tr>\n",
              "      <th>764</th>\n",
              "      <td>Male</td>\n",
              "      <td>21.0</td>\n",
              "      <td>1.62</td>\n",
              "      <td>70.0</td>\n",
              "      <td>no</td>\n",
              "      <td>yes</td>\n",
              "      <td>2.0</td>\n",
              "      <td>1.0</td>\n",
              "      <td>no</td>\n",
              "      <td>no</td>\n",
              "      <td>3.0</td>\n",
              "      <td>no</td>\n",
              "      <td>1.0</td>\n",
              "      <td>0.0</td>\n",
              "      <td>Sometimes</td>\n",
              "      <td>Public_Transportation</td>\n",
              "      <td>Overweight_Level_I</td>\n",
              "    </tr>\n",
              "    <tr>\n",
              "      <th>824</th>\n",
              "      <td>Male</td>\n",
              "      <td>21.0</td>\n",
              "      <td>1.62</td>\n",
              "      <td>70.0</td>\n",
              "      <td>no</td>\n",
              "      <td>yes</td>\n",
              "      <td>2.0</td>\n",
              "      <td>1.0</td>\n",
              "      <td>no</td>\n",
              "      <td>no</td>\n",
              "      <td>3.0</td>\n",
              "      <td>no</td>\n",
              "      <td>1.0</td>\n",
              "      <td>0.0</td>\n",
              "      <td>Sometimes</td>\n",
              "      <td>Public_Transportation</td>\n",
              "      <td>Overweight_Level_I</td>\n",
              "    </tr>\n",
              "    <tr>\n",
              "      <th>830</th>\n",
              "      <td>Male</td>\n",
              "      <td>21.0</td>\n",
              "      <td>1.62</td>\n",
              "      <td>70.0</td>\n",
              "      <td>no</td>\n",
              "      <td>yes</td>\n",
              "      <td>2.0</td>\n",
              "      <td>1.0</td>\n",
              "      <td>no</td>\n",
              "      <td>no</td>\n",
              "      <td>3.0</td>\n",
              "      <td>no</td>\n",
              "      <td>1.0</td>\n",
              "      <td>0.0</td>\n",
              "      <td>Sometimes</td>\n",
              "      <td>Public_Transportation</td>\n",
              "      <td>Overweight_Level_I</td>\n",
              "    </tr>\n",
              "    <tr>\n",
              "      <th>831</th>\n",
              "      <td>Male</td>\n",
              "      <td>21.0</td>\n",
              "      <td>1.62</td>\n",
              "      <td>70.0</td>\n",
              "      <td>no</td>\n",
              "      <td>yes</td>\n",
              "      <td>2.0</td>\n",
              "      <td>1.0</td>\n",
              "      <td>no</td>\n",
              "      <td>no</td>\n",
              "      <td>3.0</td>\n",
              "      <td>no</td>\n",
              "      <td>1.0</td>\n",
              "      <td>0.0</td>\n",
              "      <td>Sometimes</td>\n",
              "      <td>Public_Transportation</td>\n",
              "      <td>Overweight_Level_I</td>\n",
              "    </tr>\n",
              "    <tr>\n",
              "      <th>832</th>\n",
              "      <td>Male</td>\n",
              "      <td>21.0</td>\n",
              "      <td>1.62</td>\n",
              "      <td>70.0</td>\n",
              "      <td>no</td>\n",
              "      <td>yes</td>\n",
              "      <td>2.0</td>\n",
              "      <td>1.0</td>\n",
              "      <td>no</td>\n",
              "      <td>no</td>\n",
              "      <td>3.0</td>\n",
              "      <td>no</td>\n",
              "      <td>1.0</td>\n",
              "      <td>0.0</td>\n",
              "      <td>Sometimes</td>\n",
              "      <td>Public_Transportation</td>\n",
              "      <td>Overweight_Level_I</td>\n",
              "    </tr>\n",
              "    <tr>\n",
              "      <th>833</th>\n",
              "      <td>Male</td>\n",
              "      <td>21.0</td>\n",
              "      <td>1.62</td>\n",
              "      <td>70.0</td>\n",
              "      <td>no</td>\n",
              "      <td>yes</td>\n",
              "      <td>2.0</td>\n",
              "      <td>1.0</td>\n",
              "      <td>no</td>\n",
              "      <td>no</td>\n",
              "      <td>3.0</td>\n",
              "      <td>no</td>\n",
              "      <td>1.0</td>\n",
              "      <td>0.0</td>\n",
              "      <td>Sometimes</td>\n",
              "      <td>Public_Transportation</td>\n",
              "      <td>Overweight_Level_I</td>\n",
              "    </tr>\n",
              "    <tr>\n",
              "      <th>834</th>\n",
              "      <td>Male</td>\n",
              "      <td>21.0</td>\n",
              "      <td>1.62</td>\n",
              "      <td>70.0</td>\n",
              "      <td>no</td>\n",
              "      <td>yes</td>\n",
              "      <td>2.0</td>\n",
              "      <td>1.0</td>\n",
              "      <td>no</td>\n",
              "      <td>no</td>\n",
              "      <td>3.0</td>\n",
              "      <td>no</td>\n",
              "      <td>1.0</td>\n",
              "      <td>0.0</td>\n",
              "      <td>Sometimes</td>\n",
              "      <td>Public_Transportation</td>\n",
              "      <td>Overweight_Level_I</td>\n",
              "    </tr>\n",
              "    <tr>\n",
              "      <th>921</th>\n",
              "      <td>Male</td>\n",
              "      <td>21.0</td>\n",
              "      <td>1.62</td>\n",
              "      <td>70.0</td>\n",
              "      <td>no</td>\n",
              "      <td>yes</td>\n",
              "      <td>2.0</td>\n",
              "      <td>1.0</td>\n",
              "      <td>no</td>\n",
              "      <td>no</td>\n",
              "      <td>3.0</td>\n",
              "      <td>no</td>\n",
              "      <td>1.0</td>\n",
              "      <td>0.0</td>\n",
              "      <td>Sometimes</td>\n",
              "      <td>Public_Transportation</td>\n",
              "      <td>Overweight_Level_I</td>\n",
              "    </tr>\n",
              "    <tr>\n",
              "      <th>922</th>\n",
              "      <td>Male</td>\n",
              "      <td>21.0</td>\n",
              "      <td>1.62</td>\n",
              "      <td>70.0</td>\n",
              "      <td>no</td>\n",
              "      <td>yes</td>\n",
              "      <td>2.0</td>\n",
              "      <td>1.0</td>\n",
              "      <td>no</td>\n",
              "      <td>no</td>\n",
              "      <td>3.0</td>\n",
              "      <td>no</td>\n",
              "      <td>1.0</td>\n",
              "      <td>0.0</td>\n",
              "      <td>Sometimes</td>\n",
              "      <td>Public_Transportation</td>\n",
              "      <td>Overweight_Level_I</td>\n",
              "    </tr>\n",
              "    <tr>\n",
              "      <th>923</th>\n",
              "      <td>Male</td>\n",
              "      <td>21.0</td>\n",
              "      <td>1.62</td>\n",
              "      <td>70.0</td>\n",
              "      <td>no</td>\n",
              "      <td>yes</td>\n",
              "      <td>2.0</td>\n",
              "      <td>1.0</td>\n",
              "      <td>no</td>\n",
              "      <td>no</td>\n",
              "      <td>3.0</td>\n",
              "      <td>no</td>\n",
              "      <td>1.0</td>\n",
              "      <td>0.0</td>\n",
              "      <td>Sometimes</td>\n",
              "      <td>Public_Transportation</td>\n",
              "      <td>Overweight_Level_I</td>\n",
              "    </tr>\n",
              "  </tbody>\n",
              "</table>\n",
              "</div>"
            ],
            "text/plain": [
              "     Genero  Edad  ...                 MTRANS           NObeyesdad\n",
              "98   Female  21.0  ...  Public_Transportation  Insufficient_Weight\n",
              "106  Female  25.0  ...  Public_Transportation        Normal_Weight\n",
              "174    Male  21.0  ...  Public_Transportation   Overweight_Level_I\n",
              "179    Male  21.0  ...  Public_Transportation   Overweight_Level_I\n",
              "184    Male  21.0  ...  Public_Transportation   Overweight_Level_I\n",
              "209  Female  22.0  ...  Public_Transportation        Normal_Weight\n",
              "309  Female  16.0  ...                Walking        Normal_Weight\n",
              "460  Female  18.0  ...  Public_Transportation        Normal_Weight\n",
              "467    Male  22.0  ...             Automobile        Normal_Weight\n",
              "496    Male  18.0  ...  Public_Transportation  Insufficient_Weight\n",
              "527  Female  21.0  ...  Public_Transportation  Insufficient_Weight\n",
              "659  Female  21.0  ...  Public_Transportation  Insufficient_Weight\n",
              "663  Female  21.0  ...  Public_Transportation  Insufficient_Weight\n",
              "763    Male  21.0  ...  Public_Transportation   Overweight_Level_I\n",
              "764    Male  21.0  ...  Public_Transportation   Overweight_Level_I\n",
              "824    Male  21.0  ...  Public_Transportation   Overweight_Level_I\n",
              "830    Male  21.0  ...  Public_Transportation   Overweight_Level_I\n",
              "831    Male  21.0  ...  Public_Transportation   Overweight_Level_I\n",
              "832    Male  21.0  ...  Public_Transportation   Overweight_Level_I\n",
              "833    Male  21.0  ...  Public_Transportation   Overweight_Level_I\n",
              "834    Male  21.0  ...  Public_Transportation   Overweight_Level_I\n",
              "921    Male  21.0  ...  Public_Transportation   Overweight_Level_I\n",
              "922    Male  21.0  ...  Public_Transportation   Overweight_Level_I\n",
              "923    Male  21.0  ...  Public_Transportation   Overweight_Level_I\n",
              "\n",
              "[24 rows x 17 columns]"
            ]
          },
          "metadata": {},
          "execution_count": 18
        }
      ]
    },
    {
      "cell_type": "code",
      "metadata": {
        "colab": {
          "base_uri": "https://localhost:8080/"
        },
        "id": "YvNp-ccQ_RR1",
        "outputId": "f9ec6f5c-d35e-488f-a197-5f8d489d9488"
      },
      "source": [
        "obesity_dedupped = obesity_D.drop_duplicates()\n",
        "print(obesity_D.shape)\n",
        "print(obesity_dedupped.shape)"
      ],
      "execution_count": null,
      "outputs": [
        {
          "output_type": "stream",
          "name": "stdout",
          "text": [
            "(2111, 17)\n",
            "(2087, 17)\n"
          ]
        }
      ]
    },
    {
      "cell_type": "markdown",
      "metadata": {
        "id": "sBbAYysy_RR2"
      },
      "source": [
        "Se registro presencia de registros duplicados (se desconoce la naturaleza), en total 24 registros que posteriormente se borraron. "
      ]
    },
    {
      "cell_type": "code",
      "metadata": {
        "colab": {
          "base_uri": "https://localhost:8080/"
        },
        "id": "NwIeDKwo_RR3",
        "outputId": "4d7f94a0-5b91-49c4-90aa-455f553f00fa"
      },
      "source": [
        "obesity_D.shape[0]-obesity_dedupped.shape[0]"
      ],
      "execution_count": null,
      "outputs": [
        {
          "output_type": "execute_result",
          "data": {
            "text/plain": [
              "24"
            ]
          },
          "metadata": {},
          "execution_count": 20
        }
      ]
    },
    {
      "cell_type": "code",
      "metadata": {
        "id": "5P4glImHAkKc"
      },
      "source": [
        "obesity = obesity_dedupped.copy()"
      ],
      "execution_count": null,
      "outputs": []
    },
    {
      "cell_type": "code",
      "metadata": {
        "colab": {
          "base_uri": "https://localhost:8080/"
        },
        "id": "LaW4LzaQAwur",
        "outputId": "42bd7cc3-d070-4d24-b869-6b3cafdf6baa"
      },
      "source": [
        "print('Número de registros: ', obesity.shape[0])\n",
        "print('Número de variables: ', obesity.shape[1])"
      ],
      "execution_count": null,
      "outputs": [
        {
          "output_type": "stream",
          "name": "stdout",
          "text": [
            "Número de registros:  2087\n",
            "Número de variables:  17\n"
          ]
        }
      ]
    },
    {
      "cell_type": "markdown",
      "metadata": {
        "id": "TXfneZNWMeUl"
      },
      "source": [
        "## **Variables**\n"
      ]
    },
    {
      "cell_type": "markdown",
      "metadata": {
        "id": "wGSDUzvPMw-i"
      },
      "source": [
        "### **Genero**"
      ]
    },
    {
      "cell_type": "code",
      "metadata": {
        "colab": {
          "base_uri": "https://localhost:8080/"
        },
        "id": "2C4GPpZ4M7R6",
        "outputId": "c39e5085-277d-48fb-fc82-cbf867123ee0"
      },
      "source": [
        "obesity.Genero.value_counts()"
      ],
      "execution_count": null,
      "outputs": [
        {
          "output_type": "execute_result",
          "data": {
            "text/plain": [
              "Male      1052\n",
              "Female    1035\n",
              "Name: Genero, dtype: int64"
            ]
          },
          "metadata": {},
          "execution_count": 23
        }
      ]
    },
    {
      "cell_type": "code",
      "metadata": {
        "colab": {
          "base_uri": "https://localhost:8080/"
        },
        "id": "k_8qq9XrNHLC",
        "outputId": "a910fe6d-a928-43f8-d060-7924d0b6e80a"
      },
      "source": [
        "print('De los',obesity.shape[0], 'registros, el',round(obesity.Genero.value_counts()[0]/obesity.shape[0]*100,2), '% son Hombres' )\n",
        "print('De los',obesity.shape[0], 'registros, el',round(obesity.Genero.value_counts()[1]/obesity.shape[0]*100,2), '% son Mujeres' )"
      ],
      "execution_count": null,
      "outputs": [
        {
          "output_type": "stream",
          "name": "stdout",
          "text": [
            "De los 2087 registros, el 50.41 % son Hombres\n",
            "De los 2087 registros, el 49.59 % son Mujeres\n"
          ]
        }
      ]
    },
    {
      "cell_type": "markdown",
      "metadata": {
        "id": "hkJotjRuNo8B"
      },
      "source": [
        "Recategorización\n",
        "\n",
        "      Hombres = 0 \n",
        "      Mujeres = 1 "
      ]
    },
    {
      "cell_type": "code",
      "metadata": {
        "colab": {
          "base_uri": "https://localhost:8080/"
        },
        "id": "Yb1o0OHfSwFE",
        "outputId": "8cf8f15f-30a7-49f8-8dbb-53b00e9279ad"
      },
      "source": [
        "obesity['Genero'] = obesity['Genero'].map({\"Male\":0, \"Female\":1}) \n",
        "obesity.head()"
      ],
      "execution_count": null,
      "outputs": [
        {
          "output_type": "execute_result",
          "data": {
            "text/html": [
              "<div>\n",
              "<style scoped>\n",
              "    .dataframe tbody tr th:only-of-type {\n",
              "        vertical-align: middle;\n",
              "    }\n",
              "\n",
              "    .dataframe tbody tr th {\n",
              "        vertical-align: top;\n",
              "    }\n",
              "\n",
              "    .dataframe thead th {\n",
              "        text-align: right;\n",
              "    }\n",
              "</style>\n",
              "<table border=\"1\" class=\"dataframe\">\n",
              "  <thead>\n",
              "    <tr style=\"text-align: right;\">\n",
              "      <th></th>\n",
              "      <th>Genero</th>\n",
              "      <th>Edad</th>\n",
              "      <th>Altura</th>\n",
              "      <th>Peso</th>\n",
              "      <th>Antec_familiares</th>\n",
              "      <th>FAVC</th>\n",
              "      <th>FCVC</th>\n",
              "      <th>NCP</th>\n",
              "      <th>CAEC</th>\n",
              "      <th>Fuma</th>\n",
              "      <th>CH2O</th>\n",
              "      <th>SCC</th>\n",
              "      <th>FAF</th>\n",
              "      <th>TUE</th>\n",
              "      <th>CALC</th>\n",
              "      <th>MTRANS</th>\n",
              "      <th>NObeyesdad</th>\n",
              "    </tr>\n",
              "  </thead>\n",
              "  <tbody>\n",
              "    <tr>\n",
              "      <th>0</th>\n",
              "      <td>1</td>\n",
              "      <td>21.0</td>\n",
              "      <td>1.62</td>\n",
              "      <td>64.0</td>\n",
              "      <td>yes</td>\n",
              "      <td>no</td>\n",
              "      <td>2.0</td>\n",
              "      <td>3.0</td>\n",
              "      <td>Sometimes</td>\n",
              "      <td>no</td>\n",
              "      <td>2.0</td>\n",
              "      <td>no</td>\n",
              "      <td>0.0</td>\n",
              "      <td>1.0</td>\n",
              "      <td>no</td>\n",
              "      <td>Public_Transportation</td>\n",
              "      <td>Normal_Weight</td>\n",
              "    </tr>\n",
              "    <tr>\n",
              "      <th>1</th>\n",
              "      <td>1</td>\n",
              "      <td>21.0</td>\n",
              "      <td>1.52</td>\n",
              "      <td>56.0</td>\n",
              "      <td>yes</td>\n",
              "      <td>no</td>\n",
              "      <td>3.0</td>\n",
              "      <td>3.0</td>\n",
              "      <td>Sometimes</td>\n",
              "      <td>yes</td>\n",
              "      <td>3.0</td>\n",
              "      <td>yes</td>\n",
              "      <td>3.0</td>\n",
              "      <td>0.0</td>\n",
              "      <td>Sometimes</td>\n",
              "      <td>Public_Transportation</td>\n",
              "      <td>Normal_Weight</td>\n",
              "    </tr>\n",
              "    <tr>\n",
              "      <th>2</th>\n",
              "      <td>0</td>\n",
              "      <td>23.0</td>\n",
              "      <td>1.80</td>\n",
              "      <td>77.0</td>\n",
              "      <td>yes</td>\n",
              "      <td>no</td>\n",
              "      <td>2.0</td>\n",
              "      <td>3.0</td>\n",
              "      <td>Sometimes</td>\n",
              "      <td>no</td>\n",
              "      <td>2.0</td>\n",
              "      <td>no</td>\n",
              "      <td>2.0</td>\n",
              "      <td>1.0</td>\n",
              "      <td>Frequently</td>\n",
              "      <td>Public_Transportation</td>\n",
              "      <td>Normal_Weight</td>\n",
              "    </tr>\n",
              "    <tr>\n",
              "      <th>3</th>\n",
              "      <td>0</td>\n",
              "      <td>27.0</td>\n",
              "      <td>1.80</td>\n",
              "      <td>87.0</td>\n",
              "      <td>no</td>\n",
              "      <td>no</td>\n",
              "      <td>3.0</td>\n",
              "      <td>3.0</td>\n",
              "      <td>Sometimes</td>\n",
              "      <td>no</td>\n",
              "      <td>2.0</td>\n",
              "      <td>no</td>\n",
              "      <td>2.0</td>\n",
              "      <td>0.0</td>\n",
              "      <td>Frequently</td>\n",
              "      <td>Walking</td>\n",
              "      <td>Overweight_Level_I</td>\n",
              "    </tr>\n",
              "    <tr>\n",
              "      <th>4</th>\n",
              "      <td>0</td>\n",
              "      <td>22.0</td>\n",
              "      <td>1.78</td>\n",
              "      <td>89.8</td>\n",
              "      <td>no</td>\n",
              "      <td>no</td>\n",
              "      <td>2.0</td>\n",
              "      <td>1.0</td>\n",
              "      <td>Sometimes</td>\n",
              "      <td>no</td>\n",
              "      <td>2.0</td>\n",
              "      <td>no</td>\n",
              "      <td>0.0</td>\n",
              "      <td>0.0</td>\n",
              "      <td>Sometimes</td>\n",
              "      <td>Public_Transportation</td>\n",
              "      <td>Overweight_Level_II</td>\n",
              "    </tr>\n",
              "  </tbody>\n",
              "</table>\n",
              "</div>"
            ],
            "text/plain": [
              "   Genero  Edad  Altura  ...        CALC                 MTRANS           NObeyesdad\n",
              "0       1  21.0    1.62  ...          no  Public_Transportation        Normal_Weight\n",
              "1       1  21.0    1.52  ...   Sometimes  Public_Transportation        Normal_Weight\n",
              "2       0  23.0    1.80  ...  Frequently  Public_Transportation        Normal_Weight\n",
              "3       0  27.0    1.80  ...  Frequently                Walking   Overweight_Level_I\n",
              "4       0  22.0    1.78  ...   Sometimes  Public_Transportation  Overweight_Level_II\n",
              "\n",
              "[5 rows x 17 columns]"
            ]
          },
          "metadata": {},
          "execution_count": 25
        }
      ]
    },
    {
      "cell_type": "markdown",
      "metadata": {
        "id": "7wCFaEo5T1s8"
      },
      "source": [
        "### **Edad**"
      ]
    },
    {
      "cell_type": "code",
      "metadata": {
        "colab": {
          "base_uri": "https://localhost:8080/"
        },
        "id": "74ome3_aEUSf",
        "outputId": "bfa8f163-5439-42ca-a5cc-caf174a97bd5"
      },
      "source": [
        "obesity.Edad.describe()"
      ],
      "execution_count": null,
      "outputs": [
        {
          "output_type": "execute_result",
          "data": {
            "text/plain": [
              "count    2087.000000\n",
              "mean       24.353090\n",
              "std         6.368801\n",
              "min        14.000000\n",
              "25%        19.915937\n",
              "50%        22.847618\n",
              "75%        26.000000\n",
              "max        61.000000\n",
              "Name: Edad, dtype: float64"
            ]
          },
          "metadata": {},
          "execution_count": 26
        }
      ]
    },
    {
      "cell_type": "markdown",
      "metadata": {
        "id": "azTtlZIMUGgE"
      },
      "source": [
        "La variable Edad, esta medida en años enteros, sin embargo, como se dijo anteriormente, el 70% de la base fue simulada, por ende encontramos valores continuos. Con fines académicos y de practica se realizará el ajuste correspondiente:\n"
      ]
    },
    {
      "cell_type": "code",
      "metadata": {
        "id": "W_Bgi3m_dUTY"
      },
      "source": [
        "obesity['Edad'] = obesity['Edad'].apply(lambda x: round(x, 0))"
      ],
      "execution_count": null,
      "outputs": []
    },
    {
      "cell_type": "markdown",
      "metadata": {
        "id": "qZBaZQtcCd_W"
      },
      "source": [
        "### **Peso**\n"
      ]
    },
    {
      "cell_type": "markdown",
      "metadata": {
        "id": "0oBrNG5ADSF2"
      },
      "source": [
        "En cuanto a la variable **Peso**, se presenta un valor minimo de 39 kg y un valor maximo de 173 kg, en promedio el **Peso** es de 86.58"
      ]
    },
    {
      "cell_type": "code",
      "metadata": {
        "colab": {
          "base_uri": "https://localhost:8080/"
        },
        "id": "xK-OpP-QCi_d",
        "outputId": "43e1f8a8-f01e-49c7-e4b7-ee978c7502b7"
      },
      "source": [
        "obesity.Peso.describe()"
      ],
      "execution_count": null,
      "outputs": [
        {
          "output_type": "execute_result",
          "data": {
            "text/plain": [
              "count    2087.000000\n",
              "mean       86.858730\n",
              "std        26.190847\n",
              "min        39.000000\n",
              "25%        66.000000\n",
              "50%        83.101100\n",
              "75%       108.015907\n",
              "max       173.000000\n",
              "Name: Peso, dtype: float64"
            ]
          },
          "metadata": {},
          "execution_count": 28
        }
      ]
    },
    {
      "cell_type": "markdown",
      "metadata": {
        "id": "CtSLkm8BEtLf"
      },
      "source": [
        "### **Altura**"
      ]
    },
    {
      "cell_type": "markdown",
      "metadata": {
        "id": "WVMF6GaNE9HB"
      },
      "source": [
        "En cuanto a la variable **Altura**, se presenta un valor minimo de 1.45 mts y un valor maximo de 1.98 mts, en promedio el **Altura** es de 1.70 mts"
      ]
    },
    {
      "cell_type": "code",
      "metadata": {
        "colab": {
          "base_uri": "https://localhost:8080/"
        },
        "id": "1lpOQN0IE0Mu",
        "outputId": "3e79f59e-3918-438c-c0a4-e18e58418cc0"
      },
      "source": [
        "obesity.Altura.describe()"
      ],
      "execution_count": null,
      "outputs": [
        {
          "output_type": "execute_result",
          "data": {
            "text/plain": [
              "count    2087.000000\n",
              "mean        1.702674\n",
              "std         0.093186\n",
              "min         1.450000\n",
              "25%         1.630178\n",
              "50%         1.701584\n",
              "75%         1.769491\n",
              "max         1.980000\n",
              "Name: Altura, dtype: float64"
            ]
          },
          "metadata": {},
          "execution_count": 29
        }
      ]
    },
    {
      "cell_type": "markdown",
      "metadata": {
        "id": "9Jwm3kSkFV_3"
      },
      "source": [
        "### **Antecedentes familiares con sobrepeso**"
      ]
    },
    {
      "cell_type": "code",
      "metadata": {
        "colab": {
          "base_uri": "https://localhost:8080/"
        },
        "id": "vQkjjj2GF8MJ",
        "outputId": "29a44853-bd31-4325-f1f4-881c5ce5d0d6"
      },
      "source": [
        "obesity.Antec_familiares.value_counts()"
      ],
      "execution_count": null,
      "outputs": [
        {
          "output_type": "execute_result",
          "data": {
            "text/plain": [
              "yes    1722\n",
              "no      365\n",
              "Name: Antec_familiares, dtype: int64"
            ]
          },
          "metadata": {},
          "execution_count": 30
        }
      ]
    },
    {
      "cell_type": "code",
      "metadata": {
        "colab": {
          "base_uri": "https://localhost:8080/"
        },
        "id": "spKQMiHLGLJu",
        "outputId": "9516caeb-3447-4994-d6e4-158ec7e0897f"
      },
      "source": [
        "print('De los',obesity.shape[0], 'registros, el',round(obesity.Antec_familiares.value_counts()[1]/obesity.shape[0]*100,2), '% tienen antecedentes familiarires con sobrepeso' )\n",
        "print('De los',obesity.shape[0], 'registros, el',round(obesity.Antec_familiares.value_counts()[0]/obesity.shape[0]*100,2), '% no tienen antecedentes familiarires con sobrepeso' )"
      ],
      "execution_count": null,
      "outputs": [
        {
          "output_type": "stream",
          "name": "stdout",
          "text": [
            "De los 2087 registros, el 17.49 % tienen antecedentes familiarires con sobrepeso\n",
            "De los 2087 registros, el 82.51 % no tienen antecedentes familiarires con sobrepeso\n"
          ]
        }
      ]
    },
    {
      "cell_type": "markdown",
      "metadata": {
        "id": "DT01JQSyFmk3"
      },
      "source": [
        "Recategorización\n",
        "\n",
        "      No = 0 \n",
        "      Yes = 1 "
      ]
    },
    {
      "cell_type": "code",
      "metadata": {
        "colab": {
          "base_uri": "https://localhost:8080/"
        },
        "id": "Em8pBXeOFmk4",
        "outputId": "1d14c13d-0b89-485f-8a97-8ba3754e86f1"
      },
      "source": [
        "obesity['Antec_familiares'] = obesity['Antec_familiares'].map({\"no\":0, \"yes\":1}) \n",
        "obesity.head()"
      ],
      "execution_count": null,
      "outputs": [
        {
          "output_type": "execute_result",
          "data": {
            "text/html": [
              "<div>\n",
              "<style scoped>\n",
              "    .dataframe tbody tr th:only-of-type {\n",
              "        vertical-align: middle;\n",
              "    }\n",
              "\n",
              "    .dataframe tbody tr th {\n",
              "        vertical-align: top;\n",
              "    }\n",
              "\n",
              "    .dataframe thead th {\n",
              "        text-align: right;\n",
              "    }\n",
              "</style>\n",
              "<table border=\"1\" class=\"dataframe\">\n",
              "  <thead>\n",
              "    <tr style=\"text-align: right;\">\n",
              "      <th></th>\n",
              "      <th>Genero</th>\n",
              "      <th>Edad</th>\n",
              "      <th>Altura</th>\n",
              "      <th>Peso</th>\n",
              "      <th>Antec_familiares</th>\n",
              "      <th>FAVC</th>\n",
              "      <th>FCVC</th>\n",
              "      <th>NCP</th>\n",
              "      <th>CAEC</th>\n",
              "      <th>Fuma</th>\n",
              "      <th>CH2O</th>\n",
              "      <th>SCC</th>\n",
              "      <th>FAF</th>\n",
              "      <th>TUE</th>\n",
              "      <th>CALC</th>\n",
              "      <th>MTRANS</th>\n",
              "      <th>NObeyesdad</th>\n",
              "    </tr>\n",
              "  </thead>\n",
              "  <tbody>\n",
              "    <tr>\n",
              "      <th>0</th>\n",
              "      <td>1</td>\n",
              "      <td>21.0</td>\n",
              "      <td>1.62</td>\n",
              "      <td>64.0</td>\n",
              "      <td>1</td>\n",
              "      <td>no</td>\n",
              "      <td>2.0</td>\n",
              "      <td>3.0</td>\n",
              "      <td>Sometimes</td>\n",
              "      <td>no</td>\n",
              "      <td>2.0</td>\n",
              "      <td>no</td>\n",
              "      <td>0.0</td>\n",
              "      <td>1.0</td>\n",
              "      <td>no</td>\n",
              "      <td>Public_Transportation</td>\n",
              "      <td>Normal_Weight</td>\n",
              "    </tr>\n",
              "    <tr>\n",
              "      <th>1</th>\n",
              "      <td>1</td>\n",
              "      <td>21.0</td>\n",
              "      <td>1.52</td>\n",
              "      <td>56.0</td>\n",
              "      <td>1</td>\n",
              "      <td>no</td>\n",
              "      <td>3.0</td>\n",
              "      <td>3.0</td>\n",
              "      <td>Sometimes</td>\n",
              "      <td>yes</td>\n",
              "      <td>3.0</td>\n",
              "      <td>yes</td>\n",
              "      <td>3.0</td>\n",
              "      <td>0.0</td>\n",
              "      <td>Sometimes</td>\n",
              "      <td>Public_Transportation</td>\n",
              "      <td>Normal_Weight</td>\n",
              "    </tr>\n",
              "    <tr>\n",
              "      <th>2</th>\n",
              "      <td>0</td>\n",
              "      <td>23.0</td>\n",
              "      <td>1.80</td>\n",
              "      <td>77.0</td>\n",
              "      <td>1</td>\n",
              "      <td>no</td>\n",
              "      <td>2.0</td>\n",
              "      <td>3.0</td>\n",
              "      <td>Sometimes</td>\n",
              "      <td>no</td>\n",
              "      <td>2.0</td>\n",
              "      <td>no</td>\n",
              "      <td>2.0</td>\n",
              "      <td>1.0</td>\n",
              "      <td>Frequently</td>\n",
              "      <td>Public_Transportation</td>\n",
              "      <td>Normal_Weight</td>\n",
              "    </tr>\n",
              "    <tr>\n",
              "      <th>3</th>\n",
              "      <td>0</td>\n",
              "      <td>27.0</td>\n",
              "      <td>1.80</td>\n",
              "      <td>87.0</td>\n",
              "      <td>0</td>\n",
              "      <td>no</td>\n",
              "      <td>3.0</td>\n",
              "      <td>3.0</td>\n",
              "      <td>Sometimes</td>\n",
              "      <td>no</td>\n",
              "      <td>2.0</td>\n",
              "      <td>no</td>\n",
              "      <td>2.0</td>\n",
              "      <td>0.0</td>\n",
              "      <td>Frequently</td>\n",
              "      <td>Walking</td>\n",
              "      <td>Overweight_Level_I</td>\n",
              "    </tr>\n",
              "    <tr>\n",
              "      <th>4</th>\n",
              "      <td>0</td>\n",
              "      <td>22.0</td>\n",
              "      <td>1.78</td>\n",
              "      <td>89.8</td>\n",
              "      <td>0</td>\n",
              "      <td>no</td>\n",
              "      <td>2.0</td>\n",
              "      <td>1.0</td>\n",
              "      <td>Sometimes</td>\n",
              "      <td>no</td>\n",
              "      <td>2.0</td>\n",
              "      <td>no</td>\n",
              "      <td>0.0</td>\n",
              "      <td>0.0</td>\n",
              "      <td>Sometimes</td>\n",
              "      <td>Public_Transportation</td>\n",
              "      <td>Overweight_Level_II</td>\n",
              "    </tr>\n",
              "  </tbody>\n",
              "</table>\n",
              "</div>"
            ],
            "text/plain": [
              "   Genero  Edad  Altura  ...        CALC                 MTRANS           NObeyesdad\n",
              "0       1  21.0    1.62  ...          no  Public_Transportation        Normal_Weight\n",
              "1       1  21.0    1.52  ...   Sometimes  Public_Transportation        Normal_Weight\n",
              "2       0  23.0    1.80  ...  Frequently  Public_Transportation        Normal_Weight\n",
              "3       0  27.0    1.80  ...  Frequently                Walking   Overweight_Level_I\n",
              "4       0  22.0    1.78  ...   Sometimes  Public_Transportation  Overweight_Level_II\n",
              "\n",
              "[5 rows x 17 columns]"
            ]
          },
          "metadata": {},
          "execution_count": 32
        }
      ]
    },
    {
      "cell_type": "markdown",
      "metadata": {
        "id": "EqlCp5mCG0s9"
      },
      "source": [
        "### **FAVC** "
      ]
    },
    {
      "cell_type": "markdown",
      "metadata": {
        "id": "8t0S7WgwG6Fb"
      },
      "source": [
        "Esta variable corresponde a si Consume alimentos ricos en calorias con fecuencia. Con posibles valores de respuesta **Si o No**"
      ]
    },
    {
      "cell_type": "code",
      "metadata": {
        "colab": {
          "base_uri": "https://localhost:8080/"
        },
        "id": "OLgRJBiBHXd5",
        "outputId": "99418245-fcbc-45c6-aa3e-1766ae8e7138"
      },
      "source": [
        "obesity.FAVC.value_counts()"
      ],
      "execution_count": null,
      "outputs": [
        {
          "output_type": "execute_result",
          "data": {
            "text/plain": [
              "yes    1844\n",
              "no      243\n",
              "Name: FAVC, dtype: int64"
            ]
          },
          "metadata": {},
          "execution_count": 33
        }
      ]
    },
    {
      "cell_type": "code",
      "metadata": {
        "colab": {
          "base_uri": "https://localhost:8080/"
        },
        "id": "S10LXjq-HXd7",
        "outputId": "a59df25e-298a-4432-f3a9-9fdc53761bfb"
      },
      "source": [
        "print('De los',obesity.shape[0], 'registros, el',round(obesity.FAVC.value_counts()[0]/obesity.shape[0]*100,2), '% comen alimentos ricos en calorias con frecuencia' )\n",
        "print('De los',obesity.shape[0], 'registros, el',round(obesity.FAVC.value_counts()[1]/obesity.shape[0]*100,2), '% no comen alimentos ricos en calorias con frecuencia' )"
      ],
      "execution_count": null,
      "outputs": [
        {
          "output_type": "stream",
          "name": "stdout",
          "text": [
            "De los 2087 registros, el 88.36 % comen alimentos ricos en calorias con frecuencia\n",
            "De los 2087 registros, el 11.64 % no comen alimentos ricos en calorias con frecuencia\n"
          ]
        }
      ]
    },
    {
      "cell_type": "markdown",
      "metadata": {
        "id": "Z2wqg0mVHXd8"
      },
      "source": [
        "Recategorización\n",
        "\n",
        "      No = 0 \n",
        "      Yes = 1 "
      ]
    },
    {
      "cell_type": "code",
      "metadata": {
        "colab": {
          "base_uri": "https://localhost:8080/"
        },
        "id": "4-fHIeKCHXd8",
        "outputId": "f1f8e980-9b9f-4546-b5c6-97f4f7ff732b"
      },
      "source": [
        "obesity['FAVC'] = obesity['FAVC'].map({\"no\":0, \"yes\":1}) \n",
        "obesity.head()"
      ],
      "execution_count": null,
      "outputs": [
        {
          "output_type": "execute_result",
          "data": {
            "text/html": [
              "<div>\n",
              "<style scoped>\n",
              "    .dataframe tbody tr th:only-of-type {\n",
              "        vertical-align: middle;\n",
              "    }\n",
              "\n",
              "    .dataframe tbody tr th {\n",
              "        vertical-align: top;\n",
              "    }\n",
              "\n",
              "    .dataframe thead th {\n",
              "        text-align: right;\n",
              "    }\n",
              "</style>\n",
              "<table border=\"1\" class=\"dataframe\">\n",
              "  <thead>\n",
              "    <tr style=\"text-align: right;\">\n",
              "      <th></th>\n",
              "      <th>Genero</th>\n",
              "      <th>Edad</th>\n",
              "      <th>Altura</th>\n",
              "      <th>Peso</th>\n",
              "      <th>Antec_familiares</th>\n",
              "      <th>FAVC</th>\n",
              "      <th>FCVC</th>\n",
              "      <th>NCP</th>\n",
              "      <th>CAEC</th>\n",
              "      <th>Fuma</th>\n",
              "      <th>CH2O</th>\n",
              "      <th>SCC</th>\n",
              "      <th>FAF</th>\n",
              "      <th>TUE</th>\n",
              "      <th>CALC</th>\n",
              "      <th>MTRANS</th>\n",
              "      <th>NObeyesdad</th>\n",
              "    </tr>\n",
              "  </thead>\n",
              "  <tbody>\n",
              "    <tr>\n",
              "      <th>0</th>\n",
              "      <td>1</td>\n",
              "      <td>21.0</td>\n",
              "      <td>1.62</td>\n",
              "      <td>64.0</td>\n",
              "      <td>1</td>\n",
              "      <td>0</td>\n",
              "      <td>2.0</td>\n",
              "      <td>3.0</td>\n",
              "      <td>Sometimes</td>\n",
              "      <td>no</td>\n",
              "      <td>2.0</td>\n",
              "      <td>no</td>\n",
              "      <td>0.0</td>\n",
              "      <td>1.0</td>\n",
              "      <td>no</td>\n",
              "      <td>Public_Transportation</td>\n",
              "      <td>Normal_Weight</td>\n",
              "    </tr>\n",
              "    <tr>\n",
              "      <th>1</th>\n",
              "      <td>1</td>\n",
              "      <td>21.0</td>\n",
              "      <td>1.52</td>\n",
              "      <td>56.0</td>\n",
              "      <td>1</td>\n",
              "      <td>0</td>\n",
              "      <td>3.0</td>\n",
              "      <td>3.0</td>\n",
              "      <td>Sometimes</td>\n",
              "      <td>yes</td>\n",
              "      <td>3.0</td>\n",
              "      <td>yes</td>\n",
              "      <td>3.0</td>\n",
              "      <td>0.0</td>\n",
              "      <td>Sometimes</td>\n",
              "      <td>Public_Transportation</td>\n",
              "      <td>Normal_Weight</td>\n",
              "    </tr>\n",
              "    <tr>\n",
              "      <th>2</th>\n",
              "      <td>0</td>\n",
              "      <td>23.0</td>\n",
              "      <td>1.80</td>\n",
              "      <td>77.0</td>\n",
              "      <td>1</td>\n",
              "      <td>0</td>\n",
              "      <td>2.0</td>\n",
              "      <td>3.0</td>\n",
              "      <td>Sometimes</td>\n",
              "      <td>no</td>\n",
              "      <td>2.0</td>\n",
              "      <td>no</td>\n",
              "      <td>2.0</td>\n",
              "      <td>1.0</td>\n",
              "      <td>Frequently</td>\n",
              "      <td>Public_Transportation</td>\n",
              "      <td>Normal_Weight</td>\n",
              "    </tr>\n",
              "    <tr>\n",
              "      <th>3</th>\n",
              "      <td>0</td>\n",
              "      <td>27.0</td>\n",
              "      <td>1.80</td>\n",
              "      <td>87.0</td>\n",
              "      <td>0</td>\n",
              "      <td>0</td>\n",
              "      <td>3.0</td>\n",
              "      <td>3.0</td>\n",
              "      <td>Sometimes</td>\n",
              "      <td>no</td>\n",
              "      <td>2.0</td>\n",
              "      <td>no</td>\n",
              "      <td>2.0</td>\n",
              "      <td>0.0</td>\n",
              "      <td>Frequently</td>\n",
              "      <td>Walking</td>\n",
              "      <td>Overweight_Level_I</td>\n",
              "    </tr>\n",
              "    <tr>\n",
              "      <th>4</th>\n",
              "      <td>0</td>\n",
              "      <td>22.0</td>\n",
              "      <td>1.78</td>\n",
              "      <td>89.8</td>\n",
              "      <td>0</td>\n",
              "      <td>0</td>\n",
              "      <td>2.0</td>\n",
              "      <td>1.0</td>\n",
              "      <td>Sometimes</td>\n",
              "      <td>no</td>\n",
              "      <td>2.0</td>\n",
              "      <td>no</td>\n",
              "      <td>0.0</td>\n",
              "      <td>0.0</td>\n",
              "      <td>Sometimes</td>\n",
              "      <td>Public_Transportation</td>\n",
              "      <td>Overweight_Level_II</td>\n",
              "    </tr>\n",
              "  </tbody>\n",
              "</table>\n",
              "</div>"
            ],
            "text/plain": [
              "   Genero  Edad  Altura  ...        CALC                 MTRANS           NObeyesdad\n",
              "0       1  21.0    1.62  ...          no  Public_Transportation        Normal_Weight\n",
              "1       1  21.0    1.52  ...   Sometimes  Public_Transportation        Normal_Weight\n",
              "2       0  23.0    1.80  ...  Frequently  Public_Transportation        Normal_Weight\n",
              "3       0  27.0    1.80  ...  Frequently                Walking   Overweight_Level_I\n",
              "4       0  22.0    1.78  ...   Sometimes  Public_Transportation  Overweight_Level_II\n",
              "\n",
              "[5 rows x 17 columns]"
            ]
          },
          "metadata": {},
          "execution_count": 35
        }
      ]
    },
    {
      "cell_type": "markdown",
      "metadata": {
        "id": "DY8whh14H96A"
      },
      "source": [
        "### **FCVC**"
      ]
    },
    {
      "cell_type": "markdown",
      "metadata": {
        "id": "jhJCstKGICLg"
      },
      "source": [
        "Esta variable corresponde a si consume verduras en sus comidas. Posibles respuestas:\n",
        "\n",
        "    Nunca = 1\n",
        "    Algunas veces = 2 \n",
        "    Siempre = 3 "
      ]
    },
    {
      "cell_type": "markdown",
      "metadata": {
        "id": "4ikMHBJVIrGC"
      },
      "source": [
        "Misma situación de valores simulados"
      ]
    },
    {
      "cell_type": "code",
      "metadata": {
        "colab": {
          "base_uri": "https://localhost:8080/"
        },
        "id": "zr-HrHa2IBLP",
        "outputId": "38d6eb4d-957b-49b3-fafc-05e8d4284b54"
      },
      "source": [
        "obesity.FCVC.value_counts()"
      ],
      "execution_count": null,
      "outputs": [
        {
          "output_type": "execute_result",
          "data": {
            "text/plain": [
              "3.000000    647\n",
              "2.000000    581\n",
              "1.000000     33\n",
              "2.823179      2\n",
              "2.816460      2\n",
              "           ... \n",
              "1.943130      1\n",
              "2.530233      1\n",
              "1.443674      1\n",
              "2.076689      1\n",
              "2.562100      1\n",
              "Name: FCVC, Length: 810, dtype: int64"
            ]
          },
          "metadata": {},
          "execution_count": 36
        }
      ]
    },
    {
      "cell_type": "code",
      "metadata": {
        "id": "2A37labBIzRp"
      },
      "source": [
        "obesity['FCVC'] = obesity['FCVC'].apply(lambda x: round(x, 0))"
      ],
      "execution_count": null,
      "outputs": []
    },
    {
      "cell_type": "code",
      "metadata": {
        "colab": {
          "base_uri": "https://localhost:8080/"
        },
        "id": "Kxvmb22OI7hv",
        "outputId": "ca2829ca-42cc-44b1-b717-b72b63186bf2"
      },
      "source": [
        "obesity['FCVC'].value_counts()"
      ],
      "execution_count": null,
      "outputs": [
        {
          "output_type": "execute_result",
          "data": {
            "text/plain": [
              "2.0    994\n",
              "3.0    991\n",
              "1.0    102\n",
              "Name: FCVC, dtype: int64"
            ]
          },
          "metadata": {},
          "execution_count": 38
        }
      ]
    },
    {
      "cell_type": "code",
      "metadata": {
        "colab": {
          "base_uri": "https://localhost:8080/"
        },
        "id": "GkRX6uv0JIk8",
        "outputId": "46fa4516-79cd-4444-8d2c-bd24c788d60b"
      },
      "source": [
        "print('De los',obesity.shape[0], 'registros, el',round(obesity['FCVC'].value_counts()[2]/obesity.shape[0]*100,2), '% algunas veces comen verduras en sus comidas' )\n",
        "print('De los',obesity.shape[0], 'registros, el',round(obesity['FCVC'].value_counts()[3]/obesity.shape[0]*100,2), '% siempre comen verduras en sus comidas' )\n",
        "print('De los',obesity.shape[0], 'registros, el',round(obesity['FCVC'].value_counts()[1]/obesity.shape[0]*100,2), '% nunca comen verduras en sus comidas' )"
      ],
      "execution_count": null,
      "outputs": [
        {
          "output_type": "stream",
          "name": "stdout",
          "text": [
            "De los 2087 registros, el 47.63 % algunas veces comen verduras en sus comidas\n",
            "De los 2087 registros, el 47.48 % siempre comen verduras en sus comidas\n",
            "De los 2087 registros, el 4.89 % nunca comen verduras en sus comidas\n"
          ]
        }
      ]
    },
    {
      "cell_type": "markdown",
      "metadata": {
        "id": "i0vmvLkXKQGi"
      },
      "source": [
        "### **NCP**"
      ]
    },
    {
      "cell_type": "markdown",
      "metadata": {
        "id": "RONwPFgpKQGj"
      },
      "source": [
        "Esta variable corresponde a cuántas comidas principales consume al día. Valor de la variable: Número entero "
      ]
    },
    {
      "cell_type": "markdown",
      "metadata": {
        "id": "amFxGTLwKQGj"
      },
      "source": [
        "Misma situación de valores simulados"
      ]
    },
    {
      "cell_type": "code",
      "metadata": {
        "colab": {
          "base_uri": "https://localhost:8080/"
        },
        "id": "R85qUZ_SKn8b",
        "outputId": "611645af-11ce-499c-92b9-13f131ee8e38"
      },
      "source": [
        "obesity.NCP.describe()"
      ],
      "execution_count": null,
      "outputs": [
        {
          "output_type": "execute_result",
          "data": {
            "text/plain": [
              "count    2087.000000\n",
              "mean        2.701179\n",
              "std         0.764614\n",
              "min         1.000000\n",
              "25%         2.697467\n",
              "50%         3.000000\n",
              "75%         3.000000\n",
              "max         4.000000\n",
              "Name: NCP, dtype: float64"
            ]
          },
          "metadata": {},
          "execution_count": 40
        }
      ]
    },
    {
      "cell_type": "code",
      "metadata": {
        "colab": {
          "base_uri": "https://localhost:8080/"
        },
        "id": "XDeF1lRiKQGk",
        "outputId": "82ca983e-a3be-4233-8b6a-590d4dada577"
      },
      "source": [
        "obesity.NCP.value_counts()"
      ],
      "execution_count": null,
      "outputs": [
        {
          "output_type": "execute_result",
          "data": {
            "text/plain": [
              "3.000000    1199\n",
              "1.000000     179\n",
              "4.000000      69\n",
              "3.985442       2\n",
              "1.104642       2\n",
              "            ... \n",
              "2.658837       1\n",
              "1.240424       1\n",
              "2.057935       1\n",
              "2.337035       1\n",
              "2.434347       1\n",
              "Name: NCP, Length: 635, dtype: int64"
            ]
          },
          "metadata": {},
          "execution_count": 41
        }
      ]
    },
    {
      "cell_type": "code",
      "metadata": {
        "id": "VwNvG_iOKQGl"
      },
      "source": [
        "obesity['NCP'] = obesity['NCP'].apply(lambda x: round(x, 0))"
      ],
      "execution_count": null,
      "outputs": []
    },
    {
      "cell_type": "code",
      "metadata": {
        "colab": {
          "base_uri": "https://localhost:8080/"
        },
        "id": "STqnIbRIKQGl",
        "outputId": "684e8f96-99b8-4bcb-dc5d-9f0a12f3c9a5"
      },
      "source": [
        "obesity['NCP'].value_counts()"
      ],
      "execution_count": null,
      "outputs": [
        {
          "output_type": "execute_result",
          "data": {
            "text/plain": [
              "3.0    1466\n",
              "1.0     296\n",
              "2.0     176\n",
              "4.0     149\n",
              "Name: NCP, dtype: int64"
            ]
          },
          "metadata": {},
          "execution_count": 43
        }
      ]
    },
    {
      "cell_type": "code",
      "metadata": {
        "colab": {
          "base_uri": "https://localhost:8080/"
        },
        "id": "S1b9q_bcKQGm",
        "outputId": "a771e200-881b-407e-b09c-ad77ceb42608"
      },
      "source": [
        "print('El',round(obesity['NCP'].value_counts()[3]/obesity.shape[0]*100,2), '% tiene 3 comidas principales al día' )\n",
        "print('El',round(obesity['NCP'].value_counts()[1]/obesity.shape[0]*100,2), '% tiene 1 comida principal al día' )\n",
        "print('El',round(obesity['NCP'].value_counts()[2]/obesity.shape[0]*100,2), '% tiene 2 comidas principales al día' )\n",
        "print('El',round(obesity['NCP'].value_counts()[4]/obesity.shape[0]*100,2), '% tiene 4 comidas principales al día' )"
      ],
      "execution_count": null,
      "outputs": [
        {
          "output_type": "stream",
          "name": "stdout",
          "text": [
            "El 70.24 % tiene 3 comidas principales al día\n",
            "El 14.18 % tiene 1 comida principal al día\n",
            "El 8.43 % tiene 2 comidas principales al día\n",
            "El 7.14 % tiene 4 comidas principales al día\n"
          ]
        }
      ]
    },
    {
      "cell_type": "markdown",
      "metadata": {
        "id": "xlKPBPj0MOmZ"
      },
      "source": [
        "### **CAEC** "
      ]
    },
    {
      "cell_type": "markdown",
      "metadata": {
        "id": "k53qNBFwMVXh"
      },
      "source": [
        "Esta variable corresponde al consumo de alimentos dentre comidas \n",
        "\n",
        "    No\n",
        "    Algunas veces\n",
        "    Frecuentemente\n",
        "    Siempre"
      ]
    },
    {
      "cell_type": "code",
      "metadata": {
        "colab": {
          "base_uri": "https://localhost:8080/"
        },
        "id": "rksO_PrzMqke",
        "outputId": "4ef21d98-ff5a-4059-f02b-6136114e445e"
      },
      "source": [
        "obesity.CAEC.value_counts()"
      ],
      "execution_count": null,
      "outputs": [
        {
          "output_type": "execute_result",
          "data": {
            "text/plain": [
              "Sometimes     1761\n",
              "Frequently     236\n",
              "Always          53\n",
              "no              37\n",
              "Name: CAEC, dtype: int64"
            ]
          },
          "metadata": {},
          "execution_count": 45
        }
      ]
    },
    {
      "cell_type": "code",
      "metadata": {
        "colab": {
          "base_uri": "https://localhost:8080/"
        },
        "id": "KhZHwtbQMqkg",
        "outputId": "067134d6-90ce-4847-9d99-1b592a64cd49"
      },
      "source": [
        "print('El',round(obesity.CAEC.value_counts()[0]/obesity.shape[0]*100,2), '% algunas veces' )\n",
        "print('El',round(obesity.CAEC.value_counts()[1]/obesity.shape[0]*100,2), '% frecuentemente' )\n",
        "print('El',round(obesity.CAEC.value_counts()[2]/obesity.shape[0]*100,2), '% siempre' )\n",
        "print('El',round(obesity.CAEC.value_counts()[3]/obesity.shape[0]*100,2), '% Nunca' )"
      ],
      "execution_count": null,
      "outputs": [
        {
          "output_type": "stream",
          "name": "stdout",
          "text": [
            "El 84.38 % algunas veces\n",
            "El 11.31 % frecuentemente\n",
            "El 2.54 % siempre\n",
            "El 1.77 % Nunca\n"
          ]
        }
      ]
    },
    {
      "cell_type": "markdown",
      "metadata": {
        "id": "aUK6jKUmNeOs"
      },
      "source": [
        "Recategorización\n",
        "\n",
        "    No = 0\n",
        "    Algunas veces = 1\n",
        "    Frecuentemente = 2\n",
        "    Siempre = 3"
      ]
    },
    {
      "cell_type": "code",
      "metadata": {
        "id": "UnW7bURPNeOt"
      },
      "source": [
        "obesity['CAEC'] = obesity['CAEC'].map({\"no\":0, \"Sometimes\":1, \"Frequently\":2, \"Always\":3}) "
      ],
      "execution_count": null,
      "outputs": []
    },
    {
      "cell_type": "markdown",
      "metadata": {
        "id": "zXtSbI73OeIq"
      },
      "source": [
        "### **Fuma**"
      ]
    },
    {
      "cell_type": "markdown",
      "metadata": {
        "id": "Ucd9xOLBOi2a"
      },
      "source": [
        "Variable que corresponde a si fuma o no. Dos posibles respuestas de **si o no**"
      ]
    },
    {
      "cell_type": "code",
      "metadata": {
        "colab": {
          "base_uri": "https://localhost:8080/"
        },
        "id": "u9IaW2_BOgYB",
        "outputId": "14e8683e-1dd8-48a9-9c29-55df31e628aa"
      },
      "source": [
        "obesity.Fuma.value_counts()"
      ],
      "execution_count": null,
      "outputs": [
        {
          "output_type": "execute_result",
          "data": {
            "text/plain": [
              "no     2043\n",
              "yes      44\n",
              "Name: Fuma, dtype: int64"
            ]
          },
          "metadata": {},
          "execution_count": 48
        }
      ]
    },
    {
      "cell_type": "code",
      "metadata": {
        "colab": {
          "base_uri": "https://localhost:8080/"
        },
        "id": "lxNGdGdtO2gK",
        "outputId": "be374424-d23b-47b7-9315-134f5bf76c5c"
      },
      "source": [
        "print('El',round(obesity.Fuma.value_counts()[0]/obesity.shape[0]*100,2), '% no fuma' )\n",
        "print('El',round(obesity.Fuma.value_counts()[1]/obesity.shape[0]*100,2), '% si fuma' )"
      ],
      "execution_count": null,
      "outputs": [
        {
          "output_type": "stream",
          "name": "stdout",
          "text": [
            "El 97.89 % no fuma\n",
            "El 2.11 % si fuma\n"
          ]
        }
      ]
    },
    {
      "cell_type": "markdown",
      "metadata": {
        "id": "vctX8KNvPGzc"
      },
      "source": [
        "Recategorización\n",
        "\n",
        "      No = 0 \n",
        "      Yes = 1 "
      ]
    },
    {
      "cell_type": "code",
      "metadata": {
        "id": "Hu8nLSfLPGzd"
      },
      "source": [
        "obesity['Fuma'] = obesity['Fuma'].map({\"no\":0, \"yes\":1}) "
      ],
      "execution_count": null,
      "outputs": []
    },
    {
      "cell_type": "markdown",
      "metadata": {
        "id": "Lkh066D3PcTS"
      },
      "source": [
        "### **CH2O**"
      ]
    },
    {
      "cell_type": "markdown",
      "metadata": {
        "id": "l0TknulePfhL"
      },
      "source": [
        "Esta variable corresponde al cosumo de agua diario. Valor de la variable: \n",
        "\n",
        "    Menos de un litro = 1\n",
        "    Entre 1 y 2 L = 2\n",
        "    Más de 2 L = 3"
      ]
    },
    {
      "cell_type": "markdown",
      "metadata": {
        "id": "S9IZqYzJPfhM"
      },
      "source": [
        "Misma situación de valores simulados"
      ]
    },
    {
      "cell_type": "code",
      "metadata": {
        "colab": {
          "base_uri": "https://localhost:8080/"
        },
        "id": "JRAVVSc-PfhN",
        "outputId": "d7793942-62dd-41e4-dd81-a8f4483175d4"
      },
      "source": [
        "obesity.CH2O.describe()"
      ],
      "execution_count": null,
      "outputs": [
        {
          "output_type": "execute_result",
          "data": {
            "text/plain": [
              "count    2087.000000\n",
              "mean        2.004749\n",
              "std         0.608284\n",
              "min         1.000000\n",
              "25%         1.590922\n",
              "50%         2.000000\n",
              "75%         2.466193\n",
              "max         3.000000\n",
              "Name: CH2O, dtype: float64"
            ]
          },
          "metadata": {},
          "execution_count": 51
        }
      ]
    },
    {
      "cell_type": "code",
      "metadata": {
        "colab": {
          "base_uri": "https://localhost:8080/"
        },
        "id": "zXdADKydPfhO",
        "outputId": "12361e2d-053d-4120-9cf7-0d9f8e390212"
      },
      "source": [
        "obesity.CH2O.value_counts()"
      ],
      "execution_count": null,
      "outputs": [
        {
          "output_type": "execute_result",
          "data": {
            "text/plain": [
              "2.000000    445\n",
              "1.000000    204\n",
              "3.000000    148\n",
              "1.636326      3\n",
              "2.825629      3\n",
              "           ... \n",
              "2.931438      1\n",
              "2.224914      1\n",
              "2.724099      1\n",
              "2.714091      1\n",
              "2.318736      1\n",
              "Name: CH2O, Length: 1268, dtype: int64"
            ]
          },
          "metadata": {},
          "execution_count": 52
        }
      ]
    },
    {
      "cell_type": "code",
      "metadata": {
        "id": "ILmuhMjDPfhO"
      },
      "source": [
        "obesity['CH2O'] = obesity['CH2O'].apply(lambda x: round(x, 0))"
      ],
      "execution_count": null,
      "outputs": []
    },
    {
      "cell_type": "code",
      "metadata": {
        "colab": {
          "base_uri": "https://localhost:8080/"
        },
        "id": "idXXsAAYPfhP",
        "outputId": "6b853221-ab23-4ced-bde8-875f18280679"
      },
      "source": [
        "obesity['CH2O'].value_counts()"
      ],
      "execution_count": null,
      "outputs": [
        {
          "output_type": "execute_result",
          "data": {
            "text/plain": [
              "2.0    1107\n",
              "3.0     502\n",
              "1.0     478\n",
              "Name: CH2O, dtype: int64"
            ]
          },
          "metadata": {},
          "execution_count": 54
        }
      ]
    },
    {
      "cell_type": "code",
      "metadata": {
        "colab": {
          "base_uri": "https://localhost:8080/"
        },
        "id": "9x93fG3oPfhP",
        "outputId": "32547724-7a79-4929-9084-320715394d5b"
      },
      "source": [
        "print('El',round(obesity['CH2O'].value_counts()[2]/obesity.shape[0]*100,2), '% toma entre 1 y 2 litros' )\n",
        "print('El',round(obesity['CH2O'].value_counts()[3]/obesity.shape[0]*100,2), '% toma más de 2 litros' )\n",
        "print('El',round(obesity['CH2O'].value_counts()[1]/obesity.shape[0]*100,2), '% toma menos de 1 litro' )\n"
      ],
      "execution_count": null,
      "outputs": [
        {
          "output_type": "stream",
          "name": "stdout",
          "text": [
            "El 53.04 % toma entre 1 y 2 litros\n",
            "El 24.05 % toma más de 2 litros\n",
            "El 22.9 % toma menos de 1 litro\n"
          ]
        }
      ]
    },
    {
      "cell_type": "markdown",
      "metadata": {
        "id": "RE3UHlTuQkyL"
      },
      "source": [
        "### **SCC**"
      ]
    },
    {
      "cell_type": "markdown",
      "metadata": {
        "id": "6VSndGaeQy0r"
      },
      "source": [
        "Variable que corresponde aL Monitoreo del consumo de calorías. Dos posibles respuestas de **si o no**"
      ]
    },
    {
      "cell_type": "code",
      "metadata": {
        "colab": {
          "base_uri": "https://localhost:8080/"
        },
        "id": "fGxYGePsQy0s",
        "outputId": "6721b383-10f0-47b6-d94b-584a38adb9d5"
      },
      "source": [
        "obesity.SCC.value_counts()"
      ],
      "execution_count": null,
      "outputs": [
        {
          "output_type": "execute_result",
          "data": {
            "text/plain": [
              "no     1991\n",
              "yes      96\n",
              "Name: SCC, dtype: int64"
            ]
          },
          "metadata": {},
          "execution_count": 56
        }
      ]
    },
    {
      "cell_type": "code",
      "metadata": {
        "colab": {
          "base_uri": "https://localhost:8080/"
        },
        "id": "am1tWtgWQy0t",
        "outputId": "0540de86-d96b-4dfd-a277-6fda2817b07b"
      },
      "source": [
        "print('El',round(obesity.SCC.value_counts()[0]/obesity.shape[0]*100,2), '% no hace monitoreo' )\n",
        "print('El',round(obesity.SCC.value_counts()[1]/obesity.shape[0]*100,2), '% si hace monitoreo' )"
      ],
      "execution_count": null,
      "outputs": [
        {
          "output_type": "stream",
          "name": "stdout",
          "text": [
            "El 95.4 % no hace monitoreo\n",
            "El 4.6 % si hace monitoreo\n"
          ]
        }
      ]
    },
    {
      "cell_type": "markdown",
      "metadata": {
        "id": "vUUPrZS7Qy0u"
      },
      "source": [
        "Recategorización\n",
        "\n",
        "      No = 0 \n",
        "      Yes = 1 "
      ]
    },
    {
      "cell_type": "code",
      "metadata": {
        "id": "-yXCZQpwQy0v"
      },
      "source": [
        "obesity['SCC'] = obesity['SCC'].map({\"no\":0, \"yes\":1}) "
      ],
      "execution_count": null,
      "outputs": []
    },
    {
      "cell_type": "markdown",
      "metadata": {
        "id": "S31zoZznRUBj"
      },
      "source": [
        "### **FAF**"
      ]
    },
    {
      "cell_type": "markdown",
      "metadata": {
        "id": "ZEUsb1xJRXFV"
      },
      "source": [
        "Variable corresponde a Frecuencia de actividad física\n",
        "\n",
        "    no tengo = 0\n",
        "    1 o 2 días = 1\n",
        "    2 o 4 dias = 2\n",
        "    4 o 5 días = 3"
      ]
    },
    {
      "cell_type": "code",
      "metadata": {
        "colab": {
          "base_uri": "https://localhost:8080/"
        },
        "id": "X7LbsHx4RWIb",
        "outputId": "c28e4417-59cd-483c-8c8e-ead91d5e115f"
      },
      "source": [
        "obesity.FAF.describe()"
      ],
      "execution_count": null,
      "outputs": [
        {
          "output_type": "execute_result",
          "data": {
            "text/plain": [
              "count    2087.000000\n",
              "mean        1.012812\n",
              "std         0.853475\n",
              "min         0.000000\n",
              "25%         0.124505\n",
              "50%         1.000000\n",
              "75%         1.678102\n",
              "max         3.000000\n",
              "Name: FAF, dtype: float64"
            ]
          },
          "metadata": {},
          "execution_count": 59
        }
      ]
    },
    {
      "cell_type": "code",
      "metadata": {
        "colab": {
          "base_uri": "https://localhost:8080/"
        },
        "id": "4-Hui88MRhmq",
        "outputId": "11df81d3-256b-48db-e4e5-3735588fbeee"
      },
      "source": [
        "obesity.FAF.value_counts()"
      ],
      "execution_count": null,
      "outputs": [
        {
          "output_type": "execute_result",
          "data": {
            "text/plain": [
              "0.000000    405\n",
              "1.000000    217\n",
              "2.000000    182\n",
              "3.000000     75\n",
              "1.067817      2\n",
              "           ... \n",
              "0.979306      1\n",
              "0.246290      1\n",
              "1.217180      1\n",
              "1.684582      1\n",
              "1.170537      1\n",
              "Name: FAF, Length: 1190, dtype: int64"
            ]
          },
          "metadata": {},
          "execution_count": 60
        }
      ]
    },
    {
      "cell_type": "code",
      "metadata": {
        "id": "Lh1bMK88SBft"
      },
      "source": [
        "obesity['FAF'] = obesity['FAF'].apply(lambda x: round(x, 0))"
      ],
      "execution_count": null,
      "outputs": []
    },
    {
      "cell_type": "code",
      "metadata": {
        "colab": {
          "base_uri": "https://localhost:8080/"
        },
        "id": "4pqt-ItiSBft",
        "outputId": "eca2a787-0db9-40ee-a2ab-6f161170d3a8"
      },
      "source": [
        "obesity['FAF'].value_counts()"
      ],
      "execution_count": null,
      "outputs": [
        {
          "output_type": "execute_result",
          "data": {
            "text/plain": [
              "1.0    759\n",
              "0.0    714\n",
              "2.0    495\n",
              "3.0    119\n",
              "Name: FAF, dtype: int64"
            ]
          },
          "metadata": {},
          "execution_count": 62
        }
      ]
    },
    {
      "cell_type": "code",
      "metadata": {
        "colab": {
          "base_uri": "https://localhost:8080/"
        },
        "id": "h5o0ucdrSBfu",
        "outputId": "bc0ffabc-6df8-4709-f456-24ae4440a5fc"
      },
      "source": [
        "print('El',round(obesity['FAF'].value_counts()[1]/obesity.shape[0]*100,2), '% 1 o 2 días a la semana' )\n",
        "print('El',round(obesity['FAF'].value_counts()[0]/obesity.shape[0]*100,2), '% nunca' )\n",
        "print('El',round(obesity['FAF'].value_counts()[2]/obesity.shape[0]*100,2), '% 2 o 4 días a la semana' )\n",
        "print('El',round(obesity['FAF'].value_counts()[3]/obesity.shape[0]*100,2), '% 4 o 5 días a la semana' )\n"
      ],
      "execution_count": null,
      "outputs": [
        {
          "output_type": "stream",
          "name": "stdout",
          "text": [
            "El 36.37 % 1 o 2 días a la semana\n",
            "El 34.21 % nunca\n",
            "El 23.72 % 2 o 4 días a la semana\n",
            "El 5.7 % 4 o 5 días a la semana\n"
          ]
        }
      ]
    },
    {
      "cell_type": "markdown",
      "metadata": {
        "id": "yvmjcf0nS8fL"
      },
      "source": [
        "### **TUE**"
      ]
    },
    {
      "cell_type": "markdown",
      "metadata": {
        "id": "upyfp0eMTE0F"
      },
      "source": [
        "Corresponde al tiempo usado en dispositivos tecnológicos\n",
        "\n",
        "    0-2 horas = 0\n",
        "    3-5 horas = 1\n",
        "    Más de 5 horas = 2"
      ]
    },
    {
      "cell_type": "code",
      "metadata": {
        "colab": {
          "base_uri": "https://localhost:8080/"
        },
        "id": "j_1bQ7tmTSnn",
        "outputId": "972d2b45-79ee-432f-be04-3b02599c678c"
      },
      "source": [
        "obesity.TUE.describe()"
      ],
      "execution_count": null,
      "outputs": [
        {
          "output_type": "execute_result",
          "data": {
            "text/plain": [
              "count    2087.000000\n",
              "mean        0.663035\n",
              "std         0.608153\n",
              "min         0.000000\n",
              "25%         0.000000\n",
              "50%         0.630866\n",
              "75%         1.000000\n",
              "max         2.000000\n",
              "Name: TUE, dtype: float64"
            ]
          },
          "metadata": {},
          "execution_count": 64
        }
      ]
    },
    {
      "cell_type": "code",
      "metadata": {
        "colab": {
          "base_uri": "https://localhost:8080/"
        },
        "id": "h0jRORBeTSno",
        "outputId": "09eb746a-21ab-45a8-dea1-09fc8b642cac"
      },
      "source": [
        "obesity.TUE.value_counts()"
      ],
      "execution_count": null,
      "outputs": [
        {
          "output_type": "execute_result",
          "data": {
            "text/plain": [
              "0.000000    537\n",
              "1.000000    289\n",
              "2.000000    108\n",
              "0.630866      4\n",
              "1.119877      3\n",
              "           ... \n",
              "0.220029      1\n",
              "0.052942      1\n",
              "0.957463      1\n",
              "1.425852      1\n",
              "0.857438      1\n",
              "Name: TUE, Length: 1129, dtype: int64"
            ]
          },
          "metadata": {},
          "execution_count": 65
        }
      ]
    },
    {
      "cell_type": "code",
      "metadata": {
        "id": "-hNjlIU9TSno"
      },
      "source": [
        "obesity['TUE'] = obesity['TUE'].apply(lambda x: round(x, 0))"
      ],
      "execution_count": null,
      "outputs": []
    },
    {
      "cell_type": "code",
      "metadata": {
        "colab": {
          "base_uri": "https://localhost:8080/"
        },
        "id": "hDxTw7FATSno",
        "outputId": "eec111c0-97c1-4b83-9818-4fd97b4ac8d1"
      },
      "source": [
        "obesity['TUE'].value_counts()"
      ],
      "execution_count": null,
      "outputs": [
        {
          "output_type": "execute_result",
          "data": {
            "text/plain": [
              "0.0    932\n",
              "1.0    912\n",
              "2.0    243\n",
              "Name: TUE, dtype: int64"
            ]
          },
          "metadata": {},
          "execution_count": 67
        }
      ]
    },
    {
      "cell_type": "code",
      "metadata": {
        "colab": {
          "base_uri": "https://localhost:8080/"
        },
        "id": "VRa7RZ1lTSno",
        "outputId": "ebeb2a6a-2fe5-4ba7-c89c-4352c358ec13"
      },
      "source": [
        "print('El',round(obesity['TUE'].value_counts()[0]/obesity.shape[0]*100,2), '% 0 a 2 horas ' )\n",
        "print('El',round(obesity['TUE'].value_counts()[1]/obesity.shape[0]*100,2), '% 3 a 5 horas' )\n",
        "print('El',round(obesity['TUE'].value_counts()[2]/obesity.shape[0]*100,2), '% más de 5 horas' )\n",
        "\n"
      ],
      "execution_count": null,
      "outputs": [
        {
          "output_type": "stream",
          "name": "stdout",
          "text": [
            "El 44.66 % 0 a 2 horas \n",
            "El 43.7 % 3 a 5 horas\n",
            "El 11.64 % más de 5 horas\n"
          ]
        }
      ]
    },
    {
      "cell_type": "markdown",
      "metadata": {
        "id": "zfrlJgWuVNv8"
      },
      "source": [
        "### **CALC**"
      ]
    },
    {
      "cell_type": "markdown",
      "metadata": {
        "id": "9xZfu4OVVQSk"
      },
      "source": [
        "Corresponde a consumo de alcohol. \n",
        "\n",
        "    No bebo\n",
        "    Algunas veces\n",
        "    Frecuentemente\n",
        "    Siempre"
      ]
    },
    {
      "cell_type": "code",
      "metadata": {
        "colab": {
          "base_uri": "https://localhost:8080/"
        },
        "id": "zdesl4WEVrvn",
        "outputId": "8017d3d7-486a-480e-e305-ba321586fc9c"
      },
      "source": [
        "obesity.CALC.value_counts()"
      ],
      "execution_count": null,
      "outputs": [
        {
          "output_type": "execute_result",
          "data": {
            "text/plain": [
              "Sometimes     1380\n",
              "no             636\n",
              "Frequently      70\n",
              "Always           1\n",
              "Name: CALC, dtype: int64"
            ]
          },
          "metadata": {},
          "execution_count": 69
        }
      ]
    },
    {
      "cell_type": "code",
      "metadata": {
        "colab": {
          "base_uri": "https://localhost:8080/"
        },
        "id": "vEvQv8mIVrvp",
        "outputId": "c6dc0549-2c91-431b-cbd9-36d32bc87b3b"
      },
      "source": [
        "print('El',round(obesity.CALC.value_counts()[0]/obesity.shape[0]*100,2), '% algunas veces' )\n",
        "print('El',round(obesity.CALC.value_counts()[1]/obesity.shape[0]*100,2), '% nunca' )\n",
        "print('El',round(obesity.CALC.value_counts()[2]/obesity.shape[0]*100,2), '% frecuentemente' )\n",
        "print('El',round(obesity.CALC.value_counts()[3]/obesity.shape[0]*100,2), '% siempre' )"
      ],
      "execution_count": null,
      "outputs": [
        {
          "output_type": "stream",
          "name": "stdout",
          "text": [
            "El 66.12 % algunas veces\n",
            "El 30.47 % nunca\n",
            "El 3.35 % frecuentemente\n",
            "El 0.05 % siempre\n"
          ]
        }
      ]
    },
    {
      "cell_type": "markdown",
      "metadata": {
        "id": "29QX-Fw8Vrvp"
      },
      "source": [
        "Recategorización\n",
        "\n",
        "    No bebo = 0\n",
        "    Algunas veces = 1\n",
        "    Frecuentemente = 2\n",
        "    Siempre = 3"
      ]
    },
    {
      "cell_type": "code",
      "metadata": {
        "colab": {
          "base_uri": "https://localhost:8080/"
        },
        "id": "9wH7AJRkWbNU",
        "outputId": "0edf953a-2612-449b-adfe-8dfadc4b2fcc"
      },
      "source": [
        "obesity['CALC'] = obesity['CALC'].map({\"no\":0, \"Sometimes\":1, \"Frequently\":2, \"Always\":3}) \n",
        "obesity.head()"
      ],
      "execution_count": null,
      "outputs": [
        {
          "output_type": "execute_result",
          "data": {
            "text/html": [
              "<div>\n",
              "<style scoped>\n",
              "    .dataframe tbody tr th:only-of-type {\n",
              "        vertical-align: middle;\n",
              "    }\n",
              "\n",
              "    .dataframe tbody tr th {\n",
              "        vertical-align: top;\n",
              "    }\n",
              "\n",
              "    .dataframe thead th {\n",
              "        text-align: right;\n",
              "    }\n",
              "</style>\n",
              "<table border=\"1\" class=\"dataframe\">\n",
              "  <thead>\n",
              "    <tr style=\"text-align: right;\">\n",
              "      <th></th>\n",
              "      <th>Genero</th>\n",
              "      <th>Edad</th>\n",
              "      <th>Altura</th>\n",
              "      <th>Peso</th>\n",
              "      <th>Antec_familiares</th>\n",
              "      <th>FAVC</th>\n",
              "      <th>FCVC</th>\n",
              "      <th>NCP</th>\n",
              "      <th>CAEC</th>\n",
              "      <th>Fuma</th>\n",
              "      <th>CH2O</th>\n",
              "      <th>SCC</th>\n",
              "      <th>FAF</th>\n",
              "      <th>TUE</th>\n",
              "      <th>CALC</th>\n",
              "      <th>MTRANS</th>\n",
              "      <th>NObeyesdad</th>\n",
              "    </tr>\n",
              "  </thead>\n",
              "  <tbody>\n",
              "    <tr>\n",
              "      <th>0</th>\n",
              "      <td>1</td>\n",
              "      <td>21.0</td>\n",
              "      <td>1.62</td>\n",
              "      <td>64.0</td>\n",
              "      <td>1</td>\n",
              "      <td>0</td>\n",
              "      <td>2.0</td>\n",
              "      <td>3.0</td>\n",
              "      <td>1</td>\n",
              "      <td>0</td>\n",
              "      <td>2.0</td>\n",
              "      <td>0</td>\n",
              "      <td>0.0</td>\n",
              "      <td>1.0</td>\n",
              "      <td>0</td>\n",
              "      <td>Public_Transportation</td>\n",
              "      <td>Normal_Weight</td>\n",
              "    </tr>\n",
              "    <tr>\n",
              "      <th>1</th>\n",
              "      <td>1</td>\n",
              "      <td>21.0</td>\n",
              "      <td>1.52</td>\n",
              "      <td>56.0</td>\n",
              "      <td>1</td>\n",
              "      <td>0</td>\n",
              "      <td>3.0</td>\n",
              "      <td>3.0</td>\n",
              "      <td>1</td>\n",
              "      <td>1</td>\n",
              "      <td>3.0</td>\n",
              "      <td>1</td>\n",
              "      <td>3.0</td>\n",
              "      <td>0.0</td>\n",
              "      <td>1</td>\n",
              "      <td>Public_Transportation</td>\n",
              "      <td>Normal_Weight</td>\n",
              "    </tr>\n",
              "    <tr>\n",
              "      <th>2</th>\n",
              "      <td>0</td>\n",
              "      <td>23.0</td>\n",
              "      <td>1.80</td>\n",
              "      <td>77.0</td>\n",
              "      <td>1</td>\n",
              "      <td>0</td>\n",
              "      <td>2.0</td>\n",
              "      <td>3.0</td>\n",
              "      <td>1</td>\n",
              "      <td>0</td>\n",
              "      <td>2.0</td>\n",
              "      <td>0</td>\n",
              "      <td>2.0</td>\n",
              "      <td>1.0</td>\n",
              "      <td>2</td>\n",
              "      <td>Public_Transportation</td>\n",
              "      <td>Normal_Weight</td>\n",
              "    </tr>\n",
              "    <tr>\n",
              "      <th>3</th>\n",
              "      <td>0</td>\n",
              "      <td>27.0</td>\n",
              "      <td>1.80</td>\n",
              "      <td>87.0</td>\n",
              "      <td>0</td>\n",
              "      <td>0</td>\n",
              "      <td>3.0</td>\n",
              "      <td>3.0</td>\n",
              "      <td>1</td>\n",
              "      <td>0</td>\n",
              "      <td>2.0</td>\n",
              "      <td>0</td>\n",
              "      <td>2.0</td>\n",
              "      <td>0.0</td>\n",
              "      <td>2</td>\n",
              "      <td>Walking</td>\n",
              "      <td>Overweight_Level_I</td>\n",
              "    </tr>\n",
              "    <tr>\n",
              "      <th>4</th>\n",
              "      <td>0</td>\n",
              "      <td>22.0</td>\n",
              "      <td>1.78</td>\n",
              "      <td>89.8</td>\n",
              "      <td>0</td>\n",
              "      <td>0</td>\n",
              "      <td>2.0</td>\n",
              "      <td>1.0</td>\n",
              "      <td>1</td>\n",
              "      <td>0</td>\n",
              "      <td>2.0</td>\n",
              "      <td>0</td>\n",
              "      <td>0.0</td>\n",
              "      <td>0.0</td>\n",
              "      <td>1</td>\n",
              "      <td>Public_Transportation</td>\n",
              "      <td>Overweight_Level_II</td>\n",
              "    </tr>\n",
              "  </tbody>\n",
              "</table>\n",
              "</div>"
            ],
            "text/plain": [
              "   Genero  Edad  Altura  ...  CALC                 MTRANS           NObeyesdad\n",
              "0       1  21.0    1.62  ...     0  Public_Transportation        Normal_Weight\n",
              "1       1  21.0    1.52  ...     1  Public_Transportation        Normal_Weight\n",
              "2       0  23.0    1.80  ...     2  Public_Transportation        Normal_Weight\n",
              "3       0  27.0    1.80  ...     2                Walking   Overweight_Level_I\n",
              "4       0  22.0    1.78  ...     1  Public_Transportation  Overweight_Level_II\n",
              "\n",
              "[5 rows x 17 columns]"
            ]
          },
          "metadata": {},
          "execution_count": 71
        }
      ]
    },
    {
      "cell_type": "markdown",
      "metadata": {
        "id": "LBZT2NOGXHlg"
      },
      "source": [
        "### **MTRANS**"
      ]
    },
    {
      "cell_type": "markdown",
      "metadata": {
        "id": "DxNrbQvtXHlg"
      },
      "source": [
        "Corresponde a trasporte usado. \n",
        "\n",
        "    Public_Transportation\n",
        "    Automobile\n",
        "    Walking\n",
        "    Motorbike\n",
        "    Bike"
      ]
    },
    {
      "cell_type": "code",
      "metadata": {
        "colab": {
          "base_uri": "https://localhost:8080/"
        },
        "id": "d26UZ-o9XHlg",
        "outputId": "d1caa847-e7fe-4b8a-e31c-8e953262e1e6"
      },
      "source": [
        "obesity.MTRANS.value_counts()"
      ],
      "execution_count": null,
      "outputs": [
        {
          "output_type": "execute_result",
          "data": {
            "text/plain": [
              "Public_Transportation    1558\n",
              "Automobile                456\n",
              "Walking                    55\n",
              "Motorbike                  11\n",
              "Bike                        7\n",
              "Name: MTRANS, dtype: int64"
            ]
          },
          "metadata": {},
          "execution_count": 72
        }
      ]
    },
    {
      "cell_type": "code",
      "metadata": {
        "colab": {
          "base_uri": "https://localhost:8080/"
        },
        "id": "zbGiOOA_XHlh",
        "outputId": "285c282f-809c-464b-85b8-bb73320d2787"
      },
      "source": [
        "print('El',round(obesity.MTRANS.value_counts()[0]/obesity.shape[0]*100,2), '% usa transporte publico' )\n",
        "print('El',round(obesity.MTRANS.value_counts()[1]/obesity.shape[0]*100,2), '% usa automovil' )\n",
        "print('El',round(obesity.MTRANS.value_counts()[2]/obesity.shape[0]*100,2), '% camina' )\n",
        "print('El',round(obesity.MTRANS.value_counts()[3]/obesity.shape[0]*100,2), '% usa motocicleta' )\n",
        "print('El',round(obesity.MTRANS.value_counts()[4]/obesity.shape[0]*100,2), '% usa bicicleta' )"
      ],
      "execution_count": null,
      "outputs": [
        {
          "output_type": "stream",
          "name": "stdout",
          "text": [
            "El 74.65 % usa transporte publico\n",
            "El 21.85 % usa automovil\n",
            "El 2.64 % camina\n",
            "El 0.53 % usa motocicleta\n",
            "El 0.34 % usa bicicleta\n"
          ]
        }
      ]
    },
    {
      "cell_type": "markdown",
      "metadata": {
        "id": "djH3sqHLXHlh"
      },
      "source": [
        "Recategorización\n",
        "\n",
        "    Public_Transportation = 0 \n",
        "    Automobile = 1\n",
        "    Walking = 2\n",
        "    Motorbike =  3\n",
        "    Bike = 4"
      ]
    },
    {
      "cell_type": "code",
      "metadata": {
        "colab": {
          "base_uri": "https://localhost:8080/"
        },
        "id": "wi7dPZiVXHlh",
        "outputId": "82172336-6a7c-48c8-c9f0-379c2a7eed7e"
      },
      "source": [
        "obesity['MTRANS'] = obesity['MTRANS'].map({\"Public_Transportation\":0, \"Automobile\":1, \"Walking\":2, \"Motorbike\":3,\"Bike\":4}) \n",
        "obesity.head()"
      ],
      "execution_count": null,
      "outputs": [
        {
          "output_type": "execute_result",
          "data": {
            "text/html": [
              "<div>\n",
              "<style scoped>\n",
              "    .dataframe tbody tr th:only-of-type {\n",
              "        vertical-align: middle;\n",
              "    }\n",
              "\n",
              "    .dataframe tbody tr th {\n",
              "        vertical-align: top;\n",
              "    }\n",
              "\n",
              "    .dataframe thead th {\n",
              "        text-align: right;\n",
              "    }\n",
              "</style>\n",
              "<table border=\"1\" class=\"dataframe\">\n",
              "  <thead>\n",
              "    <tr style=\"text-align: right;\">\n",
              "      <th></th>\n",
              "      <th>Genero</th>\n",
              "      <th>Edad</th>\n",
              "      <th>Altura</th>\n",
              "      <th>Peso</th>\n",
              "      <th>Antec_familiares</th>\n",
              "      <th>FAVC</th>\n",
              "      <th>FCVC</th>\n",
              "      <th>NCP</th>\n",
              "      <th>CAEC</th>\n",
              "      <th>Fuma</th>\n",
              "      <th>CH2O</th>\n",
              "      <th>SCC</th>\n",
              "      <th>FAF</th>\n",
              "      <th>TUE</th>\n",
              "      <th>CALC</th>\n",
              "      <th>MTRANS</th>\n",
              "      <th>NObeyesdad</th>\n",
              "    </tr>\n",
              "  </thead>\n",
              "  <tbody>\n",
              "    <tr>\n",
              "      <th>0</th>\n",
              "      <td>1</td>\n",
              "      <td>21.0</td>\n",
              "      <td>1.62</td>\n",
              "      <td>64.0</td>\n",
              "      <td>1</td>\n",
              "      <td>0</td>\n",
              "      <td>2.0</td>\n",
              "      <td>3.0</td>\n",
              "      <td>1</td>\n",
              "      <td>0</td>\n",
              "      <td>2.0</td>\n",
              "      <td>0</td>\n",
              "      <td>0.0</td>\n",
              "      <td>1.0</td>\n",
              "      <td>0</td>\n",
              "      <td>0</td>\n",
              "      <td>Normal_Weight</td>\n",
              "    </tr>\n",
              "    <tr>\n",
              "      <th>1</th>\n",
              "      <td>1</td>\n",
              "      <td>21.0</td>\n",
              "      <td>1.52</td>\n",
              "      <td>56.0</td>\n",
              "      <td>1</td>\n",
              "      <td>0</td>\n",
              "      <td>3.0</td>\n",
              "      <td>3.0</td>\n",
              "      <td>1</td>\n",
              "      <td>1</td>\n",
              "      <td>3.0</td>\n",
              "      <td>1</td>\n",
              "      <td>3.0</td>\n",
              "      <td>0.0</td>\n",
              "      <td>1</td>\n",
              "      <td>0</td>\n",
              "      <td>Normal_Weight</td>\n",
              "    </tr>\n",
              "    <tr>\n",
              "      <th>2</th>\n",
              "      <td>0</td>\n",
              "      <td>23.0</td>\n",
              "      <td>1.80</td>\n",
              "      <td>77.0</td>\n",
              "      <td>1</td>\n",
              "      <td>0</td>\n",
              "      <td>2.0</td>\n",
              "      <td>3.0</td>\n",
              "      <td>1</td>\n",
              "      <td>0</td>\n",
              "      <td>2.0</td>\n",
              "      <td>0</td>\n",
              "      <td>2.0</td>\n",
              "      <td>1.0</td>\n",
              "      <td>2</td>\n",
              "      <td>0</td>\n",
              "      <td>Normal_Weight</td>\n",
              "    </tr>\n",
              "    <tr>\n",
              "      <th>3</th>\n",
              "      <td>0</td>\n",
              "      <td>27.0</td>\n",
              "      <td>1.80</td>\n",
              "      <td>87.0</td>\n",
              "      <td>0</td>\n",
              "      <td>0</td>\n",
              "      <td>3.0</td>\n",
              "      <td>3.0</td>\n",
              "      <td>1</td>\n",
              "      <td>0</td>\n",
              "      <td>2.0</td>\n",
              "      <td>0</td>\n",
              "      <td>2.0</td>\n",
              "      <td>0.0</td>\n",
              "      <td>2</td>\n",
              "      <td>2</td>\n",
              "      <td>Overweight_Level_I</td>\n",
              "    </tr>\n",
              "    <tr>\n",
              "      <th>4</th>\n",
              "      <td>0</td>\n",
              "      <td>22.0</td>\n",
              "      <td>1.78</td>\n",
              "      <td>89.8</td>\n",
              "      <td>0</td>\n",
              "      <td>0</td>\n",
              "      <td>2.0</td>\n",
              "      <td>1.0</td>\n",
              "      <td>1</td>\n",
              "      <td>0</td>\n",
              "      <td>2.0</td>\n",
              "      <td>0</td>\n",
              "      <td>0.0</td>\n",
              "      <td>0.0</td>\n",
              "      <td>1</td>\n",
              "      <td>0</td>\n",
              "      <td>Overweight_Level_II</td>\n",
              "    </tr>\n",
              "  </tbody>\n",
              "</table>\n",
              "</div>"
            ],
            "text/plain": [
              "   Genero  Edad  Altura  Peso  ...  TUE  CALC  MTRANS           NObeyesdad\n",
              "0       1  21.0    1.62  64.0  ...  1.0     0       0        Normal_Weight\n",
              "1       1  21.0    1.52  56.0  ...  0.0     1       0        Normal_Weight\n",
              "2       0  23.0    1.80  77.0  ...  1.0     2       0        Normal_Weight\n",
              "3       0  27.0    1.80  87.0  ...  0.0     2       2   Overweight_Level_I\n",
              "4       0  22.0    1.78  89.8  ...  0.0     1       0  Overweight_Level_II\n",
              "\n",
              "[5 rows x 17 columns]"
            ]
          },
          "metadata": {},
          "execution_count": 74
        }
      ]
    },
    {
      "cell_type": "markdown",
      "metadata": {
        "id": "wxIQ-6uwYfOg"
      },
      "source": [
        "### **NObeyesdad**"
      ]
    },
    {
      "cell_type": "markdown",
      "metadata": {
        "id": "b_dxhxpTYfOh"
      },
      "source": [
        "Corresponde a los niveles de obesidad. \n",
        "\n",
        "    Obesity_Type_I\n",
        "    Obesity_Type_III\n",
        "    Obesity_Type_II\n",
        "    Overweight_Level_II\n",
        "    Overweight_Level_I\n",
        "    Normal_Weight\n",
        "    Insufficient_Weight  "
      ]
    },
    {
      "cell_type": "code",
      "metadata": {
        "colab": {
          "base_uri": "https://localhost:8080/"
        },
        "id": "fKZlHn54YfOi",
        "outputId": "18120818-de84-468a-8573-a1743ac67075"
      },
      "source": [
        "obesity.NObeyesdad.value_counts()"
      ],
      "execution_count": null,
      "outputs": [
        {
          "output_type": "execute_result",
          "data": {
            "text/plain": [
              "Obesity_Type_I         351\n",
              "Obesity_Type_III       324\n",
              "Obesity_Type_II        297\n",
              "Overweight_Level_II    290\n",
              "Normal_Weight          282\n",
              "Overweight_Level_I     276\n",
              "Insufficient_Weight    267\n",
              "Name: NObeyesdad, dtype: int64"
            ]
          },
          "metadata": {},
          "execution_count": 75
        }
      ]
    },
    {
      "cell_type": "code",
      "metadata": {
        "colab": {
          "base_uri": "https://localhost:8080/"
        },
        "id": "7ZXO6I1jYfOi",
        "outputId": "61c953e2-6a65-4c38-edb5-560774a185e1"
      },
      "source": [
        "print('El',round(obesity.NObeyesdad.value_counts()[0]/obesity.shape[0]*100,2), '% Obesity_Type_I' )\n",
        "print('El',round(obesity.NObeyesdad.value_counts()[1]/obesity.shape[0]*100,2), '% Obesity_Type_III' )\n",
        "print('El',round(obesity.NObeyesdad.value_counts()[2]/obesity.shape[0]*100,2), '% Obesity_Type_II' )\n",
        "print('El',round(obesity.NObeyesdad.value_counts()[3]/obesity.shape[0]*100,2), '% Overweight_Level_II' )\n",
        "print('El',round(obesity.NObeyesdad.value_counts()[4]/obesity.shape[0]*100,2), '% Overweight_Level_I' )\n",
        "print('El',round(obesity.NObeyesdad.value_counts()[5]/obesity.shape[0]*100,2), '% Normal_Weight' )\n",
        "print('El',round(obesity.NObeyesdad.value_counts()[6]/obesity.shape[0]*100,2), '% Insufficient_Weight' )"
      ],
      "execution_count": null,
      "outputs": [
        {
          "output_type": "stream",
          "name": "stdout",
          "text": [
            "El 16.82 % Obesity_Type_I\n",
            "El 15.52 % Obesity_Type_III\n",
            "El 14.23 % Obesity_Type_II\n",
            "El 13.9 % Overweight_Level_II\n",
            "El 13.51 % Overweight_Level_I\n",
            "El 13.22 % Normal_Weight\n",
            "El 12.79 % Insufficient_Weight\n"
          ]
        }
      ]
    },
    {
      "cell_type": "markdown",
      "metadata": {
        "id": "Z0Q2gecqYfOj"
      },
      "source": [
        "Recategorización\n",
        "\n",
        "    Insufficient_Weight = 0\n",
        "    Normal_Weight = 0\n",
        "    Overweight_Level_I = 1\n",
        "    Overweight_Level_II = 1\n",
        "    Obesity_Type_I = 1\n",
        "    Obesity_Type_II = 1\n",
        "    Obesity_Type_III = 1\n",
        "\n",
        "    "
      ]
    },
    {
      "cell_type": "code",
      "metadata": {
        "colab": {
          "base_uri": "https://localhost:8080/",
          "height": 202
        },
        "id": "qcjs2xKmYfOk",
        "outputId": "3a0773d0-bf0a-4672-f5c1-d7fc57a5f094"
      },
      "source": [
        "obesity['NObeyesdad'] = obesity['NObeyesdad'].map(\n",
        "    {'Insufficient_Weight': 0,\n",
        "    'Normal_Weight' : 0,\n",
        "    'Overweight_Level_I' : 1,\n",
        "    'Overweight_Level_II' : 1,\n",
        "    'Obesity_Type_I' : 1,\n",
        "    'Obesity_Type_II' : 1,\n",
        "    'Obesity_Type_III' : 1}) \n",
        "obesity.head()"
      ],
      "execution_count": null,
      "outputs": [
        {
          "output_type": "execute_result",
          "data": {
            "text/html": [
              "<div>\n",
              "<style scoped>\n",
              "    .dataframe tbody tr th:only-of-type {\n",
              "        vertical-align: middle;\n",
              "    }\n",
              "\n",
              "    .dataframe tbody tr th {\n",
              "        vertical-align: top;\n",
              "    }\n",
              "\n",
              "    .dataframe thead th {\n",
              "        text-align: right;\n",
              "    }\n",
              "</style>\n",
              "<table border=\"1\" class=\"dataframe\">\n",
              "  <thead>\n",
              "    <tr style=\"text-align: right;\">\n",
              "      <th></th>\n",
              "      <th>Genero</th>\n",
              "      <th>Edad</th>\n",
              "      <th>Altura</th>\n",
              "      <th>Peso</th>\n",
              "      <th>Antec_familiares</th>\n",
              "      <th>FAVC</th>\n",
              "      <th>FCVC</th>\n",
              "      <th>NCP</th>\n",
              "      <th>CAEC</th>\n",
              "      <th>Fuma</th>\n",
              "      <th>CH2O</th>\n",
              "      <th>SCC</th>\n",
              "      <th>FAF</th>\n",
              "      <th>TUE</th>\n",
              "      <th>CALC</th>\n",
              "      <th>MTRANS</th>\n",
              "      <th>NObeyesdad</th>\n",
              "    </tr>\n",
              "  </thead>\n",
              "  <tbody>\n",
              "    <tr>\n",
              "      <th>0</th>\n",
              "      <td>1</td>\n",
              "      <td>21.0</td>\n",
              "      <td>1.62</td>\n",
              "      <td>64.0</td>\n",
              "      <td>1</td>\n",
              "      <td>0</td>\n",
              "      <td>2.0</td>\n",
              "      <td>3.0</td>\n",
              "      <td>1</td>\n",
              "      <td>0</td>\n",
              "      <td>2.0</td>\n",
              "      <td>0</td>\n",
              "      <td>0.0</td>\n",
              "      <td>1.0</td>\n",
              "      <td>0</td>\n",
              "      <td>0</td>\n",
              "      <td>0</td>\n",
              "    </tr>\n",
              "    <tr>\n",
              "      <th>1</th>\n",
              "      <td>1</td>\n",
              "      <td>21.0</td>\n",
              "      <td>1.52</td>\n",
              "      <td>56.0</td>\n",
              "      <td>1</td>\n",
              "      <td>0</td>\n",
              "      <td>3.0</td>\n",
              "      <td>3.0</td>\n",
              "      <td>1</td>\n",
              "      <td>1</td>\n",
              "      <td>3.0</td>\n",
              "      <td>1</td>\n",
              "      <td>3.0</td>\n",
              "      <td>0.0</td>\n",
              "      <td>1</td>\n",
              "      <td>0</td>\n",
              "      <td>0</td>\n",
              "    </tr>\n",
              "    <tr>\n",
              "      <th>2</th>\n",
              "      <td>0</td>\n",
              "      <td>23.0</td>\n",
              "      <td>1.80</td>\n",
              "      <td>77.0</td>\n",
              "      <td>1</td>\n",
              "      <td>0</td>\n",
              "      <td>2.0</td>\n",
              "      <td>3.0</td>\n",
              "      <td>1</td>\n",
              "      <td>0</td>\n",
              "      <td>2.0</td>\n",
              "      <td>0</td>\n",
              "      <td>2.0</td>\n",
              "      <td>1.0</td>\n",
              "      <td>2</td>\n",
              "      <td>0</td>\n",
              "      <td>0</td>\n",
              "    </tr>\n",
              "    <tr>\n",
              "      <th>3</th>\n",
              "      <td>0</td>\n",
              "      <td>27.0</td>\n",
              "      <td>1.80</td>\n",
              "      <td>87.0</td>\n",
              "      <td>0</td>\n",
              "      <td>0</td>\n",
              "      <td>3.0</td>\n",
              "      <td>3.0</td>\n",
              "      <td>1</td>\n",
              "      <td>0</td>\n",
              "      <td>2.0</td>\n",
              "      <td>0</td>\n",
              "      <td>2.0</td>\n",
              "      <td>0.0</td>\n",
              "      <td>2</td>\n",
              "      <td>2</td>\n",
              "      <td>1</td>\n",
              "    </tr>\n",
              "    <tr>\n",
              "      <th>4</th>\n",
              "      <td>0</td>\n",
              "      <td>22.0</td>\n",
              "      <td>1.78</td>\n",
              "      <td>89.8</td>\n",
              "      <td>0</td>\n",
              "      <td>0</td>\n",
              "      <td>2.0</td>\n",
              "      <td>1.0</td>\n",
              "      <td>1</td>\n",
              "      <td>0</td>\n",
              "      <td>2.0</td>\n",
              "      <td>0</td>\n",
              "      <td>0.0</td>\n",
              "      <td>0.0</td>\n",
              "      <td>1</td>\n",
              "      <td>0</td>\n",
              "      <td>1</td>\n",
              "    </tr>\n",
              "  </tbody>\n",
              "</table>\n",
              "</div>"
            ],
            "text/plain": [
              "   Genero  Edad  Altura  Peso  ...  TUE  CALC  MTRANS  NObeyesdad\n",
              "0       1  21.0    1.62  64.0  ...  1.0     0       0           0\n",
              "1       1  21.0    1.52  56.0  ...  0.0     1       0           0\n",
              "2       0  23.0    1.80  77.0  ...  1.0     2       0           0\n",
              "3       0  27.0    1.80  87.0  ...  0.0     2       2           1\n",
              "4       0  22.0    1.78  89.8  ...  0.0     1       0           1\n",
              "\n",
              "[5 rows x 17 columns]"
            ]
          },
          "metadata": {},
          "execution_count": 77
        }
      ]
    },
    {
      "cell_type": "markdown",
      "metadata": {
        "id": "lmMq9IZMeXPx"
      },
      "source": [
        "## **Dataset a trabajar**"
      ]
    },
    {
      "cell_type": "code",
      "metadata": {
        "id": "a6mYYWeeeE6_"
      },
      "source": [
        "obesity_F = obesity.copy()"
      ],
      "execution_count": null,
      "outputs": []
    },
    {
      "cell_type": "markdown",
      "metadata": {
        "id": "1Gsy6kxwjzpS"
      },
      "source": [
        "Se incluirá la variable de IMC que se obtiene con la siguente formula\n",
        "$$IMC = \\frac{Peso}{Altura^2}$$"
      ]
    },
    {
      "cell_type": "code",
      "metadata": {
        "id": "V0lr7DlIjzpS"
      },
      "source": [
        "obesity_F['IMC'] = obesity_F.Peso/(obesity_F.Altura)**2"
      ],
      "execution_count": null,
      "outputs": []
    },
    {
      "cell_type": "code",
      "metadata": {
        "colab": {
          "base_uri": "https://localhost:8080/",
          "height": 202
        },
        "id": "xtVwZg2ljzpT",
        "outputId": "00d10aff-2ea4-4469-a000-ff36247adbe0"
      },
      "source": [
        "obesity_F.head()"
      ],
      "execution_count": null,
      "outputs": [
        {
          "output_type": "execute_result",
          "data": {
            "text/html": [
              "<div>\n",
              "<style scoped>\n",
              "    .dataframe tbody tr th:only-of-type {\n",
              "        vertical-align: middle;\n",
              "    }\n",
              "\n",
              "    .dataframe tbody tr th {\n",
              "        vertical-align: top;\n",
              "    }\n",
              "\n",
              "    .dataframe thead th {\n",
              "        text-align: right;\n",
              "    }\n",
              "</style>\n",
              "<table border=\"1\" class=\"dataframe\">\n",
              "  <thead>\n",
              "    <tr style=\"text-align: right;\">\n",
              "      <th></th>\n",
              "      <th>Genero</th>\n",
              "      <th>Edad</th>\n",
              "      <th>Altura</th>\n",
              "      <th>Peso</th>\n",
              "      <th>Antec_familiares</th>\n",
              "      <th>FAVC</th>\n",
              "      <th>FCVC</th>\n",
              "      <th>NCP</th>\n",
              "      <th>CAEC</th>\n",
              "      <th>Fuma</th>\n",
              "      <th>CH2O</th>\n",
              "      <th>SCC</th>\n",
              "      <th>FAF</th>\n",
              "      <th>TUE</th>\n",
              "      <th>CALC</th>\n",
              "      <th>MTRANS</th>\n",
              "      <th>NObeyesdad</th>\n",
              "      <th>IMC</th>\n",
              "    </tr>\n",
              "  </thead>\n",
              "  <tbody>\n",
              "    <tr>\n",
              "      <th>0</th>\n",
              "      <td>1</td>\n",
              "      <td>21.0</td>\n",
              "      <td>1.62</td>\n",
              "      <td>64.0</td>\n",
              "      <td>1</td>\n",
              "      <td>0</td>\n",
              "      <td>2.0</td>\n",
              "      <td>3.0</td>\n",
              "      <td>1</td>\n",
              "      <td>0</td>\n",
              "      <td>2.0</td>\n",
              "      <td>0</td>\n",
              "      <td>0.0</td>\n",
              "      <td>1.0</td>\n",
              "      <td>0</td>\n",
              "      <td>0</td>\n",
              "      <td>0</td>\n",
              "      <td>24.386526</td>\n",
              "    </tr>\n",
              "    <tr>\n",
              "      <th>1</th>\n",
              "      <td>1</td>\n",
              "      <td>21.0</td>\n",
              "      <td>1.52</td>\n",
              "      <td>56.0</td>\n",
              "      <td>1</td>\n",
              "      <td>0</td>\n",
              "      <td>3.0</td>\n",
              "      <td>3.0</td>\n",
              "      <td>1</td>\n",
              "      <td>1</td>\n",
              "      <td>3.0</td>\n",
              "      <td>1</td>\n",
              "      <td>3.0</td>\n",
              "      <td>0.0</td>\n",
              "      <td>1</td>\n",
              "      <td>0</td>\n",
              "      <td>0</td>\n",
              "      <td>24.238227</td>\n",
              "    </tr>\n",
              "    <tr>\n",
              "      <th>2</th>\n",
              "      <td>0</td>\n",
              "      <td>23.0</td>\n",
              "      <td>1.80</td>\n",
              "      <td>77.0</td>\n",
              "      <td>1</td>\n",
              "      <td>0</td>\n",
              "      <td>2.0</td>\n",
              "      <td>3.0</td>\n",
              "      <td>1</td>\n",
              "      <td>0</td>\n",
              "      <td>2.0</td>\n",
              "      <td>0</td>\n",
              "      <td>2.0</td>\n",
              "      <td>1.0</td>\n",
              "      <td>2</td>\n",
              "      <td>0</td>\n",
              "      <td>0</td>\n",
              "      <td>23.765432</td>\n",
              "    </tr>\n",
              "    <tr>\n",
              "      <th>3</th>\n",
              "      <td>0</td>\n",
              "      <td>27.0</td>\n",
              "      <td>1.80</td>\n",
              "      <td>87.0</td>\n",
              "      <td>0</td>\n",
              "      <td>0</td>\n",
              "      <td>3.0</td>\n",
              "      <td>3.0</td>\n",
              "      <td>1</td>\n",
              "      <td>0</td>\n",
              "      <td>2.0</td>\n",
              "      <td>0</td>\n",
              "      <td>2.0</td>\n",
              "      <td>0.0</td>\n",
              "      <td>2</td>\n",
              "      <td>2</td>\n",
              "      <td>1</td>\n",
              "      <td>26.851852</td>\n",
              "    </tr>\n",
              "    <tr>\n",
              "      <th>4</th>\n",
              "      <td>0</td>\n",
              "      <td>22.0</td>\n",
              "      <td>1.78</td>\n",
              "      <td>89.8</td>\n",
              "      <td>0</td>\n",
              "      <td>0</td>\n",
              "      <td>2.0</td>\n",
              "      <td>1.0</td>\n",
              "      <td>1</td>\n",
              "      <td>0</td>\n",
              "      <td>2.0</td>\n",
              "      <td>0</td>\n",
              "      <td>0.0</td>\n",
              "      <td>0.0</td>\n",
              "      <td>1</td>\n",
              "      <td>0</td>\n",
              "      <td>1</td>\n",
              "      <td>28.342381</td>\n",
              "    </tr>\n",
              "  </tbody>\n",
              "</table>\n",
              "</div>"
            ],
            "text/plain": [
              "   Genero  Edad  Altura  Peso  ...  CALC  MTRANS  NObeyesdad        IMC\n",
              "0       1  21.0    1.62  64.0  ...     0       0           0  24.386526\n",
              "1       1  21.0    1.52  56.0  ...     1       0           0  24.238227\n",
              "2       0  23.0    1.80  77.0  ...     2       0           0  23.765432\n",
              "3       0  27.0    1.80  87.0  ...     2       2           1  26.851852\n",
              "4       0  22.0    1.78  89.8  ...     1       0           1  28.342381\n",
              "\n",
              "[5 rows x 18 columns]"
            ]
          },
          "metadata": {},
          "execution_count": 82
        }
      ]
    },
    {
      "cell_type": "code",
      "metadata": {
        "colab": {
          "base_uri": "https://localhost:8080/"
        },
        "id": "DTtqJ1bzeVp3",
        "outputId": "ea0c45d0-e9a5-4b04-d4b4-783d2c173cd6"
      },
      "source": [
        "print('Número de registros: ', obesity_F.shape[0])\n",
        "print('Número de variables: ', obesity_F.shape[1])"
      ],
      "execution_count": null,
      "outputs": [
        {
          "output_type": "stream",
          "name": "stdout",
          "text": [
            "Número de registros:  2087\n",
            "Número de variables:  18\n"
          ]
        }
      ]
    },
    {
      "cell_type": "markdown",
      "metadata": {
        "id": "ZbRWsj5xmYkr"
      },
      "source": [
        "![image.png](data:image/png;base64,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)"
      ]
    },
    {
      "cell_type": "markdown",
      "metadata": {
        "id": "_iG8UXRfoqYd"
      },
      "source": [
        "En un primer momento se estudiara la relacion de las variables independientes frente la variable dependiente *NObeyesdad*"
      ]
    },
    {
      "cell_type": "markdown",
      "metadata": {
        "id": "K6PiZFNbmefb"
      },
      "source": [
        "## **Relación variables numéricas con la variable a clasificar *NObeyesdad***"
      ]
    },
    {
      "cell_type": "markdown",
      "metadata": {
        "id": "5O1fL3-b-zVm"
      },
      "source": [
        "La variable que tomaremos como respuesta es $NObesyesdad$ dado que el objetivo es identificar el nivel de obesidad de una persona basada en variables como la edad, el peso, los antecedentes familiares entre otros."
      ]
    },
    {
      "cell_type": "code",
      "metadata": {
        "colab": {
          "base_uri": "https://localhost:8080/",
          "height": 233
        },
        "id": "t2FpXx11vfAd",
        "outputId": "a5bf4258-3671-4cb3-f1b4-0e1d92bdd886"
      },
      "source": [
        "corr = obesity_F[['Edad', 'Altura','Peso','NCP','IMC','NObeyesdad']].corr()\n",
        "corr"
      ],
      "execution_count": null,
      "outputs": [
        {
          "output_type": "execute_result",
          "data": {
            "text/html": [
              "<div>\n",
              "<style scoped>\n",
              "    .dataframe tbody tr th:only-of-type {\n",
              "        vertical-align: middle;\n",
              "    }\n",
              "\n",
              "    .dataframe tbody tr th {\n",
              "        vertical-align: top;\n",
              "    }\n",
              "\n",
              "    .dataframe thead th {\n",
              "        text-align: right;\n",
              "    }\n",
              "</style>\n",
              "<table border=\"1\" class=\"dataframe\">\n",
              "  <thead>\n",
              "    <tr style=\"text-align: right;\">\n",
              "      <th></th>\n",
              "      <th>Edad</th>\n",
              "      <th>Altura</th>\n",
              "      <th>Peso</th>\n",
              "      <th>NCP</th>\n",
              "      <th>IMC</th>\n",
              "      <th>NObeyesdad</th>\n",
              "    </tr>\n",
              "  </thead>\n",
              "  <tbody>\n",
              "    <tr>\n",
              "      <th>Edad</th>\n",
              "      <td>1.000000</td>\n",
              "      <td>-0.031972</td>\n",
              "      <td>0.199063</td>\n",
              "      <td>-0.054799</td>\n",
              "      <td>0.241897</td>\n",
              "      <td>0.334871</td>\n",
              "    </tr>\n",
              "    <tr>\n",
              "      <th>Altura</th>\n",
              "      <td>-0.031972</td>\n",
              "      <td>1.000000</td>\n",
              "      <td>0.457468</td>\n",
              "      <td>0.228681</td>\n",
              "      <td>0.124466</td>\n",
              "      <td>0.113124</td>\n",
              "    </tr>\n",
              "    <tr>\n",
              "      <th>Peso</th>\n",
              "      <td>0.199063</td>\n",
              "      <td>0.457468</td>\n",
              "      <td>1.000000</td>\n",
              "      <td>0.088368</td>\n",
              "      <td>0.934494</td>\n",
              "      <td>0.698291</td>\n",
              "    </tr>\n",
              "    <tr>\n",
              "      <th>NCP</th>\n",
              "      <td>-0.054799</td>\n",
              "      <td>0.228681</td>\n",
              "      <td>0.088368</td>\n",
              "      <td>1.000000</td>\n",
              "      <td>0.022066</td>\n",
              "      <td>-0.109019</td>\n",
              "    </tr>\n",
              "    <tr>\n",
              "      <th>IMC</th>\n",
              "      <td>0.241897</td>\n",
              "      <td>0.124466</td>\n",
              "      <td>0.934494</td>\n",
              "      <td>0.022066</td>\n",
              "      <td>1.000000</td>\n",
              "      <td>0.744935</td>\n",
              "    </tr>\n",
              "    <tr>\n",
              "      <th>NObeyesdad</th>\n",
              "      <td>0.334871</td>\n",
              "      <td>0.113124</td>\n",
              "      <td>0.698291</td>\n",
              "      <td>-0.109019</td>\n",
              "      <td>0.744935</td>\n",
              "      <td>1.000000</td>\n",
              "    </tr>\n",
              "  </tbody>\n",
              "</table>\n",
              "</div>"
            ],
            "text/plain": [
              "                Edad    Altura      Peso       NCP       IMC  NObeyesdad\n",
              "Edad        1.000000 -0.031972  0.199063 -0.054799  0.241897    0.334871\n",
              "Altura     -0.031972  1.000000  0.457468  0.228681  0.124466    0.113124\n",
              "Peso        0.199063  0.457468  1.000000  0.088368  0.934494    0.698291\n",
              "NCP        -0.054799  0.228681  0.088368  1.000000  0.022066   -0.109019\n",
              "IMC         0.241897  0.124466  0.934494  0.022066  1.000000    0.744935\n",
              "NObeyesdad  0.334871  0.113124  0.698291 -0.109019  0.744935    1.000000"
            ]
          },
          "metadata": {},
          "execution_count": 95
        }
      ]
    },
    {
      "cell_type": "code",
      "metadata": {
        "colab": {
          "base_uri": "https://localhost:8080/",
          "height": 297
        },
        "id": "fzUTad7ysDAw",
        "outputId": "c43b4144-a868-4d7c-9c45-662b58f6716a"
      },
      "source": [
        "sm.graphics.plot_corr(corr, xnames=list(corr.columns))\n",
        "plt.show()"
      ],
      "execution_count": null,
      "outputs": [
        {
          "output_type": "display_data",
          "data": {
            "image/png": "[encoded data removed]",
            "text/plain": [
              "<Figure size 432x288 with 2 Axes>"
            ]
          },
          "metadata": {
            "needs_background": "light"
          }
        }
      ]
    },
    {
      "cell_type": "markdown",
      "metadata": {
        "id": "KA3iMLMpo5iK"
      },
      "source": [
        "## **Relación variables categóricas con la variable a clasificar *NObeyesdad***"
      ]
    },
    {
      "cell_type": "markdown",
      "metadata": {
        "id": "2tjR_KdxiRAg"
      },
      "source": [
        "Genero"
      ]
    },
    {
      "cell_type": "code",
      "metadata": {
        "id": "2I68EWiAo_rK"
      },
      "source": [
        "cross_table1 = pd.crosstab(index=obesity_F['Genero'],\n",
        "            columns=obesity_F['NObeyesdad'], margins=True)\n",
        "cross_table2 = pd.crosstab(index=obesity_F['Antec_familiares'],\n",
        "            columns=obesity_F['NObeyesdad'], margins=True)\n",
        "cross_table3 = pd.crosstab(index=obesity_F['FAVC'],\n",
        "            columns=obesity_F['NObeyesdad'], margins=True)\n",
        "cross_table4 = pd.crosstab(index=obesity_F['FCVC'],\n",
        "            columns=obesity_F['NObeyesdad'], margins=True)\n",
        "cross_table5 = pd.crosstab(index=obesity_F['CAEC'],\n",
        "            columns=obesity_F['NObeyesdad'], margins=True)\n",
        "cross_table6 = pd.crosstab(index=obesity_F['Fuma'],\n",
        "            columns=obesity_F['NObeyesdad'], margins=True)\n",
        "cross_table7 = pd.crosstab(index=obesity_F['CH2O'],\n",
        "            columns=obesity_F['NObeyesdad'], margins=True)\n",
        "cross_table8 = pd.crosstab(index=obesity_F['SCC'],\n",
        "            columns=obesity_F['NObeyesdad'], margins=True)\n",
        "cross_table9 = pd.crosstab(index=obesity_F['FAF'],\n",
        "            columns=obesity_F['NObeyesdad'], margins=True)\n",
        "cross_table10 = pd.crosstab(index=obesity_F['TUE'],\n",
        "            columns=obesity_F['NObeyesdad'], margins=True)\n",
        "cross_table11 = pd.crosstab(index=obesity_F['CALC'],\n",
        "            columns=obesity_F['NObeyesdad'], margins=True)\n",
        "cross_table12 = pd.crosstab(index=obesity_F['MTRANS'],\n",
        "            columns=obesity_F['NObeyesdad'], margins=True)"
      ],
      "execution_count": null,
      "outputs": []
    },
    {
      "cell_type": "code",
      "metadata": {
        "colab": {
          "base_uri": "https://localhost:8080/"
        },
        "id": "qwi_0rB1P3ax",
        "outputId": "5bbf35f7-9893-4c9c-d9f9-eeeda75452e8"
      },
      "source": [
        "c,p1,d,f = stats.chi2_contingency(cross_table1)\n",
        "c,p2,d,f = stats.chi2_contingency(cross_table2)\n",
        "c,p3,d,f = stats.chi2_contingency(cross_table3)\n",
        "c,p4,d,f = stats.chi2_contingency(cross_table4)\n",
        "c,p5,d,f = stats.chi2_contingency(cross_table5)\n",
        "c,p6,d,f = stats.chi2_contingency(cross_table6)\n",
        "c,p7,d,f = stats.chi2_contingency(cross_table7)\n",
        "c,p8,d,f = stats.chi2_contingency(cross_table8)\n",
        "c,p9,d,f = stats.chi2_contingency(cross_table9)\n",
        "c,p10,d,f = stats.chi2_contingency(cross_table10)\n",
        "c,p11,d,f = stats.chi2_contingency(cross_table11)\n",
        "c,p12,d,f = stats.chi2_contingency(cross_table12)\n",
        "\n",
        "print('Genero ------------ Pvalor:' , round(p1,5))\n",
        "print('Antec_familiares -- Pvalor:' , round(p2,5))\n",
        "print('FAVC -------------- Pvalor:' , round(p3,5))\n",
        "print('FCVC -------------- Pvalor:' , round(p4,5))\n",
        "print('CAEC -------------- Pvalor:' , round(p5,5))\n",
        "print('Fuma -------------- Pvalor:' , round(p6,5))\n",
        "print('CH2O -------------- Pvalor:' , round(p7,5))\n",
        "print('SCC --------------- Pvalor:' , round(p8,5))\n",
        "print('FAF --------------- Pvalor:' , round(p9,5))\n",
        "print('TUE --------------- Pvalor:' , round(p10,5))\n",
        "print('CALC -------------- Pvalor:' , round(p11,4))\n",
        "print('MTRANS ------------ Pvalor:' , round(p12,5))\n"
      ],
      "execution_count": null,
      "outputs": [
        {
          "output_type": "stream",
          "name": "stdout",
          "text": [
            "Genero ------------ Pvalor: 0.02386\n",
            "Antec_familiares -- Pvalor: 0.0\n",
            "FAVC -------------- Pvalor: 0.0\n",
            "FCVC -------------- Pvalor: 0.02762\n",
            "CAEC -------------- Pvalor: 0.0\n",
            "Fuma -------------- Pvalor: 0.95077\n",
            "CH2O -------------- Pvalor: 0.0\n",
            "SCC --------------- Pvalor: 0.0\n",
            "FAF --------------- Pvalor: 0.0\n",
            "TUE --------------- Pvalor: 0.02066\n",
            "CALC -------------- Pvalor: 0.0\n",
            "MTRANS ------------ Pvalor: 0.0\n"
          ]
        }
      ]
    },
    {
      "cell_type": "markdown",
      "metadata": {
        "id": "xjg6S4FGdp9e"
      },
      "source": [
        "+ Si el p-valor < 0.05, hay diferencias significativas. Es decir, hay relación entre las variables \n",
        "\n",
        "+ Si el p-valor > 0.05, no hay diferencias significativas. Es decir, no hay relación entre las variables"
      ]
    },
    {
      "cell_type": "markdown",
      "metadata": {
        "id": "y_esMP5sly7N"
      },
      "source": [
        "De acuerdo al test Chi - cuadrado, al parecer todas las variables guardan una relación con nuestra variable objetivo NObeyesday, exepto la variable *Fumar*. En un primer momento se construira el modelo con todas las variables explicativas. "
      ]
    },
    {
      "cell_type": "markdown",
      "metadata": {
        "id": "ZcHpZlMM8TGY"
      },
      "source": [
        "# Variables independientes seleccionadas"
      ]
    },
    {
      "cell_type": "markdown",
      "metadata": {
        "id": "BFfPjmLA8S8f"
      },
      "source": [
        "Luego de realizar pruebas se concluyo que se utilizaran todas las variables del data set, exceptuando la variable de si fuma o no, pues esta no resulto ser significativa estadisticamente."
      ]
    },
    {
      "cell_type": "markdown",
      "metadata": {
        "id": "MZwW4Ibw1tCx"
      },
      "source": [
        "# Variable a categorizar "
      ]
    },
    {
      "cell_type": "markdown",
      "metadata": {
        "id": "ba0Xr1oC10uU"
      },
      "source": [
        "La variable que vamos a categorizar es $NObesyesdad$ dado que el objetivo del proyecto es identificar si una persona es obesa o no con base en variables como la edad, el peso, el indice de masa corporal, los antecedentes familiares de sobre peso, la frecuencia con que realizan ejercicio físico, entre otras."
      ]
    },
    {
      "cell_type": "markdown",
      "metadata": {
        "id": "dmygtgQA_Q82"
      },
      "source": [
        "# Algoritmo seleccionado"
      ]
    },
    {
      "cell_type": "markdown",
      "metadata": {
        "id": "72rbQ8vuJdVj"
      },
      "source": [
        "Se realizo una regresión logística dado que el interes del proyecto es saber cual es la probabilidad de que un individuo con ciertas caracteristicas pertenezca a una clase especifica, que para efectos de este trabajo es si la persona es obesa o no."
      ]
    },
    {
      "cell_type": "markdown",
      "metadata": {
        "id": "NNfZ81BRGD7T"
      },
      "source": [
        "*Modelo con todos los datos del dataset*"
      ]
    },
    {
      "cell_type": "code",
      "metadata": {
        "id": "T6t6cgcJe21V"
      },
      "source": [
        "# ajustar un modelo de regresión logística y almacenar las predicciones de clase\n",
        "from sklearn.linear_model import LogisticRegression\n",
        "logreg = LogisticRegression(solver='liblinear',C=1e9)\n",
        "feature_cols = ['Genero', 'Edad', 'Altura', 'Peso', 'Antec_familiares', 'FAVC', 'FCVC', 'NCP', 'CAEC','CH2O', 'SCC', 'FAF', 'TUE', 'CALC', 'MTRANS', 'IMC']\n",
        "X = obesity_F[feature_cols]\n",
        "y = obesity_F.NObeyesdad\n",
        "logreg.fit(X, y)\n",
        "obesity_F['obesidad'] = logreg.predict(X)\n",
        "# almacenar las probabilidades previstas de la clase 1\n",
        "obesity_F['obesidad_prob'] = logreg.predict_proba(X)[:, 1]"
      ],
      "execution_count": null,
      "outputs": []
    },
    {
      "cell_type": "markdown",
      "metadata": {
        "id": "tDvE_bQ7Hj-f"
      },
      "source": [
        "Viendo algunas de las predicciones podemos observar que el modelo generaliza bien, pues los valores que predice son muy similares a los valores reales"
      ]
    },
    {
      "cell_type": "code",
      "metadata": {
        "colab": {
          "base_uri": "https://localhost:8080/",
          "height": 202
        },
        "id": "DPUpUxHSHn7e",
        "outputId": "e0cfe7ee-bb04-463d-bfff-1b89bd9c7794"
      },
      "source": [
        "# examinar algunas predicciones de ejemplo\n",
        "obesity_F.head()"
      ],
      "execution_count": null,
      "outputs": [
        {
          "output_type": "execute_result",
          "data": {
            "text/html": [
              "<div>\n",
              "<style scoped>\n",
              "    .dataframe tbody tr th:only-of-type {\n",
              "        vertical-align: middle;\n",
              "    }\n",
              "\n",
              "    .dataframe tbody tr th {\n",
              "        vertical-align: top;\n",
              "    }\n",
              "\n",
              "    .dataframe thead th {\n",
              "        text-align: right;\n",
              "    }\n",
              "</style>\n",
              "<table border=\"1\" class=\"dataframe\">\n",
              "  <thead>\n",
              "    <tr style=\"text-align: right;\">\n",
              "      <th></th>\n",
              "      <th>Genero</th>\n",
              "      <th>Edad</th>\n",
              "      <th>Altura</th>\n",
              "      <th>Peso</th>\n",
              "      <th>Antec_familiares</th>\n",
              "      <th>FAVC</th>\n",
              "      <th>FCVC</th>\n",
              "      <th>NCP</th>\n",
              "      <th>CAEC</th>\n",
              "      <th>Fuma</th>\n",
              "      <th>CH2O</th>\n",
              "      <th>SCC</th>\n",
              "      <th>FAF</th>\n",
              "      <th>TUE</th>\n",
              "      <th>CALC</th>\n",
              "      <th>MTRANS</th>\n",
              "      <th>NObeyesdad</th>\n",
              "      <th>IMC</th>\n",
              "      <th>obesidad</th>\n",
              "      <th>obesidad_prob</th>\n",
              "    </tr>\n",
              "  </thead>\n",
              "  <tbody>\n",
              "    <tr>\n",
              "      <th>0</th>\n",
              "      <td>1</td>\n",
              "      <td>21.0</td>\n",
              "      <td>1.62</td>\n",
              "      <td>64.0</td>\n",
              "      <td>1</td>\n",
              "      <td>0</td>\n",
              "      <td>2.0</td>\n",
              "      <td>3.0</td>\n",
              "      <td>1</td>\n",
              "      <td>0</td>\n",
              "      <td>2.0</td>\n",
              "      <td>0</td>\n",
              "      <td>0.0</td>\n",
              "      <td>1.0</td>\n",
              "      <td>0</td>\n",
              "      <td>0</td>\n",
              "      <td>0</td>\n",
              "      <td>24.386526</td>\n",
              "      <td>0</td>\n",
              "      <td>0.110068</td>\n",
              "    </tr>\n",
              "    <tr>\n",
              "      <th>1</th>\n",
              "      <td>1</td>\n",
              "      <td>21.0</td>\n",
              "      <td>1.52</td>\n",
              "      <td>56.0</td>\n",
              "      <td>1</td>\n",
              "      <td>0</td>\n",
              "      <td>3.0</td>\n",
              "      <td>3.0</td>\n",
              "      <td>1</td>\n",
              "      <td>1</td>\n",
              "      <td>3.0</td>\n",
              "      <td>1</td>\n",
              "      <td>3.0</td>\n",
              "      <td>0.0</td>\n",
              "      <td>1</td>\n",
              "      <td>0</td>\n",
              "      <td>0</td>\n",
              "      <td>24.238227</td>\n",
              "      <td>0</td>\n",
              "      <td>0.049864</td>\n",
              "    </tr>\n",
              "    <tr>\n",
              "      <th>2</th>\n",
              "      <td>0</td>\n",
              "      <td>23.0</td>\n",
              "      <td>1.80</td>\n",
              "      <td>77.0</td>\n",
              "      <td>1</td>\n",
              "      <td>0</td>\n",
              "      <td>2.0</td>\n",
              "      <td>3.0</td>\n",
              "      <td>1</td>\n",
              "      <td>0</td>\n",
              "      <td>2.0</td>\n",
              "      <td>0</td>\n",
              "      <td>2.0</td>\n",
              "      <td>1.0</td>\n",
              "      <td>2</td>\n",
              "      <td>0</td>\n",
              "      <td>0</td>\n",
              "      <td>23.765432</td>\n",
              "      <td>0</td>\n",
              "      <td>0.001481</td>\n",
              "    </tr>\n",
              "    <tr>\n",
              "      <th>3</th>\n",
              "      <td>0</td>\n",
              "      <td>27.0</td>\n",
              "      <td>1.80</td>\n",
              "      <td>87.0</td>\n",
              "      <td>0</td>\n",
              "      <td>0</td>\n",
              "      <td>3.0</td>\n",
              "      <td>3.0</td>\n",
              "      <td>1</td>\n",
              "      <td>0</td>\n",
              "      <td>2.0</td>\n",
              "      <td>0</td>\n",
              "      <td>2.0</td>\n",
              "      <td>0.0</td>\n",
              "      <td>2</td>\n",
              "      <td>2</td>\n",
              "      <td>1</td>\n",
              "      <td>26.851852</td>\n",
              "      <td>1</td>\n",
              "      <td>0.999434</td>\n",
              "    </tr>\n",
              "    <tr>\n",
              "      <th>4</th>\n",
              "      <td>0</td>\n",
              "      <td>22.0</td>\n",
              "      <td>1.78</td>\n",
              "      <td>89.8</td>\n",
              "      <td>0</td>\n",
              "      <td>0</td>\n",
              "      <td>2.0</td>\n",
              "      <td>1.0</td>\n",
              "      <td>1</td>\n",
              "      <td>0</td>\n",
              "      <td>2.0</td>\n",
              "      <td>0</td>\n",
              "      <td>0.0</td>\n",
              "      <td>0.0</td>\n",
              "      <td>1</td>\n",
              "      <td>0</td>\n",
              "      <td>1</td>\n",
              "      <td>28.342381</td>\n",
              "      <td>1</td>\n",
              "      <td>1.000000</td>\n",
              "    </tr>\n",
              "  </tbody>\n",
              "</table>\n",
              "</div>"
            ],
            "text/plain": [
              "   Genero  Edad  Altura  Peso  ...  NObeyesdad        IMC  obesidad  obesidad_prob\n",
              "0       1  21.0    1.62  64.0  ...           0  24.386526         0       0.110068\n",
              "1       1  21.0    1.52  56.0  ...           0  24.238227         0       0.049864\n",
              "2       0  23.0    1.80  77.0  ...           0  23.765432         0       0.001481\n",
              "3       0  27.0    1.80  87.0  ...           1  26.851852         1       0.999434\n",
              "4       0  22.0    1.78  89.8  ...           1  28.342381         1       1.000000\n",
              "\n",
              "[5 rows x 20 columns]"
            ]
          },
          "metadata": {},
          "execution_count": 145
        }
      ]
    },
    {
      "cell_type": "markdown",
      "metadata": {
        "id": "HVYdpBHlKu48"
      },
      "source": [
        "Si miramos un caso en particular"
      ]
    },
    {
      "cell_type": "code",
      "metadata": {
        "colab": {
          "base_uri": "https://localhost:8080/"
        },
        "id": "DhJPa3gMILVr",
        "outputId": "f61685d4-aadc-436c-a7d8-1398d06d8c84"
      },
      "source": [
        "# examinar algunas predicciones de ejemplo\n",
        "print(logreg.predict_proba([[1,21,1.62,64,1,0,2,3,1,2,0,0,1,0,0,24.386526]]))"
      ],
      "execution_count": null,
      "outputs": [
        {
          "output_type": "stream",
          "name": "stdout",
          "text": [
            "[[0.88993186 0.11006814]]\n"
          ]
        }
      ]
    },
    {
      "cell_type": "markdown",
      "metadata": {
        "id": "mvuAhoi4INgn"
      },
      "source": [
        "La probabilidad de que una persona con estas caracterisiticas caiga en la categoria 0 es de 0.8693 y la probabilidad de que caiga en la categoria 1 es de 0.1306"
      ]
    },
    {
      "cell_type": "code",
      "metadata": {
        "colab": {
          "base_uri": "https://localhost:8080/"
        },
        "id": "gi2sB2lULbBW",
        "outputId": "ee6923a3-ae6a-4550-a5a1-c509f1ce5942"
      },
      "source": [
        "from sklearn import metrics\n",
        "print('RMSE:', np.sqrt(metrics.mean_squared_error(obesity_F['NObeyesdad'], obesity_F['obesidad'])))"
      ],
      "execution_count": null,
      "outputs": [
        {
          "output_type": "stream",
          "name": "stdout",
          "text": [
            "RMSE: 0.04894674065940168\n"
          ]
        }
      ]
    },
    {
      "cell_type": "markdown",
      "metadata": {
        "id": "ML8YNQfiZd4b"
      },
      "source": [
        "Para el modelo que realizamos con todas las observaciones tenemos un RMSE de 0.0489 lo que es bueno ya que el modelo generaliza bien sin embargo aun queda la pregunta de que tan bien va a predecir cuando se enfrente a datos que nunca ha visto."
      ]
    },
    {
      "cell_type": "markdown",
      "metadata": {
        "id": "LN56oDlFNyms"
      },
      "source": [
        "# Cambiando alguno de los hiperparámetros"
      ]
    },
    {
      "cell_type": "markdown",
      "metadata": {
        "id": "hXpPAIPsOAIK"
      },
      "source": [
        "Cambiando el hiper parámetro de solver"
      ]
    },
    {
      "cell_type": "code",
      "metadata": {
        "colab": {
          "base_uri": "https://localhost:8080/"
        },
        "id": "el0A33qUNe0h",
        "outputId": "d36f0281-4328-4a50-bf3c-007113659fbd"
      },
      "source": [
        "# ajustar un modelo de regresión logística y almacenar las predicciones de clase\n",
        "from sklearn.linear_model import LogisticRegression\n",
        "logreg = LogisticRegression(solver='sag',C=1e9,fit_intercept=False)\n",
        "feature_cols = ['Genero', 'Edad', 'Altura', 'Peso', 'Antec_familiares', 'FAVC', 'FCVC', 'NCP', 'CAEC', 'Fuma', 'CH2O', 'SCC', 'FAF', 'TUE', 'CALC', 'MTRANS', 'IMC']\n",
        "X = obesity_F[feature_cols]\n",
        "y = obesity_F.NObeyesdad\n",
        "logreg.fit(X, y)\n",
        "obesity_F['obesidad'] = logreg.predict(X)\n",
        "# almacenar las probabilidades previstas de la clase 1\n",
        "obesity_F['obesidad_prob'] = logreg.predict_proba(X)[:, 1]"
      ],
      "execution_count": null,
      "outputs": [
        {
          "output_type": "stream",
          "name": "stderr",
          "text": [
            "/usr/local/lib/python3.7/dist-packages/sklearn/linear_model/_sag.py:330: ConvergenceWarning: The max_iter was reached which means the coef_ did not converge\n",
            "  \"the coef_ did not converge\", ConvergenceWarning)\n"
          ]
        }
      ]
    },
    {
      "cell_type": "code",
      "metadata": {
        "colab": {
          "base_uri": "https://localhost:8080/",
          "height": 202
        },
        "id": "XhVXs5koNe0i",
        "outputId": "7d701929-b222-418c-b1fb-5dbf51d2b760"
      },
      "source": [
        "# examinar algunas predicciones de ejemplo\n",
        "obesity_F.head()"
      ],
      "execution_count": null,
      "outputs": [
        {
          "output_type": "execute_result",
          "data": {
            "text/html": [
              "<div>\n",
              "<style scoped>\n",
              "    .dataframe tbody tr th:only-of-type {\n",
              "        vertical-align: middle;\n",
              "    }\n",
              "\n",
              "    .dataframe tbody tr th {\n",
              "        vertical-align: top;\n",
              "    }\n",
              "\n",
              "    .dataframe thead th {\n",
              "        text-align: right;\n",
              "    }\n",
              "</style>\n",
              "<table border=\"1\" class=\"dataframe\">\n",
              "  <thead>\n",
              "    <tr style=\"text-align: right;\">\n",
              "      <th></th>\n",
              "      <th>Genero</th>\n",
              "      <th>Edad</th>\n",
              "      <th>Altura</th>\n",
              "      <th>Peso</th>\n",
              "      <th>Antec_familiares</th>\n",
              "      <th>FAVC</th>\n",
              "      <th>FCVC</th>\n",
              "      <th>NCP</th>\n",
              "      <th>CAEC</th>\n",
              "      <th>Fuma</th>\n",
              "      <th>CH2O</th>\n",
              "      <th>SCC</th>\n",
              "      <th>FAF</th>\n",
              "      <th>TUE</th>\n",
              "      <th>CALC</th>\n",
              "      <th>MTRANS</th>\n",
              "      <th>NObeyesdad</th>\n",
              "      <th>IMC</th>\n",
              "      <th>obesidad</th>\n",
              "      <th>obesidad_prob</th>\n",
              "    </tr>\n",
              "  </thead>\n",
              "  <tbody>\n",
              "    <tr>\n",
              "      <th>0</th>\n",
              "      <td>1</td>\n",
              "      <td>21.0</td>\n",
              "      <td>1.62</td>\n",
              "      <td>64.0</td>\n",
              "      <td>1</td>\n",
              "      <td>0</td>\n",
              "      <td>2.0</td>\n",
              "      <td>3.0</td>\n",
              "      <td>1</td>\n",
              "      <td>0</td>\n",
              "      <td>2.0</td>\n",
              "      <td>0</td>\n",
              "      <td>0.0</td>\n",
              "      <td>1.0</td>\n",
              "      <td>0</td>\n",
              "      <td>0</td>\n",
              "      <td>0</td>\n",
              "      <td>24.386526</td>\n",
              "      <td>1</td>\n",
              "      <td>0.788622</td>\n",
              "    </tr>\n",
              "    <tr>\n",
              "      <th>1</th>\n",
              "      <td>1</td>\n",
              "      <td>21.0</td>\n",
              "      <td>1.52</td>\n",
              "      <td>56.0</td>\n",
              "      <td>1</td>\n",
              "      <td>0</td>\n",
              "      <td>3.0</td>\n",
              "      <td>3.0</td>\n",
              "      <td>1</td>\n",
              "      <td>1</td>\n",
              "      <td>3.0</td>\n",
              "      <td>1</td>\n",
              "      <td>3.0</td>\n",
              "      <td>0.0</td>\n",
              "      <td>1</td>\n",
              "      <td>0</td>\n",
              "      <td>0</td>\n",
              "      <td>24.238227</td>\n",
              "      <td>0</td>\n",
              "      <td>0.197136</td>\n",
              "    </tr>\n",
              "    <tr>\n",
              "      <th>2</th>\n",
              "      <td>0</td>\n",
              "      <td>23.0</td>\n",
              "      <td>1.80</td>\n",
              "      <td>77.0</td>\n",
              "      <td>1</td>\n",
              "      <td>0</td>\n",
              "      <td>2.0</td>\n",
              "      <td>3.0</td>\n",
              "      <td>1</td>\n",
              "      <td>0</td>\n",
              "      <td>2.0</td>\n",
              "      <td>0</td>\n",
              "      <td>2.0</td>\n",
              "      <td>1.0</td>\n",
              "      <td>2</td>\n",
              "      <td>0</td>\n",
              "      <td>0</td>\n",
              "      <td>23.765432</td>\n",
              "      <td>1</td>\n",
              "      <td>0.677352</td>\n",
              "    </tr>\n",
              "    <tr>\n",
              "      <th>3</th>\n",
              "      <td>0</td>\n",
              "      <td>27.0</td>\n",
              "      <td>1.80</td>\n",
              "      <td>87.0</td>\n",
              "      <td>0</td>\n",
              "      <td>0</td>\n",
              "      <td>3.0</td>\n",
              "      <td>3.0</td>\n",
              "      <td>1</td>\n",
              "      <td>0</td>\n",
              "      <td>2.0</td>\n",
              "      <td>0</td>\n",
              "      <td>2.0</td>\n",
              "      <td>0.0</td>\n",
              "      <td>2</td>\n",
              "      <td>2</td>\n",
              "      <td>1</td>\n",
              "      <td>26.851852</td>\n",
              "      <td>1</td>\n",
              "      <td>0.737780</td>\n",
              "    </tr>\n",
              "    <tr>\n",
              "      <th>4</th>\n",
              "      <td>0</td>\n",
              "      <td>22.0</td>\n",
              "      <td>1.78</td>\n",
              "      <td>89.8</td>\n",
              "      <td>0</td>\n",
              "      <td>0</td>\n",
              "      <td>2.0</td>\n",
              "      <td>1.0</td>\n",
              "      <td>1</td>\n",
              "      <td>0</td>\n",
              "      <td>2.0</td>\n",
              "      <td>0</td>\n",
              "      <td>0.0</td>\n",
              "      <td>0.0</td>\n",
              "      <td>1</td>\n",
              "      <td>0</td>\n",
              "      <td>1</td>\n",
              "      <td>28.342381</td>\n",
              "      <td>1</td>\n",
              "      <td>0.995960</td>\n",
              "    </tr>\n",
              "  </tbody>\n",
              "</table>\n",
              "</div>"
            ],
            "text/plain": [
              "   Genero  Edad  Altura  Peso  ...  NObeyesdad        IMC  obesidad  obesidad_prob\n",
              "0       1  21.0    1.62  64.0  ...           0  24.386526         1       0.788622\n",
              "1       1  21.0    1.52  56.0  ...           0  24.238227         0       0.197136\n",
              "2       0  23.0    1.80  77.0  ...           0  23.765432         1       0.677352\n",
              "3       0  27.0    1.80  87.0  ...           1  26.851852         1       0.737780\n",
              "4       0  22.0    1.78  89.8  ...           1  28.342381         1       0.995960\n",
              "\n",
              "[5 rows x 20 columns]"
            ]
          },
          "metadata": {},
          "execution_count": 233
        }
      ]
    },
    {
      "cell_type": "code",
      "metadata": {
        "colab": {
          "base_uri": "https://localhost:8080/"
        },
        "id": "P_oUZTkaNe0i",
        "outputId": "7a78c17f-db4c-4f3e-8a19-d1fe1c869794"
      },
      "source": [
        "# examinar algunas predicciones de ejemplo\n",
        "print(logreg.predict_proba([[1,21,1.62,64,1,0,2,3,1,0,2,0,0,1,0,0,24.386526]]))"
      ],
      "execution_count": null,
      "outputs": [
        {
          "output_type": "stream",
          "name": "stdout",
          "text": [
            "[[0.21137772 0.78862228]]\n"
          ]
        }
      ]
    },
    {
      "cell_type": "code",
      "metadata": {
        "colab": {
          "base_uri": "https://localhost:8080/"
        },
        "id": "wBAdsXYeNe0i",
        "outputId": "047360bf-8de6-40be-878f-412996c72ae1"
      },
      "source": [
        "from sklearn import metrics\n",
        "print('RMSE:', np.sqrt(metrics.mean_squared_error(obesity_F['NObeyesdad'], obesity_F['obesidad'])))"
      ],
      "execution_count": null,
      "outputs": [
        {
          "output_type": "stream",
          "name": "stdout",
          "text": [
            "RMSE: 0.24571068803310914\n"
          ]
        }
      ]
    },
    {
      "cell_type": "markdown",
      "metadata": {
        "id": "SInsi_LsGIbx"
      },
      "source": [
        "# Modelo con particion del data set"
      ]
    },
    {
      "cell_type": "code",
      "metadata": {
        "id": "_njzNc3v9P0w"
      },
      "source": [
        "# define X and y\n",
        "feature_cols = ['Genero', 'Edad', 'Altura', 'Peso', 'Antec_familiares', 'FAVC', 'FCVC', 'NCP', 'CAEC', 'CH2O', 'SCC', 'FAF', 'TUE', 'CALC', 'MTRANS', 'IMC']\n",
        "X = obesity_F[feature_cols]\n",
        "y = obesity_F.NObeyesdad"
      ],
      "execution_count": null,
      "outputs": []
    },
    {
      "cell_type": "code",
      "metadata": {
        "id": "Mrtaljcb81aA",
        "colab": {
          "base_uri": "https://localhost:8080/"
        },
        "outputId": "f4d09f87-bf63-4730-b88d-230ccc9013ec"
      },
      "source": [
        "# split into training and testing sets\n",
        "from sklearn.model_selection import train_test_split\n",
        "X_train, X_test, y_train, y_test = train_test_split(X, y, random_state=1)\n",
        "print(X_train.shape, X_test.shape, y_train.shape, y_test.shape)"
      ],
      "execution_count": null,
      "outputs": [
        {
          "output_type": "stream",
          "name": "stdout",
          "text": [
            "(1565, 16) (522, 16) (1565,) (522,)\n"
          ]
        }
      ]
    },
    {
      "cell_type": "code",
      "metadata": {
        "colab": {
          "base_uri": "https://localhost:8080/"
        },
        "id": "R2yw9auqPjuM",
        "outputId": "96fd1632-65f0-4571-e399-cfd624762e1e"
      },
      "source": [
        "#Estimar los modelos con el conjunto de entrenamiento\n",
        "clf1_tt = LogisticRegression()\n",
        "clf1_tt.fit(X_train, y_train)"
      ],
      "execution_count": null,
      "outputs": [
        {
          "output_type": "stream",
          "name": "stderr",
          "text": [
            "/usr/local/lib/python3.7/dist-packages/sklearn/linear_model/_logistic.py:940: ConvergenceWarning: lbfgs failed to converge (status=1):\n",
            "STOP: TOTAL NO. of ITERATIONS REACHED LIMIT.\n",
            "\n",
            "Increase the number of iterations (max_iter) or scale the data as shown in:\n",
            "    https://scikit-learn.org/stable/modules/preprocessing.html\n",
            "Please also refer to the documentation for alternative solver options:\n",
            "    https://scikit-learn.org/stable/modules/linear_model.html#logistic-regression\n",
            "  extra_warning_msg=_LOGISTIC_SOLVER_CONVERGENCE_MSG)\n"
          ]
        },
        {
          "output_type": "execute_result",
          "data": {
            "text/plain": [
              "LogisticRegression(C=1.0, class_weight=None, dual=False, fit_intercept=True,\n",
              "                   intercept_scaling=1, l1_ratio=None, max_iter=100,\n",
              "                   multi_class='auto', n_jobs=None, penalty='l2',\n",
              "                   random_state=None, solver='lbfgs', tol=0.0001, verbose=0,\n",
              "                   warm_start=False)"
            ]
          },
          "metadata": {},
          "execution_count": 240
        }
      ]
    },
    {
      "cell_type": "code",
      "metadata": {
        "id": "og5oV6Eo9gK9"
      },
      "source": [
        "# Crear el metodo K fold CV\n",
        "from sklearn.model_selection import KFold\n",
        "cv = KFold(n_splits=10, random_state=666, shuffle=True)"
      ],
      "execution_count": null,
      "outputs": []
    },
    {
      "cell_type": "code",
      "metadata": {
        "id": "mxcugL6w9gK_"
      },
      "source": [
        "# Estimar el modelo en cada uno de los k folds\n",
        "from sklearn.model_selection import cross_val_score\n",
        "scores = cross_val_score(clf1_tt, X, y, scoring='neg_mean_squared_error', cv=cv, n_jobs=-1)"
      ],
      "execution_count": null,
      "outputs": []
    },
    {
      "cell_type": "code",
      "metadata": {
        "colab": {
          "base_uri": "https://localhost:8080/"
        },
        "id": "kbjaxoh99gLB",
        "outputId": "c2cd3afd-f95b-4133-819c-adf31923f85e"
      },
      "source": [
        "# Calcular el mse para el modelo (https://www.kaggle.com/questions-and-answers/154600)\n",
        "print('MSE regresión RMSE:', np.sqrt(abs(np.mean(scores))))"
      ],
      "execution_count": null,
      "outputs": [
        {
          "output_type": "stream",
          "name": "stdout",
          "text": [
            "MSE regresión RMSE: 0.14518242050149208\n"
          ]
        }
      ]
    },
    {
      "cell_type": "markdown",
      "metadata": {
        "id": "T1mFVAA0Z77f"
      },
      "source": [
        "Para el modelo donde se realizo validacion crusada de K-Fold tenemos un RMSE de 0.1451 que es mayor que el del modelo que usa todas las predicciones para generalizar, y a pesar de esto prodriamos decir que las predicciones por este modelo serian mas confiables debido a que a pesar de que ve todas las observaciones estas entran como train y como test"
      ]
    },
    {
      "cell_type": "markdown",
      "metadata": {
        "id": "phGMheUc_Wrt"
      },
      "source": [
        "# Predicciones con el conjunto de validación"
      ]
    },
    {
      "cell_type": "code",
      "metadata": {
        "id": "cygsq8pBTDtG"
      },
      "source": [
        "# Evaluar el modelo\n",
        "yhat = clf1_tt.predict(X_test)"
      ],
      "execution_count": null,
      "outputs": []
    },
    {
      "cell_type": "markdown",
      "metadata": {
        "id": "u1K-o5NZaUux"
      },
      "source": [
        "Realizando las predicciones con los datos de entrenamiento tenemos el siguiente conjunto de datos que evaluaremos a continuación"
      ]
    },
    {
      "cell_type": "code",
      "metadata": {
        "colab": {
          "base_uri": "https://localhost:8080/"
        },
        "id": "A-YgbSNYakYv",
        "outputId": "f1dc6264-3eba-4c19-8a10-7ee0f235e0e9"
      },
      "source": [
        "print(yhat)"
      ],
      "execution_count": null,
      "outputs": [
        {
          "output_type": "stream",
          "name": "stdout",
          "text": [
            "[0 1 1 0 1 0 1 1 1 0 1 1 1 1 1 0 0 0 1 0 1 1 1 1 0 0 1 1 1 1 1 1 0 1 1 0 0\n",
            " 1 1 1 1 0 0 0 1 0 1 1 1 1 1 1 1 1 1 1 1 1 1 1 1 1 1 0 1 1 0 1 1 0 1 0 0 1\n",
            " 1 1 1 1 1 0 1 0 1 0 0 1 1 1 1 1 1 1 1 1 1 0 0 1 1 1 0 1 0 1 1 1 1 1 1 0 0\n",
            " 0 1 0 0 1 1 0 1 1 1 1 1 0 1 1 1 1 1 1 1 0 1 1 1 1 1 1 1 1 1 0 1 1 1 1 1 1\n",
            " 0 1 1 0 1 0 1 1 0 0 1 1 1 1 1 1 1 1 1 1 1 1 1 1 1 1 1 0 1 1 0 1 0 1 1 1 1\n",
            " 0 1 0 1 0 0 1 1 0 1 1 1 1 0 1 0 1 1 0 1 1 1 1 1 1 1 1 1 0 1 1 1 1 0 1 1 1\n",
            " 1 1 1 1 1 0 0 1 1 0 0 1 1 1 1 1 1 1 1 1 1 1 1 1 0 0 1 0 1 1 1 1 1 0 1 1 1\n",
            " 1 1 1 1 0 1 0 1 1 1 1 0 0 1 1 0 1 1 1 1 1 1 1 0 0 1 1 1 1 1 1 1 0 0 1 0 1\n",
            " 0 0 1 0 1 0 1 0 1 1 0 1 0 0 1 1 1 1 1 1 1 1 1 1 1 1 1 1 1 1 1 1 1 0 1 0 1\n",
            " 1 0 1 1 1 1 1 0 1 1 1 1 1 0 0 1 1 0 1 0 1 0 0 0 1 1 0 1 1 1 1 1 1 1 0 1 0\n",
            " 1 1 1 0 1 1 1 1 1 1 1 1 0 0 1 1 1 1 1 1 1 1 0 0 0 1 1 1 0 1 0 1 0 0 1 1 1\n",
            " 1 1 1 1 1 1 1 1 1 0 1 1 1 1 0 1 0 1 1 1 0 1 1 1 0 0 1 1 1 1 1 0 1 1 1 0 1\n",
            " 0 1 0 0 0 1 1 1 0 1 1 1 1 1 1 1 1 1 1 1 1 0 0 1 0 1 1 0 1 1 1 1 1 0 1 1 1\n",
            " 1 1 0 0 1 1 1 1 1 1 1 1 1 0 1 1 0 1 1 0 1 1 0 1 1 1 0 1 1 1 1 1 1 1 1 0 0\n",
            " 1 0 0 1]\n"
          ]
        }
      ]
    },
    {
      "cell_type": "markdown",
      "metadata": {
        "id": "FwEZR6Uu_Y71"
      },
      "source": [
        "# Evaluación de modelo"
      ]
    },
    {
      "cell_type": "markdown",
      "metadata": {
        "id": "RuYE65QvanLf"
      },
      "source": [
        "Para evaluar el modelo haremos uso de la matriz de confusión que nos permite conocer cuantas observaciones del conjuto de validación fueron clasificadas correctamente"
      ]
    },
    {
      "cell_type": "code",
      "metadata": {
        "colab": {
          "base_uri": "https://localhost:8080/"
        },
        "id": "1I1Lj4x1WXfK",
        "outputId": "2e599973-9896-4ffe-e97a-30e395ca100f"
      },
      "source": [
        "from sklearn.metrics import confusion_matrix\n",
        "matriz  = confusion_matrix(y_test,yhat)\n",
        "print(matriz)"
      ],
      "execution_count": null,
      "outputs": [
        {
          "output_type": "stream",
          "name": "stdout",
          "text": [
            "[[135   7]\n",
            " [  1 379]]\n"
          ]
        }
      ]
    },
    {
      "cell_type": "markdown",
      "metadata": {
        "id": "h8OFpwBPWzxg"
      },
      "source": [
        "La matriz nos dice que 135 datos fueron predichos de manera correcta para la categoria 1 y que 379 fueron predichos de manera correcta para la categoria 0\n",
        "\n",
        "La cantidad de datos que pertenecian a la categoria de 0 y el modelo los predijo como 1 fueron 7, es decir de manera errada\n",
        "\n",
        "Y la cantidad de datos que pertenecian a la categoria de 1 y el modelo los predijo como 0 fue de 1, es decir de manera errada\n",
        "\n",
        "Pero en general podemos afirmar con base en la matriz de confusión que nuestro modelo predice bien"
      ]
    },
    {
      "cell_type": "markdown",
      "metadata": {
        "id": "QoetUUtha8yr"
      },
      "source": [
        "Veremos otras metricas para la evaluación del modelo"
      ]
    },
    {
      "cell_type": "markdown",
      "metadata": {
        "id": "YxZHAIG2bB2O"
      },
      "source": [
        "* Presición del modelo"
      ]
    },
    {
      "cell_type": "code",
      "metadata": {
        "colab": {
          "base_uri": "https://localhost:8080/"
        },
        "id": "TEqkkp-MXmXD",
        "outputId": "e36ca9b1-190e-4c5c-c91e-8d3e5a9ced6e"
      },
      "source": [
        "# Presición del algoritmo\n",
        "from sklearn.metrics import precision_score\n",
        "prescicion = precision_score(y_test,yhat)\n",
        "print(prescicion)"
      ],
      "execution_count": null,
      "outputs": [
        {
          "output_type": "stream",
          "name": "stdout",
          "text": [
            "0.9818652849740933\n"
          ]
        }
      ]
    },
    {
      "cell_type": "markdown",
      "metadata": {
        "id": "t_vQ5CUoYK7Q"
      },
      "source": [
        "El resultado de la presición es de 0.98 esto coincide con el resultado de la matriz de confusion demostrando que nuestro modelo es bastante bueno"
      ]
    },
    {
      "cell_type": "markdown",
      "metadata": {
        "id": "SVn6LEGBbGdY"
      },
      "source": [
        "* Exactitud del modelo"
      ]
    },
    {
      "cell_type": "code",
      "metadata": {
        "colab": {
          "base_uri": "https://localhost:8080/"
        },
        "id": "6ycOTQqOYWRi",
        "outputId": "b2a18066-0645-4835-bcba-cbd2f724e74e"
      },
      "source": [
        "# exactitud del modelo\n",
        "from sklearn.metrics import accuracy_score\n",
        "exactitud = accuracy_score(y_test,yhat)\n",
        "print(exactitud)"
      ],
      "execution_count": null,
      "outputs": [
        {
          "output_type": "stream",
          "name": "stdout",
          "text": [
            "0.9846743295019157\n"
          ]
        }
      ]
    },
    {
      "cell_type": "markdown",
      "metadata": {
        "id": "zbStAhmxYk81"
      },
      "source": [
        "Nuestro modelo tiene una exactitud de 0.9846 lo que quiere decir que es un buen modelo"
      ]
    },
    {
      "cell_type": "markdown",
      "metadata": {
        "id": "lvD2Fax4bNfP"
      },
      "source": [
        "* Sensibilidad del modelo"
      ]
    },
    {
      "cell_type": "code",
      "metadata": {
        "colab": {
          "base_uri": "https://localhost:8080/"
        },
        "id": "qy1TmM17YlPO",
        "outputId": "89249a71-e558-4474-80dc-e5f917f9a057"
      },
      "source": [
        "# sensibilidad del modelo\n",
        "from sklearn.metrics import recall_score\n",
        "sensibilidad = recall_score(y_test,yhat)\n",
        "print(sensibilidad)\n"
      ],
      "execution_count": null,
      "outputs": [
        {
          "output_type": "stream",
          "name": "stdout",
          "text": [
            "0.9973684210526316\n"
          ]
        }
      ]
    },
    {
      "cell_type": "markdown",
      "metadata": {
        "id": "G_m-vS-nYvsc"
      },
      "source": [
        "Nuestro modelo tiene una sensibilidad del 0.9973 lo que quiere decir que es un buen modelo"
      ]
    },
    {
      "cell_type": "markdown",
      "metadata": {
        "id": "8FLSbMfMbZfz"
      },
      "source": [
        "* Curva de ROC_ AUC del modelo"
      ]
    },
    {
      "cell_type": "code",
      "metadata": {
        "colab": {
          "base_uri": "https://localhost:8080/"
        },
        "id": "RSOkKPHmYwVx",
        "outputId": "e0ca2f4d-e042-4db5-9e42-0a969b481907"
      },
      "source": [
        "# Calculo de la curva ROC _ AUC del modelo \n",
        "from sklearn.metrics import roc_auc_score\n",
        "curvaROC = roc_auc_score(y_test,yhat)\n",
        "print(curvaROC)\n"
      ],
      "execution_count": null,
      "outputs": [
        {
          "output_type": "stream",
          "name": "stdout",
          "text": [
            "0.9740363232023721\n"
          ]
        }
      ]
    },
    {
      "cell_type": "markdown",
      "metadata": {
        "id": "FmYb03hnZAqK"
      },
      "source": [
        "Nuestro modelo tiene un valor de 0.9740 de AUC lo que quiere decir que es un buen modelo"
      ]
    },
    {
      "cell_type": "markdown",
      "metadata": {
        "id": "jggqVaAebnJb"
      },
      "source": [
        "# Justificación modelo escogido"
      ]
    },
    {
      "cell_type": "markdown",
      "metadata": {
        "id": "U3BYEM9NbvlO"
      },
      "source": [
        "Se selecciono el algoritmo de K_Fold porque es el algoritmo que tiene lo mejor de loocv y de la validación simple, se uso la metrica del error cuadratico medio de los modelos, ya que este nos permite comparar los valores reales contra los valores predichos. \n",
        "\n",
        "El modelo que seleccionamos es el modelo que se realizo con el algoritmo de K-Fold pues a pesar de que no es el modelo con el menor RMSE basado en la matriz de confusión y las demás metricas podemos concluir que es un buen modelo ya que predice bien.\n",
        "\n",
        "Podriamos mejorar de nuestro modelo la reducción de variables explicativas, tratando de agruparlas sin embargo será una consideración posterior."
      ]
    }
  ]
}