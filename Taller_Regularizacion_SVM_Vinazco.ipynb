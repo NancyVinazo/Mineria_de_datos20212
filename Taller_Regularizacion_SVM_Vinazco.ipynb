{
  "nbformat": 4,
  "nbformat_minor": 0,
  "metadata": {
    "kernelspec": {
      "display_name": "Python 3",
      "language": "python",
      "name": "python3"
    },
    "language_info": {
      "codemirror_mode": {
        "name": "ipython",
        "version": 3
      },
      "file_extension": ".py",
      "mimetype": "text/x-python",
      "name": "python",
      "nbconvert_exporter": "python",
      "pygments_lexer": "ipython3",
      "version": "3.7.0"
    },
    "colab": {
      "name": "Copia de Taller_Regularizacion_SVM.ipynb",
      "provenance": []
    }
  },
  "cells": [
    {
      "cell_type": "markdown",
      "metadata": {
        "id": "goh8XqyWQwHS"
      },
      "source": [
        "## Taller Regularización y SVM\n",
        "\n",
        "\n",
        "Para esta tarea consideramos un conjunto de observaciones sobre una serie de variedades de vino tinto y blanco que implican sus propiedades químicas y su clasificación por parte de los catadores. La industria del vino ha experimentado un gran crecimiento en los últimos tiempos debido al aumento del consumo social. El precio del vino depende de un concepto bastante abstracto de apreciación del vino por parte de los catadores, cuya opinión puede tener un alto grado de variabilidad. El precio del vino depende en cierta medida de este factor tan volátil. Otro factor clave en la certificación y evaluación de la calidad del vino son las pruebas fisicoquímicas, que se realizan en laboratorio y tienen en cuenta factores como la acidez, el nivel de pH, la presencia de azúcar y otras propiedades químicas. Para el mercado del vino, sería interesante que la calidad humana de la cata pudiera relacionarse con las propiedades químicas del vino para que el proceso de certificación y evaluación de la calidad estuviera más controlado.\n",
        "\n",
        "Se dispone de dos conjuntos de datos, uno de los cuales se refiere al vino tinto y cuenta con 1.599 variedades diferentes, y el otro, al vino blanco, con 4.898 variedades. Todos los vinos se producen en una zona concreta de Portugal. Se recogen datos sobre 12 propiedades diferentes de los vinos, una de las cuales es la calidad, basada en datos sensoriales, y el resto son propiedades químicas de los vinos, como la densidad, la acidez, el contenido de alcohol, etc. Todas las propiedades químicas de los vinos son variables continuas. La calidad es una variable ordinal con una clasificación posible de 1 (peor) a 10 (mejor). Cada variedad de vino es catada por tres catadores independientes y la clasificación final asignada es la mediana de la clasificación dada por los catadores.\n",
        "\n",
        "Se espera que un modelo predictivo desarrollado a partir de estos datos sirva de orientación a los viñedos en cuanto a la calidad y el precio que se espera obtener de sus productos sin depender en gran medida de la volatilidad de los catadores.\n"
      ]
    },
    {
      "cell_type": "code",
      "metadata": {
        "id": "m4dAFqRiQwHd"
      },
      "source": [
        "import pandas as pd\n",
        "import numpy as np"
      ],
      "execution_count": 1,
      "outputs": []
    },
    {
      "cell_type": "code",
      "metadata": {
        "id": "j0S8ZSeuQwHh"
      },
      "source": [
        "data_r = pd.read_csv('https://github.com/albahnsen/PracticalMachineLearningClass/raw/master/datasets/Wine_data_red.csv')\n",
        "data_w = pd.read_csv('https://github.com/albahnsen/PracticalMachineLearningClass/raw/master/datasets/Wine_data_white.csv')"
      ],
      "execution_count": 2,
      "outputs": []
    },
    {
      "cell_type": "code",
      "metadata": {
        "colab": {
          "base_uri": "https://localhost:8080/",
          "height": 204
        },
        "id": "zL6G49RMQwHl",
        "outputId": "a12a29a0-21f4-4381-fba5-54b09c6b45c0"
      },
      "source": [
        "data = data_w.assign(type = 'white')\n",
        "\n",
        "data = data.append(data_r.assign(type = 'red'), ignore_index=True)\n",
        "data.head(5)"
      ],
      "execution_count": 3,
      "outputs": [
        {
          "output_type": "execute_result",
          "data": {
            "text/html": [
              "<div>\n",
              "<style scoped>\n",
              "    .dataframe tbody tr th:only-of-type {\n",
              "        vertical-align: middle;\n",
              "    }\n",
              "\n",
              "    .dataframe tbody tr th {\n",
              "        vertical-align: top;\n",
              "    }\n",
              "\n",
              "    .dataframe thead th {\n",
              "        text-align: right;\n",
              "    }\n",
              "</style>\n",
              "<table border=\"1\" class=\"dataframe\">\n",
              "  <thead>\n",
              "    <tr style=\"text-align: right;\">\n",
              "      <th></th>\n",
              "      <th>fixed acidity</th>\n",
              "      <th>volatile acidity</th>\n",
              "      <th>citric acid</th>\n",
              "      <th>residual sugar</th>\n",
              "      <th>chlorides</th>\n",
              "      <th>free sulfur dioxide</th>\n",
              "      <th>total sulfur dioxide</th>\n",
              "      <th>density</th>\n",
              "      <th>pH</th>\n",
              "      <th>sulphates</th>\n",
              "      <th>alcohol</th>\n",
              "      <th>quality</th>\n",
              "      <th>type</th>\n",
              "    </tr>\n",
              "  </thead>\n",
              "  <tbody>\n",
              "    <tr>\n",
              "      <th>0</th>\n",
              "      <td>7.0</td>\n",
              "      <td>0.27</td>\n",
              "      <td>0.36</td>\n",
              "      <td>20.7</td>\n",
              "      <td>0.045</td>\n",
              "      <td>45.0</td>\n",
              "      <td>170.0</td>\n",
              "      <td>1.0010</td>\n",
              "      <td>3.00</td>\n",
              "      <td>0.45</td>\n",
              "      <td>8.8</td>\n",
              "      <td>6</td>\n",
              "      <td>white</td>\n",
              "    </tr>\n",
              "    <tr>\n",
              "      <th>1</th>\n",
              "      <td>6.3</td>\n",
              "      <td>0.30</td>\n",
              "      <td>0.34</td>\n",
              "      <td>1.6</td>\n",
              "      <td>0.049</td>\n",
              "      <td>14.0</td>\n",
              "      <td>132.0</td>\n",
              "      <td>0.9940</td>\n",
              "      <td>3.30</td>\n",
              "      <td>0.49</td>\n",
              "      <td>9.5</td>\n",
              "      <td>6</td>\n",
              "      <td>white</td>\n",
              "    </tr>\n",
              "    <tr>\n",
              "      <th>2</th>\n",
              "      <td>8.1</td>\n",
              "      <td>0.28</td>\n",
              "      <td>0.40</td>\n",
              "      <td>6.9</td>\n",
              "      <td>0.050</td>\n",
              "      <td>30.0</td>\n",
              "      <td>97.0</td>\n",
              "      <td>0.9951</td>\n",
              "      <td>3.26</td>\n",
              "      <td>0.44</td>\n",
              "      <td>10.1</td>\n",
              "      <td>6</td>\n",
              "      <td>white</td>\n",
              "    </tr>\n",
              "    <tr>\n",
              "      <th>3</th>\n",
              "      <td>7.2</td>\n",
              "      <td>0.23</td>\n",
              "      <td>0.32</td>\n",
              "      <td>8.5</td>\n",
              "      <td>0.058</td>\n",
              "      <td>47.0</td>\n",
              "      <td>186.0</td>\n",
              "      <td>0.9956</td>\n",
              "      <td>3.19</td>\n",
              "      <td>0.40</td>\n",
              "      <td>9.9</td>\n",
              "      <td>6</td>\n",
              "      <td>white</td>\n",
              "    </tr>\n",
              "    <tr>\n",
              "      <th>4</th>\n",
              "      <td>7.2</td>\n",
              "      <td>0.23</td>\n",
              "      <td>0.32</td>\n",
              "      <td>8.5</td>\n",
              "      <td>0.058</td>\n",
              "      <td>47.0</td>\n",
              "      <td>186.0</td>\n",
              "      <td>0.9956</td>\n",
              "      <td>3.19</td>\n",
              "      <td>0.40</td>\n",
              "      <td>9.9</td>\n",
              "      <td>6</td>\n",
              "      <td>white</td>\n",
              "    </tr>\n",
              "  </tbody>\n",
              "</table>\n",
              "</div>"
            ],
            "text/plain": [
              "   fixed acidity  volatile acidity  citric acid  ...  alcohol  quality   type\n",
              "0            7.0              0.27         0.36  ...      8.8        6  white\n",
              "1            6.3              0.30         0.34  ...      9.5        6  white\n",
              "2            8.1              0.28         0.40  ...     10.1        6  white\n",
              "3            7.2              0.23         0.32  ...      9.9        6  white\n",
              "4            7.2              0.23         0.32  ...      9.9        6  white\n",
              "\n",
              "[5 rows x 13 columns]"
            ]
          },
          "metadata": {},
          "execution_count": 3
        }
      ]
    },
    {
      "cell_type": "code",
      "metadata": {
        "colab": {
          "base_uri": "https://localhost:8080/"
        },
        "id": "v4tG3aszSHwx",
        "outputId": "6b85a324-974a-42f9-ddb7-a168e1c83137"
      },
      "source": [
        "data.quality.value_counts()"
      ],
      "execution_count": 4,
      "outputs": [
        {
          "output_type": "execute_result",
          "data": {
            "text/plain": [
              "6    2836\n",
              "5    2138\n",
              "7    1079\n",
              "4     216\n",
              "8     193\n",
              "3      30\n",
              "9       5\n",
              "Name: quality, dtype: int64"
            ]
          },
          "metadata": {},
          "execution_count": 4
        }
      ]
    },
    {
      "cell_type": "code",
      "metadata": {
        "colab": {
          "base_uri": "https://localhost:8080/"
        },
        "id": "Aulg4Pz5SIDO",
        "outputId": "02569e15-e090-458d-ffad-e2c83b53af92"
      },
      "source": [
        "data.type.value_counts()"
      ],
      "execution_count": 5,
      "outputs": [
        {
          "output_type": "execute_result",
          "data": {
            "text/plain": [
              "white    4898\n",
              "red      1599\n",
              "Name: type, dtype: int64"
            ]
          },
          "metadata": {},
          "execution_count": 5
        }
      ]
    },
    {
      "cell_type": "code",
      "metadata": {
        "colab": {
          "base_uri": "https://localhost:8080/",
          "height": 204
        },
        "id": "NLAOV8hZ2z_E",
        "outputId": "ffe2b1fd-ef1a-4c8f-9fe1-f501f9478144"
      },
      "source": [
        "data.head()"
      ],
      "execution_count": 6,
      "outputs": [
        {
          "output_type": "execute_result",
          "data": {
            "text/html": [
              "<div>\n",
              "<style scoped>\n",
              "    .dataframe tbody tr th:only-of-type {\n",
              "        vertical-align: middle;\n",
              "    }\n",
              "\n",
              "    .dataframe tbody tr th {\n",
              "        vertical-align: top;\n",
              "    }\n",
              "\n",
              "    .dataframe thead th {\n",
              "        text-align: right;\n",
              "    }\n",
              "</style>\n",
              "<table border=\"1\" class=\"dataframe\">\n",
              "  <thead>\n",
              "    <tr style=\"text-align: right;\">\n",
              "      <th></th>\n",
              "      <th>fixed acidity</th>\n",
              "      <th>volatile acidity</th>\n",
              "      <th>citric acid</th>\n",
              "      <th>residual sugar</th>\n",
              "      <th>chlorides</th>\n",
              "      <th>free sulfur dioxide</th>\n",
              "      <th>total sulfur dioxide</th>\n",
              "      <th>density</th>\n",
              "      <th>pH</th>\n",
              "      <th>sulphates</th>\n",
              "      <th>alcohol</th>\n",
              "      <th>quality</th>\n",
              "      <th>type</th>\n",
              "    </tr>\n",
              "  </thead>\n",
              "  <tbody>\n",
              "    <tr>\n",
              "      <th>0</th>\n",
              "      <td>7.0</td>\n",
              "      <td>0.27</td>\n",
              "      <td>0.36</td>\n",
              "      <td>20.7</td>\n",
              "      <td>0.045</td>\n",
              "      <td>45.0</td>\n",
              "      <td>170.0</td>\n",
              "      <td>1.0010</td>\n",
              "      <td>3.00</td>\n",
              "      <td>0.45</td>\n",
              "      <td>8.8</td>\n",
              "      <td>6</td>\n",
              "      <td>white</td>\n",
              "    </tr>\n",
              "    <tr>\n",
              "      <th>1</th>\n",
              "      <td>6.3</td>\n",
              "      <td>0.30</td>\n",
              "      <td>0.34</td>\n",
              "      <td>1.6</td>\n",
              "      <td>0.049</td>\n",
              "      <td>14.0</td>\n",
              "      <td>132.0</td>\n",
              "      <td>0.9940</td>\n",
              "      <td>3.30</td>\n",
              "      <td>0.49</td>\n",
              "      <td>9.5</td>\n",
              "      <td>6</td>\n",
              "      <td>white</td>\n",
              "    </tr>\n",
              "    <tr>\n",
              "      <th>2</th>\n",
              "      <td>8.1</td>\n",
              "      <td>0.28</td>\n",
              "      <td>0.40</td>\n",
              "      <td>6.9</td>\n",
              "      <td>0.050</td>\n",
              "      <td>30.0</td>\n",
              "      <td>97.0</td>\n",
              "      <td>0.9951</td>\n",
              "      <td>3.26</td>\n",
              "      <td>0.44</td>\n",
              "      <td>10.1</td>\n",
              "      <td>6</td>\n",
              "      <td>white</td>\n",
              "    </tr>\n",
              "    <tr>\n",
              "      <th>3</th>\n",
              "      <td>7.2</td>\n",
              "      <td>0.23</td>\n",
              "      <td>0.32</td>\n",
              "      <td>8.5</td>\n",
              "      <td>0.058</td>\n",
              "      <td>47.0</td>\n",
              "      <td>186.0</td>\n",
              "      <td>0.9956</td>\n",
              "      <td>3.19</td>\n",
              "      <td>0.40</td>\n",
              "      <td>9.9</td>\n",
              "      <td>6</td>\n",
              "      <td>white</td>\n",
              "    </tr>\n",
              "    <tr>\n",
              "      <th>4</th>\n",
              "      <td>7.2</td>\n",
              "      <td>0.23</td>\n",
              "      <td>0.32</td>\n",
              "      <td>8.5</td>\n",
              "      <td>0.058</td>\n",
              "      <td>47.0</td>\n",
              "      <td>186.0</td>\n",
              "      <td>0.9956</td>\n",
              "      <td>3.19</td>\n",
              "      <td>0.40</td>\n",
              "      <td>9.9</td>\n",
              "      <td>6</td>\n",
              "      <td>white</td>\n",
              "    </tr>\n",
              "  </tbody>\n",
              "</table>\n",
              "</div>"
            ],
            "text/plain": [
              "   fixed acidity  volatile acidity  citric acid  ...  alcohol  quality   type\n",
              "0            7.0              0.27         0.36  ...      8.8        6  white\n",
              "1            6.3              0.30         0.34  ...      9.5        6  white\n",
              "2            8.1              0.28         0.40  ...     10.1        6  white\n",
              "3            7.2              0.23         0.32  ...      9.9        6  white\n",
              "4            7.2              0.23         0.32  ...      9.9        6  white\n",
              "\n",
              "[5 rows x 13 columns]"
            ]
          },
          "metadata": {},
          "execution_count": 6
        }
      ]
    },
    {
      "cell_type": "markdown",
      "metadata": {
        "id": "ijwzlA_FQwHq"
      },
      "source": [
        "# Ejercicio 1\n",
        "\n",
        "Mostrar la tabla de frecuencias de la calidad por tipo de vino."
      ]
    },
    {
      "cell_type": "code",
      "metadata": {
        "colab": {
          "base_uri": "https://localhost:8080/",
          "height": 0
        },
        "id": "HOunoryRj1P9",
        "outputId": "e37515cc-682a-44e5-f275-acf390841bea"
      },
      "source": [
        "pd.crosstab(index=data.type,\n",
        "            columns=data.quality, margins=True)"
      ],
      "execution_count": 7,
      "outputs": [
        {
          "output_type": "execute_result",
          "data": {
            "text/html": [
              "<div>\n",
              "<style scoped>\n",
              "    .dataframe tbody tr th:only-of-type {\n",
              "        vertical-align: middle;\n",
              "    }\n",
              "\n",
              "    .dataframe tbody tr th {\n",
              "        vertical-align: top;\n",
              "    }\n",
              "\n",
              "    .dataframe thead th {\n",
              "        text-align: right;\n",
              "    }\n",
              "</style>\n",
              "<table border=\"1\" class=\"dataframe\">\n",
              "  <thead>\n",
              "    <tr style=\"text-align: right;\">\n",
              "      <th>quality</th>\n",
              "      <th>3</th>\n",
              "      <th>4</th>\n",
              "      <th>5</th>\n",
              "      <th>6</th>\n",
              "      <th>7</th>\n",
              "      <th>8</th>\n",
              "      <th>9</th>\n",
              "      <th>All</th>\n",
              "    </tr>\n",
              "    <tr>\n",
              "      <th>type</th>\n",
              "      <th></th>\n",
              "      <th></th>\n",
              "      <th></th>\n",
              "      <th></th>\n",
              "      <th></th>\n",
              "      <th></th>\n",
              "      <th></th>\n",
              "      <th></th>\n",
              "    </tr>\n",
              "  </thead>\n",
              "  <tbody>\n",
              "    <tr>\n",
              "      <th>red</th>\n",
              "      <td>10</td>\n",
              "      <td>53</td>\n",
              "      <td>681</td>\n",
              "      <td>638</td>\n",
              "      <td>199</td>\n",
              "      <td>18</td>\n",
              "      <td>0</td>\n",
              "      <td>1599</td>\n",
              "    </tr>\n",
              "    <tr>\n",
              "      <th>white</th>\n",
              "      <td>20</td>\n",
              "      <td>163</td>\n",
              "      <td>1457</td>\n",
              "      <td>2198</td>\n",
              "      <td>880</td>\n",
              "      <td>175</td>\n",
              "      <td>5</td>\n",
              "      <td>4898</td>\n",
              "    </tr>\n",
              "    <tr>\n",
              "      <th>All</th>\n",
              "      <td>30</td>\n",
              "      <td>216</td>\n",
              "      <td>2138</td>\n",
              "      <td>2836</td>\n",
              "      <td>1079</td>\n",
              "      <td>193</td>\n",
              "      <td>5</td>\n",
              "      <td>6497</td>\n",
              "    </tr>\n",
              "  </tbody>\n",
              "</table>\n",
              "</div>"
            ],
            "text/plain": [
              "quality   3    4     5     6     7    8  9   All\n",
              "type                                            \n",
              "red      10   53   681   638   199   18  0  1599\n",
              "white    20  163  1457  2198   880  175  5  4898\n",
              "All      30  216  2138  2836  1079  193  5  6497"
            ]
          },
          "metadata": {},
          "execution_count": 7
        }
      ]
    },
    {
      "cell_type": "markdown",
      "metadata": {
        "id": "vchxRubOQwH_"
      },
      "source": [
        "# Regularización"
      ]
    },
    {
      "cell_type": "markdown",
      "metadata": {
        "id": "v2kdBq6RQwIA"
      },
      "source": [
        "# Ejercicio 2\n",
        "\n",
        "* Entrenar una regresión lineal para predecir la calidad del vino (Continuo)\n",
        "\n",
        "* Analice los coeficientes\n",
        "\n",
        "* Evaluar el RMSE"
      ]
    },
    {
      "cell_type": "code",
      "metadata": {
        "id": "tnyEx7zD2cIE"
      },
      "source": [
        "data['type'] = data['type'].map({\"white\":0, \"red\":1})"
      ],
      "execution_count": 8,
      "outputs": []
    },
    {
      "cell_type": "code",
      "metadata": {
        "colab": {
          "base_uri": "https://localhost:8080/"
        },
        "id": "UshC_gGF3oYc",
        "outputId": "116a8b81-1871-4871-df75-a5253757b852"
      },
      "source": [
        "data.shape"
      ],
      "execution_count": 9,
      "outputs": [
        {
          "output_type": "execute_result",
          "data": {
            "text/plain": [
              "(6497, 13)"
            ]
          },
          "metadata": {},
          "execution_count": 9
        }
      ]
    },
    {
      "cell_type": "code",
      "metadata": {
        "collapsed": true,
        "id": "vnOeNRQvQwIC"
      },
      "source": [
        "# define X and y\n",
        "X = data.drop('quality', axis=1)\n",
        "y = data['quality']"
      ],
      "execution_count": 10,
      "outputs": []
    },
    {
      "cell_type": "code",
      "metadata": {
        "id": "2Dai_Ksy2NIs"
      },
      "source": [
        "# split into training and testing sets\n",
        "from sklearn.model_selection import train_test_split\n",
        "X_train, X_test, y_train, y_test = train_test_split(X, y, random_state=1)"
      ],
      "execution_count": 11,
      "outputs": []
    },
    {
      "cell_type": "code",
      "metadata": {
        "colab": {
          "base_uri": "https://localhost:8080/"
        },
        "id": "qz5tEepl2QOs",
        "outputId": "0b3eedbc-a343-4c9e-ae93-d581a1cd47d1"
      },
      "source": [
        "# build a linear regression model\n",
        "from sklearn.linear_model import LinearRegression\n",
        "linreg = LinearRegression()\n",
        "linreg.fit(X_train, y_train)"
      ],
      "execution_count": 12,
      "outputs": [
        {
          "output_type": "execute_result",
          "data": {
            "text/plain": [
              "LinearRegression(copy_X=True, fit_intercept=True, n_jobs=None, normalize=False)"
            ]
          },
          "metadata": {},
          "execution_count": 12
        }
      ]
    },
    {
      "cell_type": "code",
      "metadata": {
        "colab": {
          "base_uri": "https://localhost:8080/"
        },
        "id": "Z_M20Ysf3fJj",
        "outputId": "ea21e56f-46e5-450c-8728-5ae3eb719184"
      },
      "source": [
        "# examine the coefficients\n",
        "coefl = linreg.coef_\n",
        "print(coefl)\n"
      ],
      "execution_count": 13,
      "outputs": [
        {
          "output_type": "stream",
          "name": "stdout",
          "text": [
            "[ 9.76223931e-02 -1.55047309e+00 -1.36418739e-01  6.67473085e-02\n",
            " -7.67939579e-01  3.99814849e-03 -1.05686554e-03 -1.13045446e+02\n",
            "  5.15890499e-01  7.01081951e-01  2.09971675e-01  4.24352933e-01]\n"
          ]
        }
      ]
    },
    {
      "cell_type": "code",
      "metadata": {
        "colab": {
          "base_uri": "https://localhost:8080/"
        },
        "id": "5BxUX6f65H8G",
        "outputId": "4d5f92ab-6717-4c65-99c2-a723cfe4f435"
      },
      "source": [
        "float(-1.13045446e+02)"
      ],
      "execution_count": 14,
      "outputs": [
        {
          "output_type": "execute_result",
          "data": {
            "text/plain": [
              "-113.045446"
            ]
          },
          "metadata": {},
          "execution_count": 14
        }
      ]
    },
    {
      "cell_type": "markdown",
      "metadata": {
        "id": "eO3ar2Ly33QH"
      },
      "source": [
        "En primer lugar, los coeficientes del modelo lineal normal, parecen no ser tan grandes a excepción del coeficiente $ 8 = -113.045446$"
      ]
    },
    {
      "cell_type": "code",
      "metadata": {
        "id": "s8a7m-5d5xDS"
      },
      "source": [
        "# make predictions\n",
        "y_pred = linreg.predict(X_test)"
      ],
      "execution_count": 15,
      "outputs": []
    },
    {
      "cell_type": "code",
      "metadata": {
        "colab": {
          "base_uri": "https://localhost:8080/"
        },
        "id": "ulJOUqid5yy-",
        "outputId": "1a588b52-11c0-495b-aecf-13778c6fa7a6"
      },
      "source": [
        "# calculate RMSE\n",
        "from sklearn import metrics\n",
        "import numpy as np\n",
        "print(\"RMSE Modelo Lineal Normal: \",np.sqrt(metrics.mean_squared_error(y_test, y_pred)))"
      ],
      "execution_count": 16,
      "outputs": [
        {
          "output_type": "stream",
          "name": "stdout",
          "text": [
            "RMSE Modelo Lineal Normal:  0.7176907067288503\n"
          ]
        }
      ]
    },
    {
      "cell_type": "markdown",
      "metadata": {
        "id": "IcVyf7hx50-2"
      },
      "source": [
        "Para el Modelo Lineal Normal el **RMSE es igual a 0.717690**"
      ]
    },
    {
      "cell_type": "markdown",
      "metadata": {
        "id": "V_mBGZY-QwIC"
      },
      "source": [
        "# Ejercicio 3\n",
        "\n",
        "* Estimar una regresión de Ridge con alfa igual a 0,1 y 1.\n",
        "* Compare y analice los coeficientes de Ridge con la regresión lineal\n",
        "* Evaluar el RMSE"
      ]
    },
    {
      "cell_type": "markdown",
      "metadata": {
        "id": "6Dh1fAmZ6Upd"
      },
      "source": [
        "**Para Alpha = 0.1**"
      ]
    },
    {
      "cell_type": "code",
      "metadata": {
        "collapsed": true,
        "id": "jzUrCbUyQwID",
        "colab": {
          "base_uri": "https://localhost:8080/"
        },
        "outputId": "3558878e-ef7d-49df-d193-9f6d098eb80e"
      },
      "source": [
        "# alpha=0.1\n",
        "from sklearn.linear_model import Ridge\n",
        "ridgereg0 = Ridge(alpha=0.1, normalize=True)\n",
        "ridgereg0.fit(X_train, y_train)\n",
        "y_pred = ridgereg0.predict(X_test)\n",
        "print('Regresión Ridge (alpha0.1) RMSE : ', np.sqrt(metrics.mean_squared_error(y_test, y_pred)))"
      ],
      "execution_count": 17,
      "outputs": [
        {
          "output_type": "stream",
          "name": "stdout",
          "text": [
            "Regresión Ridge (alpha0.1) RMSE :  0.719979841979972\n"
          ]
        }
      ]
    },
    {
      "cell_type": "code",
      "metadata": {
        "colab": {
          "base_uri": "https://localhost:8080/"
        },
        "id": "3hXstucw6gkj",
        "outputId": "d567ef43-5235-45f4-b411-f7f416bf5cc0"
      },
      "source": [
        "coef = ridgereg0.coef_ \n",
        "print(ridgereg0.coef_)"
      ],
      "execution_count": 18,
      "outputs": [
        {
          "output_type": "stream",
          "name": "stdout",
          "text": [
            "[ 2.88566714e-02 -1.28227049e+00 -2.39357437e-02  2.97639425e-02\n",
            " -1.18663870e+00  3.80364255e-03 -1.28915306e-03 -3.82373057e+01\n",
            "  2.08500233e-01  5.91549553e-01  2.50777308e-01  1.56871332e-01]\n"
          ]
        }
      ]
    },
    {
      "cell_type": "code",
      "metadata": {
        "colab": {
          "base_uri": "https://localhost:8080/"
        },
        "id": "aemiHlemYV8R",
        "outputId": "5e9f4d4f-cbb0-44d1-abf5-5fbfc35b7f2f"
      },
      "source": [
        "float(-3.82373057e+01)"
      ],
      "execution_count": 19,
      "outputs": [
        {
          "output_type": "execute_result",
          "data": {
            "text/plain": [
              "-38.2373057"
            ]
          },
          "metadata": {},
          "execution_count": 19
        }
      ]
    },
    {
      "cell_type": "code",
      "metadata": {
        "colab": {
          "base_uri": "https://localhost:8080/"
        },
        "id": "XCHJT-_6Ygv5",
        "outputId": "8c8c3a51-a730-4438-cd4c-7eae629bd2c9"
      },
      "source": [
        "(-38.2373057-(-113.045446))/-113.045446*100"
      ],
      "execution_count": 20,
      "outputs": [
        {
          "output_type": "execute_result",
          "data": {
            "text/plain": [
              "-66.1752798958394"
            ]
          },
          "metadata": {},
          "execution_count": 20
        }
      ]
    },
    {
      "cell_type": "markdown",
      "metadata": {
        "id": "MbHimTLMYZwR"
      },
      "source": [
        "+ El **8vo coeficiente** disminuyo un 66% con un alpha = 0.1 "
      ]
    },
    {
      "cell_type": "markdown",
      "metadata": {
        "id": "dKHV8C3X8NyN"
      },
      "source": [
        "**Para Alpha = 1**"
      ]
    },
    {
      "cell_type": "code",
      "metadata": {
        "collapsed": true,
        "colab": {
          "base_uri": "https://localhost:8080/"
        },
        "id": "i1hJmL7u73Ik",
        "outputId": "ac9aa3d9-7f05-458f-cf2d-5e0a8e0f6f53"
      },
      "source": [
        "# alpha = 1\n",
        "from sklearn.linear_model import Ridge\n",
        "ridgereg1 = Ridge(alpha=1, normalize=True)\n",
        "ridgereg1.fit(X_train, y_train)\n",
        "y_pred = ridgereg1.predict(X_test)\n",
        "print('Regresión Ridge (alpha1) RMSE : ', np.sqrt(metrics.mean_squared_error(y_test, y_pred)))"
      ],
      "execution_count": 21,
      "outputs": [
        {
          "output_type": "stream",
          "name": "stdout",
          "text": [
            "Regresión Ridge (alpha1) RMSE :  0.7607146212084613\n"
          ]
        }
      ]
    },
    {
      "cell_type": "code",
      "metadata": {
        "colab": {
          "base_uri": "https://localhost:8080/"
        },
        "id": "p6VvkvxF73Im",
        "outputId": "1d189f78-e224-4fab-a2c9-171c0aede19a"
      },
      "source": [
        "coef1 = ridgereg1.coef_ \n",
        "print(ridgereg1.coef_)"
      ],
      "execution_count": 22,
      "outputs": [
        {
          "output_type": "stream",
          "name": "stdout",
          "text": [
            "[ 1.59777628e-03 -5.85134501e-01  1.48863414e-01  5.68749607e-03\n",
            " -1.27422144e+00  1.29552381e-03 -5.83083646e-04 -2.22851534e+01\n",
            "  8.29715054e-02  3.00782372e-01  1.36293748e-01 -4.29621834e-03]\n"
          ]
        }
      ]
    },
    {
      "cell_type": "code",
      "metadata": {
        "colab": {
          "base_uri": "https://localhost:8080/"
        },
        "id": "IHp1iKWgY9SR",
        "outputId": "b2896dee-c2bd-4e00-915a-9b55b0b755a1"
      },
      "source": [
        "float(-2.22851534e+01)"
      ],
      "execution_count": 23,
      "outputs": [
        {
          "output_type": "execute_result",
          "data": {
            "text/plain": [
              "-22.2851534"
            ]
          },
          "metadata": {},
          "execution_count": 23
        }
      ]
    },
    {
      "cell_type": "code",
      "metadata": {
        "colab": {
          "base_uri": "https://localhost:8080/"
        },
        "id": "6hCT40g9ZB6p",
        "outputId": "64daa9a1-a836-4973-9af0-4c2cff94ed4a"
      },
      "source": [
        "(-22.2851534-(-113.045446))/-113.045446*100"
      ],
      "execution_count": 24,
      "outputs": [
        {
          "output_type": "execute_result",
          "data": {
            "text/plain": [
              "-80.28655360429114"
            ]
          },
          "metadata": {},
          "execution_count": 24
        }
      ]
    },
    {
      "cell_type": "markdown",
      "metadata": {
        "id": "LtHJlUFyZB6s"
      },
      "source": [
        "+ El **8vo coeficiente** disminuyo un 80% con un alpha = 1"
      ]
    },
    {
      "cell_type": "markdown",
      "metadata": {
        "id": "s_sTXGvU8TD9"
      },
      "source": [
        "**Comparación coeficientes Alpha = 0.1 vs Alpha = 1**"
      ]
    },
    {
      "cell_type": "code",
      "metadata": {
        "colab": {
          "base_uri": "https://localhost:8080/"
        },
        "id": "u9U3G7Hs8Y3X",
        "outputId": "7ee753a0-e33a-4919-f2e4-3ae3131dc037"
      },
      "source": [
        "print(coef1 - coef)"
      ],
      "execution_count": 25,
      "outputs": [
        {
          "output_type": "stream",
          "name": "stdout",
          "text": [
            "[-2.72588951e-02  6.97135991e-01  1.72799157e-01 -2.40764464e-02\n",
            " -8.75827443e-02 -2.50811874e-03  7.06069418e-04  1.59521523e+01\n",
            " -1.25528727e-01 -2.90767181e-01 -1.14483560e-01 -1.61167550e-01]\n"
          ]
        }
      ]
    },
    {
      "cell_type": "markdown",
      "metadata": {
        "id": "InVbZvP-CThI"
      },
      "source": [
        "+ En terminos generales, se puede apreciar que los coeficientes de la Regresión Ridge con alpha = 0.1 son mayores que los coeficientes con alpha = 1. Esto se explica porque en cuanto menor sea el alpha menos van a estar restringidos los coeficientes, por ende podrán ser mas grandes. En el caso de alpha = 1 los coeficientes son más pequeños ya que con un alpha mayor, habrá mayor restricción."
      ]
    },
    {
      "cell_type": "markdown",
      "metadata": {
        "id": "LU1wuabbCByA"
      },
      "source": [
        "**Alpha = 0.1 vs Modelo lineal normal**"
      ]
    },
    {
      "cell_type": "code",
      "metadata": {
        "colab": {
          "base_uri": "https://localhost:8080/"
        },
        "id": "jdncPTZwBtSD",
        "outputId": "87c09306-6d85-4fdf-efee-47eb4061b0fd"
      },
      "source": [
        "print(coef - coefl)"
      ],
      "execution_count": 26,
      "outputs": [
        {
          "output_type": "stream",
          "name": "stdout",
          "text": [
            "[-6.87657217e-02  2.68202599e-01  1.12482995e-01 -3.69833660e-02\n",
            " -4.18699120e-01 -1.94505938e-04 -2.32287526e-04  7.48081402e+01\n",
            " -3.07390266e-01 -1.09532398e-01  4.08056331e-02 -2.67481601e-01]\n"
          ]
        }
      ]
    },
    {
      "cell_type": "markdown",
      "metadata": {
        "id": "BuNY_MAuB3UK"
      },
      "source": [
        "**Alpha = 1 vs Modelo lineal normal**"
      ]
    },
    {
      "cell_type": "code",
      "metadata": {
        "colab": {
          "base_uri": "https://localhost:8080/"
        },
        "id": "nVqQM-JLBqNw",
        "outputId": "aa871161-b1d0-42db-c00b-f14d96ae99f3"
      },
      "source": [
        "print(coef1 - coefl)"
      ],
      "execution_count": 27,
      "outputs": [
        {
          "output_type": "stream",
          "name": "stdout",
          "text": [
            "[-9.60246168e-02  9.65338590e-01  2.85282153e-01 -6.10598125e-02\n",
            " -5.06281865e-01 -2.70262468e-03  4.73781892e-04  9.07602925e+01\n",
            " -4.32918993e-01 -4.00299579e-01 -7.36779270e-02 -4.28649151e-01]\n"
          ]
        }
      ]
    },
    {
      "cell_type": "markdown",
      "metadata": {
        "id": "IMoY0o769CSA"
      },
      "source": [
        "  \n",
        "+ Los coeficientes del Modelo Lineal Normal son mucho más grandes que los de los otros dos modelos, sin embargo el Modelo Lineal Normal es el que menor RMSE tiene, por lo que se puede pensar que esos alphas escogidos no son los óptimos, el siguiente paso sera evaluar con la función RidgeCV el alpha recomendado que minimise el RMSE."
      ]
    },
    {
      "cell_type": "markdown",
      "metadata": {
        "id": "a26SyUmGA9PI"
      },
      "source": [
        "**RMSE**"
      ]
    },
    {
      "cell_type": "markdown",
      "metadata": {
        "id": "ZFQLsTb9AZXg"
      },
      "source": [
        "| RMSE | Valor |\n",
        "|------|-------|\n",
        "| Modelo Lineal Normal|  0.71769 |\n",
        "| Regresión Ridge \\*alpha=0.1* |  0.71998 |\n",
        "|Regresión Ridge \\*alpha=1* |  0.76071 |"
      ]
    },
    {
      "cell_type": "code",
      "metadata": {
        "colab": {
          "base_uri": "https://localhost:8080/"
        },
        "id": "mCOaW8eWbThi",
        "outputId": "6594938f-a3b9-49d0-bf88-551449d2c884"
      },
      "source": [
        "# create an array of alpha values\n",
        "alpha_range = 10.**np.arange(-2, 3)\n",
        "alpha_range"
      ],
      "execution_count": 28,
      "outputs": [
        {
          "output_type": "execute_result",
          "data": {
            "text/plain": [
              "array([1.e-02, 1.e-01, 1.e+00, 1.e+01, 1.e+02])"
            ]
          },
          "metadata": {},
          "execution_count": 28
        }
      ]
    },
    {
      "cell_type": "code",
      "metadata": {
        "colab": {
          "base_uri": "https://localhost:8080/"
        },
        "id": "JYiiim15bVJp",
        "outputId": "475c02e9-1533-41fe-f543-39edd374fa70"
      },
      "source": [
        "# select the best alpha with RidgeCV\n",
        "from sklearn.linear_model import RidgeCV\n",
        "ridgeregcv = RidgeCV(alphas=alpha_range, normalize=True, scoring='neg_mean_squared_error')\n",
        "ridgeregcv.fit(X_train, y_train)\n",
        "ridgeregcv.alpha_"
      ],
      "execution_count": 29,
      "outputs": [
        {
          "output_type": "execute_result",
          "data": {
            "text/plain": [
              "0.01"
            ]
          },
          "metadata": {},
          "execution_count": 29
        }
      ]
    },
    {
      "cell_type": "code",
      "metadata": {
        "colab": {
          "base_uri": "https://localhost:8080/"
        },
        "id": "l9tlOAqZbbNN",
        "outputId": "f5def84c-3879-4587-85d2-e43de6bdff4e"
      },
      "source": [
        "# predict method uses the best alpha value\n",
        "y_pred = ridgeregcv.predict(X_test)\n",
        "print('Regresión Ridge (alpha0.01) RMSE : ',np.sqrt(metrics.mean_squared_error(y_test, y_pred)))"
      ],
      "execution_count": 30,
      "outputs": [
        {
          "output_type": "stream",
          "name": "stdout",
          "text": [
            "Regresión Ridge (alpha0.01) RMSE :  0.7171904221904546\n"
          ]
        }
      ]
    },
    {
      "cell_type": "markdown",
      "metadata": {
        "id": "UqIn9LMrbgBa"
      },
      "source": [
        "+ Luego de variar los alphas, el alpha recomendado para hacer el modelo más optimo es de **0.01**, el cual tiene el valor más pequeño de **RMSE = 0.71719**"
      ]
    },
    {
      "cell_type": "markdown",
      "metadata": {
        "id": "lH8tHz38QwIE"
      },
      "source": [
        "# Ejercicio 4\n",
        "\n",
        "* Estimar una regresión lasso con alfa igual a 0,01, 0,1 y 1.\n",
        "* Comparar los coeficientes con la regresión lineal\n",
        "* Evaluar el RMSE"
      ]
    },
    {
      "cell_type": "markdown",
      "metadata": {
        "id": "Mi8PYGWZcUlT"
      },
      "source": [
        "**Para Alpha = 0.01**"
      ]
    },
    {
      "cell_type": "code",
      "metadata": {
        "collapsed": true,
        "id": "0ssJaCEzQwIF",
        "colab": {
          "base_uri": "https://localhost:8080/"
        },
        "outputId": "5fc78e9a-9649-4925-f99d-437b74ba68f4"
      },
      "source": [
        "# alpha=0.01 and examine coefficients\n",
        "from sklearn.linear_model import Lasso\n",
        "lassoreg0 = Lasso(alpha=0.01, normalize=True)\n",
        "lassoreg0.fit(X_train, y_train)\n",
        "print(lassoreg0.coef_)"
      ],
      "execution_count": 31,
      "outputs": [
        {
          "output_type": "stream",
          "name": "stdout",
          "text": [
            "[-0. -0.  0. -0. -0.  0. -0. -0.  0.  0.  0. -0.]\n"
          ]
        }
      ]
    },
    {
      "cell_type": "code",
      "metadata": {
        "colab": {
          "base_uri": "https://localhost:8080/"
        },
        "id": "MEOATLjvc2_t",
        "outputId": "8f58a53e-4b22-4eb1-99be-c12bf746e2e1"
      },
      "source": [
        "# calculate RMSE (for alpha=0.01)\n",
        "y_pred = lassoreg0.predict(X_test)\n",
        "print('Regresión Lasso Alpha0.01 RMSE = ',np.sqrt(metrics.mean_squared_error(y_test, y_pred)))"
      ],
      "execution_count": 32,
      "outputs": [
        {
          "output_type": "stream",
          "name": "stdout",
          "text": [
            "Regresión Lasso Alpha0.01 RMSE =  0.8709345888926285\n"
          ]
        }
      ]
    },
    {
      "cell_type": "markdown",
      "metadata": {
        "id": "1XlIBkyRcl3b"
      },
      "source": [
        "**Para Alpha = 0.1**"
      ]
    },
    {
      "cell_type": "code",
      "metadata": {
        "colab": {
          "base_uri": "https://localhost:8080/"
        },
        "id": "M-Rvnv_ncgo0",
        "outputId": "200cb15f-58f6-4df8-93eb-a604b14b99a1"
      },
      "source": [
        "# alpha=0.1 and examine coefficients\n",
        "lassoreg1 = Lasso(alpha=0.1, normalize=True)\n",
        "lassoreg1.fit(X_train, y_train)\n",
        "print(lassoreg1.coef_)"
      ],
      "execution_count": 33,
      "outputs": [
        {
          "output_type": "stream",
          "name": "stdout",
          "text": [
            "[-0. -0.  0. -0. -0.  0. -0. -0.  0.  0.  0. -0.]\n"
          ]
        }
      ]
    },
    {
      "cell_type": "code",
      "metadata": {
        "colab": {
          "base_uri": "https://localhost:8080/"
        },
        "id": "7ZW8UHIpdD_y",
        "outputId": "f52af536-4421-4db2-a599-163f3bc02052"
      },
      "source": [
        "# calculate RMSE (for alpha=0.1)\n",
        "y1_pred = lassoreg1.predict(X_test)\n",
        "print('Regresión Lasso Alpha0.1 RMSE = ',np.sqrt(metrics.mean_squared_error(y_test, y1_pred)))"
      ],
      "execution_count": 34,
      "outputs": [
        {
          "output_type": "stream",
          "name": "stdout",
          "text": [
            "Regresión Lasso Alpha0.1 RMSE =  0.8709345888926285\n"
          ]
        }
      ]
    },
    {
      "cell_type": "markdown",
      "metadata": {
        "id": "yh_R6zrFcoHy"
      },
      "source": [
        "**Para Alpha = 1**"
      ]
    },
    {
      "cell_type": "code",
      "metadata": {
        "colab": {
          "base_uri": "https://localhost:8080/"
        },
        "id": "jT8gPQeLcr1a",
        "outputId": "d737ad3b-c01b-45dd-dcaa-55a79f4323cc"
      },
      "source": [
        "# alpha = 1 and examine coefficients\n",
        "lassoreg2 = Lasso(alpha=1, normalize=True)\n",
        "lassoreg2.fit(X_train, y_train)\n",
        "print(lassoreg2.coef_)"
      ],
      "execution_count": 35,
      "outputs": [
        {
          "output_type": "stream",
          "name": "stdout",
          "text": [
            "[-0. -0.  0. -0. -0.  0. -0. -0.  0.  0.  0. -0.]\n"
          ]
        }
      ]
    },
    {
      "cell_type": "code",
      "metadata": {
        "colab": {
          "base_uri": "https://localhost:8080/"
        },
        "id": "d_cztu8edOOL",
        "outputId": "f824b178-90a1-4ade-8992-ff2c1fc93a96"
      },
      "source": [
        "# calculate RMSE (for alpha=1)\n",
        "y2_pred = lassoreg2.predict(X_test)\n",
        "print('Regresión Lasso Alpha1 RMSE = ',np.sqrt(metrics.mean_squared_error(y_test, y2_pred)))"
      ],
      "execution_count": 36,
      "outputs": [
        {
          "output_type": "stream",
          "name": "stdout",
          "text": [
            "Regresión Lasso Alpha1 RMSE =  0.8709345888926285\n"
          ]
        }
      ]
    },
    {
      "cell_type": "markdown",
      "metadata": {
        "id": "RAtG5E9hdxBU"
      },
      "source": [
        "+ Curiosamente, vemos que para los **alphas 0.01 , 0.1 y 1** elimina todas las variables, se evaluara con el alpha que recomienda la función LassoCV"
      ]
    },
    {
      "cell_type": "code",
      "metadata": {
        "colab": {
          "base_uri": "https://localhost:8080/"
        },
        "id": "0Fd9KLljeWYu",
        "outputId": "778489ee-3d52-40b3-c319-5482ce7f7530"
      },
      "source": [
        "# select the best alpha with LassoCV\n",
        "import warnings\n",
        "warnings.filterwarnings('ignore')\n",
        "from sklearn.linear_model import LassoCV\n",
        "lassoregcv = LassoCV(n_alphas=100, normalize=True, random_state=1,cv=5)\n",
        "lassoregcv.fit(X_train, y_train)\n",
        "lassoregcv.alpha_"
      ],
      "execution_count": 37,
      "outputs": [
        {
          "output_type": "execute_result",
          "data": {
            "text/plain": [
              "1.176870783767727e-05"
            ]
          },
          "metadata": {},
          "execution_count": 37
        }
      ]
    },
    {
      "cell_type": "markdown",
      "metadata": {
        "id": "nnVSS9aQe0VT"
      },
      "source": [
        "+ Según la función LassoCV un **alpha = 0.0000117** sera el optimo para el modelo "
      ]
    },
    {
      "cell_type": "code",
      "metadata": {
        "colab": {
          "base_uri": "https://localhost:8080/"
        },
        "id": "JIh1ePMXfsEE",
        "outputId": "fc5c75e0-fdc6-40ad-baf7-a23e7bed1563"
      },
      "source": [
        "# examine the coefficients\n",
        "coefLa = lassoregcv.coef_\n",
        "print(lassoregcv.coef_)"
      ],
      "execution_count": 38,
      "outputs": [
        {
          "output_type": "stream",
          "name": "stdout",
          "text": [
            "[ 8.62872080e-02 -1.54205318e+00 -1.25805531e-01  6.18553642e-02\n",
            " -7.72024633e-01  3.93054071e-03 -1.05539086e-03 -1.01504094e+02\n",
            "  4.63521286e-01  6.81397847e-01  2.21386081e-01  3.97255948e-01]\n"
          ]
        }
      ]
    },
    {
      "cell_type": "markdown",
      "metadata": {
        "id": "9RGQmTZUgJiT"
      },
      "source": [
        "+ Se puede apreciar que con este alpha, al ser muy pequeño, no hubo demasiada restricción para los coeficientes por lo que aun se pueden ver relativamente grandes  "
      ]
    },
    {
      "cell_type": "markdown",
      "metadata": {
        "id": "GJ1t9gPKghVs"
      },
      "source": [
        "**Comparación con el Modelo Lineal Normal**"
      ]
    },
    {
      "cell_type": "code",
      "metadata": {
        "colab": {
          "base_uri": "https://localhost:8080/"
        },
        "id": "j8o3Psf0gpqN",
        "outputId": "4db1f979-960d-43c9-b0f1-c7712686ad92"
      },
      "source": [
        "print(coefLa - coefl)"
      ],
      "execution_count": 39,
      "outputs": [
        {
          "output_type": "stream",
          "name": "stdout",
          "text": [
            "[-1.13351851e-02  8.41991097e-03  1.06132078e-02 -4.89194437e-03\n",
            " -4.08505412e-03 -6.76077783e-05  1.47467596e-06  1.15413521e+01\n",
            " -5.23692122e-02 -1.96841035e-02  1.14144061e-02 -2.70969846e-02]\n"
          ]
        }
      ]
    },
    {
      "cell_type": "code",
      "metadata": {
        "colab": {
          "base_uri": "https://localhost:8080/"
        },
        "id": "nbdTHwVXhOL6",
        "outputId": "a34ff44f-cc14-4a81-8bb1-f7604bbb6e5e"
      },
      "source": [
        "print((coefLa - coefl)/coefl*100)"
      ],
      "execution_count": 40,
      "outputs": [
        {
          "output_type": "stream",
          "name": "stdout",
          "text": [
            "[-11.61125511  -0.54305431  -7.77987535  -7.32905113   0.53194994\n",
            "  -1.69097717  -0.13953298 -10.20947994 -10.15122635  -2.80767511\n",
            "   5.43616471  -6.38548304]\n"
          ]
        }
      ]
    },
    {
      "cell_type": "code",
      "metadata": {
        "colab": {
          "base_uri": "https://localhost:8080/"
        },
        "id": "0VOuYvpsibWX",
        "outputId": "9193d05a-8270-4b5a-bd7d-66544463e51a"
      },
      "source": [
        "print(np.mean((coefLa - coefl)/coefl*100))"
      ],
      "execution_count": 41,
      "outputs": [
        {
          "output_type": "stream",
          "name": "stdout",
          "text": [
            "-4.389957987279057\n"
          ]
        }
      ]
    },
    {
      "cell_type": "markdown",
      "metadata": {
        "id": "rfl-X1Sqg91L"
      },
      "source": [
        "+ En terminos generales, los coeficientes de la regresión lineal normal son más grandes que los de la Regresión Lasso, al hacer una restriccion en los coeficientes tan pequeña la diferencia no fue mucha, en promedio los coeficientes disminuyeron un 4.38% "
      ]
    },
    {
      "cell_type": "code",
      "metadata": {
        "colab": {
          "base_uri": "https://localhost:8080/"
        },
        "id": "3-ScyNsmf3AP",
        "outputId": "e5ef383e-39e6-4149-f873-5241954003d6"
      },
      "source": [
        "# predict method uses the best alpha value\n",
        "yb_pred = lassoregcv.predict(X_test)\n",
        "print('Regresión Lasso Alpha0.0000117 RSME',np.sqrt(metrics.mean_squared_error(y_test, yb_pred)))"
      ],
      "execution_count": 42,
      "outputs": [
        {
          "output_type": "stream",
          "name": "stdout",
          "text": [
            "Regresión Lasso Alpha0.0000117 RSME 0.7174686065761037\n"
          ]
        }
      ]
    },
    {
      "cell_type": "markdown",
      "metadata": {
        "id": "fY9CJWS3iuyt"
      },
      "source": [
        "+ A pesar que la restricción fue muy pequeña, en terminos de RMSE comparado con el Modelo lineal normal, la Regresión Lasso es el modelo más óptimo."
      ]
    },
    {
      "cell_type": "markdown",
      "metadata": {
        "id": "LECEBVM9jiwW"
      },
      "source": [
        "Luego de evaluar **La Regresión Normal, La Regresión Ridge y La Regresión Lasso con los alphas recomendados** y siendo muy muy estrictos, se concluye que el mejor modelo en terminos de RMSE es la Regresión Ridge con alpha = 0.01"
      ]
    },
    {
      "cell_type": "markdown",
      "metadata": {
        "id": "-SMbUDo9lHcn"
      },
      "source": [
        "| RMSE | Valor |\n",
        "|------|-------|\n",
        "| Modelo Lineal Normal|  0.71769 |\n",
        "| Regresión Ridge \\*alpha=0.01* |  0.71719 |\n",
        "|Regresión Lasso \\*alpha=0.0000117* |  0.71747 |"
      ]
    },
    {
      "cell_type": "markdown",
      "metadata": {
        "id": "vyQOAeSaQwIG"
      },
      "source": [
        "# Ejercicio 5\n",
        "\n",
        "* Estandarizar las características (excepto la calidad del vino)\n",
        "\n",
        "* Crear una variable objetivo binaria para cada tipo de vino\n",
        "\n",
        "* Analizar los coeficientes\n",
        "\n",
        "* * Evalúe con F1, AUC-ROC y log-loss"
      ]
    },
    {
      "cell_type": "markdown",
      "metadata": {
        "id": "sVue5fvElnx_"
      },
      "source": [
        "**Estandarización**"
      ]
    },
    {
      "cell_type": "code",
      "metadata": {
        "id": "FitDRBUDCa1J"
      },
      "source": [
        "data_ = data[['fixed acidity', 'volatile acidity', 'citric acid', 'residual sugar',\n",
        "       'chlorides', 'free sulfur dioxide', 'total sulfur dioxide', 'density',\n",
        "       'pH', 'sulphates', 'alcohol']]"
      ],
      "execution_count": 43,
      "outputs": []
    },
    {
      "cell_type": "code",
      "metadata": {
        "id": "UZRZMFtMCpK0"
      },
      "source": [
        "from sklearn.preprocessing import StandardScaler\n",
        "\n",
        "data_z = StandardScaler().fit_transform(data_)\n",
        "data_z = pd.DataFrame(data_z)\n",
        "data_z.columns = ['fixed acidity', 'volatile acidity', 'citric acid', 'residual sugar',\n",
        "       'chlorides', 'free sulfur dioxide', 'total sulfur dioxide', 'density',\n",
        "       'pH', 'sulphates', 'alcohol']"
      ],
      "execution_count": 44,
      "outputs": []
    },
    {
      "cell_type": "code",
      "metadata": {
        "id": "ZNc2m8Z_Mrh7"
      },
      "source": [
        "data_z[['quality','type']] = data[['quality','type']]"
      ],
      "execution_count": 45,
      "outputs": []
    },
    {
      "cell_type": "code",
      "metadata": {
        "colab": {
          "base_uri": "https://localhost:8080/",
          "height": 204
        },
        "id": "5Lm8uMSIOZwq",
        "outputId": "c65d0e83-4247-4c5e-fa5f-5a43b707ed91"
      },
      "source": [
        "data_z.head()"
      ],
      "execution_count": 46,
      "outputs": [
        {
          "output_type": "execute_result",
          "data": {
            "text/html": [
              "<div>\n",
              "<style scoped>\n",
              "    .dataframe tbody tr th:only-of-type {\n",
              "        vertical-align: middle;\n",
              "    }\n",
              "\n",
              "    .dataframe tbody tr th {\n",
              "        vertical-align: top;\n",
              "    }\n",
              "\n",
              "    .dataframe thead th {\n",
              "        text-align: right;\n",
              "    }\n",
              "</style>\n",
              "<table border=\"1\" class=\"dataframe\">\n",
              "  <thead>\n",
              "    <tr style=\"text-align: right;\">\n",
              "      <th></th>\n",
              "      <th>fixed acidity</th>\n",
              "      <th>volatile acidity</th>\n",
              "      <th>citric acid</th>\n",
              "      <th>residual sugar</th>\n",
              "      <th>chlorides</th>\n",
              "      <th>free sulfur dioxide</th>\n",
              "      <th>total sulfur dioxide</th>\n",
              "      <th>density</th>\n",
              "      <th>pH</th>\n",
              "      <th>sulphates</th>\n",
              "      <th>alcohol</th>\n",
              "      <th>quality</th>\n",
              "      <th>type</th>\n",
              "    </tr>\n",
              "  </thead>\n",
              "  <tbody>\n",
              "    <tr>\n",
              "      <th>0</th>\n",
              "      <td>-0.166089</td>\n",
              "      <td>-0.423183</td>\n",
              "      <td>0.284686</td>\n",
              "      <td>3.206929</td>\n",
              "      <td>-0.314975</td>\n",
              "      <td>0.815565</td>\n",
              "      <td>0.959976</td>\n",
              "      <td>2.102214</td>\n",
              "      <td>-1.359049</td>\n",
              "      <td>-0.546178</td>\n",
              "      <td>-1.418558</td>\n",
              "      <td>6</td>\n",
              "      <td>0</td>\n",
              "    </tr>\n",
              "    <tr>\n",
              "      <th>1</th>\n",
              "      <td>-0.706073</td>\n",
              "      <td>-0.240949</td>\n",
              "      <td>0.147046</td>\n",
              "      <td>-0.807837</td>\n",
              "      <td>-0.200790</td>\n",
              "      <td>-0.931107</td>\n",
              "      <td>0.287618</td>\n",
              "      <td>-0.232332</td>\n",
              "      <td>0.506915</td>\n",
              "      <td>-0.277351</td>\n",
              "      <td>-0.831615</td>\n",
              "      <td>6</td>\n",
              "      <td>0</td>\n",
              "    </tr>\n",
              "    <tr>\n",
              "      <th>2</th>\n",
              "      <td>0.682458</td>\n",
              "      <td>-0.362438</td>\n",
              "      <td>0.559966</td>\n",
              "      <td>0.306208</td>\n",
              "      <td>-0.172244</td>\n",
              "      <td>-0.029599</td>\n",
              "      <td>-0.331660</td>\n",
              "      <td>0.134525</td>\n",
              "      <td>0.258120</td>\n",
              "      <td>-0.613385</td>\n",
              "      <td>-0.328521</td>\n",
              "      <td>6</td>\n",
              "      <td>0</td>\n",
              "    </tr>\n",
              "    <tr>\n",
              "      <th>3</th>\n",
              "      <td>-0.011808</td>\n",
              "      <td>-0.666161</td>\n",
              "      <td>0.009406</td>\n",
              "      <td>0.642523</td>\n",
              "      <td>0.056126</td>\n",
              "      <td>0.928254</td>\n",
              "      <td>1.243074</td>\n",
              "      <td>0.301278</td>\n",
              "      <td>-0.177272</td>\n",
              "      <td>-0.882212</td>\n",
              "      <td>-0.496219</td>\n",
              "      <td>6</td>\n",
              "      <td>0</td>\n",
              "    </tr>\n",
              "    <tr>\n",
              "      <th>4</th>\n",
              "      <td>-0.011808</td>\n",
              "      <td>-0.666161</td>\n",
              "      <td>0.009406</td>\n",
              "      <td>0.642523</td>\n",
              "      <td>0.056126</td>\n",
              "      <td>0.928254</td>\n",
              "      <td>1.243074</td>\n",
              "      <td>0.301278</td>\n",
              "      <td>-0.177272</td>\n",
              "      <td>-0.882212</td>\n",
              "      <td>-0.496219</td>\n",
              "      <td>6</td>\n",
              "      <td>0</td>\n",
              "    </tr>\n",
              "  </tbody>\n",
              "</table>\n",
              "</div>"
            ],
            "text/plain": [
              "   fixed acidity  volatile acidity  citric acid  ...   alcohol  quality  type\n",
              "0      -0.166089         -0.423183     0.284686  ... -1.418558        6     0\n",
              "1      -0.706073         -0.240949     0.147046  ... -0.831615        6     0\n",
              "2       0.682458         -0.362438     0.559966  ... -0.328521        6     0\n",
              "3      -0.011808         -0.666161     0.009406  ... -0.496219        6     0\n",
              "4      -0.011808         -0.666161     0.009406  ... -0.496219        6     0\n",
              "\n",
              "[5 rows x 13 columns]"
            ]
          },
          "metadata": {},
          "execution_count": 46
        }
      ]
    },
    {
      "cell_type": "markdown",
      "metadata": {
        "id": "hcnyC5cU80Ht"
      },
      "source": [
        "\n",
        "      White = 0 \n",
        "      Red = 1 "
      ]
    },
    {
      "cell_type": "code",
      "metadata": {
        "colab": {
          "base_uri": "https://localhost:8080/"
        },
        "id": "e2Ja6iz78mFh",
        "outputId": "931737e5-49e1-4837-8cf7-d85fd6994b7a"
      },
      "source": [
        "data_z.type.value_counts()"
      ],
      "execution_count": 47,
      "outputs": [
        {
          "output_type": "execute_result",
          "data": {
            "text/plain": [
              "0    4898\n",
              "1    1599\n",
              "Name: type, dtype: int64"
            ]
          },
          "metadata": {},
          "execution_count": 47
        }
      ]
    },
    {
      "cell_type": "code",
      "metadata": {
        "id": "I23uBhXpN4NJ"
      },
      "source": [
        "# define X and y\n",
        "X = data_z.drop('type', axis=1)\n",
        "y = data_z['type']"
      ],
      "execution_count": 48,
      "outputs": []
    },
    {
      "cell_type": "code",
      "metadata": {
        "id": "pSYQoac1O4W_"
      },
      "source": [
        "# split into training and testing sets\n",
        "from sklearn.model_selection import train_test_split\n",
        "X_train, X_test, y_train, y_test = train_test_split(X, y, random_state=1)"
      ],
      "execution_count": 49,
      "outputs": []
    },
    {
      "cell_type": "code",
      "metadata": {
        "colab": {
          "base_uri": "https://localhost:8080/"
        },
        "id": "imwbDzWdO6kT",
        "outputId": "cbd4682d-8b11-461e-9f1b-d4ba0fbb8df0"
      },
      "source": [
        "# build a logistic regression model\n",
        "from sklearn.linear_model import LogisticRegression\n",
        "logreg = LogisticRegression(C=1e9,solver='liblinear',multi_class='auto')\n",
        "logreg.fit(X_train, y_train)"
      ],
      "execution_count": 50,
      "outputs": [
        {
          "output_type": "execute_result",
          "data": {
            "text/plain": [
              "LogisticRegression(C=1000000000.0, class_weight=None, dual=False,\n",
              "                   fit_intercept=True, intercept_scaling=1, l1_ratio=None,\n",
              "                   max_iter=100, multi_class='auto', n_jobs=None, penalty='l2',\n",
              "                   random_state=None, solver='liblinear', tol=0.0001, verbose=0,\n",
              "                   warm_start=False)"
            ]
          },
          "metadata": {},
          "execution_count": 50
        }
      ]
    },
    {
      "cell_type": "code",
      "metadata": {
        "colab": {
          "base_uri": "https://localhost:8080/"
        },
        "id": "lzmP0Zs9O80U",
        "outputId": "345d5dd3-8ad6-4479-bd9d-de6e988e21a7"
      },
      "source": [
        "# examine the coefficients\n",
        "print(logreg.coef_)"
      ],
      "execution_count": 51,
      "outputs": [
        {
          "output_type": "stream",
          "name": "stdout",
          "text": [
            "[[-0.57611671  1.20995764 -0.42883615 -5.63028398  0.77613649  1.00875515\n",
            "  -3.01514254  5.56776824 -0.28581893  0.48374325  2.03406831  0.51525207]]\n"
          ]
        }
      ]
    },
    {
      "cell_type": "code",
      "metadata": {
        "id": "iu-KIWoSad5g"
      },
      "source": [
        "y_pred = logreg.predict(X_test)"
      ],
      "execution_count": 52,
      "outputs": []
    },
    {
      "cell_type": "code",
      "metadata": {
        "colab": {
          "base_uri": "https://localhost:8080/"
        },
        "id": "Myl0hVbzPB6-",
        "outputId": "23439f0d-b3b2-49a1-d6ec-5a74d4e111b6"
      },
      "source": [
        "# calculate log loss\n",
        "print('Log Loss', metrics.log_loss(y_test, y_pred))"
      ],
      "execution_count": 53,
      "outputs": [
        {
          "output_type": "stream",
          "name": "stdout",
          "text": [
            "Log Loss 0.2975663189667949\n"
          ]
        }
      ]
    },
    {
      "cell_type": "code",
      "metadata": {
        "colab": {
          "base_uri": "https://localhost:8080/"
        },
        "id": "Kr9sd6tCY_VA",
        "outputId": "0bcbc17c-b403-4b41-914c-b747c0cae864"
      },
      "source": [
        "print('F1 score:', metrics.f1_score(y_test, y_pred))"
      ],
      "execution_count": 54,
      "outputs": [
        {
          "output_type": "stream",
          "name": "stdout",
          "text": [
            "F1 score: 0.9819587628865979\n"
          ]
        }
      ]
    },
    {
      "cell_type": "code",
      "metadata": {
        "colab": {
          "base_uri": "https://localhost:8080/"
        },
        "id": "0tzXQtM7Y_F3",
        "outputId": "be6ff55e-cfee-4e65-f6ac-f556e2175065"
      },
      "source": [
        "from sklearn.metrics import roc_auc_score\n",
        "print('ROC AUC score:', metrics.roc_auc_score(y_test, y_pred, average=None))"
      ],
      "execution_count": 55,
      "outputs": [
        {
          "output_type": "stream",
          "name": "stdout",
          "text": [
            "ROC AUC score: 0.9847528427429367\n"
          ]
        }
      ]
    },
    {
      "cell_type": "markdown",
      "metadata": {
        "id": "amSxrrDYQwIJ"
      },
      "source": [
        "# Ejercicio 6\n",
        "\n",
        "* Estimar una regresión logística regularizada usando:\n",
        "* C = 0.01, 0.1 & 1.0\n",
        "* penalización = ['l1, 'l2']\n",
        "* Compare los coeficientes y la puntuación f1.\n",
        "\n",
        "Nota: Para los valores de C y Penalización, deben realizar todas las posibles combinaciones entre estas dos variables."
      ]
    },
    {
      "cell_type": "markdown",
      "metadata": {
        "id": "Do3bztwDcAqJ"
      },
      "source": [
        "**Primer Caso**\n",
        "\n",
        "    C = 0.01\n",
        "    Penalización = L1\n",
        "  "
      ]
    },
    {
      "cell_type": "code",
      "metadata": {
        "collapsed": true,
        "id": "AGnOJ3-vQwIK",
        "colab": {
          "base_uri": "https://localhost:8080/"
        },
        "outputId": "ac5f6d77-0939-4c38-a6d6-9cb8dc29afe9"
      },
      "source": [
        "# try C=0.01 with L1 penalty\n",
        "logreg0 = LogisticRegression(C=0.01, penalty='l1',solver='liblinear',multi_class='auto')\n",
        "logreg0.fit(X_train, y_train)\n",
        "print(logreg0.coef_)"
      ],
      "execution_count": 56,
      "outputs": [
        {
          "output_type": "stream",
          "name": "stdout",
          "text": [
            "[[ 0.32446429  0.83193371  0.          0.          0.44327813  0.\n",
            "  -1.73648971  0.37520029  0.33641306  0.58870556  0.         -0.36669971]]\n"
          ]
        }
      ]
    },
    {
      "cell_type": "markdown",
      "metadata": {
        "id": "k9APTFTmpJS-"
      },
      "source": [
        "+ Podemos ver que por regresión logística regularizada por Lasso y un alpha = 0.01, elimina alrrededor de 4 coeficientes que quizas no son importantes, y a los demás los pasa a una escala menor."
      ]
    },
    {
      "cell_type": "code",
      "metadata": {
        "colab": {
          "base_uri": "https://localhost:8080/"
        },
        "id": "aWPO57CzbvuY",
        "outputId": "d4c39c8b-4829-41b0-f692-046586c6ee60"
      },
      "source": [
        "y_pred0 = logreg0.predict(X_test)\n",
        "print('F1 score:', metrics.f1_score(y_test, y_pred0))\n",
        "print('AUC:', roc_auc_score(y_test, y_pred0))\n",
        "print('Log Loss', metrics.log_loss(y_test, y_pred0))"
      ],
      "execution_count": 57,
      "outputs": [
        {
          "output_type": "stream",
          "name": "stdout",
          "text": [
            "F1 score: 0.9679897567221512\n",
            "AUC: 0.9776821920982506\n",
            "Log Loss 0.531371203350462\n"
          ]
        }
      ]
    },
    {
      "cell_type": "markdown",
      "metadata": {
        "id": "hxYwMRNTcgVm"
      },
      "source": [
        "**Segundo Caso**\n",
        "\n",
        "    C = 0.01\n",
        "    Penalización = L2\n",
        "  "
      ]
    },
    {
      "cell_type": "code",
      "metadata": {
        "collapsed": true,
        "colab": {
          "base_uri": "https://localhost:8080/"
        },
        "id": "VYQWLr4CcgVo",
        "outputId": "c3a07692-ac57-4b6f-df64-ebf75bf0f995"
      },
      "source": [
        "# try C=0.01 with L2 penalty\n",
        "logreg1 = LogisticRegression(C=0.01, penalty='l2',solver='liblinear',multi_class='auto')\n",
        "logreg1.fit(X_train, y_train)\n",
        "print(logreg1.coef_)"
      ],
      "execution_count": 58,
      "outputs": [
        {
          "output_type": "stream",
          "name": "stdout",
          "text": [
            "[[ 0.58925175  0.73870086 -0.22262597 -0.5422265   0.60961548 -0.21553374\n",
            "  -1.15555245  0.69510279  0.52982034  0.63166171  0.16181576 -0.3688043 ]]\n"
          ]
        }
      ]
    },
    {
      "cell_type": "markdown",
      "metadata": {
        "id": "ioKMYq7Op8QV"
      },
      "source": [
        "+ Podemos ver que por regresión logística regularizada por Ridge y un alpha = 0.01, no elimina ningún coeficiente, solo los pasa a una escala menor."
      ]
    },
    {
      "cell_type": "code",
      "metadata": {
        "colab": {
          "base_uri": "https://localhost:8080/"
        },
        "id": "LtK-8fIAcgVp",
        "outputId": "4ffd1b47-402e-4859-f042-df849490ef21"
      },
      "source": [
        "y_pred1 = logreg1.predict(X_test)\n",
        "print('F1 score:', metrics.f1_score(y_test, y_pred1))\n",
        "print('AUC:', roc_auc_score(y_test, y_pred1))\n",
        "print('Log Loss', metrics.log_loss(y_test, y_pred1))"
      ],
      "execution_count": 59,
      "outputs": [
        {
          "output_type": "stream",
          "name": "stdout",
          "text": [
            "F1 score: 0.9783989834815755\n",
            "AUC: 0.9870162785308771\n",
            "Log Loss 0.36133365826940617\n"
          ]
        }
      ]
    },
    {
      "cell_type": "markdown",
      "metadata": {
        "id": "kl88N5g3qTQD"
      },
      "source": [
        "**Tercer Caso**\n",
        "\n",
        "    C = 0.1\n",
        "    Penalización = L1\n",
        "  "
      ]
    },
    {
      "cell_type": "code",
      "metadata": {
        "collapsed": true,
        "colab": {
          "base_uri": "https://localhost:8080/"
        },
        "id": "VBaXCprnqTQF",
        "outputId": "cd321c98-2ef8-4f62-f80c-11d70324a20d"
      },
      "source": [
        "# try C=0.1 with L2 penalty\n",
        "logreg3 = LogisticRegression(C=0.1, penalty='l1',solver='liblinear',multi_class='auto')\n",
        "logreg3.fit(X_train, y_train)\n",
        "print(logreg3.coef_)"
      ],
      "execution_count": 60,
      "outputs": [
        {
          "output_type": "stream",
          "name": "stdout",
          "text": [
            "[[ 0.00891345  0.93157259 -0.14702459 -1.97413877  0.64655546  0.28033153\n",
            "  -2.41778746  2.74860658  0.30220565  0.73790458  0.87853537 -0.57442494]]\n"
          ]
        }
      ]
    },
    {
      "cell_type": "markdown",
      "metadata": {
        "id": "CorUTtnjqTQG"
      },
      "source": [
        "+ Podemos ver que por regresión logística regularizada por Lasso y con un alpha = 0.1, no elimina ningún coeficiente, con este alpha todos los coeficientes mantienen su importancia"
      ]
    },
    {
      "cell_type": "code",
      "metadata": {
        "colab": {
          "base_uri": "https://localhost:8080/"
        },
        "id": "r2n0ou7aqTQG",
        "outputId": "b2ac90e7-86f3-420e-b23a-c6d3db18c41b"
      },
      "source": [
        "y_pred3 = logreg3.predict(X_test)\n",
        "print('F1 score:', metrics.f1_score(y_test, y_pred3))\n",
        "print('AUC:', roc_auc_score(y_test, y_pred3))\n",
        "print('Log Loss', metrics.log_loss(y_test, y_pred3))"
      ],
      "execution_count": 61,
      "outputs": [
        {
          "output_type": "stream",
          "name": "stdout",
          "text": [
            "F1 score: 0.9872448979591837\n",
            "AUC: 0.9915948739593162\n",
            "Log Loss 0.21254877657615964\n"
          ]
        }
      ]
    },
    {
      "cell_type": "markdown",
      "metadata": {
        "id": "V-Yvakjsq6P8"
      },
      "source": [
        "**Cuarto Caso**\n",
        "\n",
        "    C = 0.1\n",
        "    Penalización = L2\n",
        "  "
      ]
    },
    {
      "cell_type": "code",
      "metadata": {
        "collapsed": true,
        "colab": {
          "base_uri": "https://localhost:8080/"
        },
        "id": "caA5L6y9q6P9",
        "outputId": "b8647576-53fc-45c5-d8bf-3c88a5449c5c"
      },
      "source": [
        "# try C=0.1 with L2 penalty\n",
        "logreg4 = LogisticRegression(C=0.1, penalty='l2',solver='liblinear',multi_class='auto')\n",
        "logreg4.fit(X_train, y_train)\n",
        "print(logreg4.coef_)"
      ],
      "execution_count": 62,
      "outputs": [
        {
          "output_type": "stream",
          "name": "stdout",
          "text": [
            "[[ 0.75072999  1.00835372 -0.33729871 -1.33147544  0.84426537  0.22533246\n",
            "  -2.16361362  1.60588834  0.69457914  0.83959543  0.52127802 -0.44833835]]\n"
          ]
        }
      ]
    },
    {
      "cell_type": "markdown",
      "metadata": {
        "id": "fbgXWgiOq6P-"
      },
      "source": [
        "+ Podemos ver que por regresión logística regularizada por Ridge y un alpha = 0.1, no elimina ningún coeficiente, solo los pasa a una escala menor."
      ]
    },
    {
      "cell_type": "code",
      "metadata": {
        "colab": {
          "base_uri": "https://localhost:8080/"
        },
        "id": "mOJgvlL2q6P_",
        "outputId": "95cd9282-d3ad-4354-a9d1-8ce7a5f94307"
      },
      "source": [
        "y_pred4 = logreg4.predict(X_test)\n",
        "print('F1 score:', metrics.f1_score(y_test, y_pred4))\n",
        "print('AUC:', roc_auc_score(y_test, y_pred4))\n",
        "print('Log Loss', metrics.log_loss(y_test, y_pred4))"
      ],
      "execution_count": 63,
      "outputs": [
        {
          "output_type": "stream",
          "name": "stdout",
          "text": [
            "F1 score: 0.9859872611464968\n",
            "AUC: 0.991189358955261\n",
            "Log Loss 0.23380390026375397\n"
          ]
        }
      ]
    },
    {
      "cell_type": "markdown",
      "metadata": {
        "id": "gEKxr0SNrOmM"
      },
      "source": [
        "**Quinto Caso**\n",
        "\n",
        "    C = 1\n",
        "    Penalización = L1\n",
        "  "
      ]
    },
    {
      "cell_type": "code",
      "metadata": {
        "collapsed": true,
        "colab": {
          "base_uri": "https://localhost:8080/"
        },
        "id": "rymooNUyrOmN",
        "outputId": "da14fcdf-ffd1-4ebe-aad6-07f060eee758"
      },
      "source": [
        "# try C=1 with L2 penalty\n",
        "logreg5 = LogisticRegression(C=1, penalty='l1',solver='liblinear',multi_class='auto')\n",
        "logreg5.fit(X_train, y_train)\n",
        "print(logreg5.coef_)"
      ],
      "execution_count": 64,
      "outputs": [
        {
          "output_type": "stream",
          "name": "stdout",
          "text": [
            "[[-0.1806825   1.13982613 -0.38304559 -4.44933637  0.76509265  0.84223695\n",
            "  -2.85553903  4.51719127  0.          0.53465811  1.6556871   0.16251543]]\n"
          ]
        }
      ]
    },
    {
      "cell_type": "markdown",
      "metadata": {
        "id": "3Qti5XNdrOmO"
      },
      "source": [
        "+ Podemos ver que por regresión logística regularizada por Lasso y con un alpha = 1, elimina solo un coeficiente, con este valor del alpha no es tan estricto el modelo.  "
      ]
    },
    {
      "cell_type": "code",
      "metadata": {
        "colab": {
          "base_uri": "https://localhost:8080/"
        },
        "id": "iPb4XNDurOmP",
        "outputId": "ac0b76eb-ffd0-4687-ed50-befc649a6b8d"
      },
      "source": [
        "y_pred5 = logreg5.predict(X_test)\n",
        "print('F1 score:', metrics.f1_score(y_test, y_pred5))\n",
        "print('AUC:', roc_auc_score(y_test, y_pred5))\n",
        "print('Log Loss', metrics.log_loss(y_test, y_pred5))"
      ],
      "execution_count": 65,
      "outputs": [
        {
          "output_type": "stream",
          "name": "stdout",
          "text": [
            "F1 score: 0.9845360824742269\n",
            "AUC: 0.9864338679510734\n",
            "Log Loss 0.25505656365156315\n"
          ]
        }
      ]
    },
    {
      "cell_type": "markdown",
      "metadata": {
        "id": "R02Zdi2_sU5a"
      },
      "source": [
        "**Sexto Caso**\n",
        "\n",
        "    C = 1\n",
        "    Penalización = L2\n",
        "  "
      ]
    },
    {
      "cell_type": "code",
      "metadata": {
        "collapsed": true,
        "colab": {
          "base_uri": "https://localhost:8080/"
        },
        "id": "0IkHl2NcsU5a",
        "outputId": "f7a35e93-4164-41f1-f2db-e45d90e073a3"
      },
      "source": [
        "# try C=1 with L2 penalty\n",
        "logreg6 = LogisticRegression(C=1, penalty='l2',solver='liblinear',multi_class='auto')\n",
        "logreg6.fit(X_train, y_train)\n",
        "print(logreg6.coef_)"
      ],
      "execution_count": 66,
      "outputs": [
        {
          "output_type": "stream",
          "name": "stdout",
          "text": [
            "[[ 0.20484649  1.10852651 -0.37609792 -3.18590502  0.80848943  0.78305807\n",
            "  -2.81749981  3.44666951  0.3016325   0.69242571  1.27608812 -0.20206827]]\n"
          ]
        }
      ]
    },
    {
      "cell_type": "markdown",
      "metadata": {
        "id": "M2ExgjFGsU5c"
      },
      "source": [
        "+ Podemos ver que por regresión logística regularizada por Ridge y un alpha = 1, no elimina ningún coeficiente, solo los pasa a una escala menor."
      ]
    },
    {
      "cell_type": "code",
      "metadata": {
        "colab": {
          "base_uri": "https://localhost:8080/"
        },
        "id": "pJuVd1z6sU5d",
        "outputId": "0c80efb7-f01e-4296-9be6-741baa144e74"
      },
      "source": [
        "y_pred6 = logreg6.predict(X_test)\n",
        "print('F1 score:', metrics.f1_score(y_test, y_pred6))\n",
        "print('AUC:', roc_auc_score(y_test, y_pred6))\n",
        "print('Log Loss', metrics.log_loss(y_test, y_pred6))"
      ],
      "execution_count": 67,
      "outputs": [
        {
          "output_type": "stream",
          "name": "stdout",
          "text": [
            "F1 score: 0.9884763124199744\n",
            "AUC: 0.9911303937633448\n",
            "Log Loss 0.1912931608286082\n"
          ]
        }
      ]
    },
    {
      "cell_type": "markdown",
      "metadata": {
        "id": "OAhTyOZ3sqa1"
      },
      "source": [
        "|    F1    | score    |     |\n",
        "|----------|-----|-----|\n",
        "| **No regularizado** | 0.981958 |  |\n",
        "|          |**L1 Lasso**   |**L2  Ridge**  |\n",
        "| **C = 0.01** |0.967989 | 0.978398  |\n",
        "| **C = 0.1**  |0.987244   |0.985987   |\n",
        "| **C = 1**    |0.984536  | 0.988476  |\n"
      ]
    },
    {
      "cell_type": "markdown",
      "metadata": {
        "id": "CS63EBKguMLf"
      },
      "source": [
        "De acuerdo a la Puntuación F1, la media armónica de la precisión y la recuperación, y siendo muy estrictos, el mejor modelo lo tiene la Regresión Logística Regularizada por Ridge con un alpha = 1, con un F1 de $0.988476$."
      ]
    },
    {
      "cell_type": "markdown",
      "metadata": {
        "id": "4DbuHBn7QwHu"
      },
      "source": [
        "# SVM"
      ]
    },
    {
      "cell_type": "markdown",
      "metadata": {
        "id": "0kggmI76QwHv"
      },
      "source": [
        "# Ejercicio 7\n",
        "\n",
        "Teniendo en cuenta las mismas variables de la regresión logística:\n",
        "\n",
        "* Crear un objetivo binario para cada tipo de vino\n",
        "* Crear dos SVM lineales para los vinos blancos y tintos, respectivamente.\n"
      ]
    },
    {
      "cell_type": "code",
      "metadata": {
        "id": "qEoHIkna94M3"
      },
      "source": [
        "from sklearn import preprocessing, metrics, model_selection\n",
        "import pandas as pd\n",
        "from sklearn.metrics import roc_auc_score, accuracy_score, make_scorer, roc_curve, auc\n",
        "from sklearn.preprocessing import label_binarize\n",
        "from sklearn.model_selection import train_test_split\n",
        "from sklearn.model_selection import GridSearchCV\n",
        "from sklearn.datasets.samples_generator import make_circles\n",
        "from sklearn.svm import SVC\n",
        "import matplotlib.pyplot as plt\n"
      ],
      "execution_count": 68,
      "outputs": []
    },
    {
      "cell_type": "markdown",
      "metadata": {
        "id": "vqhXFBoqaINp"
      },
      "source": [
        "**Modelo 1.**\n",
        "\n",
        "    White = 0 \n",
        "    Red = 1 "
      ]
    },
    {
      "cell_type": "code",
      "metadata": {
        "id": "7yxfnrn6ZRa3"
      },
      "source": [
        "X = data_z.drop('type', axis=1)\n",
        "y = data_z['type']\n",
        "X_train, X_test, y_train, y_test = model_selection.train_test_split(X, y, test_size=0.3,random_state=1)"
      ],
      "execution_count": 69,
      "outputs": []
    },
    {
      "cell_type": "code",
      "metadata": {
        "colab": {
          "base_uri": "https://localhost:8080/"
        },
        "id": "28bK1mJYaeyp",
        "outputId": "2a129d35-919f-4cf6-9dc8-13447109afcb"
      },
      "source": [
        "from sklearn import svm\n",
        "\n",
        "mod_1 = svm.SVC(kernel='linear', C=1E6)\n",
        "mod_1.fit(X_train, y_train)"
      ],
      "execution_count": 70,
      "outputs": [
        {
          "output_type": "execute_result",
          "data": {
            "text/plain": [
              "SVC(C=1000000.0, break_ties=False, cache_size=200, class_weight=None, coef0=0.0,\n",
              "    decision_function_shape='ovr', degree=3, gamma='scale', kernel='linear',\n",
              "    max_iter=-1, probability=False, random_state=None, shrinking=True,\n",
              "    tol=0.001, verbose=False)"
            ]
          },
          "metadata": {},
          "execution_count": 70
        }
      ]
    },
    {
      "cell_type": "code",
      "metadata": {
        "id": "BLXYxv3HdBgj"
      },
      "source": [
        "svm_pred = mod_1.predict(X_test)\n"
      ],
      "execution_count": 71,
      "outputs": []
    },
    {
      "cell_type": "code",
      "metadata": {
        "colab": {
          "base_uri": "https://localhost:8080/"
        },
        "id": "bdrThHTs0b3f",
        "outputId": "a51dc9d5-1e0a-4ae1-855f-3fcfeefde0ec"
      },
      "source": [
        "print('F1 score:', metrics.f1_score(y_test, svm_pred))\n",
        "print('AUC:', roc_auc_score(y_test, svm_pred))\n",
        "print('Log Loss', metrics.log_loss(y_test, svm_pred))"
      ],
      "execution_count": 72,
      "outputs": [
        {
          "output_type": "stream",
          "name": "stdout",
          "text": [
            "F1 score: 0.9862433862433863\n",
            "AUC: 0.9884781592419871\n",
            "Log Loss 0.23025973944929806\n"
          ]
        }
      ]
    },
    {
      "cell_type": "markdown",
      "metadata": {
        "id": "8QlefU_xfjvO"
      },
      "source": [
        "**Modelo 2.**\n",
        "\n",
        "    White = 1 \n",
        "    Red = 0 "
      ]
    },
    {
      "cell_type": "code",
      "metadata": {
        "colab": {
          "base_uri": "https://localhost:8080/",
          "height": 204
        },
        "id": "5U17NYh1fpIv",
        "outputId": "4e750802-4e6c-4270-8a2f-f8a8e2df0cce"
      },
      "source": [
        "data_1 = data_z.copy()\n",
        "data_1['type'] = data_1['type'].map({0:1, 1:0}) \n",
        "data_1.head()"
      ],
      "execution_count": 73,
      "outputs": [
        {
          "output_type": "execute_result",
          "data": {
            "text/html": [
              "<div>\n",
              "<style scoped>\n",
              "    .dataframe tbody tr th:only-of-type {\n",
              "        vertical-align: middle;\n",
              "    }\n",
              "\n",
              "    .dataframe tbody tr th {\n",
              "        vertical-align: top;\n",
              "    }\n",
              "\n",
              "    .dataframe thead th {\n",
              "        text-align: right;\n",
              "    }\n",
              "</style>\n",
              "<table border=\"1\" class=\"dataframe\">\n",
              "  <thead>\n",
              "    <tr style=\"text-align: right;\">\n",
              "      <th></th>\n",
              "      <th>fixed acidity</th>\n",
              "      <th>volatile acidity</th>\n",
              "      <th>citric acid</th>\n",
              "      <th>residual sugar</th>\n",
              "      <th>chlorides</th>\n",
              "      <th>free sulfur dioxide</th>\n",
              "      <th>total sulfur dioxide</th>\n",
              "      <th>density</th>\n",
              "      <th>pH</th>\n",
              "      <th>sulphates</th>\n",
              "      <th>alcohol</th>\n",
              "      <th>quality</th>\n",
              "      <th>type</th>\n",
              "    </tr>\n",
              "  </thead>\n",
              "  <tbody>\n",
              "    <tr>\n",
              "      <th>0</th>\n",
              "      <td>-0.166089</td>\n",
              "      <td>-0.423183</td>\n",
              "      <td>0.284686</td>\n",
              "      <td>3.206929</td>\n",
              "      <td>-0.314975</td>\n",
              "      <td>0.815565</td>\n",
              "      <td>0.959976</td>\n",
              "      <td>2.102214</td>\n",
              "      <td>-1.359049</td>\n",
              "      <td>-0.546178</td>\n",
              "      <td>-1.418558</td>\n",
              "      <td>6</td>\n",
              "      <td>1</td>\n",
              "    </tr>\n",
              "    <tr>\n",
              "      <th>1</th>\n",
              "      <td>-0.706073</td>\n",
              "      <td>-0.240949</td>\n",
              "      <td>0.147046</td>\n",
              "      <td>-0.807837</td>\n",
              "      <td>-0.200790</td>\n",
              "      <td>-0.931107</td>\n",
              "      <td>0.287618</td>\n",
              "      <td>-0.232332</td>\n",
              "      <td>0.506915</td>\n",
              "      <td>-0.277351</td>\n",
              "      <td>-0.831615</td>\n",
              "      <td>6</td>\n",
              "      <td>1</td>\n",
              "    </tr>\n",
              "    <tr>\n",
              "      <th>2</th>\n",
              "      <td>0.682458</td>\n",
              "      <td>-0.362438</td>\n",
              "      <td>0.559966</td>\n",
              "      <td>0.306208</td>\n",
              "      <td>-0.172244</td>\n",
              "      <td>-0.029599</td>\n",
              "      <td>-0.331660</td>\n",
              "      <td>0.134525</td>\n",
              "      <td>0.258120</td>\n",
              "      <td>-0.613385</td>\n",
              "      <td>-0.328521</td>\n",
              "      <td>6</td>\n",
              "      <td>1</td>\n",
              "    </tr>\n",
              "    <tr>\n",
              "      <th>3</th>\n",
              "      <td>-0.011808</td>\n",
              "      <td>-0.666161</td>\n",
              "      <td>0.009406</td>\n",
              "      <td>0.642523</td>\n",
              "      <td>0.056126</td>\n",
              "      <td>0.928254</td>\n",
              "      <td>1.243074</td>\n",
              "      <td>0.301278</td>\n",
              "      <td>-0.177272</td>\n",
              "      <td>-0.882212</td>\n",
              "      <td>-0.496219</td>\n",
              "      <td>6</td>\n",
              "      <td>1</td>\n",
              "    </tr>\n",
              "    <tr>\n",
              "      <th>4</th>\n",
              "      <td>-0.011808</td>\n",
              "      <td>-0.666161</td>\n",
              "      <td>0.009406</td>\n",
              "      <td>0.642523</td>\n",
              "      <td>0.056126</td>\n",
              "      <td>0.928254</td>\n",
              "      <td>1.243074</td>\n",
              "      <td>0.301278</td>\n",
              "      <td>-0.177272</td>\n",
              "      <td>-0.882212</td>\n",
              "      <td>-0.496219</td>\n",
              "      <td>6</td>\n",
              "      <td>1</td>\n",
              "    </tr>\n",
              "  </tbody>\n",
              "</table>\n",
              "</div>"
            ],
            "text/plain": [
              "   fixed acidity  volatile acidity  citric acid  ...   alcohol  quality  type\n",
              "0      -0.166089         -0.423183     0.284686  ... -1.418558        6     1\n",
              "1      -0.706073         -0.240949     0.147046  ... -0.831615        6     1\n",
              "2       0.682458         -0.362438     0.559966  ... -0.328521        6     1\n",
              "3      -0.011808         -0.666161     0.009406  ... -0.496219        6     1\n",
              "4      -0.011808         -0.666161     0.009406  ... -0.496219        6     1\n",
              "\n",
              "[5 rows x 13 columns]"
            ]
          },
          "metadata": {},
          "execution_count": 73
        }
      ]
    },
    {
      "cell_type": "code",
      "metadata": {
        "id": "92l64FbcfjvQ"
      },
      "source": [
        "X = data_1.drop('type', axis=1)\n",
        "y = data_1['type']\n",
        "X_train1, X_test1, y_train1, y_test1 = model_selection.train_test_split(X, y, test_size=0.3,random_state=1)"
      ],
      "execution_count": 74,
      "outputs": []
    },
    {
      "cell_type": "code",
      "metadata": {
        "colab": {
          "base_uri": "https://localhost:8080/"
        },
        "id": "mL0WElSVfjvR",
        "outputId": "429cccef-6e90-4a44-81a9-30c728e97c52"
      },
      "source": [
        "from sklearn import svm\n",
        "\n",
        "mod_2 = svm.SVC(kernel='linear', C=1E6)\n",
        "mod_2.fit(X_train1, y_train1)"
      ],
      "execution_count": 75,
      "outputs": [
        {
          "output_type": "execute_result",
          "data": {
            "text/plain": [
              "SVC(C=1000000.0, break_ties=False, cache_size=200, class_weight=None, coef0=0.0,\n",
              "    decision_function_shape='ovr', degree=3, gamma='scale', kernel='linear',\n",
              "    max_iter=-1, probability=False, random_state=None, shrinking=True,\n",
              "    tol=0.001, verbose=False)"
            ]
          },
          "metadata": {},
          "execution_count": 75
        }
      ]
    },
    {
      "cell_type": "code",
      "metadata": {
        "id": "a768hQOvfjvR"
      },
      "source": [
        "svm_pred1 = mod_2.predict(X_test1)\n"
      ],
      "execution_count": 76,
      "outputs": []
    },
    {
      "cell_type": "code",
      "metadata": {
        "colab": {
          "base_uri": "https://localhost:8080/"
        },
        "id": "smNkO7ixfjvS",
        "outputId": "48c88aa0-4c9f-4ef9-aede-c015e0d815d3"
      },
      "source": [
        "print('F1 score:', metrics.f1_score(y_test1, svm_pred1))\n",
        "print('AUC:', roc_auc_score(y_test1, svm_pred1))\n",
        "print('Log Loss', metrics.log_loss(y_test1, svm_pred1))"
      ],
      "execution_count": 77,
      "outputs": [
        {
          "output_type": "stream",
          "name": "stdout",
          "text": [
            "F1 score: 0.995937711577522\n",
            "AUC: 0.9895285794100542\n",
            "Log Loss 0.21255000672605218\n"
          ]
        }
      ]
    },
    {
      "cell_type": "markdown",
      "metadata": {
        "id": "auNsSHtsQwH1"
      },
      "source": [
        "# Ejercicio 8\n",
        "\n",
        "* Probar las dos SVM utilizando los diferentes kernels ('poly', 'rbf', 'sigmoid')\n",
        "* Evalúe con F1, AUC-ROC y log-loss\n"
      ]
    },
    {
      "cell_type": "markdown",
      "metadata": {
        "id": "8-rqNXxIN0hX"
      },
      "source": [
        "**Modelo 1.**\n",
        "\n",
        "    White = 0 \n",
        "    Red = 1 "
      ]
    },
    {
      "cell_type": "markdown",
      "metadata": {
        "id": "NKP7_QqLk58d"
      },
      "source": [
        "**Poly**"
      ]
    },
    {
      "cell_type": "code",
      "metadata": {
        "id": "AkEjyf-2kTdC"
      },
      "source": [
        "X = data_z.drop('type', axis=1)\n",
        "y = data_z['type']\n",
        "X_train, X_test, y_train, y_test = model_selection.train_test_split(X, y, test_size=0.3, random_state=1)"
      ],
      "execution_count": 78,
      "outputs": []
    },
    {
      "cell_type": "code",
      "metadata": {
        "id": "g5B6oBSrkTdD"
      },
      "source": [
        "from sklearn import svm\n",
        "\n",
        "mod_p = svm.SVC(kernel='poly', C=1E6)\n",
        "mod_p.fit(X_train, y_train)\n",
        "svm_pred = mod_p.predict(X_test)"
      ],
      "execution_count": 79,
      "outputs": []
    },
    {
      "cell_type": "code",
      "metadata": {
        "colab": {
          "base_uri": "https://localhost:8080/"
        },
        "id": "Zd0zsF1ZkTdG",
        "outputId": "997509da-ab36-4e34-b031-49f6aa552ec2"
      },
      "source": [
        "print('AUC:', roc_auc_score(y_test, svm_pred))\n",
        "print('F1 score:', metrics.f1_score(y_test, svm_pred))\n",
        "print('Log Loss', metrics.log_loss(y_test, svm_pred))"
      ],
      "execution_count": 80,
      "outputs": [
        {
          "output_type": "stream",
          "name": "stdout",
          "text": [
            "AUC: 0.9906117806688483\n",
            "F1 score: 0.9863301787592009\n",
            "Log Loss 0.2302609695991907\n"
          ]
        }
      ]
    },
    {
      "cell_type": "markdown",
      "metadata": {
        "id": "U8gM4NzLk9Ua"
      },
      "source": [
        "**Rbf**"
      ]
    },
    {
      "cell_type": "code",
      "metadata": {
        "id": "SZBlJzxDk9Uc"
      },
      "source": [
        "from sklearn import svm\n",
        "\n",
        "mod_r = svm.SVC(kernel='rbf', C=1E6)\n",
        "mod_r.fit(X_train, y_train)\n",
        "svmr_pred = mod_r.predict(X_test)"
      ],
      "execution_count": 81,
      "outputs": []
    },
    {
      "cell_type": "code",
      "metadata": {
        "colab": {
          "base_uri": "https://localhost:8080/"
        },
        "id": "j4dzm1v0k9Ue",
        "outputId": "e7874692-80b7-4fd9-e2f0-a1c7c72c5a2d"
      },
      "source": [
        "print('AUC:', roc_auc_score(y_test, svmr_pred))\n",
        "print('F1 score:', metrics.f1_score(y_test, svmr_pred))\n",
        "print('Log Loss', metrics.log_loss(y_test, svmr_pred))"
      ],
      "execution_count": 82,
      "outputs": [
        {
          "output_type": "stream",
          "name": "stdout",
          "text": [
            "AUC: 0.9895941415915077\n",
            "F1 score: 0.9832285115303984\n",
            "Log Loss 0.28339877881817666\n"
          ]
        }
      ]
    },
    {
      "cell_type": "markdown",
      "metadata": {
        "id": "1-3dygZ_lSJh"
      },
      "source": [
        "**Sigmoid**"
      ]
    },
    {
      "cell_type": "code",
      "metadata": {
        "id": "9XGvtGWVlSJi"
      },
      "source": [
        "from sklearn import svm\n",
        "\n",
        "mod_s = svm.SVC(kernel='sigmoid', C=1E6)\n",
        "mod_s.fit(X_train, y_train)\n",
        "svms_pred = mod_s.predict(X_test)"
      ],
      "execution_count": 83,
      "outputs": []
    },
    {
      "cell_type": "code",
      "metadata": {
        "colab": {
          "base_uri": "https://localhost:8080/"
        },
        "id": "L8JI2moflSJk",
        "outputId": "99f02293-4239-4cfb-ecf1-bfb42b0bb1e8"
      },
      "source": [
        "print('AUC:', roc_auc_score(y_test, svms_pred))\n",
        "print('F1 score:', metrics.f1_score(y_test, svms_pred))\n",
        "print('Log Loss', metrics.log_loss(y_test, svms_pred))"
      ],
      "execution_count": 84,
      "outputs": [
        {
          "output_type": "stream",
          "name": "stdout",
          "text": [
            "AUC: 0.9427841692986556\n",
            "F1 score: 0.9077720207253887\n",
            "Log Loss 1.5764060915979448\n"
          ]
        }
      ]
    },
    {
      "cell_type": "markdown",
      "metadata": {
        "id": "FgRdCA8NpfIQ"
      },
      "source": [
        "Con primera recategorización\n",
        "\n",
        "|Métricas | Poly | Rbf | Sigmoid |\n",
        "|---------|------|-----|---------|\n",
        "|AUC| 0.990611 | 0.989594|0.942784|\n",
        "|F1| 0.986360 | 0.983228|0.907772\n",
        "|LOG LOSS| 0.230260 | 0.283398 |1.576406|\n",
        "\n",
        "El mejor modelo es el de kernel = 'Poly'"
      ]
    },
    {
      "cell_type": "markdown",
      "metadata": {
        "id": "ibcDz7pcN34u"
      },
      "source": [
        "**Modelo 2.**\n",
        "\n",
        "    White = 1 \n",
        "    Red = 0 "
      ]
    },
    {
      "cell_type": "markdown",
      "metadata": {
        "id": "7sRNUSCOl8Dg"
      },
      "source": [
        "**Poly2**"
      ]
    },
    {
      "cell_type": "code",
      "metadata": {
        "id": "OU-Y4IzMl8Dg"
      },
      "source": [
        "X = data_1.drop('type', axis=1)\n",
        "y = data_1['type']\n",
        "X_train1, X_test1, y_train1, y_test1 = model_selection.train_test_split(X, y, test_size=0.3, random_state=1)"
      ],
      "execution_count": 85,
      "outputs": []
    },
    {
      "cell_type": "code",
      "metadata": {
        "id": "9q-584REl8Dg"
      },
      "source": [
        "from sklearn import svm\n",
        "\n",
        "mod_p1 = svm.SVC(kernel='poly', C=1E6)\n",
        "mod_p1.fit(X_train1, y_train1)\n",
        "svm1_pred = mod_p1.predict(X_test1)"
      ],
      "execution_count": 86,
      "outputs": []
    },
    {
      "cell_type": "code",
      "metadata": {
        "colab": {
          "base_uri": "https://localhost:8080/"
        },
        "id": "bHh_YEtGl8Dh",
        "outputId": "67d636b6-1cbd-42e7-e37d-e774f9fc2009"
      },
      "source": [
        "print('AUC:', roc_auc_score(y_test1, svm1_pred))\n",
        "print('F1 score:', metrics.f1_score(y_test1, svm1_pred))\n",
        "print('Log Loss', metrics.log_loss(y_test1, svm1_pred))"
      ],
      "execution_count": 87,
      "outputs": [
        {
          "output_type": "stream",
          "name": "stdout",
          "text": [
            "AUC: 0.9906117806688484\n",
            "F1 score: 0.9955917260088165\n",
            "Log Loss 0.2302613796491549\n"
          ]
        }
      ]
    },
    {
      "cell_type": "markdown",
      "metadata": {
        "id": "48zxxFhLmSIj"
      },
      "source": [
        "**Rbf2**"
      ]
    },
    {
      "cell_type": "code",
      "metadata": {
        "id": "YrFSnT1smSIl"
      },
      "source": [
        "from sklearn import svm\n",
        "\n",
        "mod_r1 = svm.SVC(kernel='rbf', C=1E6)\n",
        "mod_r1.fit(X_train1, y_train1)\n",
        "svmr1_pred = mod_r1.predict(X_test1)"
      ],
      "execution_count": 88,
      "outputs": []
    },
    {
      "cell_type": "code",
      "metadata": {
        "colab": {
          "base_uri": "https://localhost:8080/"
        },
        "id": "B3BJvFkNmSIm",
        "outputId": "624101d8-fc15-4e2e-9caf-61a72cdf6dc0"
      },
      "source": [
        "print('AUC:', roc_auc_score(y_test1, svmr1_pred))\n",
        "print('F1 score:', metrics.f1_score(y_test1, svmr1_pred))\n",
        "print('Log Loss', metrics.log_loss(y_test1, svmr1_pred))"
      ],
      "execution_count": 89,
      "outputs": [
        {
          "output_type": "stream",
          "name": "stdout",
          "text": [
            "AUC: 0.9895941415915077\n",
            "F1 score: 0.9945689069925323\n",
            "Log Loss 0.28339795871824824\n"
          ]
        }
      ]
    },
    {
      "cell_type": "markdown",
      "metadata": {
        "id": "fLBlY17pmqn-"
      },
      "source": [
        "**Sigmoid2**"
      ]
    },
    {
      "cell_type": "code",
      "metadata": {
        "id": "LPDXrDj3mqn_"
      },
      "source": [
        "from sklearn import svm\n",
        "\n",
        "mod_s1 = svm.SVC(kernel='sigmoid', C=1E6)\n",
        "mod_s1.fit(X_train1, y_train1)\n",
        "svms1_pred = mod_s1.predict(X_test1)"
      ],
      "execution_count": 90,
      "outputs": []
    },
    {
      "cell_type": "code",
      "metadata": {
        "colab": {
          "base_uri": "https://localhost:8080/"
        },
        "id": "2aLIH0gtmqoA",
        "outputId": "e38e285e-85a1-4b0e-dc2e-48cd872d2216"
      },
      "source": [
        "print('AUC:', roc_auc_score(y_test1, svms1_pred))\n",
        "print('F1 score:', metrics.f1_score(y_test1, svms1_pred))\n",
        "print('Log Loss', metrics.log_loss(y_test1, svms1_pred))"
      ],
      "execution_count": 91,
      "outputs": [
        {
          "output_type": "stream",
          "name": "stdout",
          "text": [
            "AUC: 0.9445785776997366\n",
            "F1 score: 0.9692622950819673\n",
            "Log Loss 1.5941117238215488\n"
          ]
        }
      ]
    },
    {
      "cell_type": "markdown",
      "metadata": {
        "id": "SBtaXdgiqkGB"
      },
      "source": [
        "Con segunda recategorización\n",
        "\n",
        "|Métricas | Poly2 | Rbf2 | Sigmoid2 |\n",
        "|---------|------|-----|---------|\n",
        "|AUC| 0.990611 | 0.989594|0.944578|\n",
        "|F1| 0.995591 | 0.994568|0.969262\n",
        "|LOG LOSS| 0.230261 | 0.283397 |1.594111|\n",
        "\n",
        "El mejor modelo es el de kernel = 'Poly2'"
      ]
    },
    {
      "cell_type": "markdown",
      "metadata": {
        "id": "DHBmMhtYQwH6"
      },
      "source": [
        "# Ejercicio 9\n",
        "* Utilizando el mejor SVM encontrar los parámetros que da el mejor rendimiento teniendo en cuenta los siguientes hiperparámetros\n",
        "'C': [0.1, 1, 10, 100, 1000], 'gamma': [0.01, 0.001, 0.0001]\n",
        "* Evalúe cada modelo con F1, AUC-ROC y log-loss\n",
        "\n",
        "Nota: Para los valores de C y gamma, deben realizar todas las posibles combinaciones entre estas dos variables."
      ]
    },
    {
      "cell_type": "code",
      "metadata": {
        "id": "JHKO8YGHs9ju"
      },
      "source": [
        "X = data_1.drop('type', axis=1)\n",
        "y = data_1['type']\n"
      ],
      "execution_count": 92,
      "outputs": []
    },
    {
      "cell_type": "markdown",
      "metadata": {
        "id": "4LYxz3Y68-FK"
      },
      "source": [
        "El mejor **SVM** de acuerdo a las métricas *F1 score, ROC AUC y LOG LOSS*, es el segundo con un kernel = 'Poly'"
      ]
    },
    {
      "cell_type": "markdown",
      "metadata": {
        "id": "T4s6tYjD75Fw"
      },
      "source": [
        "**Con la función**"
      ]
    },
    {
      "cell_type": "code",
      "metadata": {
        "colab": {
          "base_uri": "https://localhost:8080/"
        },
        "id": "_akhCP5Y0b3e",
        "outputId": "e32584d1-6b4f-4743-b0f5-8ded5d42022c"
      },
      "source": [
        "from sklearn import svm\n",
        "\n",
        "\n",
        "# Grilla de validación\n",
        "parameters = {'gamma': ([0.01, 0.001, 0.0001]), 'C': ([0.1, 1, 10, 100, 1000])}\n",
        "acc_scorer = make_scorer(roc_auc_score)\n",
        "\n",
        "# Run and fit the grid search\n",
        "grid_obj1 = GridSearchCV(mod_p1, parameters, scoring=acc_scorer)\n",
        "grid_obj = grid_obj1.fit(X_train1, y_train1)\n",
        "\n",
        "grid_obj"
      ],
      "execution_count": 93,
      "outputs": [
        {
          "output_type": "execute_result",
          "data": {
            "text/plain": [
              "GridSearchCV(cv=None, error_score=nan,\n",
              "             estimator=SVC(C=1000000.0, break_ties=False, cache_size=200,\n",
              "                           class_weight=None, coef0=0.0,\n",
              "                           decision_function_shape='ovr', degree=3,\n",
              "                           gamma='scale', kernel='poly', max_iter=-1,\n",
              "                           probability=False, random_state=None, shrinking=True,\n",
              "                           tol=0.001, verbose=False),\n",
              "             iid='deprecated', n_jobs=None,\n",
              "             param_grid={'C': [0.1, 1, 10, 100, 1000],\n",
              "                         'gamma': [0.01, 0.001, 0.0001]},\n",
              "             pre_dispatch='2*n_jobs', refit=True, return_train_score=False,\n",
              "             scoring=make_scorer(roc_auc_score), verbose=0)"
            ]
          },
          "metadata": {},
          "execution_count": 93
        }
      ]
    },
    {
      "cell_type": "markdown",
      "metadata": {
        "id": "MFPfYGOZ79RR"
      },
      "source": [
        "De acuerdo con la función, y el make_score = roc_auc_score, el mejor rendimiento lo tiene el modelo con los Hiper parámetros **'C': 100, 'gamma': 0.01**"
      ]
    },
    {
      "cell_type": "code",
      "metadata": {
        "colab": {
          "base_uri": "https://localhost:8080/"
        },
        "id": "wZ3T3BSt2eBA",
        "outputId": "ec66c505-72f7-42bd-c923-af64d8ed3d40"
      },
      "source": [
        "grid_obj1.best_params_"
      ],
      "execution_count": 94,
      "outputs": [
        {
          "output_type": "execute_result",
          "data": {
            "text/plain": [
              "{'C': 100, 'gamma': 0.01}"
            ]
          },
          "metadata": {},
          "execution_count": 94
        }
      ]
    },
    {
      "cell_type": "markdown",
      "metadata": {
        "id": "WTIV0UM88ktR"
      },
      "source": [
        "**''A mano''**"
      ]
    },
    {
      "cell_type": "code",
      "metadata": {
        "colab": {
          "base_uri": "https://localhost:8080/"
        },
        "id": "5xkezujA25en",
        "outputId": "fef0205d-2fea-4a2f-ca93-79361e7a845a"
      },
      "source": [
        "C1 = [0.1, 1, 10, 100, 1000]\n",
        "GAMMA1 = [0.01, 0.001, 0.0001]\n",
        "\n",
        "for i in C1:\n",
        "  for j in GAMMA1:\n",
        "    Mod_6 = svm.SVC(C = i, gamma = j, kernel = 'poly')\n",
        "    Mod_6.fit(X_train1,y_train1)\n",
        "    y6_pred = Mod_6.predict(X_test1)\n",
        "    print('------------------------------------------')\n",
        "    print('Modelo con', 'C: ',i, 'Gamma: ',j)\n",
        "    print('------------------------------------------')\n",
        "    print('AUC:', roc_auc_score(y_test1, y6_pred))\n",
        "    print('F1 score:', metrics.f1_score(y_test1, y6_pred))\n",
        "    print('Log Loss', metrics.log_loss(y_test1, y6_pred))  \n",
        "    "
      ],
      "execution_count": 95,
      "outputs": [
        {
          "output_type": "stream",
          "name": "stdout",
          "text": [
            "------------------------------------------\n",
            "Modelo con C:  0.1 Gamma:  0.01\n",
            "------------------------------------------\n",
            "AUC: 0.9429380978985895\n",
            "F1 score: 0.9816727757414195\n",
            "Log Loss 0.9741927589647793\n",
            "------------------------------------------\n",
            "Modelo con C:  0.1 Gamma:  0.001\n",
            "------------------------------------------\n",
            "AUC: 0.5\n",
            "F1 score: 0.8609813084112149\n",
            "Log Loss 8.431199062745774\n",
            "------------------------------------------\n",
            "Modelo con C:  0.1 Gamma:  0.0001\n",
            "------------------------------------------\n",
            "AUC: 0.5\n",
            "F1 score: 0.8609813084112149\n",
            "Log Loss 8.431199062745774\n",
            "------------------------------------------\n",
            "Modelo con C:  1 Gamma:  0.01\n",
            "------------------------------------------\n",
            "AUC: 0.9863773189058526\n",
            "F1 score: 0.9949272911734865\n",
            "Log Loss 0.26568781594503815\n",
            "------------------------------------------\n",
            "Modelo con C:  1 Gamma:  0.001\n",
            "------------------------------------------\n",
            "AUC: 0.5\n",
            "F1 score: 0.8609813084112149\n",
            "Log Loss 8.431199062745774\n",
            "------------------------------------------\n",
            "Modelo con C:  1 Gamma:  0.0001\n",
            "------------------------------------------\n",
            "AUC: 0.5\n",
            "F1 score: 0.8609813084112149\n",
            "Log Loss 8.431199062745774\n",
            "------------------------------------------\n",
            "Modelo con C:  10 Gamma:  0.01\n",
            "------------------------------------------\n",
            "AUC: 0.991968632771969\n",
            "F1 score: 0.9969522519471725\n",
            "Log Loss 0.15941260755703043\n",
            "------------------------------------------\n",
            "Modelo con C:  10 Gamma:  0.001\n",
            "------------------------------------------\n",
            "AUC: 0.509453781512605\n",
            "F1 score: 0.8632503660322107\n",
            "Log Loss 8.271785635088817\n",
            "------------------------------------------\n",
            "Modelo con C:  10 Gamma:  0.0001\n",
            "------------------------------------------\n",
            "AUC: 0.5\n",
            "F1 score: 0.8609813084112149\n",
            "Log Loss 8.431199062745774\n",
            "------------------------------------------\n",
            "Modelo con C:  100 Gamma:  0.01\n",
            "------------------------------------------\n",
            "AUC: 0.9937302600823232\n",
            "F1 score: 0.9972881355932204\n",
            "Log Loss 0.14169959443407093\n",
            "------------------------------------------\n",
            "Modelo con C:  100 Gamma:  0.001\n",
            "------------------------------------------\n",
            "AUC: 0.9429380978985895\n",
            "F1 score: 0.9816727757414195\n",
            "Log Loss 0.9741927589647793\n",
            "------------------------------------------\n",
            "Modelo con C:  100 Gamma:  0.0001\n",
            "------------------------------------------\n",
            "AUC: 0.5\n",
            "F1 score: 0.8609813084112149\n",
            "Log Loss 8.431199062745774\n",
            "------------------------------------------\n",
            "Modelo con C:  1000 Gamma:  0.01\n",
            "------------------------------------------\n",
            "AUC: 0.9923734079792026\n",
            "F1 score: 0.9959266802443991\n",
            "Log Loss 0.21254836652619538\n",
            "------------------------------------------\n",
            "Modelo con C:  1000 Gamma:  0.001\n",
            "------------------------------------------\n",
            "AUC: 0.9863773189058526\n",
            "F1 score: 0.9949272911734865\n",
            "Log Loss 0.26568781594503815\n",
            "------------------------------------------\n",
            "Modelo con C:  1000 Gamma:  0.0001\n",
            "------------------------------------------\n",
            "AUC: 0.5\n",
            "F1 score: 0.8609813084112149\n",
            "Log Loss 8.431199062745774\n"
          ]
        }
      ]
    },
    {
      "cell_type": "markdown",
      "metadata": {
        "id": "sSc4y3NNH58_"
      },
      "source": [
        "Se presentan los resultados de las posibles combinaciones de los hiperparámetros, y efectivamente el mejor rendimiento lo tiene el modelo con los hiper parámetros: \n",
        "\n",
        "    C:  100 Gamma:  0.01\n",
        "    -------------------------\n",
        "    AUC: 0.9937302600823232\n",
        "    F1 score: 0.9972881355932204\n",
        "    Log Loss 0.14169959443407093"
      ]
    },
    {
      "cell_type": "markdown",
      "metadata": {
        "id": "XjgVQ_WTQwH9"
      },
      "source": [
        "# Ejercicio 10\n",
        "\n",
        "Compare los resultados con todos los anteriores modelos y eliga ¿Cuál algoritmo con cuáles hiperparámetros es el que tiene mejor rendimiento según la puntuación F1, AUC-ROC y log-loss?"
      ]
    },
    {
      "cell_type": "markdown",
      "metadata": {
        "id": "mtQYF30fVPnF"
      },
      "source": [
        "De acuerdo con todos los anteriores resultados, para predecir el tipo de vino según sus caracteristicas, se corrieron los siguientes modelos con las siguentes métricas:"
      ]
    },
    {
      "cell_type": "markdown",
      "metadata": {
        "id": "TAaNnWpMdZH2"
      },
      "source": [
        "![image.png](data:image/png;base64,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)"
      ]
    },
    {
      "cell_type": "markdown",
      "metadata": {
        "id": "1FarvjrMuzRt"
      },
      "source": [
        "![image.png](data:image/png;base64,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)"
      ]
    },
    {
      "cell_type": "markdown",
      "metadata": {
        "id": "5v3gnKILu5cW"
      },
      "source": [
        "Dentro de los mejores modelos, y siendo muy estrictos el modelo escogido y con mejor rendimiento es el SVM con la variable recategorizada:\n",
        "\n",
        "    White = 1 \n",
        "    Red = 0 \n",
        "\n",
        "Con un Kernel = 'Poly', \n",
        "\n",
        "Hiperparametros C = 100 y Gamma = 0.01\n",
        "\n"
      ]
    },
    {
      "cell_type": "code",
      "metadata": {
        "id": "NjXpdrcSdg8V"
      },
      "source": [
        ""
      ],
      "execution_count": 95,
      "outputs": []
    }
  ]
}